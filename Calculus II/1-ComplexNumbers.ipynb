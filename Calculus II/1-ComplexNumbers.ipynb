{
 "cells": [
  {
   "cell_type": "markdown",
   "metadata": {
    "vscode": {
     "languageId": "plaintext"
    }
   },
   "source": [
    "# Complex Numbers"
   ]
  },
  {
   "cell_type": "markdown",
   "metadata": {
    "vscode": {
     "languageId": "plaintext"
    }
   },
   "source": [
    "Assume $ w = a + bi $ which can be written as $ w = r (\\cos(\\theta) + i \\sin(\\theta)) $ where $r = |w|$ while $\\theta$ is $ \\arctan{\\frac{b}{a}} $"
   ]
  },
  {
   "cell_type": "markdown",
   "metadata": {
    "vscode": {
     "languageId": "plaintext"
    }
   },
   "source": [
    "### Slope"
   ]
  },
  {
   "cell_type": "markdown",
   "metadata": {
    "vscode": {
     "languageId": "plaintext"
    }
   },
   "source": [
    "If $ w = a + bi $ then $ tan(arg(w)) = tan(\\theta) = \\frac{b}{a} $\n",
    "\n",
    "$arg(wz) = arg(w) + arg(z)$"
   ]
  },
  {
   "cell_type": "markdown",
   "metadata": {
    "vscode": {
     "languageId": "plaintext"
    }
   },
   "source": [
    "### Multiplication and division"
   ]
  },
  {
   "cell_type": "markdown",
   "metadata": {},
   "source": [
    "$w\\overline{w} = |w|$\n",
    "\n",
    "If $ w = a + bi = r (\\cos(\\theta) + i \\sin(\\theta)) $ and $ z = x + yi = s(\\cos(\\phi) + i \\sin(\\phi)) $ then\n",
    "\n",
    "- $ wz = rs ( \\cos(\\theta + \\phi) + i \\sin(\\theta + \\phi) )$.\n",
    "- $\\frac{z}{w} = \\frac{z\\overline{w}}{w\\overline{w}} = \\frac{ax+by}{x^{2}+y^{2}} + \\frac{bx-ay}{x^{2}+y^{2}}i$\n",
    "- $|wz| = |w||z|$\n",
    "- $|\\frac{z}{w}| = \\frac{|z|}{|w|}$\n"
   ]
  },
  {
   "cell_type": "markdown",
   "metadata": {
    "vscode": {
     "languageId": "plaintext"
    }
   },
   "source": [
    "### de Moivre’s Theorem\n",
    "\n",
    "De Morgan's theorem states that $ (\\cos(\\theta) + i \\sin(\\theta))^{n} = \\cos(n \\theta) + i \\sin(n\\theta)$.\n"
   ]
  },
  {
   "cell_type": "markdown",
   "metadata": {
    "vscode": {
     "languageId": "plaintext"
    }
   },
   "source": [
    "Also:\n",
    "- $e^{z} = e^{x+iy} = e^{x}e^{iy} = e^{x}(\\cos(y) + i\\sin(y))$\n",
    "- $e^{(i\\theta)^{n}} = e^{i\\theta n}$\n",
    "- $e^{\\pi i} = -1$"
   ]
  },
  {
   "cell_type": "markdown",
   "metadata": {
    "vscode": {
     "languageId": "plaintext"
    }
   },
   "source": [
    "$e^z = r(\\cos \\phi + i\\sin \\phi)$ has solutions $z_k = \\ln r + (\\phi + 2k\\pi)i$, $k \\in \\mathbb{Z}$."
   ]
  }
 ],
 "metadata": {
  "language_info": {
   "name": "python"
  }
 },
 "nbformat": 4,
 "nbformat_minor": 2
}
