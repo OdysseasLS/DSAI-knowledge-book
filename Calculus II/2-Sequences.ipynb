{
 "cells": [
  {
   "cell_type": "markdown",
   "metadata": {
    "vscode": {
     "languageId": "plaintext"
    }
   },
   "source": [
    "# Sequences"
   ]
  },
  {
   "cell_type": "markdown",
   "metadata": {},
   "source": [
    "### Defenitinos:\n",
    "\n",
    "- Monotonic: The sequence which is either increasing or decreasing.\n",
    "- Alternating sequence: when $a_n \\cdot a_{n+1} < 0$.\n",
    "- Converging: When $\\lim_{n \\to \\infty} f(n) = L$ we say $a_n$ converges to the limit L."
   ]
  },
  {
   "cell_type": "markdown",
   "metadata": {
    "vscode": {
     "languageId": "plaintext"
    }
   },
   "source": [
    "$\\lim_{n \\to \\infty} \\frac{x^n}{n!} = 0$"
   ]
  },
  {
   "cell_type": "markdown",
   "metadata": {},
   "source": [
    "#### Converges to the sum:\n",
    "$\\sum_{n=1}^{\\infty} a_n = s$.\n"
   ]
  },
  {
   "cell_type": "markdown",
   "metadata": {
    "vscode": {
     "languageId": "plaintext"
    }
   },
   "source": [
    "#### Partial sums of geometric series:\n",
    "$\n",
    "s_n = a + ar + ar^2 + \\ldots + ar^{n-1} = \\frac{a(1 - r^n)}{1 - r}.\n",
    "$\n"
   ]
  },
  {
   "cell_type": "markdown",
   "metadata": {},
   "source": [
    "#### Reminder:\n",
    "$\\lim_{n \\to \\infty} \\left( 1 + \\frac{1}{n} \\right)^n = e , \\lim_{n \\to \\infty} \\frac{x^n}{n!} = 0\n",
    "$"
   ]
  },
  {
   "cell_type": "markdown",
   "metadata": {},
   "source": [
    "### Telescoping series"
   ]
  },
  {
   "cell_type": "markdown",
   "metadata": {},
   "source": [
    "$ \\sum_{n=1}^{\\infty} \\frac{1}{n(n+1)} =  \\sum_{n=1}^{\\infty} \\frac{1}{n} - \\frac{1}{n+1} = \\lim_{n \\to \\infty} 1 - \\frac{1}{n + 1} = 1$"
   ]
  },
  {
   "cell_type": "markdown",
   "metadata": {},
   "source": [
    "### Harmonic series"
   ]
  },
  {
   "cell_type": "markdown",
   "metadata": {},
   "source": [
    "$\\sum_{n=1}^{\\infty} \\frac{1}{n}$ is Diverges because\n",
    "$\\int_{1}^{n+1} \\frac{1}{x} dx = \\ln{n+1}$ and $\\lim_{n \\to \\infty} \\ln(n + 1) = \\infty $ and the serie is Divergence to $\\infty$"
   ]
  }
 ],
 "metadata": {
  "kernelspec": {
   "display_name": "base",
   "language": "python",
   "name": "python3"
  },
  "language_info": {
   "codemirror_mode": {
    "name": "ipython",
    "version": 3
   },
   "file_extension": ".py",
   "mimetype": "text/x-python",
   "name": "python",
   "nbconvert_exporter": "python",
   "pygments_lexer": "ipython3",
   "version": "3.10.9"
  }
 },
 "nbformat": 4,
 "nbformat_minor": 2
}
