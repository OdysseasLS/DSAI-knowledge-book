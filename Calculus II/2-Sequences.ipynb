{
 "cells": [
  {
   "cell_type": "markdown",
   "metadata": {
    "vscode": {
     "languageId": "plaintext"
    }
   },
   "source": [
    "# Sequences"
   ]
  },
  {
   "cell_type": "markdown",
   "metadata": {},
   "source": [
    "### Defenitinos:\n",
    "\n",
    "- Monotonic: The sequence which is either increasing or decreasing.\n",
    "- Alternating sequence: when $a_n \\cdot a_{n+1} < 0$.\n",
    "- Converging: When $\\lim_{n \\to \\infty} f(n) = L$ we say $a_n$ converges to the limit L."
   ]
  },
  {
   "cell_type": "markdown",
   "metadata": {
    "vscode": {
     "languageId": "plaintext"
    }
   },
   "source": [
    "$\\lim_{n \\to \\infty} \\frac{x^n}{n!} = 0$"
   ]
  },
  {
   "cell_type": "markdown",
   "metadata": {},
   "source": [
    "#### Converges to the sum:\n",
    "$\\sum_{n=1}^{\\infty} a_n = s$.\n"
   ]
  },
  {
   "cell_type": "markdown",
   "metadata": {
    "vscode": {
     "languageId": "plaintext"
    }
   },
   "source": [
    "#### Partial sums of geometric series:\n",
    "$\n",
    "s_n = a + ar + ar^2 + \\ldots + ar^{n-1} = \\frac{a(1 - r^n)}{1 - r}.\n",
    "$\n"
   ]
  },
  {
   "cell_type": "markdown",
   "metadata": {},
   "source": [
    "#### Reminder:\n",
    "$\\lim_{n \\to \\infty} \\left( 1 + \\frac{1}{n} \\right)^n = e , \\lim_{n \\to \\infty} \\frac{x^n}{n!} = 0\n",
    "$"
   ]
  },
  {
   "cell_type": "markdown",
   "metadata": {},
   "source": [
    "### Telescoping series"
   ]
  },
  {
   "cell_type": "markdown",
   "metadata": {},
   "source": [
    "$ \\sum_{n=1}^{\\infty} \\frac{1}{n(n+1)} =  \\sum_{n=1}^{\\infty} \\frac{1}{n} - \\frac{1}{n+1} = \\lim_{n \\to \\infty} 1 - \\frac{1}{n + 1} = 1$"
   ]
  },
  {
   "cell_type": "markdown",
   "metadata": {},
   "source": [
    "### Harmonic series"
   ]
  },
  {
   "cell_type": "markdown",
   "metadata": {},
   "source": [
    "$\\sum_{n=1}^{\\infty} \\frac{1}{n}$ is Diverges because\n",
    "$\\int_{1}^{n+1} \\frac{1}{x} dx = \\ln{n+1}$ and $\\lim_{n \\to \\infty} \\ln(n + 1) = \\infty $ and the serie is Divergence to $\\infty$"
   ]
  },
  {
   "cell_type": "markdown",
   "metadata": {},
   "source": [
    "### Comparison Tests\n",
    "\n",
    "To find the Convergence or Divergence by comparing the given series with the known series.\n",
    "like $  0 \\leq a_n \\leq Kb_n $ where we know status of $b_n$"
   ]
  },
  {
   "cell_type": "markdown",
   "metadata": {},
   "source": [
    "#### A limit comparison test\n",
    "\n",
    "$ \\lim_{n \\to \\infty} \\frac{a_n}{b_n} = L$ where if $L < \\infty$ and $b_n$ converges, then $a_n$ also converges.\n",
    "\n",
    "If $L > 0$ and $b_n$ diverges to infinity, then $a_n$ also diverges to infinity.\n"
   ]
  },
  {
   "cell_type": "markdown",
   "metadata": {},
   "source": [
    "### The ratio test\n",
    "\n",
    "$\\rho = \\lim_{n \\to \\infty} \\frac{a_{n+1}}{a_n}$ ($\\rho$ can be $\\infty$)\n",
    "\n",
    "(a) If $0 \\leq \\rho < 1$, then $\\sum_{n=1}^{\\infty} a_n$ converges.\n",
    "\n",
    "(b) If $1 < \\rho \\leq \\inf$, then $\\lim_{n \\to \\infty} a_n = \\infty$ and $\\sum_{n=1}^{\\infty} a_n$ diverges to infinity.\n",
    "\n",
    "(c) If $\\rho = 1$, this test gives no information; the series may either converge or diverge to infinity.\n"
   ]
  },
  {
   "cell_type": "markdown",
   "metadata": {},
   "source": [
    "### The root test\n",
    "\n",
    "Suppose $\\sigma = \\lim_{n \\to \\infty} {a_n}^{1/n}$ exists or is $\\infty$.\n",
    "\n",
    "(a) If $0 \\leq \\sigma < 1$, then $\\sum_{n=1}^{\\infty} a_n$ converges.\n",
    "\n",
    "(b) If $1 < \\sigma \\leq 1$, then $\\lim_{n \\to \\infty} a_n = \\infty$ and $\\sum_{n=1}^{\\infty} a_n$ diverges to infinity.\n",
    "\n",
    "(c) If $\\sigma = 1$, this test gives no information; the series may either converge or diverge to infinity.\n",
    "\n"
   ]
  },
  {
   "cell_type": "markdown",
   "metadata": {
    "vscode": {
     "languageId": "plaintext"
    }
   },
   "source": [
    "<hr>\n",
    "\n",
    "Always divide by n while solving $\\lim_{n \\to \\infty} $\n",
    "\n",
    "$\\lim_{n \\to \\infty} \\frac{n}{n + 1} = \\lim_{n \\to \\infty} \\frac{1}{1 + \\frac{1}{n}} = 1$"
   ]
  }
 ],
 "metadata": {
  "kernelspec": {
   "display_name": "base",
   "language": "python",
   "name": "python3"
  },
  "language_info": {
   "codemirror_mode": {
    "name": "ipython",
    "version": 3
   },
   "file_extension": ".py",
   "mimetype": "text/x-python",
   "name": "python",
   "nbconvert_exporter": "python",
   "pygments_lexer": "ipython3",
   "version": "3.10.9"
  }
 },
 "nbformat": 4,
 "nbformat_minor": 2
}
