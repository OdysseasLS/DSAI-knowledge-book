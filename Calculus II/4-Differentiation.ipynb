{
 "cells": [
  {
   "cell_type": "markdown",
   "metadata": {},
   "source": [
    "## Normal Vector\n",
    "\n",
    "A normal vector to $z = f(x, y)$ at $(a, b, f(a, b))$ is\n",
    "$n = f_x(a, b) \\mathbf{i} + f_y(a, b) \\mathbf{j} - \\mathbf{k}$\n"
   ]
  },
  {
   "cell_type": "markdown",
   "metadata": {},
   "source": [
    "## An equation of the tangent plane \n",
    "\n",
    "for $ z = f(x, y) $ at $ (a, b, f(a, b)) $\n",
    "\n",
    "$z = f(a, b) + f_1(a, b)(x - a) + f_2(a, b)(y - b)$"
   ]
  },
  {
   "cell_type": "markdown",
   "metadata": {},
   "source": []
  }
 ],
 "metadata": {
  "language_info": {
   "name": "python"
  }
 },
 "nbformat": 4,
 "nbformat_minor": 2
}
