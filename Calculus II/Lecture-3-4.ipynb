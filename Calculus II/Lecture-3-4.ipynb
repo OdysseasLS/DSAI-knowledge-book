{
 "cells": [
  {
   "cell_type": "markdown",
   "metadata": {
    "vscode": {
     "languageId": "plaintext"
    }
   },
   "source": [
    "# Sequences"
   ]
  },
  {
   "cell_type": "markdown",
   "metadata": {},
   "source": [
    "## Defenitinos:\n",
    "\n",
    "- Monotonic: The sequence which is either increasing or decreasing.\n",
    "- Alternating sequence: when $a_n \\cdot a_{n+1} < 0$.\n",
    "- Converging: When $\\lim_{n \\to \\infty} f(n) = L$ we say $a_n$ converges to the limit L."
   ]
  },
  {
   "cell_type": "markdown",
   "metadata": {
    "vscode": {
     "languageId": "plaintext"
    }
   },
   "source": [
    "$\\lim_{n \\to \\infty} \\frac{x^n}{n!} = 0$"
   ]
  },
  {
   "cell_type": "markdown",
   "metadata": {},
   "source": [
    "#### Converges to the sum:\n",
    "$\\sum_{n=1}^{\\infty} a_n = s$.\n"
   ]
  },
  {
   "cell_type": "markdown",
   "metadata": {
    "vscode": {
     "languageId": "plaintext"
    }
   },
   "source": [
    "#### Partial sums of geometric series:\n",
    "$\n",
    "s_n = a + ar + ar^2 + \\ldots + ar^{n-1} = \\frac{a(1 - r^n)}{1 - r}.\n",
    "$\n"
   ]
  }
 ],
 "metadata": {
  "kernelspec": {
   "display_name": "base",
   "language": "python",
   "name": "python3"
  },
  "language_info": {
   "codemirror_mode": {
    "name": "ipython",
    "version": 3
   },
   "file_extension": ".py",
   "mimetype": "text/x-python",
   "name": "python",
   "nbconvert_exporter": "python",
   "pygments_lexer": "ipython3",
   "version": "3.10.9"
  }
 },
 "nbformat": 4,
 "nbformat_minor": 2
}
