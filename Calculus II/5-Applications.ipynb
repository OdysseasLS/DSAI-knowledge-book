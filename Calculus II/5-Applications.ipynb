{
 "cells": [
  {
   "cell_type": "markdown",
   "metadata": {},
   "source": [
    "# Applications of Partial Derivatives"
   ]
  },
  {
   "cell_type": "markdown",
   "metadata": {
    "vscode": {
     "languageId": "plaintext"
    }
   },
   "source": [
    "### Necessary conditions for extreme values\n",
    "A function $f(x,y)$ can have a local or absolute extreme value at a point $(a,b)$ if one of the following:\n",
    "- a critical point of f; that is, a point satisfying $ \\nabla f(a, b) = 0 $\n",
    "- a singular point of f; that is, a point where $ \\nabla f(a, b) $ does not exist, or\n",
    "- a boundary point of the domain of $f$."
   ]
  },
  {
   "cell_type": "markdown",
   "metadata": {
    "vscode": {
     "languageId": "plaintext"
    }
   },
   "source": [
    "### A second derivative test\n",
    "\n",
    "**Hessian Matrix**\n",
    "\n",
    "$ H(x) = \n",
    "\\begin{bmatrix}\n",
    "f_{11}(x) & f_{12}(x) & \\cdots & f_{1n}(x) \\\\\n",
    "f_{21}(x) & f_{22}(x) & \\cdots & f_{2n}(x) \\\\\n",
    "\\vdots & \\vdots & \\ddots & \\vdots \\\\\n",
    "f_{n1}(x) & f_{n2}(x) & \\cdots & f_{nn}(x)\n",
    "\\end{bmatrix}\n",
    "$\n",
    "\n",
    "- $ H(a) $ is positive definite then a local minimum at a. ($ f_{11} f_{22} - {f_{12}}^2 > 0 \\land  f_{11} > 0 $)\n",
    "- $ H(a) $ is negative definite then a local maximum at a. ($ f_{11} f_{22} - {f_{12}}^2 > 0 \\land  f_{11} < 0 $)\n",
    "- $ H(a) $ is indefinite then a saddle point at a. ($ f_{11} f_{22} - {f_{12}}^2 < 0 $)\n",
    "- $ H(a) $ is non then test gives no information. ($ f_{11} f_{22} - {f_{12}}^2 = 0 $)\n"
   ]
  },
  {
   "cell_type": "markdown",
   "metadata": {},
   "source": [
    "#### Note for Shape Optimization\n",
    "\n",
    "Write down both S and V based on x, y and z then try to replace z using S and V"
   ]
  }
 ],
 "metadata": {
  "language_info": {
   "name": "python"
  }
 },
 "nbformat": 4,
 "nbformat_minor": 2
}
