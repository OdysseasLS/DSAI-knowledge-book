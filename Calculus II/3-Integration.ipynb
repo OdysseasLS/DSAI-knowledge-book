{
 "cells": [
  {
   "cell_type": "markdown",
   "metadata": {},
   "source": [
    "# Integration"
   ]
  },
  {
   "cell_type": "markdown",
   "metadata": {
    "vscode": {
     "languageId": "plaintext"
    }
   },
   "source": [
    "$\\int \\sec^2 x \\, dx = \\tan x + C$\n",
    "\n",
    "$\\int \\sec x \\tan x \\, dx = \\sec x + C$\n",
    "\n",
    "$\\int \\csc^2 x \\, dx = -\\cot x + C$\n",
    "\n"
   ]
  }
 ],
 "metadata": {
  "language_info": {
   "name": "python"
  }
 },
 "nbformat": 4,
 "nbformat_minor": 2
}
