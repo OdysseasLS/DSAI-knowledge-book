{
 "cells": [
  {
   "cell_type": "markdown",
   "metadata": {},
   "source": [
    "# Integration"
   ]
  },
  {
   "cell_type": "markdown",
   "metadata": {},
   "source": [
    "### Integration by parts\n",
    "\n",
    "$ \\int U dV = UV - \\int V dU $\n"
   ]
  },
  {
   "cell_type": "markdown",
   "metadata": {},
   "source": [
    "<hr>"
   ]
  },
  {
   "cell_type": "markdown",
   "metadata": {
    "vscode": {
     "languageId": "plaintext"
    }
   },
   "source": [
    "$\\int \\sec^2 x \\, dx = \\tan x + C$\n",
    "\n",
    "$\\int \\sec x \\tan x \\, dx = \\sec x + C$\n",
    "\n",
    "$\\int \\csc^2 x \\, dx = -\\cot x + C$\n",
    "\n"
   ]
  },
  {
   "cell_type": "markdown",
   "metadata": {},
   "source": [
    "\n",
    "$ \\int \\sec^2(ax) \\, dx = \\frac{1}{a} \\tan(ax) + C $\n",
    "\n",
    "$ \\int \\csc^2(ax) \\, dx = -\\frac{1}{a} \\cot(ax) + C $\n",
    "\n",
    "$ \\int \\frac{1}{\\sqrt{a^2 - x^2}} \\, dx = \\sin^{-1}\\left(\\frac{x}{a}\\right) + C \\quad (a > 0) $\n",
    "\n",
    "$ \\int \\frac{1}{a^2 + x^2} \\, dx = \\frac{1}{a} \\tan^{-1}\\left(\\frac{x}{a}\\right) + C $\n",
    "\n",
    "\n",
    "$ \\int b^{ax} \\, dx = \\frac{1}{a \\ln b} b^{ax} + C $\n",
    "\n",
    "$ \\int \\cosh(ax) \\, dx = \\frac{1}{a} \\sinh(ax) + C $\n",
    "\n",
    "$ \\int \\sinh(ax) \\, dx = \\frac{1}{a} \\cosh(ax) + C $\n"
   ]
  },
  {
   "cell_type": "markdown",
   "metadata": {},
   "source": [
    "$ \\int \\tan x \\, dx = \\ln |\\sec x| + C $\n",
    "\n",
    "$ \\int \\cot x \\, dx = \\ln |\\sin x| + C = -\\ln |\\csc x| + C $\n"
   ]
  },
  {
   "cell_type": "markdown",
   "metadata": {},
   "source": [
    "The case of a quadratic denominator\n",
    "\n",
    "$$ \\int \\frac{x \\, dx}{x^2 + a^2} = \\frac{1}{2} \\ln(x^2 + a^2) + C; $$\n",
    "\n",
    "$$ \\int \\frac{x \\, dx}{x^2 - a^2} = \\frac{1}{2} \\ln |x^2 - a^2| + C; $$\n",
    "\n",
    "$$ \\int \\frac{dx}{x^2 + a^2} = \\frac{1}{a} \\tan^{-1}\\left(\\frac{x}{a}\\right) + C; $$\n",
    "\n",
    "$$ \\int \\frac{dx}{x^2 - a^2} = \\frac{1}{2a} \\ln \\left| \\frac{x - a}{x + a} \\right| + C. $$\n"
   ]
  },
  {
   "cell_type": "markdown",
   "metadata": {},
   "source": [
    "Partial fraction decomposition\n",
    "\n",
    "$ \\frac{P(x)}{Q(x)} = \\frac{A_1}{x - a_1} + \\frac{A_2}{x - a_2} + \\cdots + \\frac{A_n}{x - a_n} $\n",
    "\n",
    "Corresponding to each factor \\((x - a)^m\\) of \\(Q(x)\\), the decomposition contains a sum of fractions of the form\n",
    "\n",
    "$\\frac{A_1}{x - a} + \\frac{A_2}{(x - a)^2} + \\cdots + \\frac{A_m}{(x - a)^m}$\n",
    "\n"
   ]
  },
  {
   "cell_type": "markdown",
   "metadata": {},
   "source": [
    "\n",
    "\n",
    "##### Since $ \\sin 2x = 2 \\sin x \\cos x $\n",
    "$ \\int \\cos^2 x \\, dx = \\frac{1}{2} (x + \\sin x \\cos x) + C $\n",
    "\n",
    "$ \\int \\sin^2 x \\, dx = \\frac{1}{2} (x - \\sin x \\cos x) + C $\n"
   ]
  },
  {
   "cell_type": "markdown",
   "metadata": {},
   "source": [
    "$ \\int \\sec^3 x \\, dx = \\frac{1}{2} \\sec x \\tan x + \\frac{1}{2} \\ln |\\sec x + \\tan x| + C $\n"
   ]
  },
  {
   "cell_type": "markdown",
   "metadata": {},
   "source": [
    "## Sin-Cos Power replacements\n",
    "\n",
    "$ \\cos^2 x = \\frac{1}{2} (1 + \\cos 2x) $\n",
    "\n",
    "$ \\sin^2 x = \\frac{1}{2} (1 - \\cos 2x) $\n"
   ]
  },
  {
   "cell_type": "markdown",
   "metadata": {},
   "source": [
    "The triangle inequality for sums extends to definite integrals. If $ a \\leq b $, then\n",
    "$ \\left| \\int_{a}^{b} f(x) \\, dx \\right| \\leq \\int_{a}^{b} |f(x)| \\, dx. $\n"
   ]
  },
  {
   "cell_type": "markdown",
   "metadata": {},
   "source": [
    "The Mean-Value Theorem for integrals\n",
    "\n",
    "$\\int_{a}^{b} f(x) \\, dx = f(c) (b - a)$"
   ]
  },
  {
   "cell_type": "markdown",
   "metadata": {},
   "source": [
    "Average Value of a Function\n",
    "\n",
    "$f_{\\text{avg}} = \\frac{1}{b - a} \\int_{a}^{b} f(x) \\, dx$"
   ]
  },
  {
   "cell_type": "markdown",
   "metadata": {},
   "source": [
    "## Improper Integrals"
   ]
  },
  {
   "cell_type": "markdown",
   "metadata": {},
   "source": [
    "$$ \\int_{a}^{\\infty} f(x) \\, dx = \\lim_{R \\to \\infty} \\int_{a}^{R} f(x) \\, dx. $$\n",
    "\n",
    "$$ \\int_{-\\infty}^{\\infty} f(x) \\, dx = \\int_{-\\infty}^{0} f(x) \\, dx + \\int_{0}^{\\infty} f(x) \\, dx. $$\n"
   ]
  },
  {
   "cell_type": "markdown",
   "metadata": {},
   "source": [
    "### \\( p \\)-integrals\n",
    "\n",
    "If \\( 0 < a < 1 \\), then\n",
    "\n",
    "(a) $ \\int_{a}^{1} x^{-p} \\, dx = \\left\\{ \\begin{array}{ll}\n",
    "\\frac{a^{1-p}}{p - 1} & \\text{if } p > 1 \\\\\n",
    "\\infty & \\text{if } p \\leq 1\n",
    "\\end{array} \\right. $\n",
    "\n",
    "(b) $ \\int_{0}^{a} x^{-p} \\, dx = \\left\\{ \\begin{array}{ll}\n",
    "\\frac{a^{1-p}}{1 - p} & \\text{if } p < 1 \\\\\n",
    "\\infty & \\text{if } p \\geq 1\n",
    "\\end{array} \\right. $\n"
   ]
  },
  {
   "cell_type": "code",
   "execution_count": null,
   "metadata": {},
   "outputs": [],
   "source": []
  },
  {
   "cell_type": "markdown",
   "metadata": {},
   "source": [
    "#### Note\n",
    "\n",
    "If an integral range pass through where y = 0 we should divide the integral into two parts and sum them up.\n",
    "\n",
    "$$ \\int_{-\\infty}^{\\infty} \\frac{\\ln |x| \\, dx}{\\sqrt{1 - x}} = \\int_{-\\infty}^{0} \\frac{\\ln |x| \\, dx}{\\sqrt{1 - x}} + \\int_{0}^{\\frac{1}{2}} \\frac{\\ln |x| \\, dx}{\\sqrt{1 - x}} + \\int_{\\frac{1}{2}}^{\\infty} \\frac{\\ln |x| \\, dx}{\\sqrt{1 - x}}. $$\n"
   ]
  },
  {
   "cell_type": "markdown",
   "metadata": {},
   "source": [
    "<hr>\n",
    "\n",
    "### Examples"
   ]
  },
  {
   "cell_type": "markdown",
   "metadata": {},
   "source": [
    "$ \\int \\frac{dx}{\\sqrt{e^{2x} - 1}} = \\int \\frac{dx}{e^x \\sqrt{1 - e^{-2x}}} = \\int \\frac{e^{-x} dx}{\\sqrt{1 - (e^{-x})^2}} $\n",
    "\n",
    "Let $ u = e^{-x} $. Then $ du = -e^{-x} dx $.\n",
    "\n",
    "$ \\int \\frac{dx}{\\sqrt{e^{2x} - 1}} = - \\int \\frac{du}{\\sqrt{1 - u^2}} = - \\sin^{-1} u + C = - \\sin^{-1} (e^{-x}) + C $\n"
   ]
  },
  {
   "cell_type": "markdown",
   "metadata": {},
   "source": [
    "Evaluate \\( I = \\int \\frac{x^3 + 2}{x^3 - x} \\, dx \\).\n",
    "\n",
    "$I = \\int \\frac{x^3 - x + x + 2}{x^3 - x} \\, dx = \\int \\left( 1 + \\frac{x + 2}{x^3 - x} \\right) \\, dx = x + \\int \\frac{x + 2}{x^3 - x} \\, dx.$\n",
    "\n",
    "To simplify \\( \\frac{x + 2}{x^3 - x} \\):\n",
    "\n",
    "$\\frac{x + 2}{x^3 - x} = \\frac{x + 2}{x(x - 1)(x + 1)} = \\frac{A}{x} + \\frac{B}{x - 1} + \\frac{C}{x + 1}.$\n"
   ]
  }
 ],
 "metadata": {
  "kernelspec": {
   "display_name": "Python 3",
   "language": "python",
   "name": "python3"
  },
  "language_info": {
   "codemirror_mode": {
    "name": "ipython",
    "version": 3
   },
   "file_extension": ".py",
   "mimetype": "text/x-python",
   "name": "python",
   "nbconvert_exporter": "python",
   "pygments_lexer": "ipython3",
   "version": "3.10.13"
  }
 },
 "nbformat": 4,
 "nbformat_minor": 2
}
