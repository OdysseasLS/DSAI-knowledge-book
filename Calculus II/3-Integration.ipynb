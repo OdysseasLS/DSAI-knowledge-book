{
 "cells": [
  {
   "cell_type": "markdown",
   "metadata": {},
   "source": [
    "# Integration"
   ]
  },
  {
   "cell_type": "markdown",
   "metadata": {
    "vscode": {
     "languageId": "plaintext"
    }
   },
   "source": [
    "$\\int \\sec^2 x \\, dx = \\tan x + C$\n",
    "\n",
    "$\\int \\sec x \\tan x \\, dx = \\sec x + C$\n",
    "\n",
    "$\\int \\csc^2 x \\, dx = -\\cot x + C$\n",
    "\n"
   ]
  },
  {
   "cell_type": "markdown",
   "metadata": {},
   "source": [
    "\n",
    "$ \\int \\sec^2(ax) \\, dx = \\frac{1}{a} \\tan(ax) + C $\n",
    "\n",
    "$ \\int \\csc^2(ax) \\, dx = -\\frac{1}{a} \\cot(ax) + C $\n",
    "\n",
    "$ \\int \\frac{1}{\\sqrt{a^2 - x^2}} \\, dx = \\sin^{-1}\\left(\\frac{x}{a}\\right) + C \\quad (a > 0) $\n",
    "\n",
    "$ \\int \\frac{1}{a^2 + x^2} \\, dx = \\frac{1}{a} \\tan^{-1}\\left(\\frac{x}{a}\\right) + C $\n",
    "\n",
    "\n",
    "$ \\int b^{ax} \\, dx = \\frac{1}{a \\ln b} b^{ax} + C $\n",
    "\n",
    "$ \\int \\cosh(ax) \\, dx = \\frac{1}{a} \\sinh(ax) + C $\n",
    "\n",
    "$ \\int \\sinh(ax) \\, dx = \\frac{1}{a} \\cosh(ax) + C $\n"
   ]
  },
  {
   "cell_type": "markdown",
   "metadata": {},
   "source": [
    "$ \\int \\tan x \\, dx = \\ln |\\sec x| + C $\n",
    "\n",
    "$ \\int \\cot x \\, dx = \\ln |\\sin x| + C = -\\ln |\\csc x| + C $\n"
   ]
  },
  {
   "cell_type": "markdown",
   "metadata": {},
   "source": [
    "The triangle inequality for sums extends to definite integrals. If $ a \\leq b $, then\n",
    "$ \\left| \\int_{a}^{b} f(x) \\, dx \\right| \\leq \\int_{a}^{b} |f(x)| \\, dx. $\n"
   ]
  },
  {
   "cell_type": "markdown",
   "metadata": {},
   "source": [
    "The Mean-Value Theorem for integrals\n",
    "\n",
    "$\\int_{a}^{b} f(x) \\, dx = f(c) (b - a)$"
   ]
  },
  {
   "cell_type": "markdown",
   "metadata": {},
   "source": [
    "Average Value of a Function\n",
    "\n",
    "$f_{\\text{avg}} = \\frac{1}{b - a} \\int_{a}^{b} f(x) \\, dx$"
   ]
  },
  {
   "cell_type": "markdown",
   "metadata": {},
   "source": [
    "<hr>\n",
    "\n",
    "### Examples"
   ]
  },
  {
   "cell_type": "markdown",
   "metadata": {},
   "source": [
    "$ \\int \\frac{dx}{\\sqrt{e^{2x} - 1}} = \\int \\frac{dx}{e^x \\sqrt{1 - e^{-2x}}} = \\int \\frac{e^{-x} dx}{\\sqrt{1 - (e^{-x})^2}} $\n",
    "\n",
    "Let $ u = e^{-x} $. Then $ du = -e^{-x} dx $.\n",
    "\n",
    "$ \\int \\frac{dx}{\\sqrt{e^{2x} - 1}} = - \\int \\frac{du}{\\sqrt{1 - u^2}} = - \\sin^{-1} u + C = - \\sin^{-1} (e^{-x}) + C $\n"
   ]
  }
 ],
 "metadata": {
  "kernelspec": {
   "display_name": "Python 3",
   "language": "python",
   "name": "python3"
  },
  "language_info": {
   "codemirror_mode": {
    "name": "ipython",
    "version": 3
   },
   "file_extension": ".py",
   "mimetype": "text/x-python",
   "name": "python",
   "nbconvert_exporter": "python",
   "pygments_lexer": "ipython3",
   "version": "3.10.13"
  }
 },
 "nbformat": 4,
 "nbformat_minor": 2
}
