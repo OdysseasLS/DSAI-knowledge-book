{
 "cells": [
  {
   "cell_type": "markdown",
   "metadata": {},
   "source": [
    "$ (\\tan{x})' = \\frac{1}{{\\cos{x}}^{2}}$\n",
    "\n",
    "$ (\\cot{x})' = \\frac{-1}{{\\sin{x}}^{2}}$\n",
    "\n",
    "$ \\int{x \\ln{x} dx = x \\ln{x} - x + C} $"
   ]
  },
  {
   "cell_type": "markdown",
   "metadata": {},
   "source": [
    "Determine the solutions of $z^2 + (1 + 3i)z + 3 = 0$ and write the solutions in the form $a + bi$.\n",
    "\n",
    "$ \n",
    "z^2 + (1 + 3i)z + 3 = 0 \n",
    "$  $\\Leftrightarrow z^2 + (1 + 3i)z + 3 = 0$\n",
    "\n",
    "$\\Leftrightarrow z^2 + (3 - i)z - 3i = 0$ $\\Leftrightarrow (z + 3)(z - i) = 0$ \n",
    "\n",
    "$\\Leftrightarrow z = -3 \\text{ or } z = i$\n",
    "\n",
    "<hr>\n",
    "\n",
    "Determine the solutions of $z^{12} = 10^{12}i$ and write them in the form $\\rho(\\cos \\psi + i \\sin \\psi)$ with $\\rho > 0$.\n",
    "\n",
    "$z^{12} = 10^{12}i$\n",
    "\n",
    "$10^{12}i = 10^{12} (\\cos \\left( \\frac{\\pi}{2} \\right) + i \\sin \\left( \\frac{\\pi}{2} \\right))$\n",
    "\n",
    "$\\Rightarrow z_k = \\sqrt[12]{10^{12}} \\left( \\cos \\left( \\frac{\\pi}{24} + \\frac{2k\\pi}{12} \\right) + i \\sin \\left( \\frac{\\pi}{24} + \\frac{2k\\pi}{12} \\right) \\right)$\n",
    "\n",
    "$= 10 \\left( \\cos \\left( \\frac{\\pi}{24} + \\frac{k\\pi}{6} \\right) + i \\sin \\left( \\frac{\\pi}{24} + \\frac{k\\pi}{6} \\right) \\right) \\text{ with } k = 0, 1, ..., 11$\n"
   ]
  }
 ],
 "metadata": {
  "language_info": {
   "name": "python"
  }
 },
 "nbformat": 4,
 "nbformat_minor": 2
}
