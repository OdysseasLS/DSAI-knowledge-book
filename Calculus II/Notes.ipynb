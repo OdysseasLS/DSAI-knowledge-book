{
 "cells": [
  {
   "cell_type": "markdown",
   "metadata": {},
   "source": [
    "$ (\\tan{x})' = \\frac{1}{{\\cos{x}}^{2}}$\n",
    "\n",
    "$ (\\cot{x})' = \\frac{-1}{{\\sin{x}}^{2}}$\n",
    "\n",
    "$ \\int{x \\ln{x} dx = x \\ln{x} - x + C} $"
   ]
  },
  {
   "cell_type": "markdown",
   "metadata": {
    "vscode": {
     "languageId": "plaintext"
    }
   },
   "source": [
    "In complex equations when we asked for solution always mention $z$ as $z_k$ and for $ \\theta = \\phi $ we should consider writing $ \\theta = \\phi + 2k\\pi $ and in the answer mention for $k = 0,1,2,3,..., \\phi$ where $ \\phi $ is the power of $ z^{n} $ in the question $ - 1 $ in the question"
   ]
  },
  {
   "cell_type": "markdown",
   "metadata": {
    "vscode": {
     "languageId": "plaintext"
    }
   },
   "source": [
    "When the bound of the integral is on edge of function range always write:\n",
    "\n",
    "$ \\lim{a \\to 0^{+}} \\int_{1}^{a} f(x) = {F(x) ]_{a}}^{1} $"
   ]
  },
  {
   "cell_type": "markdown",
   "metadata": {},
   "source": [
    "<hr>\n",
    "\n",
    "Determine the solutions of $z^{12} = 10^{12}i$ and write them in the form $\\rho(\\cos \\psi + i \\sin \\psi)$ with $\\rho > 0$.\n",
    "\n",
    "$z^{12} = 10^{12}i$\n",
    "\n",
    "$10^{12}i = 10^{12} (\\cos \\left( \\frac{\\pi}{2} \\right) + i \\sin \\left( \\frac{\\pi}{2} \\right))$\n",
    "\n",
    "$\\Rightarrow z_k = \\sqrt[12]{10^{12}} \\left( \\cos \\left( \\frac{\\pi}{24} + \\frac{2k\\pi}{12} \\right) + i \\sin \\left( \\frac{\\pi}{24} + \\frac{2k\\pi}{12} \\right) \\right)$\n",
    "\n",
    "$= 10 \\left( \\cos \\left( \\frac{\\pi}{24} + \\frac{k\\pi}{6} \\right) + i \\sin \\left( \\frac{\\pi}{24} + \\frac{k\\pi}{6} \\right) \\right) \\text{ with } k = 0, 1, ..., 11$\n"
   ]
  },
  {
   "cell_type": "markdown",
   "metadata": {
    "vscode": {
     "languageId": "plaintext"
    }
   },
   "source": [
    "<hr>\n",
    "\n",
    "Check whether $\\sum_{n=1}^{\\infty} \\frac{3}{10\\sqrt{n} + 4n^2 + 1}$ converges or diverges.  You are allowed to use that $\\sum_{n=1}^{\\infty} n^{-s}$ converges if $s > 1$ and diverges if $s \\leq 1$.\n",
    "\n",
    "$\\frac{3}{10\\sqrt{n}+4n^2+1} = \\frac{3n^{1/10}}{10n^{1/10}+4n^2+1}$ is of order $n^{1/10}/n^2=n^{1/10-2}=n^{-19/10}$.\n",
    "\n",
    "We apply the comparison test with $a_n=\\frac{3}{10\\sqrt{n}+4n^2+1}$, $b_n=n^{-19/10}$.  Then\n",
    "\n",
    "$\n",
    "\\lim_{n \\to \\infty} \\frac{a_n}{b_n} =  \\lim_{n \\to \\infty} \\frac{3}{10\\sqrt{n} + 4n^2 + 1} \\cdot n^{19/10} =  \\lim_{n \\to \\infty} \\frac{3n^2 + 4n^{19/10}}{n^2 + 1} =  \\lim_{n \\to \\infty} \\frac{3 + 4n^{-1/10}}{1 +n^{-2}} = 3 < \\infty.\n",
    "$\n",
    "\n",
    "The series $\\sum_{n=1}^{\\infty} b_n = \\sum_{n=1}^{\\infty} n^{-19/10}$ converges as $19/10 > 1$, so $\\sum_{n=1}^{\\infty} \\frac{3}{10\\sqrt{n} + 4n^2 + 1}$ also converges."
   ]
  }
 ],
 "metadata": {
  "language_info": {
   "name": "python"
  }
 },
 "nbformat": 4,
 "nbformat_minor": 2
}
