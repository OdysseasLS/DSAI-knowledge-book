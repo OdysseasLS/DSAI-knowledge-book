{
 "cells": [
  {
   "cell_type": "markdown",
   "metadata": {},
   "source": [
    "$ (\\tan{x})' = \\frac{1}{{\\cos{x}}^{2}}$\n",
    "\n",
    "$ (\\cot{x})' = \\frac{-1}{{\\sin{x}}^{2}}$\n",
    "\n",
    "$ \\int{x \\ln{x} dx = x \\ln{x} - x + C} $"
   ]
  }
 ],
 "metadata": {
  "language_info": {
   "name": "python"
  }
 },
 "nbformat": 4,
 "nbformat_minor": 2
}
