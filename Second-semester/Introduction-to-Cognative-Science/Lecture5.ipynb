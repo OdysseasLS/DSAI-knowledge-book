{
 "cells": [
  {
   "cell_type": "markdown",
   "metadata": {},
   "source": [
    "# Neural Networks"
   ]
  },
  {
   "cell_type": "markdown",
   "metadata": {},
   "source": [
    "Non Symbolic AI approach = Connectionism (Connection of Perceptrons)"
   ]
  },
  {
   "cell_type": "markdown",
   "metadata": {},
   "source": [
    "#### Delta rule"
   ]
  },
  {
   "cell_type": "markdown",
   "metadata": {},
   "source": [
    "It aims to minimize the error between the predicted output and the actual target output. "
   ]
  },
  {
   "cell_type": "markdown",
   "metadata": {},
   "source": [
    "Neural networks are algorithmic in a limited sense\n",
    "- units/neurons have algorithms for updating activation levels\n",
    "- learning rules are algorithmic\n",
    "\n",
    "But not algorithmic in the same way as PSS\n",
    "- algorithms are not task-specific\n",
    "- algorithms do not operate over explicit representations(instead, they change weights and thresholds of individual unit"
   ]
  },
  {
   "cell_type": "markdown",
   "metadata": {},
   "source": [
    "If we use the symbol $\\Delta$ (big delta) to indicate the adjustment that we will make after each application of the rule, then the perceptron convergence rule can be written like this (remembering that $T$ is the threshold and $W_i$ is the $i$ th input):\n",
    "\n",
    "$\\Delta T = \\eta \\cdot \\delta$\n",
    "\n",
    "$\\Delta W_i = \\eta \\cdot \\delta \\cdot I_i$\n",
    "\n"
   ]
  },
  {
   "cell_type": "markdown",
   "metadata": {},
   "source": [
    "# Checklist\n",
    "\n",
    "## Neurally Inspired Information Processing\n",
    "\n",
    "1. A fundamental question in thinking about how the brain processes information is how the activities of large populations of neurons give rise to complex sensory and cognitive abilities.\n",
    "2. Existing techniques for directly studying the brain do not allow us to study what happens inside populations of neurons.\n",
    "   - Current brain imaging methods, like fMRI and PET, do not provide insights into the workings of neuron populations.\n",
    "3. Computational neuroscientists use mathematical models (neural networks) to study populations of neurons.\n",
    "\n",
    "## Single-Layer Networks\n",
    "\n",
    "1. We can use single-layer networks to compute some Boolean functions, in particular AND, OR, and NOT.\n",
    "2. Any digital computer can be simulated by a network of single-layer networks appropriately chained together.\n",
    "\n",
    "## Biological Plausibility\n",
    "\n",
    "1. Neural network units are much more homogeneous than real neurons. And real neural networks are likely to be both much larger and less parallel than network models.\n",
    "2. However, there are other learning algorithms. Competitive networks using Hebbian learning do not require explicit feedback, and there is evidence for local learning in the brain.\n",
    "   - More biologically plausible algorithms like Hebbian learning exist, which do not need explicit feedback.\n",
    "\n",
    "## Information Processing in Neural Networks\n",
    "\n",
    "1. There are no clear distinctions to be drawn within neural networks either between information storage and information processing or between rules and representations.\n",
    "   - In neural networks, information storage and processing, as well as rules and representations, are intertwined.\n"
   ]
  }
 ],
 "metadata": {
  "kernelspec": {
   "display_name": "base",
   "language": "python",
   "name": "python3"
  },
  "language_info": {
   "name": "python",
   "version": "3.11.7"
  }
 },
 "nbformat": 4,
 "nbformat_minor": 2
}
