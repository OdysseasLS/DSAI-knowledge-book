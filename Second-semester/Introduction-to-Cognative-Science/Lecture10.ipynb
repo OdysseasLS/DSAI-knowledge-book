{
 "cells": [
  {
   "cell_type": "markdown",
   "metadata": {},
   "source": [
    "### Metarepresentation\n",
    "The concept where a representation is used to describe another representation instead of directly representing the world. It involves a higher-order thinking process where one representation encapsulates the perspective or belief of another person.\n",
    "\n",
    "For example, when you say, \"Sarah believes that the world is flat,\" the phrase \"the world is flat\" does not describe the actual state of the world. Instead, it describes Sarah's belief about the world. Here’s a more detailed breakdown:\n",
    "\n",
    "Representation of a Representation: Metarepresentation occurs when the phrase or thought represents how someone else sees or thinks about the world.\n",
    "Thus, metarepresentation is crucial for understanding others' beliefs, thoughts, and perspectives, as it allows us to think about and communicate how someone else perceives or believes something about the world."
   ]
  },
  {
   "cell_type": "markdown",
   "metadata": {},
   "source": [
    "### Simulation Theorys \n",
    "A concept in cognitive science and philosophy which proposes that we understand others' mental states by simulating them in our own minds. Instead of relying on a dedicated system or body of knowledge (like a \"theory of mind\").\n",
    "\n",
    "Simulation theory posits that mindreading and understanding others are achieved by mentally simulating their perspectives and states using our own cognitive apparatus, rather than relying on a distinct theory or set of rules about how minds work."
   ]
  },
  {
   "cell_type": "markdown",
   "metadata": {},
   "source": [
    "# Checklist\n",
    "\n",
    "##### Young children do not typically pass the false belief task before the age of 4, although other parts of the mindreading system come onstream much sooner. Different explanations have been given of this time lag.\n",
    "\n",
    "1. Leslie argues that the theory of mind mechanism emerges during the infant’s second year. But its default setting is to attribute true beliefs. Overcoming that default setting requires the emergence of an inhibitory (stopping) mechanism that he calls the selection processor.\n",
    "\n",
    "2. Support for the selection processor interpretation comes from double inhibition experiments.\n",
    "\n",
    "3. For Perner, in contrast, children do not understand belief, properly speaking, until they pass the false belief task. Understanding belief requires the possibility of metarepresentation, and an inability to metarepresent explains failure on the task.\n",
    "\n",
    "4. Perner (and others) have developed accounts of pretend play on which it does not involve metarepresentation.\n",
    "\n",
    "#### The Cognitive Neuroscience of Mindreading\n",
    "\n",
    "##### Perner and Leslie (and many other cognitive scientists) are committed to the idea that there is a dedicated theory of mind system responsible for identifying and reasoning about other people’s beliefs, desires, and other propositional attitudes. This basic assumption is challenged by the simulationist approach to mindreading.\n",
    "\n",
    "1. Simulationists think that mindreading is carried out by “ordinary” information-processing systems that are co-opted for mindreading. We use our own mind as a model of someone else’s mind.\n",
    "\n",
    "2. According to standard simulationism, we predict other people’s behavior, for example, by running our decision-making processes offline, with pretend beliefs and desires as inputs.\n",
    "\n",
    "3. Radical simulationists hold that mindreading does not involve representing another person’s psychological states. Rather, it involves representing the world from their perspective.\n",
    "\n",
    "##### Cognitive neuroscientists have used a range of techniques, including single-neuron recording and functional neuroimaging, in order to test and refine cognitive models of mindreading. These are early days in the cognitive neuroscience of mindreading, but some suggestive results have already emerged. For example:\n",
    "\n",
    "1. Neuroimaging studies have identified a number of brain areas that show increased activation during mindreading tasks. The medial prefrontal cortex, the superior temporal sulcus, and the inferior parietal lobule. This is consistent with the claim that there is a dedicated theory of mind system.\n",
    "\n",
    "2. There is evidence that co-opted mechanisms are used in low-level mindreading (as predicted by the simulation theory). Areas active during the experience of basic emotions such as fear, disgust, and anger are also active when those emotions are identified in others.\n",
    "\n",
    "3. Mirror neurons in area F5 of the macaque brain respond both when the monkey performs an action and when the monkey observes an experimenter or conspecific perform that action. A number of researchers have hypothesized a mirror neuron system in the human brain. This may play an important role in understanding goal-directed action.\n",
    "\n",
    "4. There is evidence consistent with the simulation-driven processing in high-level mindreading. Experiments have shown that areas specialized for self-reflection are also implicated in mindreading (as predicted by standard simulationism).\n"
   ]
  }
 ],
 "metadata": {
  "kernelspec": {
   "display_name": "Python 3",
   "language": "python",
   "name": "python3"
  },
  "language_info": {
   "codemirror_mode": {
    "name": "ipython",
    "version": 3
   },
   "file_extension": ".py",
   "mimetype": "text/x-python",
   "name": "python",
   "nbconvert_exporter": "python",
   "pygments_lexer": "ipython3",
   "version": "3.12.4"
  }
 },
 "nbformat": 4,
 "nbformat_minor": 2
}
