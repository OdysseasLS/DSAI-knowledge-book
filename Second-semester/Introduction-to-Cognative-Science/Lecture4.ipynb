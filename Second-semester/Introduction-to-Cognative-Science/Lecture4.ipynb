{
 "cells": [
  {
   "cell_type": "markdown",
   "metadata": {},
   "source": [
    "# The physical symbol system (PSS) hypothesis"
   ]
  },
  {
   "cell_type": "markdown",
   "metadata": {},
   "source": [
    "AI/Cognitive Science is based on symbol manipulation as cognition is rule-governed symbol manipulatio"
   ]
  },
  {
   "cell_type": "markdown",
   "metadata": {},
   "source": [
    "#### Intelligent thinking\n",
    "\n",
    "The ability to solve problems according to rules (Problem space) raised up by Allen Newell and Herbert Simon\n",
    "\n",
    "\n",
    "Intelligent systems = Physical symbol systems\n"
   ]
  },
  {
   "cell_type": "markdown",
   "metadata": {
    "vscode": {
     "languageId": "plaintext"
    }
   },
   "source": [
    "#### In The physical symbol system (PSS) hypothesis\n",
    "\n",
    "Inspired by the digital computer\n",
    "\n",
    "- Symbols are physical pattern\n",
    "- Symbols can be combined to form complex symbol structurs\n",
    "- The system contains processes for manipulating complex symbol structures\n",
    "- The processes for representing complex symbol structures can themselves by symbolically represented within the system."
   ]
  },
  {
   "cell_type": "markdown",
   "metadata": {
    "vscode": {
     "languageId": "plaintext"
    }
   },
   "source": [
    "| System               | Symbol                                    | Expressions                         | Processes               |\n",
    "|----------------------|-------------------------------------------|-------------------------------------|-------------------------|\n",
    "| Propositional Logic  | &, ∨, ¬ (\"And\", \"Or\", \"Not\"), Letters     | Propositions/sentences              | Rules of Inference      |\n",
    "| Algebra              | +, -, *, /, =, y, z, 1, 2, 3, ...         | Equations                           | Rules of Algebra        |\n",
    "| Digital Computer     | 0, 1                                      | 00000111000...                      | Program                 |\n",
    "| Chess                | Chess Pieces                              | Configurations of pieces on the board | Legal Chess Moves       |\n"
   ]
  },
  {
   "cell_type": "markdown",
   "metadata": {},
   "source": [
    "#### Intentional Realism and Causation by Content\n",
    "\n",
    "**Intentional Realism**:Beliefs and desires are real entities that can cause behavior.\n",
    "\n",
    "**Causation by Content**: It suggests that what we believe or desire (the content of our thoughts) can lead to specific actions or further thoughts.\n",
    "For instance, believing it will rain (content) causes you to take an umbrella (action)."
   ]
  },
  {
   "cell_type": "markdown",
   "metadata": {
    "vscode": {
     "languageId": "plaintext"
    }
   },
   "source": [
    "## Language of Thought (AKA mentalese)\n",
    "\n",
    "The mind is structured like a formal language, which is a pre-linguistic language independent of normal languages. It is the language that forms your thoughts.\n",
    "\n",
    "Core sentences in mentalese are propositional attitudes such as beliefs and desires that have intentional states and are about something.\n",
    "\n",
    "Mind and Thoughts are compositional enable us construction of new complex thoughts from more primitive symbolic concepts.\n"
   ]
  },
  {
   "cell_type": "markdown",
   "metadata": {
    "vscode": {
     "languageId": "plaintext"
    }
   },
   "source": [
    "`Formal system of though` or `mentalese` = A representational theory of min that shows the mind is structured like a formal language."
   ]
  },
  {
   "cell_type": "markdown",
   "metadata": {
    "vscode": {
     "languageId": "plaintext"
    }
   },
   "source": [
    "### PSS in mind:\n",
    "- Compositionality\n",
    "- Productivity\n",
    "- Logical Structure"
   ]
  },
  {
   "cell_type": "markdown",
   "metadata": {},
   "source": [
    "### Spatial navigation as symbolic processing\n",
    "Hippocampal cells satisfy:\n",
    "- Abstractness\n",
    "- Role-filler Independence (Role of a symbol)\n",
    "- Vectorial Configuration (Size)"
   ]
  },
  {
   "cell_type": "markdown",
   "metadata": {},
   "source": [
    "### Criticism of the Physical Symbol System Hypothesis:\n",
    "\n",
    "- Symbols are syntactic, not meaningful.\n",
    "- Expressions made from symbols also lack meaning.\n",
    "- Operations on symbols depend only on their form.\n",
    "- These operations follow formal rules.\n",
    "- Key issue: Are formal rules enough for true intelligence? (Chinese Room argument says no)."
   ]
  },
  {
   "cell_type": "markdown",
   "metadata": {},
   "source": [
    "|                           | Implementation Purist                     | Implementation Moderate                           | Implementation Rebel                               |\n",
    "|---------------------------|-------------------------------------------|--------------------------------------------------|--------------------------------------------------|\n",
    "| **Complexity Purist**     | \"A human is a cognitive agent.\"           | \"A brain simulation is a cognitive agent.\"       | \"The Chinese Room is a cognitive agent.\"          |\n",
    "| **Complexity Moderate**   | \"A honeybee is a cognitive agent.\"        | \"An episodic RL-based ANN is a cognitive agent.\" | \"Deep Blue is a cognitive agent.\"                 |\n",
    "| **Complexity Rebel**      | \"A bacterium is a cognitive agent.\"       | \"Any ANN is a cognitive agent.\"                  | \"A thermostat is a cognitive agent.\"              |\n"
   ]
  },
  {
   "cell_type": "markdown",
   "metadata": {},
   "source": [
    " A PSS exercises its intelligence in problem-solving by heuristic search (decision psychology)\n"
   ]
  },
  {
   "cell_type": "markdown",
   "metadata": {},
   "source": [
    "# Checklist\n",
    "\n",
    "### The Physical Symbol System Hypothesis\n",
    "\n",
    "1. **The symbols are physical patterns.**\n",
    "\n",
    "2. **Physical symbols can be combined to form complex symbol structures.**\n",
    "\n",
    "3. **Physical symbol systems contain processes for manipulating complex symbol structures.**\n",
    "\n",
    "4. **The processes for manipulating complex symbol structures can be represented by symbols and structures within the system.**\n",
    "\n",
    "5. **Problems are solved by generating and modifying symbol structures until a solution structure is reached.**\n",
    "\n",
    "### The physical symbol system hypothesis is very programmatic. Fodor’s language of thought hypothesis is one way of turning the physical symbol system hypothesis into a concrete proposal about how the mind works\n",
    "\n",
    "1. **The language of thought hypothesis is grounded in intentional realism. Psychological states such as belief and desire are real physical entities. These entities are sentences in the language of thought.**\n",
    "\n",
    "2. **The hypothesis offers a way of explaining causation by content (i.e., how physical representations can have causal effects in the world as a function of how they represent the world).**\n",
    "\n",
    "3. **Fodor suggests that we understand the relation between sentences in the language of thought and their contents on the model of the relation between syntax and semantics in a formal system.**\n",
    "   - The relationship between the structure of these mental sentences (syntax) and their meaning (semantics) is akin to formal logical systems where syntactic rules preserve semantic truth.\n",
    "\n",
    "4. **The syntax of the language of thought tracks its semantics because the language of thought is a formal language with analogs of the formal properties of soundness and completeness.**"
   ]
  }
 ],
 "metadata": {
  "kernelspec": {
   "display_name": "base",
   "language": "python",
   "name": "python3"
  },
  "language_info": {
   "name": "python",
   "version": "3.11.7"
  }
 },
 "nbformat": 4,
 "nbformat_minor": 2
}
