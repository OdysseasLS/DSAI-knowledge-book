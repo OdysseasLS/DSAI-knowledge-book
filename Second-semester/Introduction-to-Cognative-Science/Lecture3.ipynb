{
 "cells": [
  {
   "cell_type": "markdown",
   "metadata": {},
   "source": [
    "# 3.The turn to the brain"
   ]
  },
  {
   "cell_type": "markdown",
   "metadata": {
    "vscode": {
     "languageId": "plaintext"
    }
   },
   "source": [
    "Cognitive processes are studied independently of their neural implementation.\n",
    "\n",
    "Cognitive systems are functional systems primarily defined by their functions, not physical structures."
   ]
  },
  {
   "cell_type": "markdown",
   "metadata": {},
   "source": [
    "## Behavior and the brain"
   ]
  },
  {
   "cell_type": "markdown",
   "metadata": {},
   "source": [
    "Phrenology: the science of human skull"
   ]
  },
  {
   "cell_type": "markdown",
   "metadata": {},
   "source": [
    "Before the 18th century, religion and philosophy were intertwined, with a common belief in dualism (the separation of the material body and the immaterial soul).\n",
    "\n",
    "René Descartes believed that dogs don't have souls and defended Cartesian dualism, which states that the mind can exist independently of the body, and the body cannot think.\n",
    "\n",
    "The pineal gland was thought to be the place where the soul and mind interact within the body according to Cartesian dualism.\n",
    "\n",
    "Thomas Hobbes argued that everything is material and that the soul is a meaningless concept, a view known as materialism."
   ]
  },
  {
   "cell_type": "markdown",
   "metadata": {},
   "source": [
    "Cartesian dualism difference is that mind and body are two separate entities but can interact to each other."
   ]
  },
  {
   "cell_type": "markdown",
   "metadata": {},
   "source": [
    "Mental illnesses can evidently be treated or can at least pass. However, until the 18th century, madhouses did not offer any psychiatric treatment."
   ]
  },
  {
   "cell_type": "markdown",
   "metadata": {},
   "source": [
    "**lobotomy**: 20th century: frontal lobotomy-Surgical removal of frontal lobe (reducing the complexity of psychic life) and later  prefrontal lobotomy-Only the front part of the frontal lobe targeted \n",
    "\n",
    "Negative effects: cognitive impairments, flattened affect (emotional numbing)"
   ]
  },
  {
   "cell_type": "markdown",
   "metadata": {},
   "source": [
    "Broca’s area: damage to this area impairs speech, but not other abilities which is physical causation of behavior"
   ]
  },
  {
   "cell_type": "markdown",
   "metadata": {},
   "source": [
    "## Brain"
   ]
  },
  {
   "cell_type": "markdown",
   "metadata": {
    "vscode": {
     "languageId": "plaintext"
    }
   },
   "source": [
    "#### Brain Anatomy:\n",
    "- Forebrain (largest)\n",
    "    - cerebrum (important for cognitive and motor processing)\n",
    "        - Cerebral Cortex (Outer layer of the cerebrum, only in mammals having 4 lobes)\n",
    "            - Frontal lobe: reasoning, planning, speech, movement, emotions, problem solving.\n",
    "            - Parietal lobe: movement, orientation, recognition, perception of stimuli.\n",
    "            - **Occipital** lobe: visual processing. (Receives **retinal** information)\n",
    "            - Temporal lobe: auditory perception, memory, speech.\n",
    "- midbrain\n",
    "- hindbrain\n",
    "\n",
    "**Primary Visual Pathway**:\n",
    "\n",
    "Information from retina → optic nerve → lateral geniculate nucleus → primary visual cortex."
   ]
  },
  {
   "cell_type": "markdown",
   "metadata": {
    "vscode": {
     "languageId": "plaintext"
    }
   },
   "source": [
    "![Chapter 3](../../Files/second-semester/itcs/ch3.png)"
   ]
  },
  {
   "cell_type": "markdown",
   "metadata": {},
   "source": [
    "Brain is around $1300 g$\n",
    "\n",
    "$20 × 10^9$ neocortical neurons\n",
    "\n",
    "$15 × 10^{13} $ cortical synapses\n",
    "\n",
    "$ 10^{11} $ neurons in the complete human brain"
   ]
  },
  {
   "cell_type": "markdown",
   "metadata": {},
   "source": [
    "Neurons receive information through dendrites and send through axons.\n",
    "\n",
    "**Action potentials**: Neurons send information in binary, with higher feeling the frequency increases but threshold is stable.\n"
   ]
  },
  {
   "cell_type": "markdown",
   "metadata": {
    "vscode": {
     "languageId": "plaintext"
    }
   },
   "source": [
    "### PET (Positron Emission Tomography):\n",
    "\n",
    "Measures blood flow in the brain to study function.\n",
    "Uses radioactive isotope for imagine the brain due activity with fMRI\n"
   ]
  },
  {
   "cell_type": "markdown",
   "metadata": {},
   "source": [
    "## Specific deficits in brain damage"
   ]
  },
  {
   "cell_type": "markdown",
   "metadata": {},
   "source": [
    "**Aphasia**: Specific Impairments Due to Brain Damage\n",
    "\n",
    "What is Aphasia?: Aphasia is a condition where a person has trouble speaking or understanding speech.\n",
    "\n",
    "Causes: It usually happens because of a stroke or a head injury.\n",
    "\n",
    "How Common is It?: About 35% of people who have a stroke will develop some form of aphasia.\n",
    "\n",
    "Broca’s aphasia: non-fluent aphasia\n",
    "\n",
    "Wernicke’s aphasia: fluent aphasia (Talkative but ambigious sentences)"
   ]
  },
  {
   "cell_type": "markdown",
   "metadata": {},
   "source": [
    "Removal of the corpus callosum (corpus callosotomy) is a treatment with:\n",
    "- No IQ change\n",
    "- No change in conversational skills\n",
    "- No change in body coordination."
   ]
  },
  {
   "cell_type": "markdown",
   "metadata": {},
   "source": [
    "## Unilateral spatial neglect\n",
    "\n",
    "Not blind, but neglecting one side of the visual field.\n",
    "\n",
    "Can see image differences but their mind doesn't register them.\n",
    "\n",
    "Therapy: force them to look at the neglected side with neck rotation.\n"
   ]
  },
  {
   "cell_type": "markdown",
   "metadata": {},
   "source": [
    "## Visual agnosia\n",
    "\n",
    "Not able to name by visual input but for exampel they can by touching object.\n",
    "- Form agnosia: Inability to undrestand shape of objects.\n",
    "- Integrative agnosia: Inability to recognize objects."
   ]
  },
  {
   "cell_type": "markdown",
   "metadata": {},
   "source": [
    "## Blindsight\n",
    "\n",
    "People who are blind but can see in their unconscious mind."
   ]
  },
  {
   "cell_type": "markdown",
   "metadata": {},
   "source": [
    "## Damage to the dorsal pathway\n",
    "\n",
    "Two visual system pathways: ventral and dorsal. The ventral pathway is responsible for object recognition, while the dorsal pathway is responsible for spatial processing. \n",
    "\n",
    "Damage cause inability to follow an object moving by eyes automatically.\n",
    "\n"
   ]
  },
  {
   "cell_type": "markdown",
   "metadata": {},
   "source": [
    "## Prosopagnosia\n",
    "\n",
    "face blindness (cannot identify by face)"
   ]
  },
  {
   "cell_type": "markdown",
   "metadata": {},
   "source": [
    "## Measuring brain activity\n",
    "\n",
    "- Electroencephalography (EGG): Electrodes on the scalp detect brain voltage changes with high temporal but low spatial resolution, measuring event-related potentials (ERP).\n",
    "- Magnetic resonance imaging (MRI): Measures brain structure and function with high spatial resolution but low temporal resolution.\n",
    "\n",
    "*temporal resolution: real time activities"
   ]
  },
  {
   "cell_type": "markdown",
   "metadata": {},
   "source": [
    "## Checklist\n",
    "\n",
    "Ungerleider and Mishkin’s Two Visual Systems Hypothesis\n",
    "1. The cross-lesion disconnection paradigm, coupled with various other anatomical and neurological methods, was used to identify two different information-processing pathways for visual information.\n",
    "2. Both pathways start from the primary visual cortex.\n",
    "3. Information relevant to object identification and recognition travels along the ventral pathway, from the primary visual cortex to the inferior temporal cortex via the prestriate cortex.\n",
    "4. Information relevant to locating objects flows from the primary visual cortex to the posterior parietal lobe.\n",
    "\n",
    "Information Processing in Artificial Neural Networks\n",
    "1. These networks are designed to reflect certain high-level features of how the brain processes information, such as its parallel and distributed nature.\n",
    "2. The neuron-like units in artificial neural networks are organized into layers, with no connections between units in a single layer.\n",
    "3. The overall behavior of the network is determined by the weights attached to the connections between pairs of units in adjacent layers.\n",
    "4. Networks \"learn\" by adjusting the weights in order to reduce error.\n",
    "5. Artificial neural networks are particularly suited to pattern recognition tasks, such as discriminating sonar echoes caused by mines from those caused by rocks.\n",
    "\n",
    "Functional Neuroimaging: PET and the Example of Single-Word Processing\n",
    "1. PET allows brain activity to be studied noninvasively by measuring blood flow in the brain while subjects are performing particular cognitive tasks.\n",
    "2. The paired-subtraction paradigm focuses on the brain activity specific to the task by subtracting out the activity generated by carefully chosen control tasks.\n",
    "\n",
    "Functional Neuroimaging: Event-Related fMRI and Predicting How Well Visual Experiences Will Be Remembered\n",
    "1. Functional magnetic resonance imaging (fMRI) measures levels of blood oxygen in the brain (the BOLD contrast/signal), and has superseded PET as a neuroimaging tool for many applications.\n",
    "2. Event-related fMRI allows researchers to study the BOLD signal associated with individual neural events, unlike the blocked-design standard used in PET imaging.\n",
    "3. Event-related fMRI works because, even though the BOLD response is delayed and takes time to develop, it behaves in a linear manner that allows a cumulative BOLD signal derived from multiple individual events to be broken down into its constituent elements.\n",
    "\n",
    "Neural Correlates of the BOLD Signal\n",
    "1. Functional magnetic resonance imaging (fMRI) provides a measure of blood flow in terms of levels of blood oxygenation (the BOLD signal), giving an index of cognitive activity.\n",
    "2. This raises the question of how this cognitive activity is related to neural activity.\n",
    "3. One possibility is that cognitive activity detected by fMRI is correlated with the outputs of populations of neurons (as manifested in their firing activity). Another possibility is that the correlation is with the input to populations of neurons (as measured by the local field potential).\n",
    "4. The experiments of Logothetis and his collaborators seem to show that the correlation is with the input to neural areas, rather than with their output.\n"
   ]
  }
 ],
 "metadata": {
  "language_info": {
   "name": "python"
  }
 },
 "nbformat": 4,
 "nbformat_minor": 2
}
