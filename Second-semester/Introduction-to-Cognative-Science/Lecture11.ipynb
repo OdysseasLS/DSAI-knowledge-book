{
 "cells": [
  {
   "cell_type": "markdown",
   "metadata": {},
   "source": [
    "### Jackson’s Knowledge Argument\n",
    "Frank Jackson's Knowledge Argument challenges physicalism by highlighting the difference between knowing physical facts and experiencing something subjectively.\n",
    "\n",
    "##### Thought Experiment\n",
    "- **Mary in the Black-and-White Room**:\n",
    "  - **Scenario**: Mary knows all physical facts about color vision but has only experienced a black-and-white world.\n",
    "  - **Release**: When Mary sees red for the first time, she learns what it's like to experience the color red.\n",
    "- **Challenge to Physicalism**: This suggests that physical facts alone can't explain all aspects of conscious experience.\n"
   ]
  },
  {
   "cell_type": "markdown",
   "metadata": {},
   "source": [
    "### Dorsal Pathway (Vision for Action)\n",
    "\n",
    "- **Function**: Responsible for processing spatial information and guiding movements. This pathway helps in determining the location and movement of objects.\n",
    "- **Characteristics**:\n",
    "  - **Unconscious Processing**: Typically operates without conscious awareness.\n",
    "  - **Action-Oriented**: For example, it helps you adjust your hand when you reach to grab an object, ensuring your movements are accurate.\n",
    "- **Example**: Blindsight patients, who have damage to their primary visual cortex, can still respond to visual stimuli in their blind field using the dorsal pathway, even though they are not consciously aware of seeing those stimuli.\n",
    "\n",
    "### Ventral Pathway (Vision for Perception)\n",
    "- **Function**: Handles object recognition and identification. This pathway processes the details of what an object is.\n",
    "- **Characteristics**:\n",
    "  - **Conscious Processing**: Typically operates with conscious awareness.\n",
    "  - **Perception-Oriented**: Involved in recognizing and identifying objects. For example, it allows you to recognize a face or identify a tool.\n",
    "- **Example**: Patients with damage to the ventral pathway, like D.F., can perform actions directed by visual information (e.g., posting a letter through a slot) but cannot consciously recognize or describe the orientation or identity of objects.\n",
    "\n"
   ]
  },
  {
   "cell_type": "markdown",
   "metadata": {},
   "source": [
    "### P-Consciousness (Phenomenal Consciousness)\n",
    "\n",
    "Definition: Refers to the subjective, experiential aspects of consciousness. It's about what it feels like to have experiences.\n",
    "\n",
    "Characteristics:\n",
    "- Qualitative Experience: Involves the sensory and perceptual qualities of experiences.\n",
    "- Subjective Nature: These experiences are private and known only to the individual having them.\n",
    "- Examples: The sensation of warmth, the emotional feeling of joy, the visual experience of seeing the color blue."
   ]
  },
  {
   "cell_type": "markdown",
   "metadata": {},
   "source": [
    "### A-Consciousness (Access Consciousness)\n",
    "Definition: Refers to information in the mind that is available for use in reasoning, decision-making, and guiding behavior. It's about the functional aspects of consciousness.\n",
    "    \n",
    "Characteristics:\n",
    "- Availability for Action: Information that is A-conscious is available to the cognitive processes that control actions and speech.\n",
    "- Reportability: This information can be reported and used rationally.\n",
    "- Examples: Being aware of the steps to solve a math problem, knowing where you placed your keys, being able to describe a visual scene."
   ]
  },
  {
   "cell_type": "markdown",
   "metadata": {},
   "source": [
    "#### Interocular Suppression\n",
    "\n",
    "Interocular suppression is a technique used in visual neuroscience to study the processing of visual information and the nature of consciousness. It involves presenting different images to each eye, leading to a suppression of one image from conscious awareness."
   ]
  },
  {
   "cell_type": "markdown",
   "metadata": {},
   "source": [
    "#### Primes\n",
    "\n",
    "A prime is any stimulus (word, image, sound, etc.) that affects how a person responds to another stimulus that follows it.\n",
    "\n",
    "Example: If the word \"doctor\" is shown briefly before the word \"nurse,\" the word \"nurse\" might be recognized more quickly due to the related association activated by the prime \"doctor.\""
   ]
  },
  {
   "cell_type": "markdown",
   "metadata": {},
   "source": [
    "## Checklist\n",
    "\n",
    "### The Challenge of Consciousness\n",
    "1. We can take either a first-person or a third-person approach to consciousness.\n",
    "2. Jackson’s Knowledge Argument illustrates the contrast between the first-person and third-person approaches to consciousness.\n",
    "3. According to the Knowledge Argument, a color blind scientist who knew every (third-person) scientific fact about consciousness would still lack a crucial piece of knowledge – first-person knowledge of what it is like to see color.\n",
    "4. The contrast between the first- and third-person approaches points to the potential inadequacy of cognitive science for studying consciousness.\n",
    "\n",
    "### Information Processing without Conscious Awareness\n",
    "1. There are two primary ways of understanding unconscious information processing: priming experiments and studies of patients with neurological damage.\n",
    "2. Semantic priming studies show that basic categorization can be accomplished unconsciously. Since semantic categorization is generally thought to be nonmodular, these tasks also suggest that there can be nonmodular unconscious processing.\n",
    "3. Blindsight and unilateral (One-way) neglect indicate that high-level processing can be applied even to areas of the visual field that, due to damage, are not consciously perceived.\n",
    "\n",
    "### The Function of Consciousness\n",
    "1. Milner and Goodale’s research reveals a basic functional distinction in the visual system: vision for perception and vision for action. The ventral visual stream is for perception and high-level action planning and is conscious, while the dorsal visual stream is for online control of action and is unconscious.\n",
    "2. Experiments on the Ebbinghaus illusion and interocular suppression provide support for Milner and Goodale’s dual stream hypothesis.\n",
    "3. Milner and Goodale’s research indicates that consciousness is functionally important for planning and initiating action.\n",
    "4. Priming studies show that consciously perceived primes are retained better and have a greater impact on other cognitive processes.\n",
    "\n",
    "### The Hard Problem of Consciousness\n",
    "1. Ned Block’s distinction between access consciousness (or A-consciousness) and phenomenal consciousness (or P-consciousness) can be used to generate a dilemma for the cognitive science of consciousness: cognitive science seems to be informative only for understanding A-consciousness.\n",
    "2. Block claims that there is a double dissociation between A- and P-consciousness. This produces an explanatory gap.\n",
    "3. The conflict between A- and P-consciousness can be understood in terms of what David Chalmers calls the hard problem of consciousness, which Chalmers thinks cannot be solved by cognitive science.\n",
    "\n",
    "### The Global Workspace Theory of Consciousness\n",
    "1. The global workspace theory holds that attention makes low-level modular information available for conscious control in the “global workspace,” from where the information is then “broadcast” to other areas of the brain.\n",
    "2. The global workspace theory draws from two basic ideas: (a) consciousness permits information to be explicitly and durably maintained for additional processing and reasoning, and (b) consciousness is necessary for initiating deliberate action.\n",
    "3. Information processing in the global workspace is a type of domain-general process, selecting among competing modular inputs.\n",
    "4. There is some neurological support for the global workspace theory. Pyramidal neurons, for instance, may be responsible for connecting specialized modular processes and broadcasting their outputs throughout the brain for other cognitive processes.\n"
   ]
  }
 ],
 "metadata": {
  "language_info": {
   "name": "python"
  }
 },
 "nbformat": 4,
 "nbformat_minor": 2
}
