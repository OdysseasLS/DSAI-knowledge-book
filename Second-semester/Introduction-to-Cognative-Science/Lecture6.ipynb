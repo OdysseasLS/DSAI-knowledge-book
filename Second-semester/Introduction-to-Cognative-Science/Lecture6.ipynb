{
 "cells": [
  {
   "cell_type": "markdown",
   "metadata": {},
   "source": [
    "# Strategies for Brain Mapping"
   ]
  },
  {
   "cell_type": "markdown",
   "metadata": {},
   "source": [
    "## Understanding the Brain\n",
    "\n",
    "- Aspect of Cognition (e.g., Vision, Language, Memory, etc.)\n",
    "- Levels of Organization (e.g., Neurons, Populations, Connectivity, Networks, Behavior, etc.)\n",
    "- Investigative Technique (e.g., Genetics, Anatomy, Behavior, EEG, fMRI, single-unit recordings, etc.)\n",
    "- Integrative Techniques (e.g., Psychology, Linguistics, Philosophy, Neuroscience, Anthropology, AI, etc.)"
   ]
  },
  {
   "cell_type": "markdown",
   "metadata": {},
   "source": [
    "### Comparing techniques for studying connectivity in the brain\n",
    "| **Technique** | **Directly Measures** | **Temporal Resolution** | **Spatial Resolution** |\n",
    "| --- | --- | --- | --- |\n",
    "| Single-unit recording | Potentials in individual neurons and very small populations of neurons | High | High |\n",
    "| EEG (electroencephalography) | Electrical activity of larger populations of neurons | High | Low |\n",
    "| MEG (magnetoencephalography) | Magnetic fields produced by electrical activity of larger populations of neurons | High | Low |\n",
    "| PET (positron emission tomography) | Cerebral blood flow in particular brain regions | Low | High |\n",
    "| fMRI (functional magnetic resonance imaging) | Levels of blood oxygen (BOLD signal) in particular brain regions | Low | High |"
   ]
  },
  {
   "cell_type": "markdown",
   "metadata": {},
   "source": [
    "### Locus of Selection Problem\n",
    "\n",
    "#### Principle of Segregation:\n",
    "The cerebral cortex is divided into distinct areas with unique neuronal populations.\n",
    "\n",
    "\n",
    "#### Principle of Integration:\n",
    "Cognitive functioning involves the coordinated activity of network of different brain areas, with different types of tasks recruiting different networks of the brain"
   ]
  },
  {
   "cell_type": "markdown",
   "metadata": {},
   "source": [
    "## Problems and Pitfalls in Neuroimaging\n",
    "\n",
    "1. Indirect Measures of Cognitive Activity: They measure changes in blood flow, which are assumed to correlate with neural activity.\n",
    "\n",
    "2. Noisy fMRI Data\n",
    "\n",
    "3. Functional Connectivity vs. Effective Connectivity:\n",
    "    - Functional Connectivity: This approach looks at correlations between different brain regions' activities, indicating regions that are functionally related.\n",
    "    - Effective Connectivity: This approach examines causal relationships, identifying how information flows between regions."
   ]
  },
  {
   "cell_type": "markdown",
   "metadata": {},
   "source": [
    "# Checklist\n",
    "\n",
    "#### **The principle of segregation** It is a basic principle of neuroscience that the cerebral cortex is divided into seprated areas with distinct neuronal populations.\n",
    "\n",
    "- These different regions are distinguished in terms of the types of cell they contain, the density of those cells and their functionality by techniques like tract tracing or diffusion tractography.\n",
    "\n",
    "#### **The principle of integration**: cognitive functioning involves the coordinated activity of networks of different brain areas\n",
    "\n",
    "#### Neuroimaging is a very powerful tool for studying cognition but neuroimaging data should be interpreted with caution.\n",
    "\n",
    "Neuroimaging techniques can only measure cognitive activity indirectly. There is a controversy in neuroscience about what type of neural activity is correlated with the BOLD signal.\n",
    "\n",
    "There are many opportunities for noise to get into the system in neuroimaging experiments. Partial volume effects can occur when the voxel size is large, and distortions ( Wrong derivated data ) can occur when data are being normalized to allow comparison across subjects.\n",
    "\n",
    "Neuroimaging techniques are much better at telling us about functional connectivity (correlations between activation levels in different brain areas as a task is performed) than about effective connectivity (how information flows between different brain areas and how they influence each other)."
   ]
  }
 ],
 "metadata": {
  "language_info": {
   "name": "python"
  }
 },
 "nbformat": 4,
 "nbformat_minor": 2
}
