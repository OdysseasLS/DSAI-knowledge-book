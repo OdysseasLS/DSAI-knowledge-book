{
 "cells": [
  {
   "cell_type": "markdown",
   "metadata": {},
   "source": [
    "## Hash Tables"
   ]
  },
  {
   "cell_type": "markdown",
   "metadata": {
    "vscode": {
     "languageId": "plaintext"
    }
   },
   "source": [
    "A hash table is a data structure that implements an associative array, a structure that can map keys to values.\n",
    "\n",
    "It uses a hash function to compute an index into an array of buckets or slots, from which the desired value can be found."
   ]
  },
  {
   "cell_type": "markdown",
   "metadata": {
    "vscode": {
     "languageId": "plaintext"
    }
   },
   "source": [
    "##### Example:\n",
    "Assume student IDs and names:\n",
    "- Alice: 12345\n",
    "- Bob: 67890\n",
    "- Carol: 11223\n",
    "- Dave: 56789\n",
    "\n",
    "Number of buckets: 10\n",
    "\n",
    "Calculate Hash Codes:\n",
    "\n",
    "- hash(12345) = 12345 % 10 = 5\n",
    "- hash(67890) = 67890 % 10 = 0\n",
    "- hash(11223) = 11223 % 10 = 3\n",
    "- hash(56789) = 56789 % 10 = 9\n",
    "\n",
    "Insert into Buckets:\n",
    "\n",
    "- Bucket 0: [Bob (67890)]\n",
    "- Bucket 3: [Carol (11223)]\n",
    "- Bucket 5: [Alice (12345)]\n",
    "- Bucket 9: [Dave (56789)]\n"
   ]
  },
  {
   "cell_type": "markdown",
   "metadata": {},
   "source": [
    "### Set ADT (Abstract Data Type):\n",
    "Common operations include \n",
    "- add(x)\n",
    "- contains(x)\n",
    "- size()"
   ]
  },
  {
   "cell_type": "markdown",
   "metadata": {
    "vscode": {
     "languageId": "plaintext"
    }
   },
   "source": [
    "| Structure            | contains(x) | add(x)     | Notes                                        |\n",
    "|----------------------|-------------|------------|----------------------------------------------|\n",
    "| ListSet              | Θ(N)        | Θ(N)       |                                              |\n",
    "| BST                  | Θ(N)        | Θ(N)       | Random trees are Θ(log N).                   |\n",
    "| Self-balancing BST   | Θ(log N)    | Θ(log N)   | Special BSTs that are guaranteed to be short. |\n"
   ]
  },
  {
   "cell_type": "markdown",
   "metadata": {
    "vscode": {
     "languageId": "plaintext"
    }
   },
   "source": [
    "### Python's Hash Tables\n",
    "\n",
    "- Implementation: Python's set and dict use hash tables for efficient data storage and retrieval.\n",
    "- hash Method: Objects define their hash function using the __hash__ method to generate hash codes.\n",
    "- String Hashing: Includes salting to prevent attacks that exploit hash functions."
   ]
  }
 ],
 "metadata": {
  "language_info": {
   "name": "python"
  }
 },
 "nbformat": 4,
 "nbformat_minor": 2
}
