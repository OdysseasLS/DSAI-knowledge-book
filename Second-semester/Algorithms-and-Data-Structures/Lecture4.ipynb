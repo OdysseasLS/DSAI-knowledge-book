{
 "cells": [
  {
   "cell_type": "markdown",
   "metadata": {},
   "source": [
    "# Graph Traversal, State-spaces"
   ]
  },
  {
   "cell_type": "markdown",
   "metadata": {},
   "source": [
    "# Depth-first-search Summary and Steps\n",
    "\n",
    "### Steps:\n",
    "1. Start with a given vertex v.\n",
    "2. Move to an adjacent unvisited vertex.\n",
    "3. Continue this process until no further movement is possible.\n",
    "4. Backtrack to the last visited vertex.\n",
    "5. Explore the next unvisited adjacent vertex.\n",
    "6. Repeat steps 2-5 until all vertices reachable from v are visited.\n",
    "7. Keep track of visited vertices to ensure each is visited exactly once.\n",
    "8. If the graph is not connected, repeat the procedure for each disconnected component.\n"
   ]
  },
  {
   "cell_type": "markdown",
   "metadata": {
    "vscode": {
     "languageId": "plaintext"
    }
   },
   "source": [
    "eg.\n",
    "\n",
    "```python\n",
    "def dfs(graph, node):\n",
    "    visited = []\n",
    "    stack = []\n",
    "\n",
    "    visited.append(node)\n",
    "    stack.append(node)\n",
    "\n",
    "    while stack:\n",
    "        s = stack.pop()\n",
    "        print(s, end=\" \")\n",
    "\n",
    "        for n in reversed(graph[s]):\n",
    "            if n not in visited:\n",
    "                visited.append(n)\n",
    "                stack.append(n)\n",
    "\n",
    "# Example usage:\n",
    "graph = {\n",
    "    'A': ['B', 'G'],\n",
    "    'B': ['C', 'D', 'E'],\n",
    "    'C': [],\n",
    "    'D': [],\n",
    "    'E': ['F'],\n",
    "    'F': [],\n",
    "    'G': ['H'],\n",
    "    'H': ['I'],\n",
    "    'I': []\n",
    "}\n",
    "\n",
    "dfs(graph, 'A')\n",
    "```\n",
    "\n",
    "<p style=\"color: Green;\">Output:</p> <p> A B C D E F G H I </p> \n",
    "\n",
    "\n",
    "**Note**: We use notate the nodes like $\\alpha_{n \\ of \\ when \\ visited,\\  n \\ of\\  when \\ poped}$"
   ]
  },
  {
   "cell_type": "markdown",
   "metadata": {},
   "source": [
    "<hr>"
   ]
  },
  {
   "cell_type": "markdown",
   "metadata": {},
   "source": [
    "# Breadth-first-search Summary and Steps\n",
    "\n",
    "### Summary:\n",
    "Breadth-first search (BFS) is a graph traversal algorithm used for searching a graph layer-wise starting from a given vertex. It explores all the nearest nodes at the present depth prior to moving on to nodes at the next depth level. This algorithm is implemented using a queue.\n",
    "\n",
    "### Steps:\n",
    "1. Start with a given vertex `v` and mark it as visited.\n",
    "2. Enqueue vertex `v`.\n",
    "3. While the queue is not empty:\n",
    "   - Dequeue a vertex `u` from the queue.\n",
    "   - For each adjacent vertex `w` of `u` that has not been visited:\n",
    "     - Mark `w` as visited.\n",
    "     - Enqueue `w`.\n",
    "4. Continue the process until the queue is empty.\n",
    "5. If the graph is not connected, repeat the procedure for each unvisited vertex in the graph.\n",
    "\n",
    "eg.\n",
    "\n",
    "```python\n",
    "def bfs(graph, start):\n",
    "    visited = set()\n",
    "    queue = [start]\n",
    "\n",
    "    while queue:\n",
    "        vertex = queue.pop(0)\n",
    "        if vertex not in visited:\n",
    "            print(vertex, end=\" \")\n",
    "            visited.add(vertex)\n",
    "\n",
    "            for neighbor in graph[vertex]:\n",
    "                if neighbor not in visited:\n",
    "                    queue.append(neighbor)\n",
    "\n",
    "# Example usage:\n",
    "graph = {\n",
    "    'A': ['B', 'C'],\n",
    "    'B': ['D', 'E'],\n",
    "    'C': ['F'],\n",
    "    'D': [],\n",
    "    'E': ['G'],\n",
    "    'F': [],\n",
    "    'G': ['H'],\n",
    "    'H': []\n",
    "}\n",
    "\n",
    "bfs(graph, 'A')\n",
    "```\n",
    "\n",
    "<p style=\"color: Green;\">Output:</p> <p> A B C D E F G H </p> \n"
   ]
  },
  {
   "cell_type": "markdown",
   "metadata": {},
   "source": [
    "<hr>"
   ]
  },
  {
   "cell_type": "markdown",
   "metadata": {},
   "source": [
    "## BFS vs DFS"
   ]
  },
  {
   "cell_type": "markdown",
   "metadata": {},
   "source": [
    "<img src=\"../../Files/second-semester/dsa/bfs_dfs.gif\" style=\"height: 400px\">"
   ]
  },
  {
   "cell_type": "markdown",
   "metadata": {},
   "source": [
    "- Breadth-First Search (BFS):\n",
    "\n",
    "Explores neighbors at the current depth prior to moving on to nodes at the next depth level.\n",
    "\n",
    "Uses a queue to keep track of the next vertex to visit.\n",
    "\n",
    "Good for finding the shortest path on unweighted graphs.\n",
    "    \n",
    "- Depth-First Search (DFS):\n",
    "\n",
    "Explores as far as possible down one branch before backing up and trying another.\n",
    "\n",
    "Uses a stack (often implemented via recursion) to keep track of the next vertex to visit.\n",
    "\n",
    "Useful for scenarios where you want to visit every node and/or construct paths."
   ]
  },
  {
   "cell_type": "markdown",
   "metadata": {
    "vscode": {
     "languageId": "plaintext"
    }
   },
   "source": [
    "|              | DFS                          | BFS                        |\n",
    "|--------------|------------------------------|----------------------------|\n",
    "| Data structure | stack                         | queue                       |\n",
    "| Vertex orderings | two orders                     | one order                    |\n",
    "| Type edges (undirected) | tree and back edges           | tree and cross edges         |\n",
    "| Applications | connectivity, acyclic, 'articulation points' | connectivity, acyclic, shortest path |\n",
    "| Complexity for adj. matrix | O(\\|V\\|^2)                 | O(\\|V\\|^2)                   |\n",
    "| Complexity for adj. list | O(\\|V\\| + \\|E\\|)            | O(\\|V\\| + \\|E\\|)              |\n"
   ]
  },
  {
   "cell_type": "markdown",
   "metadata": {},
   "source": [
    "<img src=\"../../Files/second-semester/dsa/dfso.jpg\" style=\"height: 400px\">"
   ]
  },
  {
   "cell_type": "markdown",
   "metadata": {},
   "source": [
    "### Draw tree of a graph"
   ]
  },
  {
   "cell_type": "markdown",
   "metadata": {},
   "source": [
    "<img src=\"../../Files/second-semester/dsa/4.png\" style=\"height: 200px\"><br>\n",
    "<img src=\"../../Files/second-semester/dsa/5.png\" style=\"height: 500px\">"
   ]
  },
  {
   "cell_type": "markdown",
   "metadata": {
    "vscode": {
     "languageId": "plaintext"
    }
   },
   "source": [
    "### Floodfill (Shortest path BFS)\n"
   ]
  },
  {
   "cell_type": "markdown",
   "metadata": {},
   "source": [
    "<img src=\"../../Files/second-semester/dsa/1.jpg\" style=\"height: 200px\">"
   ]
  },
  {
   "cell_type": "markdown",
   "metadata": {},
   "source": [
    "### State-space\n",
    "\n",
    "Consists of all set of states, a set of actions that is possible.\n",
    "\n",
    "##### Structure\n",
    "\n",
    "- Nodes/vertices are states\n",
    "- Edges are actions\n",
    "- Different problems can be reduced to finding a path in the state space graph/treeWe do not have to invent new algorithms for such problems\n",
    "- Note that graph traversal requires a notion of memory:  if possible, tree reductionsare referred\n"
   ]
  },
  {
   "cell_type": "markdown",
   "metadata": {},
   "source": [
    "### Reduction\n",
    "\n",
    "Reduce the problem state space or algorithm complexity to a smaller size in a way that a solution to the second problem can be used to solve the first problem."
   ]
  }
 ],
 "metadata": {
  "kernelspec": {
   "display_name": "base",
   "language": "python",
   "name": "python3"
  },
  "language_info": {
   "codemirror_mode": {
    "name": "ipython",
    "version": 3
   },
   "file_extension": ".py",
   "mimetype": "text/x-python",
   "name": "python",
   "nbconvert_exporter": "python",
   "pygments_lexer": "ipython3",
   "version": "3.11.7"
  }
 },
 "nbformat": 4,
 "nbformat_minor": 2
}
