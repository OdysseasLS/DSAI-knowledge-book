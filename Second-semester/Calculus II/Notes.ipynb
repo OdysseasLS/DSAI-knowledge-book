{
 "cells": [
  {
   "cell_type": "markdown",
   "metadata": {
    "vscode": {
     "languageId": "plaintext"
    }
   },
   "source": [
    "- $ wz = rs ( \\cos(\\theta + \\phi) + i \\sin(\\theta + \\phi) )$.\n",
    "- $e^{z} = e^{x+iy} = e^{x}e^{iy} = e^{x}(\\cos(y) + i\\sin(y))$\n",
    "- $e^{\\pi i} = -1$\n",
    "- $e^z = r(\\cos \\phi + i\\sin \\phi)$ has solutions $z_k = \\ln r + (\\phi + 2k\\pi)i$, $k \\in \\mathbb{Z}$."
   ]
  },
  {
   "cell_type": "markdown",
   "metadata": {
    "vscode": {
     "languageId": "plaintext"
    }
   },
   "source": [
    "<hr>"
   ]
  },
  {
   "cell_type": "markdown",
   "metadata": {
    "vscode": {
     "languageId": "plaintext"
    }
   },
   "source": [
    "- Monotonic: The sequence which is either increasing or decreasing. To prove:\n",
    "    - $ a_1 , a_2 $ be calculate\n",
    "    - Show $ a_1 = ... < or > a_2 =... $\n",
    "    - Replace n in $ a_{n+1} $ with $ k $ and say: Hence $ a_{k+1} = ...{a_k} < or > a_{k+2} = .. a_{k+1} $\n",
    "    - Mention by induction ve infer ... for any $a_{n+1}$ for $\\phi \\leq n$\n",
    "- Alternating sequence: when $a_n \\cdot a_{{n+1}} < 0$."
   ]
  },
  {
   "cell_type": "markdown",
   "metadata": {
    "vscode": {
     "languageId": "plaintext"
    }
   },
   "source": [
    "$\\lim_{n \\to \\infty} \\frac{x^n}{n!} = 0$\n",
    "\n",
    "$\\lim_{n \\to \\infty} \\left( 1 + \\frac{1}{n} \\right)^n = e $\n"
   ]
  },
  {
   "cell_type": "markdown",
   "metadata": {
    "vscode": {
     "languageId": "plaintext"
    }
   },
   "source": [
    "$\\rho = \\lim_{n \\to \\infty} \\frac{a_{n+1}}{a_n}$\n",
    "\n",
    "- $0 \\leq \\rho < 1$ Converge\n",
    "- $\\rho = 1 $ Unknown\n",
    "- $1 < \\rho \\leq \\inf$ diverge"
   ]
  },
  {
   "cell_type": "markdown",
   "metadata": {
    "vscode": {
     "languageId": "plaintext"
    }
   },
   "source": [
    "<hr>"
   ]
  },
  {
   "cell_type": "markdown",
   "metadata": {},
   "source": [
    "Average Value of a Function\n",
    "\n",
    "$f_{\\text{avg}} = \\frac{1}{b - a} \\int_{a}^{b} f(x) \\, dx$"
   ]
  },
  {
   "cell_type": "markdown",
   "metadata": {},
   "source": [
    "The Mean-Value Theorem for integrals\n",
    "\n",
    "$\\int_{a}^{b} f(x) \\, dx = f(c) (b - a)$"
   ]
  },
  {
   "cell_type": "markdown",
   "metadata": {},
   "source": [
    "### Sin-Cos Power replacements\n",
    "\n",
    "$ \\cos^2 x = \\frac{1}{2} (1 + \\cos 2x) $\n",
    "\n",
    "$ \\sin^2 x = \\frac{1}{2} (1 - \\cos 2x) $\n"
   ]
  },
  {
   "cell_type": "markdown",
   "metadata": {},
   "source": [
    "hence\n",
    "\n",
    "$ \\int \\cos^2 x \\, dx = \\frac{1}{2} (x + \\sin x \\cos x) + C $\n",
    "\n",
    "$ \\int \\sin^2 x \\, dx = \\frac{1}{2} (x - \\sin x \\cos x) + C $\n"
   ]
  },
  {
   "cell_type": "markdown",
   "metadata": {},
   "source": [
    "### The case of a quadratic denominator\n",
    "\n",
    "$$ \\int \\frac{x \\, dx}{x^2 + a^2} = \\frac{1}{2} \\ln(x^2 + a^2) + C; $$\n",
    "\n",
    "$$ \\int \\frac{x \\, dx}{x^2 - a^2} = \\frac{1}{2} \\ln |x^2 - a^2| + C; $$\n",
    "\n",
    "$$ \\int \\frac{dx}{x^2 + a^2} = \\frac{1}{a} \\tan^{-1}\\left(\\frac{x}{a}\\right) + C; $$\n",
    "\n",
    "$$ \\int \\frac{dx}{x^2 - a^2} = \\frac{1}{2a} \\ln \\left| \\frac{x - a}{x + a} \\right| + C. $$\n"
   ]
  },
  {
   "cell_type": "markdown",
   "metadata": {},
   "source": [
    "$ \\int \\tan x \\, dx = \\ln |\\sec x| + C $\n",
    "\n",
    "$ \\int \\cot x \\, dx = \\ln |\\sin x| + C = -\\ln |\\csc x| + C $\n"
   ]
  },
  {
   "cell_type": "markdown",
   "metadata": {},
   "source": [
    "\n",
    "$ \\int \\sec^2(ax) \\, dx = \\frac{1}{a} \\tan(ax) + C $\n",
    "\n",
    "$ \\int \\csc^2(ax) \\, dx = -\\frac{1}{a} \\cot(ax) + C $\n",
    "\n",
    "$ \\int \\frac{1}{\\sqrt{a^2 - x^2}} \\, dx = \\sin^{-1}\\left(\\frac{x}{a}\\right) + C \\quad (a > 0) $\n",
    "\n",
    "$ \\int \\frac{1}{a^2 + x^2} \\, dx = \\frac{1}{a} \\tan^{-1}\\left(\\frac{x}{a}\\right) + C $\n",
    "\n",
    "\n",
    "$ \\int b^{ax} \\, dx = \\frac{1}{a \\ln b} b^{ax} + C $\n",
    "\n",
    "$ \\int \\cosh(ax) \\, dx = \\frac{1}{a} \\sinh(ax) + C $\n",
    "\n",
    "$ \\int \\sinh(ax) \\, dx = \\frac{1}{a} \\cosh(ax) + C $\n"
   ]
  },
  {
   "cell_type": "markdown",
   "metadata": {},
   "source": [
    "$\\int \\sec^2 x \\, dx = \\tan x + C$\n",
    "\n",
    "$\\int \\sec x \\tan x \\, dx = \\sec x + C$\n",
    "\n",
    "$\\int \\csc^2 x \\, dx = -\\cot x + C$\n",
    "\n"
   ]
  },
  {
   "cell_type": "markdown",
   "metadata": {
    "vscode": {
     "languageId": "plaintext"
    }
   },
   "source": [
    "<hr>"
   ]
  },
  {
   "cell_type": "markdown",
   "metadata": {},
   "source": [
    "## Normal Vector\n",
    "\n",
    "A normal vector to $z = f(x, y)$ at $(a, b, f(a, b))$ is\n",
    "$n = f_x(a, b) \\mathbf{i} + f_y(a, b) \\mathbf{j} - \\mathbf{k}$\n"
   ]
  },
  {
   "cell_type": "markdown",
   "metadata": {},
   "source": [
    "## An equation of the tangent plane \n",
    "\n",
    "for $ z = f(x, y) $ at $ (a, b, f(a, b)) $\n",
    "\n",
    "$z = f(a, b) + f_1(a, b)(x - a) + f_2(a, b)(y - b)$"
   ]
  },
  {
   "cell_type": "markdown",
   "metadata": {},
   "source": [
    "<hr>"
   ]
  },
  {
   "cell_type": "markdown",
   "metadata": {},
   "source": [
    "### A second derivative test\n",
    "\n",
    "**Hessian Matrix**\n",
    "- $ H(a) $ is positive definite then a local minimum at a. ($ f_{11} f_{22} - {f_{12}}^2 > 0 \\land  f_{11} > 0 $)\n",
    "- $ H(a) $ is negative definite then a local maximum at a. ($ f_{11} f_{22} - {f_{12}}^2 > 0 \\land  f_{11} < 0 $)\n",
    "- $ H(a) $ is indefinite then a saddle point at a. ($ f_{11} f_{22} - {f_{12}}^2 < 0 $)\n",
    "- $ H(a) $ is non then test gives no information. ($ f_{11} f_{22} - {f_{12}}^2 = 0 $)\n"
   ]
  },
  {
   "cell_type": "markdown",
   "metadata": {},
   "source": [
    "<hr>"
   ]
  },
  {
   "cell_type": "markdown",
   "metadata": {},
   "source": [
    "$ (\\tan{x})' = \\frac{1}{{\\cos{x}}^{2}}$\n",
    "\n",
    "$ (\\cot{x})' = \\frac{-1}{{\\sin{x}}^{2}}$\n",
    "\n",
    "$ \\int{x \\ln{x} dx = x \\ln{x} - x + C} $"
   ]
  },
  {
   "cell_type": "markdown",
   "metadata": {
    "vscode": {
     "languageId": "plaintext"
    }
   },
   "source": [
    "In complex equations when we asked for solution always mention $z$ as $z_k$ and for $ \\theta = \\phi $ we should consider writing $ \\theta = \\phi + 2k\\pi $ and in the answer mention for $k = 0,1,2,3,..., n$ where $ n $ is the power of $ z^{n} $ in the question $ - 1 $ in the question"
   ]
  },
  {
   "cell_type": "markdown",
   "metadata": {
    "vscode": {
     "languageId": "plaintext"
    }
   },
   "source": [
    "When the bound of the integral is on edge of function range always write:\n",
    "\n",
    "$ \\lim{a \\to 0^{+}} \\int_{1}^{a} f(x) = {F(x) ]_{a}}^{1} $"
   ]
  }
 ],
 "metadata": {
  "language_info": {
   "name": "python"
  }
 },
 "nbformat": 4,
 "nbformat_minor": 2
}
