{
 "cells": [
  {
   "cell_type": "markdown",
   "metadata": {},
   "source": [
    "# Entity Relationship Diagram\n"
   ]
  },
  {
   "cell_type": "markdown",
   "metadata": {},
   "source": [
    "## Database Schemas"
   ]
  },
  {
   "cell_type": "markdown",
   "metadata": {},
   "source": [
    "### Components of the architecture\n",
    "#### Three Layers\n",
    "![Image 1](../Files/second-semester/db/1.jpg)\n",
    "- Views (How users see the data)\n",
    "    - CourseInfo(cid:string, numberOfStudents:integer,bestGrade:integer)\n",
    "\n",
    "- Conceptual (Defines logical structure)\n",
    "    - Students(sid: string, name: string, login: string, age: integer)\n",
    "    - Courses(cid: string, cname:string, credits:integer)\n",
    "    - Enrolled(sid:string, cid:string, grade:string)\n",
    "\n",
    "- Physical (Files and data-structures for fast data-access)\n",
    "    - Relations stored as unordered files.\n",
    "    - B+ tree index on first column of Students\n",
    "\n",
    "![Image 2](../Files/second-semester/db/2.jpg)"
   ]
  },
  {
   "cell_type": "markdown",
   "metadata": {},
   "source": [
    "<hr>\n",
    "\n",
    "#### DDL (Data Definition Language)\n",
    "\n",
    " provides the ability to define, create and modify database objects such as tables, views, indexes, and users. \n",
    "\n",
    "#### DML (Data Manipulation Language)\n",
    " \n",
    "  allows for manipulating data in a database, such as inserting, updating, and deleting records.\n"
   ]
  },
  {
   "cell_type": "markdown",
   "metadata": {},
   "source": [
    "## Components of ER Diagram\n",
    "\n",
    "1. **Entities**:\n",
    "   - Represented by rectangles.\n",
    "   - Have attributes that describe them.\n",
    "   - Identified by unique keys.\n",
    "\n",
    "2. **Attributes**:\n",
    "   - Descriptive properties of entities.\n",
    "   - Represented by ovals connected to entities.\n",
    "\n",
    "3. **Relationships**:\n",
    "   - Represented by diamond shapes.\n",
    "   - Describe associations between entities.\n",
    "   - Can have cardinality and participation constraints.\n",
    "\n",
    "4. **Primary Key**:\n",
    "   - Attribute or combination of attributes that uniquely identify an entity.\n",
    "   - Denoted by underlining the attribute(s).\n",
    "\n",
    "5. **Foreign Key**:\n",
    "   - Attribute(s) in one entity that refers to the primary key of another entity.\n",
    "   - Establishes relationships between entities.\n"
   ]
  },
  {
   "cell_type": "markdown",
   "metadata": {},
   "source": [
    "<img src=\"../Files/second-semester/db/3.png\" style=\"height: 400px\">"
   ]
  },
  {
   "cell_type": "markdown",
   "metadata": {},
   "source": [
    "### Weak entities\n",
    "A weak entity is an entity that depends on another entity. It cannot exist without the presence of another entity.\n",
    "```\n",
    "  ===                         ____\n",
    "||   || =======   //\\\\ ______|    |\n",
    "  ===             \\\\//        ----\n",
    "```"
   ]
  },
  {
   "cell_type": "markdown",
   "metadata": {},
   "source": [
    "### IS-A Hierachies\n",
    "Inheritence attributes\n",
    "```\n",
    "        _______\n",
    "       |_Human_|\n",
    "           |\n",
    "          / \\\n",
    " _____|--/___\\ --|____\n",
    "|_PHD_|         |_STU_|\n",
    "\n",
    "```"
   ]
  },
  {
   "cell_type": "markdown",
   "metadata": {},
   "source": [
    "### Aggregation\n",
    "As relation cannot connect to each other, we need to use aggregation to connect them.\n",
    "\n",
    "<img src=\"https://static.javatpoint.com/dbms/images/dbms-aggregation.png\" alt=\"aggregation\" style=\"width:400px;\"/>"
   ]
  },
  {
   "cell_type": "markdown",
   "metadata": {},
   "source": [
    "### Ternary relationship\n",
    "A ternary relationship is a relationship between three entities unlike binary relationship which is between two entities."
   ]
  },
  {
   "cell_type": "markdown",
   "metadata": {},
   "source": [
    "# Cardinalities"
   ]
  },
  {
   "cell_type": "markdown",
   "metadata": {},
   "source": [
    "| Shape | Cardinality | Constraint |\n",
    "|-------|-------------|------------|\n",
    "| ---------- | 0 or more | Normal |\n",
    "| --------> | 0 or 1 | At most one (Key Constraint) |\n",
    "| ===== | 1 or more | At least one (Total Participation Constraint) |\n",
    "| ====> | exactly | Combination Constraint |"
   ]
  }
 ],
 "metadata": {
  "kernelspec": {
   "display_name": "Python 3",
   "language": "python",
   "name": "python3"
  },
  "language_info": {
   "codemirror_mode": {
    "name": "ipython",
    "version": 3
   },
   "file_extension": ".py",
   "mimetype": "text/x-python",
   "name": "python",
   "nbconvert_exporter": "python",
   "pygments_lexer": "ipython3",
   "version": "3.10.13"
  }
 },
 "nbformat": 4,
 "nbformat_minor": 2
}
