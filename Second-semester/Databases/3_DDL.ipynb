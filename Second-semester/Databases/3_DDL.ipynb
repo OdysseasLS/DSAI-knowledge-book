{
 "cells": [
  {
   "cell_type": "markdown",
   "metadata": {},
   "source": [
    "## SQL-DDL"
   ]
  },
  {
   "cell_type": "markdown",
   "metadata": {},
   "source": [
    "### Data types\n",
    "\n",
    "| Data Type | Description |\n",
    "|-----------|-------------|\n",
    "| INTEGER   | Integer values |\n",
    "| REAL      | Floating-point values |\n",
    "| TEXT      | Textual data |\n",
    "| BLOB      | Binary data (Large object, e.g. picture) |\n",
    "| NULL      | Null values |"
   ]
  },
  {
   "cell_type": "markdown",
   "metadata": {},
   "source": [
    "### Head up\n",
    "\n",
    "While we want to remove existing table and create new one, we can use the following command:\n",
    "\n",
    "```sql\n",
    "DROP TABLE IF EXISTS table_name;\n",
    "CREATE TABLE table_name ( ... );\n",
    "```"
   ]
  },
  {
   "cell_type": "markdown",
   "metadata": {},
   "source": [
    "<hr>"
   ]
  },
  {
   "cell_type": "markdown",
   "metadata": {},
   "source": [
    "### Create table\n",
    "\n",
    "```sql\n",
    "CREATE TABLE Students (\n",
    "    sid INTEGER PRIMARY KEY,\n",
    "    name TEXT,\n",
    "    login CHAR(9),\n",
    "    age INTEGER,\n",
    "    gpa REAL\n",
    ");\n"
   ]
  },
  {
   "cell_type": "markdown",
   "metadata": {},
   "source": [
    "##### Assign unique items and more than one Primary Key to a table\n",
    "\n",
    "```sql\n",
    "CREATE TABLE Clients (postcode CHAR(5), name TEXT,\n",
    "login TEXT, birthday TEXT, PRIMARY KEY(name,\n",
    "postcode), UNIQUE(login));\n",
    "```\n",
    "\n"
   ]
  },
  {
   "cell_type": "markdown",
   "metadata": {},
   "source": [
    "<hr>"
   ]
  },
  {
   "cell_type": "markdown",
   "metadata": {},
   "source": [
    "### Altering a table:\n",
    "\n",
    "- Add column firstYear to table:\n",
    "```sql\n",
    "ALTER TABLE Students ADD COLUMN firstYear INTEGER;\n",
    "```\n",
    "- Drop column:\n",
    "```sql\n",
    "ALTER TABLE Students DROP COLUMN firstYear;\n",
    "```"
   ]
  },
  {
   "cell_type": "markdown",
   "metadata": {},
   "source": [
    "<hr>\n",
    "<br>\n",
    "\n",
    "### Update items\n",
    "\n",
    "```sql\n",
    "UPDATE table_name SET id = 20 WHERE name=\"Koorosh\";\n",
    "```"
   ]
  },
  {
   "cell_type": "markdown",
   "metadata": {},
   "source": [
    "<hr>"
   ]
  },
  {
   "cell_type": "markdown",
   "metadata": {},
   "source": [
    "### Inserting and deleting rows\n",
    "\n",
    "#### Insert a row in table Students:\n",
    "\n",
    "```sql\n",
    "INSERT INTO Students (sid, name, login, age, gpa)\n",
    "VALUES (53688, 'Smith', 'smith@ee.nl', 18, 3.2);\n",
    "```\n",
    "Delete one or many rows in table Students:\n",
    "```sql\n",
    "DELETE FROM Students AS S WHERE S.name = \"Smith\";\n",
    "```\n",
    "Note: Key attribute will specify single row only."
   ]
  },
  {
   "cell_type": "markdown",
   "metadata": {},
   "source": [
    "<hr>"
   ]
  },
  {
   "cell_type": "markdown",
   "metadata": {},
   "source": [
    "### Select\n",
    "\n",
    "```sql\n",
    "SELECT * FROM Students S\n",
    "WHERE S.age = 18;\n",
    "```"
   ]
  },
  {
   "cell_type": "markdown",
   "metadata": {},
   "source": [
    "<hr>"
   ]
  },
  {
   "cell_type": "markdown",
   "metadata": {},
   "source": [
    "### Join operation"
   ]
  },
  {
   "cell_type": "markdown",
   "metadata": {},
   "source": [
    "Students\n",
    "| sid   | name  | login        | age | gpa |\n",
    "|-------|-------|--------------|-----|-----|\n",
    "| 53666 | Jones | jon@cc.nl    | 18  | 3.4 |\n",
    "| 53688 | Smith | smith@ee.nl  | 18  | 3.2 |\n",
    "\n",
    "Enrolled\n",
    "| sid   | course | grade |\n",
    "|-------|--------|-------|\n",
    "| 53666 | HisT   | B     |\n",
    "| 53688 | XTz    | A     |\n"
   ]
  },
  {
   "cell_type": "markdown",
   "metadata": {},
   "source": [
    "```sql\n",
    "SELECT S.name, E.course\n",
    "FROM Students S, Enrolled E\n",
    "WHERE S.sid = E.sid AND E.grade = 'A';"
   ]
  },
  {
   "cell_type": "markdown",
   "metadata": {},
   "source": [
    "```Smith|XTz```"
   ]
  },
  {
   "cell_type": "markdown",
   "metadata": {},
   "source": [
    "<hr>"
   ]
  },
  {
   "cell_type": "markdown",
   "metadata": {},
   "source": [
    "# Translation"
   ]
  },
  {
   "cell_type": "markdown",
   "metadata": {},
   "source": [
    "### Translating a relationship set without constraints\n",
    "\n",
    "```sql\n",
    "CREATE TABLE WorksIn(\n",
    "ssn CHAR(8), did INTEGER, since DATE,\n",
    "PRIMARY KEY (ssn, did),\n",
    "FOREIGN KEY (ssn) REFERENCES Employees(ssn),\n",
    "FOREIGN KEY (did) REFERENCES Departments(did))\n",
    "```"
   ]
  },
  {
   "cell_type": "markdown",
   "metadata": {},
   "source": [
    "** Assume relation is WorksIN with since attribute, Employees table have Attribute ssn and other attributes like Departments have \"did\"."
   ]
  },
  {
   "cell_type": "markdown",
   "metadata": {},
   "source": [
    "### Translating a relationship set with simple key constraint\n",
    "In this scenario, we have a relationship set with a simple key constraint. The source table, represented by an arrow in the ERD, will have its primary key used as the primary key for the final table.\n",
    "\n",
    "Unlike the previous example, where we had two primary keys, this time we only have one primary key from the source table."
   ]
  },
  {
   "cell_type": "markdown",
   "metadata": {},
   "source": [
    "### Translating a combined key and total participation constraint\n",
    "\n",
    "- The primary key in the source will become the main primary key.\n",
    "- The primary key in the destination will be defined as NOT NULL in the table creation argument.\n",
    "```sql\n",
    "    ssn CHAR(11) NOT NULL\n",
    "```\n",
    "- The primary key in the destination will become a foreign key.\"\n"
   ]
  },
  {
   "cell_type": "markdown",
   "metadata": {},
   "source": [
    "### Weak entity sets"
   ]
  },
  {
   "cell_type": "markdown",
   "metadata": {},
   "source": [
    "- Primary key will be tuple of both tables primary keys\n",
    "- Destination table primary key will be define as NOT NULL\n",
    "- Destination table primary key will be define as Foreign Key with ON DELETE CASCADE\n",
    "```sql\n",
    "    FOREIGN KEY (ssn) REFERENCES Employees(ssn) ON DELETE CASCADE)\n",
    "```"
   ]
  },
  {
   "cell_type": "markdown",
   "metadata": {},
   "source": [
    "### Total participation without key constraint\n",
    "\n",
    "We may capture total participation by using NOT NUL"
   ]
  },
  {
   "cell_type": "markdown",
   "metadata": {},
   "source": [
    "<hr>\n",
    "\n",
    "## Example inheritance with E/R method"
   ]
  },
  {
   "cell_type": "markdown",
   "metadata": {},
   "source": [
    "```sql\n",
    "CREATE TABLE Boats (\n",
    "    bid INTEGER,\n",
    "    length REAL,\n",
    "    height REAL,\n",
    "    PRIMARY KEY (bid)\n",
    ");\n",
    "\n",
    "CREATE TABLE Sloeps (\n",
    "    bid INTEGER,\n",
    "    maxspeed REAL,\n",
    "    priceperday REAL,\n",
    "    PRIMARY KEY (bid),\n",
    "    FOREIGN KEY (bid) REFERENCES Boats ON DELETE CASCADE\n",
    ");\n",
    "\n",
    "CREATE TABLE Kajaks (\n",
    "    bid INTEGER,\n",
    "    PricePerHour REAL,\n",
    "    color VARCHAR,\n",
    "    PRIMARY KEY (bid),\n",
    "    FOREIGN KEY (bid) REFERENCES Boats ON DELETE CASCADE\n",
    ");\n",
    "```\n",
    "\n",
    "ON DELETE CASCADE is mandatory."
   ]
  },
  {
   "cell_type": "markdown",
   "metadata": {},
   "source": [
    "<hr>\n",
    "\n",
    "### Relation\n",
    "- Instance\n",
    "    - n of rows = cardinality\n",
    "- Schema\n",
    "    - n of columns = arity (degree or argument)\n",
    "        - Binary relation\n",
    "        - N-ary relation\n",
    "\n",
    "### Collections\n",
    "\n",
    "|Name|Order|Repetition|\n",
    "|--|--|--|\n",
    "|Set|$\\times$|$\\times$|\n",
    "|Bags|$\\times$|$\\checkmark$|\n",
    "|Tuples|$\\checkmark$|$\\checkmark$|"
   ]
  }
 ],
 "metadata": {
  "kernelspec": {
   "display_name": "Python 3",
   "language": "python",
   "name": "python3"
  },
  "language_info": {
   "codemirror_mode": {
    "name": "ipython",
    "version": 3
   },
   "file_extension": ".py",
   "mimetype": "text/x-python",
   "name": "python",
   "nbconvert_exporter": "python",
   "pygments_lexer": "ipython3",
   "version": "3.10.13"
  }
 },
 "nbformat": 4,
 "nbformat_minor": 2
}
