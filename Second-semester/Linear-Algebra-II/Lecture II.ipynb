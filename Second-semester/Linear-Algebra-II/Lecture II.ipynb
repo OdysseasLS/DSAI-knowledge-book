{
 "cells": [
  {
   "cell_type": "markdown",
   "metadata": {},
   "source": [
    "# Linear Algebra II\n",
    "##  Linear Independence, Bases, Coordinationo systems"
   ]
  },
  {
   "cell_type": "markdown",
   "metadata": {},
   "source": [
    "In Vectors $\\{v_1, \\ldots, v_p\\} \\rightarrow \\mathbb{R}^n$\n",
    "\n",
    "- If $x_1v_1 + x_2v_2 + \\cdots + x_pv_p = \\underline{0}$ have  **trivial solution** it's **linearly independent**\n",
    "\n",
    "- If $x_1v_1 + x_2v_2 + \\cdots + x_pv_p = \\underline{0}$ such $c_1, c_2, \\ldots, c_p \\neq 0$ it's **linearly dependent**\n",
    "\n",
    "#### linearly independency of Polynomials\n",
    "\n",
    "If for $P_1(x), P_2(x), P_3(x)$ you can find a relation like $P_1(x) = 1/5 (P_2(x) - P_3(x))$ then {$P_1(x), P_2(x), P_3(x)$} is **linearly dependent**"
   ]
  },
  {
   "cell_type": "markdown",
   "metadata": {},
   "source": [
    "<hr>\n",
    "\n",
    "## Bases of vector spaces\n",
    "\n",
    "H is a subspace of V vector space. \n",
    "An indexed set of vectors $B = \\{b_1, \\ldots, b_p\\}$ in $V$ is a basis for the subspace $H$ if:\n",
    "1. $B$ is a linearly independent set\n",
    "2. $B$ spans $H$, that is, $H = \\text{Span}\\{b_1, \\ldots, b_p\\}$.\n",
    "\n",
    "Example:\n",
    "Bases of $\\mathbb{R}^3$ is B = {$\\begin{bmatrix} 1 \\\\ 0 \\\\ 0 \\end{bmatrix} , \\begin{bmatrix} 0 \\\\ 1 \\\\ 0 \\end{bmatrix} , \\begin{bmatrix} 0 \\\\ 0 \\\\ 1 \\end{bmatrix}$}\n",
    "\n",
    "and Bases of $P_n = \\{ a_0 + a_1t + \\cdots + a_nt^n : a_0, \\ldots, a_n \\in \\mathbb{R} \\}$\n",
    "is B = { 1, $t$, $\\mathbb{t}^2$, $\\mathbb{t}^3$ }"
   ]
  },
  {
   "cell_type": "markdown",
   "metadata": {},
   "source": [
    "### Head up!\n",
    "\n",
    "Nul(A) = Span{$\\begin{bmatrix} 2 \\\\ 1 \\\\ 0 \\\\ 0 \\end{bmatrix} , \\begin{bmatrix} -1 \\\\ 0 \\\\ -2 \\\\ 1 \\end{bmatrix}$} where $x_2,x_4 = 0$ can be a combination on answers for a homogeneous system.\n",
    "\n",
    "Then note <ins>x</ins>= only if $x_2,x_4 = 0$ so the Nul(A) is independant"
   ]
  },
  {
   "cell_type": "markdown",
   "metadata": {},
   "source": [
    "<hr>\n",
    "\n",
    "## Coordinate systems\n",
    "\n",
    "Coordinates of <ins>x</ins> relative to $B = \\{b_1, \\ldots, b_p\\}$ are the weights $c_1, c_2, ...$ such that:\n",
    "\n",
    "$\\underline{x} = c_1b_1+...+c_nb_n$\n"
   ]
  },
  {
   "cell_type": "markdown",
   "metadata": {},
   "source": [
    "Examples:\n",
    "\n",
    "- B = {1, $t, ... ,\\mathbb{t}^3$} and  $P_1(t) = 1 - t ,  P_2(t) = 1 + t , P_3(t) = t^3 - \\frac{1}{2}t^2 + 1$\n",
    "\n",
    "$    P_1(t) = 1 \\cdot 1 + (-1) \\cdot t + 0 \\cdot t^2 + 0 \\cdot t^3$\n",
    "$    \\text{So, the coordinate vector is } \\begin{bmatrix} 1 \\\\ -1 \\\\ 0 \\\\ 0 \\end{bmatrix}$"
   ]
  },
  {
   "cell_type": "markdown",
   "metadata": {},
   "source": [
    "- $\\text{Let } \\mathbf{b}_1 = \n",
    "\\begin{pmatrix}\n",
    "1 \\\\\n",
    "1\n",
    "\\end{pmatrix}\n",
    "\\text{ and } \\mathbf{b}_2 = \n",
    "\\begin{pmatrix}\n",
    "4 \\\\\n",
    "5\n",
    "\\end{pmatrix},\n",
    "\\text{ and let } B = \\{\\mathbf{b}_1, \\mathbf{b}_2\\}. \n",
    "\\text{ Let }\n",
    "\\mathbf{x} = \n",
    "\\begin{pmatrix}\n",
    "5 \\\\\n",
    "1\n",
    "\\end{pmatrix}\n",
    "\\text{ (relative to the standard basis in } \\mathbb{R}^2\\text{). Find } [\\mathbf{x}]_B.\n",
    "$"
   ]
  },
  {
   "cell_type": "markdown",
   "metadata": {},
   "source": [
    "$\\begin{bmatrix}\n",
    "1 & 4 & | & -5 \\\\\n",
    "1 & 5 & | & 1\n",
    "\\end{bmatrix}; RREF = \\begin{bmatrix}\n",
    "0 & 0 & | & -29 \\\\\n",
    "0 & 0 & | & 6\n",
    "\\end{bmatrix}; so  [\\mathbf{x}]_B = \\begin{bmatrix}\n",
    "-29 \\\\\n",
    "6 \n",
    "\\end{bmatrix}$\n"
   ]
  },
  {
   "cell_type": "markdown",
   "metadata": {},
   "source": [
    "## Change of coordinates matrix"
   ]
  },
  {
   "cell_type": "markdown",
   "metadata": {},
   "source": [
    "Let $B = \\{b_1, \\ldots, b_n\\} then \\quad P_B = [b_1, \\ldots, b_n]$ \n",
    "\n",
    "<ins>x</ins> = $P_B[\\underline{x}]_B$\n",
    "\n",
    "where $P_B$ is te change of coordinates matrix"
   ]
  },
  {
   "cell_type": "markdown",
   "metadata": {},
   "source": [
    "If transformed vector asked we should calculate <ins>x</ins> by $P_B \\cdot [\\underline{x}]_B$ where $[\\underline{x}]_B$ is **Coordinate vector** (transformation mapper) and <ins>x</ins> is relative to given biasis $B$"
   ]
  },
  {
   "cell_type": "markdown",
   "metadata": {},
   "source": [
    "### Coordination mapping"
   ]
  },
  {
   "cell_type": "markdown",
   "metadata": {},
   "source": [
    "$ T_B : \\mathbb{R}^n \\rightarrow \\mathbb{R}^n : x \\rightarrow [x]_B $,\n",
    "\n",
    " Note that $ T_B $ is one-to-one and onto."
   ]
  },
  {
   "cell_type": "markdown",
   "metadata": {},
   "source": [
    "While we find the RREF form of $[P]_B$ if there were a pivot in every column of $[P]_B$, then $[P]_B$ would be linearliy independent and hence invertible."
   ]
  }
 ],
 "metadata": {
  "kernelspec": {
   "display_name": "Python 3",
   "language": "python",
   "name": "python3"
  },
  "language_info": {
   "codemirror_mode": {
    "name": "ipython",
    "version": 3
   },
   "file_extension": ".py",
   "mimetype": "text/x-python",
   "name": "python",
   "nbconvert_exporter": "python",
   "pygments_lexer": "ipython3",
   "version": "3.10.13"
  }
 },
 "nbformat": 4,
 "nbformat_minor": 2
}
