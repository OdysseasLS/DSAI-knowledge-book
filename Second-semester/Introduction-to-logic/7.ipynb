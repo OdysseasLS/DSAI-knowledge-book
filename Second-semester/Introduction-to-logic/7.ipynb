{
 "cells": [
  {
   "cell_type": "markdown",
   "metadata": {},
   "source": [
    "$ \\Gamma \\vdash_u \\exists k. \\exists n. \\exists m. P(k, 2, m) \\land L(m, n) \\land L(n, 5) $"
   ]
  },
  {
   "cell_type": "markdown",
   "metadata": {
    "vscode": {
     "languageId": "plaintext"
    }
   },
   "source": [
    "![Image 6](../Files/second-semester/logic/6.jpg)"
   ]
  },
  {
   "cell_type": "markdown",
   "metadata": {
    "vscode": {
     "languageId": "plaintext"
    }
   },
   "source": [
    "Derive the sequent $\\Gamma \\vdash_u \\exists p. P(n_4, n_1, p)$"
   ]
  },
  {
   "cell_type": "markdown",
   "metadata": {},
   "source": [
    "![Image 7](../Files/second-semester/logic/7.jpg)"
   ]
  },
  {
   "cell_type": "markdown",
   "metadata": {
    "vscode": {
     "languageId": "plaintext"
    }
   },
   "source": [
    "![Image 8](../Files/second-semester/logic/8.jpg)"
   ]
  }
 ],
 "metadata": {
  "language_info": {
   "name": "python"
  }
 },
 "nbformat": 4,
 "nbformat_minor": 2
}
