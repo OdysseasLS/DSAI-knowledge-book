{
 "cells": [
  {
   "cell_type": "markdown",
   "metadata": {},
   "source": [
    "$ [n>  \\ = \\{0, 1, \\ldots, n-1\\} $\n"
   ]
  },
  {
   "cell_type": "markdown",
   "metadata": {},
   "source": [
    "$ \\overline{f}(\\text{nd}_{a}(\\alpha)) = f_{a}\\left(\\overline{f} \\circ \\alpha \\right) $ :\n",
    "\n",
    "Applying $f$ to a tree node created by $ nd_a (α) $ is the same as first applying $f$ to each subtree (branches) created by $\\alpha$ and then applying $f_a$​ to combine these results.\n"
   ]
  },
  {
   "cell_type": "markdown",
   "metadata": {
    "vscode": {
     "languageId": "plaintext"
    }
   },
   "source": [
    "1. **Trees and Branching $ T(L,B) $**:\n",
    "   - Trees $ T(L (\\text{A set of labels or types of nodes.}) ,B(\\text{A function that tells us how many branches (children) each type of node has.})) $\n",
    "\n",
    "2. **Set $ T(L,B) $**:\n",
    "   - This is the set of all trees with the branching pattern defined by $ L $ and $ B $.\n",
    "\n",
    "3. **Family of Maps $ nd_a $**:\n",
    "   - For each label $ a $ in $ L $, there is a map $ nd_a $.\n",
    "   - $ nd_a $ takes a function $ \\alpha $ that maps each branch (from $ B_a $) to a tree and returns a new tree in $ T(L,B) $.\n",
    "\n",
    "4. **Iteration Principle**:\n",
    "   - Given any set $ X $ and a family of functions $ f_a $:\n",
    "     - Each $ f_a $ maps from $ [B_a, X] $ to $ X $. This means $ f_a $ takes a function (mapping branches to elements in $ X $) and returns an element in $ X $.\n",
    "   - There exists a unique function $ f $:\n",
    "     - This function $ f $ maps from $ T(L,B) $ to $ X $.\n",
    "     - $ f $ satisfies: $ f(nd_a(\\alpha)) = f_a(f \\circ \\alpha) $.\n",
    "     - This means applying $ f $ to a tree built with $ nd_a $ and $ \\alpha $ gives the same result as first applying $ f $ to each subtree (branches) and then applying $ f_a $.\n",
    "\n",
    "5. **Inductive Extension**:\n",
    "   - $ f $ is called the inductive extension because it's defined by repeating (iterating) the process of applying $ f_a $.\n",
    "\n",
    "6. **Simplified Notation**:\n",
    "   - When the context is clear, $ T(L,B) $ is simply written as $ T $.\n"
   ]
  }
 ],
 "metadata": {
  "kernelspec": {
   "display_name": "Python 3",
   "language": "python",
   "name": "python3"
  },
  "language_info": {
   "codemirror_mode": {
    "name": "ipython",
    "version": 3
   },
   "file_extension": ".py",
   "mimetype": "text/x-python",
   "name": "python",
   "nbconvert_exporter": "python",
   "pygments_lexer": "ipython3",
   "version": "3.10.13"
  }
 },
 "nbformat": 4,
 "nbformat_minor": 2
}
