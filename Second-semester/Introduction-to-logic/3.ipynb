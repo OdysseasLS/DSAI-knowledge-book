{
 "cells": [
  {
   "cell_type": "markdown",
   "metadata": {},
   "source": [
    "# Fitch-Style Natural Deduction"
   ]
  },
  {
   "cell_type": "markdown",
   "metadata": {},
   "source": [
    "$[[𝑝]]$(𝑣) = 𝑣 (𝑝)\n",
    "\n",
    "$[[\\phi_1 → \\phi_2]]$ (𝑣) = $[[\\phi_2]]$ (𝑣) =⇒ $[[\\phi_2]]$ (𝑣)\n"
   ]
  },
  {
   "cell_type": "markdown",
   "metadata": {},
   "source": [
    "### Classical Logic and Completeness"
   ]
  },
  {
   "cell_type": "markdown",
   "metadata": {},
   "source": [
    "In **cND** system:\n",
    "\n",
    "$\\frac{\\Gamma , \\neg \\phi \\vdash \\bot}{\\Gamma \\vdash \\phi}$ \\(Contra)\n"
   ]
  },
  {
   "cell_type": "markdown",
   "metadata": {},
   "source": [
    "![Image 1](../Files/second-semester/logic/1.jpg)"
   ]
  },
  {
   "cell_type": "markdown",
   "metadata": {},
   "source": [
    "Let 𝜑 be a propositional formula. We say that 𝜑 is **valid** if $[[\\phi]]$ (𝑣) = 1 for\n",
    "all valuations 𝑣 and **satisfiable** if $[[\\phi]]$(𝑣) = 1 for some valuation 𝑣. A valid\n",
    "formula is also called a **tautology** ."
   ]
  },
  {
   "cell_type": "markdown",
   "metadata": {
    "vscode": {
     "languageId": "plaintext"
    }
   },
   "source": [
    "**Generally**:\n",
    "\n",
    "- Satisfiability: A formula is satisfiable if there exists at least one interpretation (or model) in which the formula is true.\n",
    "\n",
    "- Tautology: If formula is true in every possible interpretation.\n",
    "\n",
    "- Contingent: If it's true in some equations and false in others. (satisfiable but not a tautology)"
   ]
  }
 ],
 "metadata": {
  "kernelspec": {
   "display_name": "Python 3",
   "language": "python",
   "name": "python3"
  },
  "language_info": {
   "codemirror_mode": {
    "name": "ipython",
    "version": 3
   },
   "file_extension": ".py",
   "mimetype": "text/x-python",
   "name": "python",
   "nbconvert_exporter": "python",
   "pygments_lexer": "ipython3",
   "version": "3.10.13"
  }
 },
 "nbformat": 4,
 "nbformat_minor": 2
}
