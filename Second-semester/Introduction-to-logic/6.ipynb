{
 "cells": [
  {
   "cell_type": "markdown",
   "metadata": {},
   "source": [
    "# Machine-Checked Proofs\n",
    "\n",
    "## Proof-Checking with Explicit Substitutions"
   ]
  },
  {
   "cell_type": "markdown",
   "metadata": {},
   "source": [
    "### Composition\n",
    "\n",
    "(𝜏 • 𝜎) (𝑥) = 𝜎(𝑥) 𝜏 "
   ]
  },
  {
   "cell_type": "markdown",
   "metadata": {},
   "source": [
    "**Note:** 𝜎 ⊑ 𝜏 if the substitution 𝜎 is more general than 𝜏"
   ]
  },
  {
   "cell_type": "markdown",
   "metadata": {},
   "source": [
    "![Image 4](../../Files/second-semester/logic/4.jpg)"
   ]
  },
  {
   "cell_type": "markdown",
   "metadata": {},
   "source": [
    "### Learn through Exercise\n",
    "$$\n",
    "a) {𝑓 (𝑎, ?𝑥) = ?𝑦, 𝑔(𝑏, ?𝑦) = ?𝑧}\n",
    "$$\n",
    "$$\n",
    "b) {𝑓 (𝑎, ?𝑥) = ?𝑦, 𝑓 (𝑏, 𝑐) = ?𝑦}\n",
    "$$\n",
    "![Image 5](../Files/second-semester/logic/5.jpg)"
   ]
  }
 ],
 "metadata": {
  "language_info": {
   "name": "python"
  }
 },
 "nbformat": 4,
 "nbformat_minor": 2
}
