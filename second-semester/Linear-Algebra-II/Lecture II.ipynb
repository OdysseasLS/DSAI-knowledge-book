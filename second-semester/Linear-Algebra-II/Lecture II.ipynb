{
 "cells": [
  {
   "cell_type": "markdown",
   "metadata": {},
   "source": [
    "# Linear Algebra II\n",
    "##  Linear Independence, Bases, Coordinationo systems"
   ]
  },
  {
   "cell_type": "markdown",
   "metadata": {},
   "source": [
    "In Vectors $\\{v_1, \\ldots, v_p\\} \\rightarrow \\mathbb{R}^n$\n",
    "\n",
    "- If $x_1v_1 + x_2v_2 + \\cdots + x_pv_p = \\underline{0}$ have  **trivial solution** it's **linearly independent**\n",
    "\n",
    "- If $x_1v_1 + x_2v_2 + \\cdots + x_pv_p = \\underline{0}$ such $c_1, c_2, \\ldots, c_p \\neq 0$ it's **linearly dependent**\n",
    "\n",
    "#### linearly independency of Polynomials\n",
    "\n",
    "If for $P_1(x), P_2(x), P_3(x)$ you can find a relation like $P_1(x) = 1/5 (P_2(x) - P_3(x))$ then {$P_1(x), P_2(x), P_3(x)$} is **linearly dependent**"
   ]
  },
  {
   "cell_type": "markdown",
   "metadata": {},
   "source": [
    "<hr>\n",
    "\n",
    "## Bases of vector spaces\n",
    "\n",
    "H is a subspace of V vector space. \n",
    "An indexed set of vectors $B = \\{b_1, \\ldots, b_p\\}$ in $V$ is a basis for the subspace $H$ if:\n",
    "1. $B$ is a linearly independent set\n",
    "2. $B$ spans $H$, that is, $H = \\text{Span}\\{b_1, \\ldots, b_p\\}$.\n",
    "\n",
    "Example:\n",
    "Bases of $\\mathbb{R}^3$ is B = {$\\begin{bmatrix} 1 \\\\ 0 \\\\ 0 \\end{bmatrix} , \\begin{bmatrix} 0 \\\\ 1 \\\\ 0 \\end{bmatrix} , \\begin{bmatrix} 0 \\\\ 0 \\\\ 1 \\end{bmatrix}$}\n",
    "\n",
    "and Bases of $P_n = \\{ a_0 + a_1t + \\cdots + a_nt^n : a_0, \\ldots, a_n \\in \\mathbb{R} \\}$\n",
    "is B = { 1, $t$, $\\mathbb{t}^2$, $\\mathbb{t}^3$ }\n"
   ]
  }
 ],
 "metadata": {
  "language_info": {
   "name": "python"
  }
 },
 "nbformat": 4,
 "nbformat_minor": 2
}
