{
 "cells": [
  {
   "cell_type": "markdown",
   "metadata": {},
   "source": [
    "# Linear Algebra II\n",
    "##  Linear Independence, Bases, Coordinationo systems"
   ]
  },
  {
   "cell_type": "markdown",
   "metadata": {},
   "source": [
    "In Vectors $\\{v_1, \\ldots, v_p\\} \\rightarrow \\mathbb{R}^n$\n",
    "\n",
    "- If $x_1v_1 + x_2v_2 + \\cdots + x_pv_p = \\underline{0}$ have  **trivial solution** it's **linearly independent**\n",
    "\n",
    "- If $x_1v_1 + x_2v_2 + \\cdots + x_pv_p = \\underline{0}$ such $c_1, c_2, \\ldots, c_p \\neq 0$ it's **linearly dependent**\n",
    "\n",
    "#### linearly independency of Polynomials\n",
    "\n",
    "If for $P_1(x), P_2(x), P_3(x)$ you can find a relation like $P_1(x) = 1/5 (P_2(x) - P_3(x))$ then {$P_1(x), P_2(x), P_3(x)$} is **linearly dependent**"
   ]
  },
  {
   "cell_type": "markdown",
   "metadata": {},
   "source": [
    "<hr>\n",
    "\n",
    "## Bases of vector spaces\n",
    "\n",
    "H is a subspace of V vector space. \n",
    "An indexed set of vectors $B = \\{b_1, \\ldots, b_p\\}$ in $V$ is a basis for the subspace $H$ if:\n",
    "1. $B$ is a linearly independent set\n",
    "2. $B$ spans $H$, that is, $H = \\text{Span}\\{b_1, \\ldots, b_p\\}$.\n",
    "\n",
    "Example:\n",
    "Bases of $\\mathbb{R}^3$ is B = {$\\begin{bmatrix} 1 \\\\ 0 \\\\ 0 \\end{bmatrix} , \\begin{bmatrix} 0 \\\\ 1 \\\\ 0 \\end{bmatrix} , \\begin{bmatrix} 0 \\\\ 0 \\\\ 1 \\end{bmatrix}$}\n",
    "\n",
    "and Bases of $P_n = \\{ a_0 + a_1t + \\cdots + a_nt^n : a_0, \\ldots, a_n \\in \\mathbb{R} \\}$\n",
    "is B = { 1, $t$, $\\mathbb{t}^2$, $\\mathbb{t}^3$ }\n"
   ]
  },
  {
   "cell_type": "markdown",
   "metadata": {},
   "source": [
    "<hr>\n",
    "\n",
    "## Coordinate systems\n",
    "\n",
    "Coordinates of <ins>x</ins> relative to $B = \\{b_1, \\ldots, b_p\\}$ are the weights $c_1, c_2, ...$ such that:\n",
    "\n",
    "$\\underline{x} = c_1b_1+...+c_nb_n$\n"
   ]
  },
  {
   "cell_type": "markdown",
   "metadata": {},
   "source": [
    "Examples:\n",
    "\n",
    "- B = {1, $t, ... ,\\mathbb{t}^3$} and  $P_1(t) = 1 - t ,  P_2(t) = 1 + t , P_3(t) = t^3 - \\frac{1}{2}t^2 + 1$\n",
    "\n",
    "      $P_1(t) = 1 \\cdot 1 + (-1) \\cdot t + 0 \\cdot t^2 + 0 \\cdot t^3\n",
    "\n",
    "      $\\text{So, the coordinate vector is } \\begin{bmatrix} 1 \\\\ -1 \\\\ 0 \\\\ 0 \\end{bmatrix}$"
   ]
  },
  {
   "cell_type": "markdown",
   "metadata": {},
   "source": [
    "- $\\text{Let } \\mathbf{b}_1 = \n",
    "\\begin{pmatrix}\n",
    "1 \\\\\n",
    "1\n",
    "\\end{pmatrix}\n",
    "\\text{ and } \\mathbf{b}_2 = \n",
    "\\begin{pmatrix}\n",
    "4 \\\\\n",
    "5\n",
    "\\end{pmatrix},\n",
    "\\text{ and let } B = \\{\\mathbf{b}_1, \\mathbf{b}_2\\}. \n",
    "\\text{ Let }\n",
    "\\mathbf{x} = \n",
    "\\begin{pmatrix}\n",
    "5 \\\\\n",
    "1\n",
    "\\end{pmatrix}\n",
    "\\text{ (relative to the standard basis in } \\mathbb{R}^2\\text{). Find } [\\mathbf{x}]_B.\n",
    "$"
   ]
  },
  {
   "cell_type": "markdown",
   "metadata": {},
   "source": [
    "$\\begin{bmatrix}\n",
    "1 & 4 & | & -5 \\\\\n",
    "1 & 5 & | & 1\n",
    "\\end{bmatrix}; RREF = \\begin{bmatrix}\n",
    "0 & 0 & | & -29 \\\\\n",
    "0 & 0 & | & 6\n",
    "\\end{bmatrix}; so  [\\mathbf{x}]_B = \\begin{bmatrix}\n",
    "-29 \\\\\n",
    "6 \n",
    "\\end{bmatrix}$\n"
   ]
  }
 ],
 "metadata": {
  "language_info": {
   "name": "python"
  }
 },
 "nbformat": 4,
 "nbformat_minor": 2
}
