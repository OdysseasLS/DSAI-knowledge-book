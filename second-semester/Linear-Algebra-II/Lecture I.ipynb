{
 "cells": [
  {
   "cell_type": "markdown",
   "metadata": {},
   "source": [
    "## Linera Algebra II\n",
    "### Lecture 1"
   ]
  },
  {
   "cell_type": "markdown",
   "metadata": {},
   "source": [
    "| Name           | Notation   | Info                                                                  | Example                                   |\n",
    "|----------------|------------|-----------------------------------------------------------------------|-------------------------------------------|\n",
    "| Span           | Span{u}    | Set of all possible linear combinations of `u`                       | If $v = \\begin{bmatrix}V_1\\\\V_2\\\\V_3\\end{bmatrix}$, then Span{u} = {αv : α ∈ ℝ} |\n",
    "| Null           | Nul(A)     | Set of all `x` where `Ax = 0`                                         |                                           |\n",
    "| Column         | Col(A)     | Set of all linear combinations of the columns of `A`                  | If $x = \\begin{bmatrix}X_1\\\\X_2\\\\X_3\\end{bmatrix}$, then `Col(x) = {x1, x2, x3}`         |\n",
    "| Kernel  | Ker(T)     | set of all vectors that get mapped to the zero vector under T | ker(T) = {v ∈ V I T(v)=0}              |\n",
    "| Image (Range) | Im(T) | set of all possible outputs obtained by applying T to every vector in its domain | Im(T) = {w ∈ W I T(v) = w for some v ∈ V} |\n"
   ]
  },
  {
   "cell_type": "markdown",
   "metadata": {},
   "source": [
    "## Vector and sub-Space\n",
    "\n",
    "A vector space can be R^2, R^3, or a polynomial.\n",
    "\n",
    "**Trivial subspace** = {0} : It contains only the zero vector of that space\n",
    "\n",
    "R^2 is not a subspace of R^3 because subspaces of R^3 should have 3 components like (x, y, z).\n",
    "\n",
    "**Denote subspacity** ( Prove subspace $V \\in W$ ):\n",
    "- Zero vector $v \\in W$\n",
    "- If  <ins>u</ins>, <ins>v</ins> then \n",
    "- c[x1, x2, 0] = [cx1, cx2, 0] ∈ W"
   ]
  },
  {
   "cell_type": "markdown",
   "metadata": {},
   "source": [
    "## Span{u}\n",
    "\n",
    "Span{u} is the set of all possible linear combinations of the vector u.\n",
    "\n",
    "If v = [[1], [2], [3]], then Span{v} = {α⋅v | α ∈ R}.\n",
    "\n",
    "To show Span{u} in subspace R^n:\n",
    "\n",
    "- 0 = 0u ∈ span{u}\n",
    "- mu + nu = (m + n)u ∈ span{u}\n",
    "- c(mu) = (cm)u ∈ span{u}\n",
    "\n",
    "W = {[[a - 3b], [2b], [-a + 7b], [b]] ∈ R^4 : a, b ∈ R}\n",
    "\n",
    "To show that W is a subset of R^4:\n",
    "\n",
    "[[a - 3b], [2b], [-a + 7b], [b]] = a[[1], [0], [-1], [0]] + b[[-3], [2], [7], [1]] = au + bv ⇒ W = Span{u, v}"
   ]
  },
  {
   "cell_type": "markdown",
   "metadata": {},
   "source": [
    "## Null space\n",
    "\n",
    "The null space of an m*n matrix A is the set of all x where Ax = 0 (homogeneous equation).\n",
    "\n",
    "Nul(A) = {x ∈ R^n | Ax = 0}.\n",
    "\n",
    "Proof of \"The null space of an m*n matrix A is a subspace of R^n\":\n",
    "\n",
    "- A0 = 0 ⇒ 0 ∈ Nul(A)\n",
    "- u, v ∈ Nul(A), then A*u = 0 = 0*A*v\n",
    "- A(u + v) = Au + Av = 0 + 0 = 0 ⇒ u + v ∈ Nul(A)\n",
    "- A(cu) = cAu = c0 = 0 ⇒ cu ∈ Nul(A)"
   ]
  },
  {
   "cell_type": "markdown",
   "metadata": {},
   "source": [
    "## Column space\n",
    "\n",
    "The column space of an m × n matrix A is the set of all linear combinations of the columns of A.\n",
    "\n",
    "Col(A) = Span{a1, ..., an} → R^m.\n",
    "\n",
    "Note that Col(A) is the range of the linear transformation x → Ax.\n",
    "\n",
    "Col(A) = Range(x → Ax) = {b ∈ R^m | There exists x ∈ R^m such that Ax = b}.\n",
    "\n",
    "The column space of an m × n matrix A is a subspace of R^m since span is a subspace."
   ]
  },
  {
   "cell_type": "markdown",
   "metadata": {},
   "source": [
    "## In Linear transformation\n",
    "\n",
    "In a linear transformation:\n",
    "\n",
    "- ker(T) = Nul(A)\n",
    "- Im(T) = Col(A)\n",
    "\n",
    "T is one-to-one if and only if ker(T) = {0}.\n",
    "\n",
    "T is onto R^m if and only if Im(T) = R^m.\n",
    "\n",
    "\n",
    "Linear transformation T from a vector space V to a vector space W, denoted T: V → W:\n",
    "\n",
    "- The kernel of T is ker(T) = {v ∈ V | T(v) = 0}.\n",
    "- The range (image) of T is Im(T) = {w ∈ W | w = T(v) for some v ∈ V}.\n",
    "\n",
    "For example, in the linear transformation D: C^1[a, b] → C[a, b] (derivative):\n",
    "\n",
    "- ker(D) = {f ∈ C'[a, b] | f' = 0}\n",
    "- Im(D) = C[a, b]"
   ]
  }
 ],
 "metadata": {
  "kernelspec": {
   "display_name": "Python 3",
   "language": "python",
   "name": "python3"
  },
  "language_info": {
   "codemirror_mode": {
    "name": "ipython",
    "version": 3
   },
   "file_extension": ".py",
   "mimetype": "text/x-python",
   "name": "python",
   "nbconvert_exporter": "python",
   "pygments_lexer": "ipython3",
   "version": "3.10.13"
  }
 },
 "nbformat": 4,
 "nbformat_minor": 2
}
