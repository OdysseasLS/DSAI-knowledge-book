{
 "cells": [
  {
   "cell_type": "markdown",
   "metadata": {},
   "source": [
    "## Linera Algebra II\n",
    "### Lecture 1"
   ]
  },
  {
   "cell_type": "markdown",
   "metadata": {},
   "source": [
    "| Name           | Notation   | Info                                                                  | Example                                   |\n",
    "|----------------|------------|-----------------------------------------------------------------------|-------------------------------------------|\n",
    "| Span           | Span{u}    | Set of all possible linear combinations of `u`                       | If $v = \\begin{bmatrix}V_1\\\\V_2\\\\V_3\\end{bmatrix}$, then Span{u} = {αv : α ∈ ℝ} |\n",
    "| Null           | Nul(A)     | Set of all `x` where `Ax = 0`                                         |                                           |\n",
    "| Column         | Col(A)     | Set of all linear combinations of the columns of `A`                  | If $x = \\begin{bmatrix}X_1\\\\X_2\\\\X_3\\end{bmatrix}$, then Col(x) = {x1, x2, x3}         |\n",
    "| Kernel  | Ker(T)     | set of all vectors that get mapped to the zero vector under T | ker(T) = {v ∈ V I T(v)=0}              |\n",
    "| Image (Range) | Im(T) | set of all possible outputs obtained by applying T to every vector in its domain | Im(T) = {w ∈ W I T(v) = w for some v ∈ V} |\n"
   ]
  },
  {
   "cell_type": "markdown",
   "metadata": {},
   "source": [
    "## Vector and Subspace\n",
    "\n",
    "A vector space can be R^2, R^3, or a polynomial.\n",
    "\n",
    "**Trivial subspace** = {0}: It contains only the zero vector of that space.\n",
    "\n",
    "R^2 is not a subspace of R^3 because subspaces of R^3 should have 3 components like (x, y, z).\n",
    "\n",
    "**Definition of Subspace** (Prove subspace V ⊆ W):\n",
    "- Zero vector v ∈ W.\n",
    "- If u, v ∈ W, then u + v ∈ W.\n",
    "- If u ∈ W and c ∈ R, then c * u ∈ W.\n",
    "\n",
    "**Function Continuity Proof**:\n",
    "A function is continuous on [a, b]:\n",
    "- f(x) = 0, $\\forall x \\in \\mathbb{R}$\n",
    "- If f and g are continuous, then f+g is continuous\n",
    "- cf is continuous if f is continuous\n"
   ]
  },
  {
   "cell_type": "markdown",
   "metadata": {},
   "source": [
    "<hr>\n",
    "\n",
    "## Span{u}\n",
    "\n",
    "Span{u} is the set of all possible linear combinations of the vector u.\n",
    "\n",
    "If $v = \\begin{bmatrix}V_1\\\\V_2\\\\V_3\\end{bmatrix}$, then Span{u} = {αv : α ∈ ℝ}\n",
    "\n",
    "To show Span{u} in subspace R^n:\n",
    "\n",
    "- 0 = 0u ∈ span{u}\n",
    "- mu + nu = (m + n)u ∈ span{u}\n",
    "- c(mu) = (cm)u ∈ span{u}\n",
    "\n",
    "**Prove I:**\n",
    "\n",
    "W = $\\left\\{ \\begin{bmatrix} a - 3b \\\\ 2b \\\\ -a + 7b \\\\ b \\end{bmatrix} \\in \\mathbb{R}^4 : a, b \\in \\mathbb{R} \\right\\}$\n",
    "\n",
    "To show that W is a subset of $\\mathbb{R}^4$:\n",
    "\n",
    "$\\begin{bmatrix} a - 3b \\\\ 2b \\\\ -a + 7b \\\\ b \\end{bmatrix} = a \\begin{bmatrix} 1 \\\\ 0 \\\\ -1 \\\\ 0 \\end{bmatrix} + b \\begin{bmatrix} -3 \\\\ 2 \\\\ 7 \\\\ 1 \\end{bmatrix} = au + bv \\Rightarrow W = \\text{Span}\\{u, v\\}$\n",
    "\n",
    "**Prove II:**\n",
    "\n",
    "If $v_1, v_2,... \\in$ Vector space V$ show span{$v_1, v_2,..$.} is subspace of V\n",
    "\n",
    "assume $W$ = span{$v_1, v_2,..$.}\n",
    "\n",
    "- <ins>0</ins> = <ins>0</ins>$v_1$ + <ins>0</ins>$v_2$ $\\in W$\n",
    "- $a_1.\\underline{v_1}$ + $a_2.\\underline{v_2}$ + $b_1.\\underline{v_1}$ + $b_2.\\underline{v_2}$ = ($a_1 + b_1$)$\\underline{v_1}$ $\\in W$\n",
    "- c($a_1.\\underline{v_1}$ + $a_2.\\underline{v_2}$) = $(c a_1 )\\underline{v_1}$ + $(c a_2 )\\underline{v_2}$ $\\in W$\n",
    "\n",
    "**Head up**\n",
    "\n",
    "W = $\\left\\{ \\begin{bmatrix} a + b \\\\ b \\\\ 1 \\end{bmatrix} \\in \\mathbb{R}^3 , a, b \\in \\mathbb{R} \\right\\}$\n",
    "\n",
    "$W$ is **not** in subspace $\\mathbb{R}^3$ due:\n",
    "\n",
    "$\\begin{bmatrix} a_1 + b_1 \\\\ b_1 \\\\ 1 \\end{bmatrix}$ + $\\begin{bmatrix} a_2 + b_2 \\\\ b_2 \\\\ 1 \\end{bmatrix}$ = $\\begin{bmatrix} a_1 + b_1 + a_2 + b_2 \\\\ b_1 + b_2 \\\\ 2 \\end{bmatrix}$  then $2 \\neq 1$\n",
    "\n",
    "also it doesnt contain zero vector for any $a, b$\n"
   ]
  },
  {
   "cell_type": "markdown",
   "metadata": {},
   "source": [
    "<hr>\n",
    "\n",
    "## Null space\n",
    "\n",
    "The null space of an m*n matrix A is the set of all x where Ax = 0 (homogeneous equation).\n",
    "\n",
    "$\\text{Nul}(A)$ = {x ∈ R^n | Ax = 0}.\n",
    "\n",
    "Proof of \"The null space of an m*n matrix A is a subspace of R^n\":\n",
    "\n",
    "- $ A0 = 0 \\Rightarrow 0 \\in \\text{Nul}(A) $, if $ u, v \\in \\text{Nul}(A) $, then $ Au = 0 = Av $\n",
    "- $ A(u + v) = Au + Av = 0 + 0 = 0 \\Rightarrow u + v \\in \\text{Nul}(A) $\n",
    "- $ A(cu) = cAu = c0 = 0 \\Rightarrow cu \\in \\text{Nul}(A) $"
   ]
  },
  {
   "cell_type": "markdown",
   "metadata": {},
   "source": [
    "### Generating set of Nul(A):\n",
    "\n",
    "$A = \\begin{bmatrix}\n",
    "-3 & 6 & -1 & 1 \\\\\n",
    "1 & -2 & 2 & 3 \\\\\n",
    "2 & -4 & 5 & 8\n",
    "\\end{bmatrix}$\n",
    "\n",
    "$RREF = \\begin{bmatrix}\n",
    "1 & -2 & 0 & -1 \\\\\n",
    "0 & 0 & 1 & 2 \\\\\n",
    "0 & 0 & 0 & 0\n",
    "\\end{bmatrix}$ x = \n"
   ]
  },
  {
   "cell_type": "markdown",
   "metadata": {},
   "source": [
    "<hr>\n",
    "\n",
    "## Column space\n",
    "\n",
    "The column space of an m × n matrix A is the set of all linear combinations of the columns of A.\n",
    "\n",
    "Col(A) = Span{a1, ..., an} → R^m.\n",
    "\n",
    "Note that Col(A) is the range of the linear transformation x → Ax.\n",
    "\n",
    "Col(A) = Range(x → Ax) = {b ∈ R^m | There exists x ∈ R^m such that Ax = b}.\n",
    "\n",
    "The column space of an m × n matrix A is a subspace of R^m since span is a subspace."
   ]
  },
  {
   "cell_type": "markdown",
   "metadata": {},
   "source": [
    "<hr>\n",
    "\n",
    "## In Linear Transformation\n",
    "\n",
    "In a linear transformation:\n",
    "\n",
    "- $ \\text{ker}(T) = \\text{Nul}(A) $\n",
    "- $ \\text{Im}(T) = \\text{Col}(A) $ \n",
    "\n",
    "$ T $ is **one-to-one** if and only if $ \\text{ker}(T) = \\{0\\} $.\n",
    "\n",
    "$ T $ is **onto** $ \\mathbb{R}^m $ if and only if $ \\text{Im}(T) = \\mathbb{R}^m $ if $T: \\mathbb{R}^n \\to \\mathbb{R}^m$\n",
    "\n",
    "Linear transformation $ T $ from a vector space $ V $ to a vector space $ W $, denoted $ T: V \\rightarrow W $:\n",
    "\n",
    "- The kernel of $ T $ is $ \\text{ker}(T) = \\{v \\in V | T(v) = 0\\} $.\n",
    "- The range (image) of $ T $ is $ \\text{Im}(T) = \\{w \\in W | w = T(v) \\text{ for some } v \\in V\\} $.\n",
    "\n",
    "For example, in the linear transformation $ D: C^1[a, b] \\rightarrow C[a, b] $ (derivative):\n",
    "\n",
    "- $ \\text{ker}(D) = \\{f \\in C^1[a, b] | f' = 0\\} $\n",
    "- $ \\text{Im}(D) = C[a, b] $\n"
   ]
  }
 ],
 "metadata": {
  "kernelspec": {
   "display_name": "Python 3",
   "language": "python",
   "name": "python3"
  },
  "language_info": {
   "codemirror_mode": {
    "name": "ipython",
    "version": 3
   },
   "file_extension": ".py",
   "mimetype": "text/x-python",
   "name": "python",
   "nbconvert_exporter": "python",
   "pygments_lexer": "ipython3",
   "version": "3.10.13"
  }
 },
 "nbformat": 4,
 "nbformat_minor": 2
}
