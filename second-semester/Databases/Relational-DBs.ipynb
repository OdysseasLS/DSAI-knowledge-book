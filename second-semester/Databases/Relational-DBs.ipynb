{
 "cells": [
  {
   "cell_type": "markdown",
   "metadata": {},
   "source": [
    "# Relational model\n",
    "\n",
    "## Relation (Table):\n",
    "| ID      | Field 1 | Field 2 | ... |\n",
    "|---------|---------|---------|-----|\n",
    "| Record1 | Record1 | ...     | ... |\n",
    "| Record2 | ...     | ...     | ... |\n",
    "\n",
    "# Hierarchical models\n",
    "\n",
    "Type of data model where data is organized in a binary tree structure.\n",
    "Like XML (eXtensible Markup Language):\n",
    "\n",
    "```xml\n",
    "<bookstore> <!--Root element-->\n",
    "  <book> <!-- Item and Child of Bookstore-->\n",
    "    <title>Harry Potter and the Sorcerer's Stone</title> <!-- nested elements-->\n",
    "    <author>J.K. Rowling</author> <!-- nested elements-->\n",
    "    <year>1997</year> <!-- nested elements-->\n",
    "    <price>10.99</price> <!-- nested elements-->\n",
    "  </book>\n",
    "  <book>\n",
    "    <title>The Great Gatsby</title>\n",
    "    <author>F. Scott Fitzgerald</author>\n",
    "    <year>1925</year>\n",
    "    <price>12.99</price>\n",
    "  </book>\n",
    "</bookstore>\n"
   ]
  },
  {
   "cell_type": "markdown",
   "metadata": {},
   "source": [
    "# Entity-Relationship (ER) model\n",
    "\n",
    "Helps in visualizing and understanding the structure of a database and its relationships\n",
    "\n",
    "- Entities: real-world objects or concepts such as employee\n",
    "- Attributes: properties or characteristics of entities, such as \"Name\", \"Age\", or \"Salary\"\n",
    "- Relationships: associations or interactions between entities\n"
   ]
  },
  {
   "cell_type": "markdown",
   "metadata": {},
   "source": [
    "<img src=\"https://www.simplilearn.com/ice9/free_resources_article_thumb/ERDiagramsInDBMS_1.png\" width=\"300\">\n"
   ]
  }
 ],
 "metadata": {
  "kernelspec": {
   "display_name": "Python 3",
   "language": "python",
   "name": "python3"
  },
  "language_info": {
   "codemirror_mode": {
    "name": "ipython",
    "version": 3
   },
   "file_extension": ".py",
   "mimetype": "text/x-python",
   "name": "python",
   "nbconvert_exporter": "python",
   "pygments_lexer": "ipython3",
   "version": "3.10.13"
  }
 },
 "nbformat": 4,
 "nbformat_minor": 2
}
