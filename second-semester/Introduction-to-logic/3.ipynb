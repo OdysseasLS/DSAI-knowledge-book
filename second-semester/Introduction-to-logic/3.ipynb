{
 "cells": [
  {
   "cell_type": "markdown",
   "metadata": {},
   "source": [
    "# Fitch-Style Natural Deduction"
   ]
  },
  {
   "cell_type": "markdown",
   "metadata": {},
   "source": [
    "$[[𝑝]]$(𝑣) = 𝑣 (𝑝)\n",
    "\n",
    "$[[\\phi_1 → \\phi_2]]$ (𝑣) = $[[\\phi_2]]$ (𝑣) =⇒ $[[\\phi_2]]$ (𝑣)\n"
   ]
  },
  {
   "cell_type": "markdown",
   "metadata": {},
   "source": [
    "### Classical Logic and Completeness"
   ]
  },
  {
   "cell_type": "markdown",
   "metadata": {},
   "source": [
    "In **cND** system:\n",
    "\n",
    "$\\frac{\\Gamma , \\neg \\phi \\vdash \\bot}{\\Gamma \\vdash \\phi}$ \\(Contra)\n"
   ]
  },
  {
   "cell_type": "markdown",
   "metadata": {},
   "source": [
    "![Image 1](../../Files/second-semester/logic/1.jpg)"
   ]
  }
 ],
 "metadata": {
  "language_info": {
   "name": "python"
  }
 },
 "nbformat": 4,
 "nbformat_minor": 2
}
