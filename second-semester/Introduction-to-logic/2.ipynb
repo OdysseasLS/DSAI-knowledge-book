{
 "cells": [
  {
   "cell_type": "markdown",
   "metadata": {},
   "source": [
    "## Deduction in Propositional Logic"
   ]
  },
  {
   "cell_type": "markdown",
   "metadata": {},
   "source": [
    "### Dictionary\n",
    "\n",
    "| Word | Defenition          |\n",
    "|------------|---------------|\n",
    "| Proposition | A statement that expresses a judgment or opinion.     |\n",
    "| Absurdity   | Meaningless                                           |\n",
    "| Conventions | An agreement between people that assumes something.   |\n",
    "| Derive      | obtain or receive something from a source or origin   |\n"
   ]
  },
  {
   "cell_type": "markdown",
   "metadata": {},
   "source": [
    "# Natural Deduction system ND"
   ]
  },
  {
   "cell_type": "markdown",
   "metadata": {},
   "source": [
    "$\n",
    "\\frac{\\Gamma \\vdash \\phi \\lor \\psi \\quad \\Gamma, \\phi \\vdash \\delta \\quad \\Gamma, \\psi \\vdash \\delta}\n",
    "{\\Gamma \\vdash \\delta} \\ (\\lor E)\n",
    "$\n"
   ]
  },
  {
   "cell_type": "markdown",
   "metadata": {},
   "source": [
    "$\n",
    "\\frac{\\Gamma \\vdash \\bot}\n",
    "{\\Gamma \\vdash \\phi} \\ (\\bot E)\n",
    "$\n"
   ]
  },
  {
   "cell_type": "markdown",
   "metadata": {},
   "source": [
    "$\n",
    "\\frac{\\Gamma, \\phi \\vdash \\psi}\n",
    "{\\Gamma \\vdash \\phi \\to \\psi} \\ (\\to I)\n",
    "$\n"
   ]
  },
  {
   "cell_type": "markdown",
   "metadata": {},
   "source": [
    "$\n",
    "\\frac{\\Gamma \\vdash \\phi \\to \\psi \\quad \\Gamma \\vdash \\phi}\n",
    "{\\Gamma \\vdash \\psi} \\ (\\to E)\n",
    "$\n"
   ]
  },
  {
   "cell_type": "markdown",
   "metadata": {
    "vscode": {
     "languageId": "plaintext"
    }
   },
   "source": [
    "$\n",
    "\n",
    "\\textbf{Conjunction Introduction (And Introduction):}\n",
    "\n",
    "\\frac{\\Gamma \\vdash \\phi \\quad \\Gamma \\vdash \\psi}{\\Gamma \\vdash \\phi \\land \\psi} \\ (\\text{AndI})\n",
    "\n",
    "\n",
    "\\textbf{Conjunction Elimination (And Elimination):}\n",
    "\n",
    "\\frac{\\Gamma \\vdash \\phi \\land \\psi}{\\Gamma \\vdash \\phi} \\ (\\text{AndE1})\n",
    "\n",
    "\n",
    "\\frac{\\Gamma \\vdash \\phi \\land \\psi}{\\Gamma \\vdash \\psi} \\ (\\text{AndE2})\n",
    "\n",
    "\n",
    "\\textbf{Disjunction Introduction (Or Introduction):}\n",
    "\n",
    "\\frac{\\Gamma \\vdash \\phi}{\\Gamma \\vdash \\phi \\lor \\psi} \\ (\\text{OrI1})\n",
    "\n",
    "\n",
    "\\frac{\\Gamma \\vdash \\psi}{\\Gamma \\vdash \\phi \\lor \\psi} \\ (\\text{OrI2})\n",
    "\n",
    "\n",
    "\\textbf{Disjunction Elimination (Or Elimination):}\n",
    "\n",
    "\\frac{\\Gamma \\vdash \\phi \\lor \\psi \\quad \\Gamma, \\phi \\vdash \\delta \\quad \\Gamma, \\psi \\vdash \\delta}{\\Gamma \\vdash \\delta} \\ (\\text{OrE})\n",
    "\n",
    "\n",
    "\\textbf{Implication Introduction (Conditional Introduction):}\n",
    "\n",
    "\\frac{\\Gamma, \\phi \\vdash \\psi}{\\Gamma \\vdash \\phi \\rightarrow \\psi} \\ (\\text{ImpI})\n",
    "\n",
    "\n",
    "\\textbf{Implication Elimination (Conditional Elimination):}\n",
    "\n",
    "\\frac{\\Gamma \\vdash \\phi \\rightarrow \\psi \\quad \\Gamma \\vdash \\phi}{\\Gamma \\vdash \\psi} \\ (\\text{ImpE})\n",
    "\n",
    "\n",
    "\\textbf{Double Negation Elimination:}\n",
    "\n",
    "\\frac{\\Gamma \\vdash \\neg\\neg\\phi}{\\Gamma \\vdash \\phi} \\ (\\text{DNE})\n",
    "\n",
    "\n",
    "$"
   ]
  }
 ],
 "metadata": {
  "kernelspec": {
   "display_name": "base",
   "language": "python",
   "name": "python3"
  },
  "language_info": {
   "codemirror_mode": {
    "name": "ipython",
    "version": 3
   },
   "file_extension": ".py",
   "mimetype": "text/x-python",
   "name": "python",
   "nbconvert_exporter": "python",
   "pygments_lexer": "ipython3",
   "version": "3.10.13"
  }
 },
 "nbformat": 4,
 "nbformat_minor": 2
}
