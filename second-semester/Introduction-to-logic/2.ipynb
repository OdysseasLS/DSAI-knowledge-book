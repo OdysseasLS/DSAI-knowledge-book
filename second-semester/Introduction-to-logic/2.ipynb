{
 "cells": [
  {
   "cell_type": "markdown",
   "metadata": {},
   "source": [
    "## Deduction in Propositional Logic"
   ]
  },
  {
   "cell_type": "markdown",
   "metadata": {},
   "source": [
    "### Dictionary\n",
    "\n",
    "| Word | Defenition          |\n",
    "|------------|---------------|\n",
    "| Proposition | A statement that expresses a judgment or opinion.     |\n",
    "| Absurdity   | Meaningless                                           |\n",
    "| Conventions | An agreement between people that assumes something.   |\n",
    "| Derive      | obtain or receive something from a source or origin   |\n"
   ]
  },
  {
   "cell_type": "markdown",
   "metadata": {},
   "source": [
    "$\n",
    "\\frac{\\Gamma \\vdash \\phi \\lor \\psi, \\Gamma, \\phi \\vdash \\delta, \\Gamma, \\psi \\vdash \\delta}\n",
    "{\\Gamma \\vdash \\delta} \\ (\\text{VE})\n",
    "$\n"
   ]
  },
  {
   "cell_type": "code",
   "execution_count": null,
   "metadata": {
    "vscode": {
     "languageId": "plaintext"
    }
   },
   "outputs": [],
   "source": []
  }
 ],
 "metadata": {
  "kernelspec": {
   "display_name": "base",
   "language": "python",
   "name": "python3"
  },
  "language_info": {
   "codemirror_mode": {
    "name": "ipython",
    "version": 3
   },
   "file_extension": ".py",
   "mimetype": "text/x-python",
   "name": "python",
   "nbconvert_exporter": "python",
   "pygments_lexer": "ipython3",
   "version": "3.9.18"
  }
 },
 "nbformat": 4,
 "nbformat_minor": 2
}
