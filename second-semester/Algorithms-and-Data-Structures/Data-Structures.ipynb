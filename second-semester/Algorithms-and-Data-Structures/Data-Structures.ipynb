{
 "cells": [
  {
   "cell_type": "markdown",
   "metadata": {},
   "source": [
    "# Data Structures\n",
    "\n",
    "## Linear Data Structure:\n",
    "\n",
    "| Array | List |\n",
    "|-------|------|\n",
    "| Fixed-size | Dynamic size |\n",
    "| Contiguous memory storage | Elements may not be contiguous |\n",
    "| Access by index | Sequential access, slower for random access |\n",
    "\n",
    "## Various Types of Lists\n",
    "\n",
    "- **Array**\n",
    "  - 345   0   871   1   ...\n",
    "\n",
    "- **Singly Linked List** (not often used in Python)\n",
    "  - → 345 → 871 → ... → 692 → null\n",
    "\n",
    "- **Doubly Linked List** (not often used in Python)\n",
    "  - → null 345 ←→ 871 ←→ ... →← 692 null ←→\n",
    "\n",
    "Differences in how items can be accessed, stored, or removed from a list.\n",
    "\n"
   ]
  },
  {
   "cell_type": "markdown",
   "metadata": {},
   "source": [
    "## Special lists:\n",
    "\n",
    "| Queue | Stack | Priority Queue |\n",
    "|-------|-------|----------------|\n",
    "| FIFO | LIFO | abstract priority based data type |\n",
    "| **Operations:** | **Operations:** | higher priorities elements are dequeued before elements with lower priorities |\n",
    "| - enqueue : adding an element to the back | - push : adding an element to the top | |\n",
    "| - dequeue : removing an element from the front | - pop : removing an element from the top | |\n",
    "| line of people waiting for a bus | plates | heaps or arrays |\n"
   ]
  }
 ],
 "metadata": {
  "kernelspec": {
   "display_name": "Python 3",
   "language": "python",
   "name": "python3"
  },
  "language_info": {
   "codemirror_mode": {
    "name": "ipython",
    "version": 3
   },
   "file_extension": ".py",
   "mimetype": "text/x-python",
   "name": "python",
   "nbconvert_exporter": "python",
   "pygments_lexer": "ipython3",
   "version": "3.10.13"
  }
 },
 "nbformat": 4,
 "nbformat_minor": 2
}
