{
 "cells": [
  {
   "cell_type": "markdown",
   "metadata": {},
   "source": [
    "# Data Structures\n",
    "\n",
    "## Linear Data Structure:\n",
    "\n",
    "| Array | List |\n",
    "|-------|------|\n",
    "| Fixed-size | Dynamic size |\n",
    "| Contiguous memory storage | Elements may not be contiguous |\n",
    "| Access by index | Sequential access, slower for random access |\n",
    "\n",
    "## Special lists:\n",
    "\n",
    "| Queue | Stack | Priority Queue |\n",
    "|-------|-------|----------------|\n",
    "| FIFO | LIFO | abstract priority based data type |\n",
    "| **Operations:** | **Operations:** | higher priorities elements are dequeued before elements with lower priorities |\n",
    "| - enqueue : adding an element to the back | - push : adding an element to the top | |\n",
    "| - dequeue : removing an element from the front | - pop : removing an element from the top | |\n",
    "| line of people waiting for a bus | plates | heaps or arrays |\n"
   ]
  }
 ],
 "metadata": {
  "language_info": {
   "name": "python"
  }
 },
 "nbformat": 4,
 "nbformat_minor": 2
}
