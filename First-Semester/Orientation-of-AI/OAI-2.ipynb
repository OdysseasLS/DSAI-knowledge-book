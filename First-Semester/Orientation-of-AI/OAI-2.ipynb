{
 "cells": [
  {
   "cell_type": "markdown",
   "metadata": {},
   "source": [
    "# What is real?\n",
    "What is epistemology? The reading material can sometimes be unreadable due to unknown terms, in which case use Wikipedia or Stanford Encyclopedia of Philosophy to find what those terms mean, this will help you in understanding the concepts written about in the literature.\n",
    "\n",
    "## René Descartes\n",
    "Is a big fan or rationalism, studied and worked at Leiden University. His work was opposed by empiricism which was common during the renaissance.\n",
    "Rationalism is sitting down and looking at the world and thinking over past ideas using a rational lens, similar to looking at geometry from an analytical angle (which Descartes had significant work in).\n",
    "He as a person was into murder (hence his side occupation as an assassin). This was mentioned to check if the students have done their homework reading. In case you don't find online sources for the reading material, they will always be available at the university library.\n",
    "\n",
    "## First Meditation\n",
    "The professor read some quotes relating to accepting reality based on what we see and how our perceptions can mislead us. It is naive to believe that senses is the source of most of our knowledge, as it is actually sourced from what others tell us.\n",
    "New quotes about the sciences, Descartes had an intuition that this knowledge can be false knowledge that comes from false senses and learning, that it is all but an illusion or dream we experience as a mind with no body. From this he wondered what if science is just a composite object, made from elementary object that we can truly grasp with our minds that create foundations for more complex ideas.\n",
    "Descartes proposes a thought experiment where an evil demon wants to misguide you by deceiving your sense and controlling what we can learn, the purpose of this is to ask how do we know with certainty which parts of our knowledge is true and which is manipulation. He offered a solution by saying that no such demon can exist as god won't allow it, which might've been due to religious pressure from his surroundings.\n",
    "\n",
    "## The Matrix\n",
    "General information about its cast, it has strong connections with biblical and philosophical ideas.\n",
    "In a real sense, the matrix is about AI and whether humanity should go forward with the risk of creating a general purpose AI. The other motivation to talk about the Matrix is about grounding knowledge (epistemology) and finding whether knowledge is real or if it based on fake perspectives, However can never really know as our sense of reality goes only as far as our sense.\n",
    "\n",
    "# What can we really know?\n",
    "Rowlands called the subjective and objective views on reality the inside and outside, the sentience vs the world. To know that something is objective we need something to confirm whether our view is correct or not from an outside view, which is practically impossible unless you're god and if you don't believe in god, tough luck.\n",
    "Our perception from the inside does not add up to certainty about what caused it, this is known as skepticism, which is related to idealism. We can discuss skepticism and idealism through three thought experiments which are:\n",
    "- Plato's cave.\n",
    "- Archimedes and his Archimedian point.\n",
    "- Brains in a vat.\n",
    "\n",
    "## Plato's cave\n",
    "A prisoner that used to be chained in a cave seeing the outside world as shadows has seen the real world, he goes back to the other prisoners to try explaining what the real world is like.\n",
    "\n",
    "## Archimedian point\n",
    "Also known as God's viewpoint, the method Descartes used to solve his thought experiment. It can also come up as the Cartesian anxiety. It is basically saying that you can know something if you have an absolute outside perspective.\n",
    "\n",
    "## Brains in a vat\n",
    "A philosophical argument inspired by Descartes, that maybe our senses are deceiving us. That our selves are not interacting with the real world but instead being fed information without actually experiencing it.\n",
    "Descartes was right, thus we wont be able to tell whether or not we live in a simulation.\n",
    "With enough time an intelligent civilization reaches a technological level that can simulate reality.\n",
    "If even a fraction of those simulations contain intelligent civilizations then we are likely to be in a simulation.\n",
    "\n",
    "# Part 3\n",
    "\n",
    "## Large language models\n",
    "Melanie Mitchel first talked about \"dum super-AI\", the AI would be able to develop very intelligent solutions but they aren't the solutions we are seeking. This leads to the idea of \"grounding\" as a gradual phenomenon by using the assumption that AI does not understand intention.\n",
    "Reading the slides will be somewhat helpful here.\n",
    "More next week.\n",
    "\n",
    "## Information\n",
    "Previously the exam was out of tune in relation to the lectures, there will be quizzes during the lecture that affect the grade and have no effect on the final grade. The quizzes are in hope of increasing participation and attendance, as well as preparing for the final exam as the questions are of similar format.\n",
    "Next week we will discuss the AI-concept of the Merckwelt, basically the view from the inside that robots have compared to us.\n",
    "All slides are interactive with hyperlinks and thus you should use them to further your studies.\n",
    "Information on what to expect in the next lecture as well as a request to think further about the ideas and philosophies learned during this lecture.\n"
   ]
  }
 ],
 "metadata": {
  "language_info": {
   "name": "python"
  }
 },
 "nbformat": 4,
 "nbformat_minor": 2
}
