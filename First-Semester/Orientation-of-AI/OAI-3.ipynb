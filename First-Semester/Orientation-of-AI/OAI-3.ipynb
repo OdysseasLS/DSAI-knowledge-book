{
 "cells": [
  {
   "cell_type": "markdown",
   "metadata": {},
   "source": [
    "# What is intelligence for?\n",
    "\n",
    "There is worry that there will be artificial minds that will replace us and change social dynamics. But these things already happen to a certain degree, jobs already adapt to new needs, misinformation already exists, and much more.\n",
    "\n",
    "## What is general intelligence?\n",
    "\n",
    "We can start by asking smaller easier to solve questions.  \n",
    "How does intelligence evolve? A bag pipe is an ancient filter feeding life-form that are extremely interesting as they have multiple life-stages, with each life-stage showing a different level of intelligence. It begins by moving around to find a suitable habitable location, then after settling it begins with reproduction, then it moves on to other life-stages with different physiologies.\n",
    "\n",
    "# Where is intelligence?\n",
    "\n",
    "Noe believes the mind to be roughly equal to consciousness and intelligence, and that the location is not just in the brain like people usually believe, but that the mind is the interaction between the brain, the brain, and the environment.\n",
    "\n",
    "## Dualism, mind/body problem\n",
    "\n",
    "The idea that we have a mind and a body as two distinct entities. Descartes focused on the body and how it interacts with the senses and he concluded that there is a quintessence that can not be captured by the material body but can be captured by the mind, and that separates humans from other typically non-intelligent creatures.\n",
    "\n",
    "| Dualism | | Materialism |\n",
    "| --- | --- | --- |\n",
    "| Supernatural | Natural | |\n",
    "| Descartes, religion | Brains in a vat | Noe, 4e cognition |\n",
    "\n",
    "# Remember\n",
    "\n",
    "- Understand consciousness, environmentally plugged in brain.\n",
    "- 4e-cognition.\n",
    "- Natural dualism is replacing one mystery with the other.\n",
    "- False optimism in neuroscience.\n",
    "- Consciousness is not something that happens to us, instead it is an interaction.\n",
    "\n",
    "# Intelligence in evolution\n",
    "\n",
    "Homunculus problem, how do we explain intelligence without referring to supernatural entities in anyway. The answer is evolution.  \n",
    "Darwin believed that reality is more complex than we can comprehend, thus every explanation of nature we give can be further improved or corrected.  \n",
    "There is the question of how does intelligence, which consumes a lot of survival energy, evolve? Each step in evolution requires an advantage in respect to ecological pressures, it is a bottom-up process that produces complexity from emergent level phenomena. Examples include social primates that are politically intelligent and primates that learn skills from parents before growing and use them later on in independent life.\n",
    "\n",
    "# AI without representation\n",
    "\n",
    "The article is an argument against giving robots their representation of reality. Something about definition of a creature. Machines that can be defined as creatures but have no representation of the world. In a way it can be better to let the \"creatures\" explore what works for them instead of forcing what works for others on them. Merkwelt is a version of reality (subjectivism in philosophy), and it is not the same for robots and humans. Test the robots in the real world with all its complexities, not a simplified environment.\n"
   ]
  }
 ],
 "metadata": {
  "language_info": {
   "name": "python"
  }
 },
 "nbformat": 4,
 "nbformat_minor": 2
}
