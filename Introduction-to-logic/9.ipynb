{
 "cells": [
  {
   "cell_type": "markdown",
   "metadata": {},
   "source": [
    "$ s  \\stackrel{.}{=} t $ is syntactic equality which should be proved"
   ]
  },
  {
   "cell_type": "markdown",
   "metadata": {},
   "source": [
    "<hr>"
   ]
  },
  {
   "cell_type": "markdown",
   "metadata": {},
   "source": [
    "$ \\forall x. \\ N(x) \\rightarrow p(\\underline{0}, x) \\stackrel{.}{=} x $ will be:\n",
    "\n",
    "“if 𝑥 is a natural number, then adding zero to 𝑥 is equal to x"
   ]
  },
  {
   "cell_type": "markdown",
   "metadata": {},
   "source": [
    "<hr>"
   ]
  },
  {
   "cell_type": "markdown",
   "metadata": {},
   "source": [
    "$ \\forall x : P.\\varphi \\equiv \\forall x.(P(x) \\rightarrow \\varphi) $\n",
    "\n",
    "$ \\exists x : P.\\varphi \\equiv \\forall x.(P(x) \\land \\varphi) $\n"
   ]
  },
  {
   "cell_type": "markdown",
   "metadata": {},
   "source": [
    "<hr>"
   ]
  },
  {
   "cell_type": "markdown",
   "metadata": {},
   "source": [
    "Let $\\varphi$ be a formula, $t$ a term and $x$ a free variable in $\\varphi$.\n",
    "\n",
    "$\\text{unique}_x(t, \\varphi)$ expresses $t$ is uniquely among all objects that can be placed in the formula $\\varphi$ for $x$:\n",
    "\n",
    "$$\n",
    "\\text{unique}_x(t, \\varphi) \\overset{\\text{def}}{=} \\forall y. \\varphi[x := y] \\rightarrow t = y\n",
    "$$\n",
    "\n",
    "The variable $y$ is chosen to be fresh for $\\varphi$ and $t$. Using uniqueness, we define the uniqueness quantifier $\\exists!x.\\varphi$ by\n",
    "\n",
    "$$\n",
    "\\exists!x. \\varphi \\overset{\\text{def}}{=} \\exists x. \\varphi \\land \\text{unique}_x(x, \\varphi)\n",
    "$$\n",
    "\n",
    "and its bounded version as follows.\n",
    "\n",
    "$$\n",
    "\\exists!x : N. \\varphi \\overset{\\text{def}}{=} \\exists x. N(x) \\land \\varphi \\land \\text{unique}_x(x, N(x) \\land \\varphi)\n",
    "$$\n"
   ]
  },
  {
   "cell_type": "markdown",
   "metadata": {},
   "source": [
    "$$\n",
    "s \\dot{\\neq} t \\equiv \\neg(s \\stackrel{.}{=} t).\n",
    "$$\n"
   ]
  },
  {
   "cell_type": "markdown",
   "metadata": {},
   "source": [
    "![Image 9](../Files/second-semester/logic/9.jpg)"
   ]
  }
 ],
 "metadata": {
  "kernelspec": {
   "display_name": "Python 3",
   "language": "python",
   "name": "python3"
  },
  "language_info": {
   "codemirror_mode": {
    "name": "ipython",
    "version": 3
   },
   "file_extension": ".py",
   "mimetype": "text/x-python",
   "name": "python",
   "nbconvert_exporter": "python",
   "pygments_lexer": "ipython3",
   "version": "3.10.13"
  }
 },
 "nbformat": 4,
 "nbformat_minor": 2
}
