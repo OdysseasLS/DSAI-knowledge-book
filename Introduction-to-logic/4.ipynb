{
 "cells": [
  {
   "cell_type": "markdown",
   "metadata": {},
   "source": [
    "## First-Order Predicate Logic"
   ]
  },
  {
   "cell_type": "markdown",
   "metadata": {},
   "source": [
    "Signature $L$ $(F$(Function),$R$(Relation),$ar$(arity:)$)$\n",
    "\n",
    "$F_n,R_n$ = Number of arguments a relation or function requires\n",
    "\n",
    "Term($L$) : Variable and functions in a Signature\n",
    "\n",
    "fv($\\phi$) : Set of variables without clarification with $\\forall or \\exists$\n"
   ]
  },
  {
   "cell_type": "markdown",
   "metadata": {},
   "source": [
    "Let L be the language (F, R, ar) with F = {f, g}, R = {S, P } and ar(f ) = 0, ar(g) = 1, ar(S) = ar(P ) = 2.\n",
    " Assume also that x, y, z ∈ Var. These are correct in first-order formula in Form(L).\n",
    "|Wrong | Reason and correct |\n",
    "|----|----|\n",
    "|  $S(g(x),f) \\land P(x,y) \\lor g(z)$ | g(z) here is a function not term it should be in relation S or P  |\n",
    "|$S(g(x),\\bot)$|Here ⊥ is not a term here to be in predicate. But ∀z. P(x,z) → ⊥ is fine|\n"
   ]
  }
 ],
 "metadata": {
  "kernelspec": {
   "display_name": "Python 3",
   "language": "python",
   "name": "python3"
  },
  "language_info": {
   "codemirror_mode": {
    "name": "ipython",
    "version": 3
   },
   "file_extension": ".py",
   "mimetype": "text/x-python",
   "name": "python",
   "nbconvert_exporter": "python",
   "pygments_lexer": "ipython3",
   "version": "3.10.13"
  }
 },
 "nbformat": 4,
 "nbformat_minor": 2
}
