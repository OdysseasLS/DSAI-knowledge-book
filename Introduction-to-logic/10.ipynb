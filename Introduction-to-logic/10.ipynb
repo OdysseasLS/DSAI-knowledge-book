{
 "cells": [
  {
   "cell_type": "markdown",
   "metadata": {},
   "source": [
    "## Boolean Semantics of First-Order Logic"
   ]
  },
  {
   "cell_type": "markdown",
   "metadata": {},
   "source": [
    "![Image 11](../Files/second-semester/logic/11.jpg)\n",
    "\n",
    "![Image 12](../Files/second-semester/logic/12.jpg)"
   ]
  },
  {
   "cell_type": "markdown",
   "metadata": {},
   "source": [
    "![Image 13](../Files/second-semester/logic/13.jpg)"
   ]
  },
  {
   "cell_type": "markdown",
   "metadata": {},
   "source": [
    "### 𝐷-valuation"
   ]
  },
  {
   "cell_type": "markdown",
   "metadata": {},
   "source": [
    "We start with the valuation $ e \\in \\text{Val}_{M_{a}} (\\emptyset) $. Given variables $ x, z \\in \\text{Var} $ with $ x \\neq z $, we have\n",
    "$$\n",
    "\\begin{align*}\n",
    "e[x \\mapsto 1] &: \\{x\\} \\to \\mathbb{N} \\\\\n",
    "e[x \\mapsto 1][z \\mapsto 2] &: \\{x, z\\} \\to \\mathbb{N} \\\\\n",
    "e[x \\mapsto 1][z \\mapsto 2][x \\mapsto 3] &: \\{x, z\\} \\to \\mathbb{N}\n",
    "\\end{align*}\n",
    "$$\n",
    "with\n",
    "\n",
    "\n",
    "$$\n",
    "\\begin{align*}\n",
    "(e[x \\mapsto 1])(x) &= 1 \\\\\n",
    "(e[x \\mapsto 1][z \\mapsto 2])(x) &= 1 \\\\\n",
    "(e[x \\mapsto 1][z \\mapsto 2])(z) &= 2 \\\\\n",
    "(e[x \\mapsto 1][z \\mapsto 2][x \\mapsto 3])(x) &= 3 \\\\\n",
    "(e[x \\mapsto 1][z \\mapsto 2][x \\mapsto 3])(z) &= 2\n",
    "\\end{align*}\n",
    "$$"
   ]
  },
  {
   "cell_type": "markdown",
   "metadata": {},
   "source": [
    "![Image 14](../Files/second-semester/logic/14.jpg)"
   ]
  }
 ],
 "metadata": {
  "language_info": {
   "name": "python"
  }
 },
 "nbformat": 4,
 "nbformat_minor": 2
}
