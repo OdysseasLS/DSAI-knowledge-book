{
 "cells": [
  {
   "cell_type": "markdown",
   "metadata": {},
   "source": [
    "## Boolean Semantics of First-Order Logic"
   ]
  },
  {
   "cell_type": "markdown",
   "metadata": {},
   "source": [
    "## Models"
   ]
  },
  {
   "cell_type": "markdown",
   "metadata": {},
   "source": [
    "![Image 11](../Files/second-semester/logic/11.jpg)\n",
    "\n",
    "![Image 12](../Files/second-semester/logic/12.jpg)"
   ]
  },
  {
   "cell_type": "markdown",
   "metadata": {},
   "source": [
    "| Symbol s | ar(s) | Interpretation type            |\n",
    "|----------|-------|--------------------------------|\n",
    "| **Function Symbols** |       |                                |\n",
    "| c        | 0     |  $ \\| \\mathcal{M} (c) \\| : \\| \\| \\mathcal{M}^0 \\| \\rightarrow \\| \\mathcal{M} \\| $   |\n",
    "| f        | 1     |  $ \\| \\mathcal{M}(f) \\|  : \\| \\mathcal{M}^1 \\| \\rightarrow \\| \\mathcal{M} \\| $   |\n",
    "| g        | 2     |  $ \\| \\mathcal{M}(g) \\|  : \\| \\mathcal{M}^2 \\| \\rightarrow \\| \\mathcal{M} \\| $   |\n",
    "| **Predicate Symbols** |       |                                |\n",
    "| P        | 0     |  $  \\| \\mathcal{M}(P) \\| : \\| \\mathcal{M}^0 \\| \\rightarrow \\mathbb{B} $     |\n",
    "| Q        | 1     |  $  \\| \\mathcal{M}(Q) \\| : \\| \\mathcal{M}^1 \\| \\rightarrow \\mathbb{B} $     |\n",
    "| R        | 2     |  $  \\| \\mathcal{M}(R) \\| : \\| \\mathcal{M}^2 \\| \\rightarrow \\mathbb{B} $     |\n"
   ]
  },
  {
   "cell_type": "markdown",
   "metadata": {},
   "source": [
    "![Image 12.5](../Files/second-semester/logic/12_5.jpg)\n",
    "![Image 13](../Files/second-semester/logic/13.jpg)"
   ]
  },
  {
   "cell_type": "markdown",
   "metadata": {},
   "source": [
    "### Model proof\n",
    "\n",
    "To Prove model $ \\mathcal{M} $ validates $ \\varphi $ we need to prove [[ $\\varphi$ ]]($ \\epsilon $) = 1\n",
    "\n",
    "like example\n",
    "\n",
    "$[[φ]](ε) \\geq [[Ax4. O(x4, x4, x4)]](ε)$  (property maximum, the semantics of disjunction)\n",
    "\n",
    "= $\\min\\{ [[O(x4, x4, x4)]](ε[x4 \\mapsto n]) \\mid n \\in N \\}$ (semantics of universal quantifier)\n",
    "\n",
    "= $\\min\\{ [[M(O)([[x4]](ε[x4 \\mapsto n]), [[x4]](ε[x4 \\mapsto n]), [[x4)]](ε[x4 \\mapsto n])] \\mid n \\in N \\}$ (semantics of predicates)\n",
    "\n",
    "= $\\min\\{ 1 \\}$ (because $M(O)(x, y, z) = 1$ for all $x, y, z$)= 1.\n",
    "\n",
    "Since $1 \\geq [[φ]](ε)$ by definitions, we have $[[φ]](ε) = 1$.\n",
    "\n"
   ]
  },
  {
   "cell_type": "markdown",
   "metadata": {},
   "source": [
    "### Invalidate with $\\mathcal{M}$ ' ( $ [[φ]] $(v) = 0 in M')"
   ]
  },
  {
   "cell_type": "markdown",
   "metadata": {},
   "source": [
    "Let $|M'| = N$ the set of natural numbers and change only the interpretation of $g$:\n",
    "\n",
    "1. $M'(d): \\mathbb{N}^3 \\rightarrow \\mathbb{N}, \\quad M'(d)(n, m, k) = 0$\n",
    "2. $M'(g): \\mathbb{N} \\rightarrow \\mathbb{N}, \\quad M'(g)(n) = n$\n",
    "3. $M'(i): \\mathbb{N}^2 \\rightarrow \\mathbb{N}, \\quad M'(i)(n, m) = n + m$\n",
    "4. $M'(O): \\mathbb{N}^3 \\rightarrow \\mathbb{N}, \\quad M'(O)(n, m, k) = 0$\n",
    "5. $M'(T): \\mathbb{N} \\rightarrow \\mathbb{N}, \\quad M'(T)(n) = 0$\n",
    "6. $M'(Q): \\mathbb{N}^0 \\rightarrow \\mathbb{N}, \\quad M'(Q)() = 0$\n",
    "\n",
    "The formula is a disjunction and thus $[[\\varphi]](\\epsilon) = 0$ if and only if\n",
    "\n",
    "$[[\\exists x_3. \\ O(i(i(g(x_3), d(x_3, x_3, x_3)), x_3), x_3, x_3) \\& T(x_3)]](\\epsilon) \\leq 0$ and $[[\\forall x_4. \\ O(x_4, x_4, x_4)]](\\epsilon) \\leq 0$.\n",
    "\n",
    "Starting with the first formula we have:\n",
    "\n",
    "$[[\\exists x_3. \\ O(i(i(g(x_3), d(x_3, x_3, x_3)), x_3), x_3, x_3) \\& T(x_3)]](\\epsilon)$\n",
    "\n",
    "$= \\max \\{ [[O(i(i(g(x_3), d(x_3, x_3, x_3)), x_3), x_3, x_3) \\& T(x_3)]](\\epsilon[x_3 \\mapsto n]) \\mid n \\in \\mathbb{N} \\}$ (definition of semantics)\n",
    "\n",
    "$\\leq \\max \\{ [[T(x_3)]](\\epsilon[x_3 \\mapsto n]) \\mid n \\in \\mathbb{N} \\}$ (property of minimum)\n",
    "\n",
    "$= \\max \\{ M'(T)([[x_3]](\\epsilon[x_3 \\mapsto n])) \\mid n \\in \\mathbb{N} \\}$ (definition of semantics)\n",
    "\n",
    "$= \\max \\{0\\}$ (definition of $M'(T)$ and $|M'|$ non-empty)\n",
    "\n",
    "$= 0$\n",
    "\n",
    "For the second formula we have:\n",
    "\n",
    "$[[\\forall x_4. \\ O(x_4, x_4, x_4)]](\\epsilon)$\n",
    "\n",
    "$= \\min \\{ [[M'(O)([[x_4]](\\epsilon[x_4 \\mapsto n]), [[x_4]](\\epsilon[x_4 \\mapsto n]), [[x_4]](\\epsilon[x_4 \\mapsto n])]] \\mid n \\in \\mathbb{N} \\}$ (definition of semantics)\n",
    "\n",
    "$= \\min \\{0\\}$ (definition of $M'(O)$ and $|M'|$ non-empty)\n",
    "\n",
    "$= 0$\n",
    "\n",
    "Hence, both disjuncts have semantics 0 and we get $[[\\varphi]](\\epsilon) = 0$ over $M$. Thus, $M'$ and $\\epsilon$ invalidate $\\varphi$.\n"
   ]
  },
  {
   "cell_type": "markdown",
   "metadata": {},
   "source": [
    "## Proove of model morphism h:M′→M"
   ]
  },
  {
   "cell_type": "markdown",
   "metadata": {},
   "source": [
    "Take $h: \\mathcal{M}' \\to \\mathcal{M}$ to be the identity $h(n) = n$."
   ]
  },
  {
   "cell_type": "markdown",
   "metadata": {},
   "source": [
    "To define a model morphism  $  h : M' \\to M  $  that satisfies the conditions for a model morphism, we can use the identity function:\n",
    "\n",
    "$ h(n) = n $\n",
    "\n",
    "Here is a concise verification that  $  h  $  preserves the operations and truth values:\n",
    "\n",
    "### Preserving Operations\n",
    "For each operation in  $  M'  $  and  $  M  $ :\n",
    "\n",
    "1. **For  $  d  $**:\n",
    "   $ h(M'(d)(n, m, k)) = h(0) = 0 = M(d)(h(n), h(m), h(k)) $\n",
    "2. **For  $  g  $**:\n",
    "   $ h(M'(g)(n)) = h(n) = n = M(g)(h(n)) $\n",
    "3. **For  $  i  $**:\n",
    "   $ h(M'(i)(n, m)) = h(n + m) = n + m = M(i)(h(n), h(m)) $\n",
    "4. **For  $  O  $**:\n",
    "   $ h(M'(O)(n, m, k)) = h(0) = 0 = M(O)(h(n), h(m), h(k)) $\n",
    "5. **For  $  T  $**:\n",
    "   $ h(M'(T)(n)) = h(0) = 0 = M(T)(h(n)) $\n",
    "6. **For  $  Q  $**:\n",
    "   $ h(M'(Q)()) = h(0) = 0 = M(Q)() $\n",
    "\n",
    "Since the truth values in  $  M  $  and  $  M'  $  are consistently defined and the operations are the same, the identity function  $  h(n) = n  $  naturally preserves these values.\n",
    "\n",
    "Thus,  $  h(n) = n  $  is a valid model morphism from  $  M'  $  to  $  M  $ ."
   ]
  },
  {
   "cell_type": "markdown",
   "metadata": {},
   "source": [
    "### 𝐷-valuation"
   ]
  },
  {
   "cell_type": "markdown",
   "metadata": {},
   "source": [
    "We start with the valuation $ e \\in \\text{Val}_{M_{a}} (\\emptyset) $. Given variables $ x, z \\in \\text{Var} $ with $ x \\neq z $, we have\n",
    "$$\n",
    "\\begin{align*}\n",
    "e[x \\mapsto 1] &: \\{x\\} \\to \\mathbb{N} \\\\\n",
    "e[x \\mapsto 1][z \\mapsto 2] &: \\{x, z\\} \\to \\mathbb{N} \\\\\n",
    "e[x \\mapsto 1][z \\mapsto 2][x \\mapsto 3] &: \\{x, z\\} \\to \\mathbb{N}\n",
    "\\end{align*}\n",
    "$$\n",
    "with\n",
    "\n",
    "\n",
    "$$\n",
    "\\begin{align*}\n",
    "(e[x \\mapsto 1])(x) &= 1 \\\\\n",
    "(e[x \\mapsto 1][z \\mapsto 2])(x) &= 1 \\\\\n",
    "(e[x \\mapsto 1][z \\mapsto 2])(z) &= 2 \\\\\n",
    "(e[x \\mapsto 1][z \\mapsto 2][x \\mapsto 3])(x) &= 3 \\\\\n",
    "(e[x \\mapsto 1][z \\mapsto 2][x \\mapsto 3])(z) &= 2\n",
    "\\end{align*}\n",
    "$$"
   ]
  },
  {
   "cell_type": "markdown",
   "metadata": {},
   "source": [
    "![Image 14](../Files/second-semester/logic/14.jpg)"
   ]
  }
 ],
 "metadata": {
  "language_info": {
   "name": "python"
  }
 },
 "nbformat": 4,
 "nbformat_minor": 2
}
