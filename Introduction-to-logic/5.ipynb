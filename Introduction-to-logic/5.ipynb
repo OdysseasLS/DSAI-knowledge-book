{
 "cells": [
  {
   "cell_type": "markdown",
   "metadata": {},
   "source": [
    "# Proof Theory of First-Order Predicate Logic"
   ]
  },
  {
   "cell_type": "markdown",
   "metadata": {},
   "source": [
    "### Substitution\n",
    "\n",
    "map 𝜎 : Var $\\to$ Term. Given $t \\in$ Term and $x \\in$ Var, we write:\n",
    "\n",
    "$\\sigma [x := t] $"
   ]
  },
  {
   "cell_type": "markdown",
   "metadata": {},
   "source": [
    "### Fresh\n",
    "\n",
    "$x$ is fresh for $\\phi$, written $x$ # $\\phi$ , if $x \\notin fv(\\phi)$. \n",
    "\n",
    "So fresh means defined"
   ]
  },
  {
   "cell_type": "markdown",
   "metadata": {},
   "source": [
    "if a variable is introduced by a quantifier (∃x or ∀x), it is considered \"fresh\" for the substitution, meaning we should not directly substitute it with another expression. Instead, we may need to rename it to avoid confusion, ensuring that the substitution process maintains the intended meaning of the formula."
   ]
  },
  {
   "cell_type": "markdown",
   "metadata": {},
   "source": [
    "![Image 2](../Files/second-semester/logic/2.jpg)\n",
    "\n",
    "- EQ (Equality of Variables):\n",
    "    - Renaming bound variables to avoid variable capture.\n",
    "- SQ (Substitution inside Quantifiers): \n",
    "    - Applying substitution within the scope of quantifiers while respecting their bindings.\n",
    "- SC (Substitution in the Context): \n",
    "    - Applying substitution within the logical context, including connectives and quantifiers.\n",
    "- SP (Substitution Process): \n",
    "    - Final application of substitution to atomic formulas.\n",
    "\n",
    "##### Less used:\n",
    "\n",
    "- EQ (Equality of Variables)\n",
    "    - Renaming bound variables to avoid capture during substitution.\n",
    "- SC (Substitution in the Context)\n",
    "    - Applying substitution within the context of the logical structure.\n",
    "- SP (Substitution Process)\n",
    "    - Final application of the substitution to atomic formulas.\n",
    "\n",
    "\n",
    "![Image 3](../Files/second-semester/logic/3.jpg)"
   ]
  }
 ],
 "metadata": {
  "language_info": {
   "name": "python"
  }
 },
 "nbformat": 4,
 "nbformat_minor": 2
}
