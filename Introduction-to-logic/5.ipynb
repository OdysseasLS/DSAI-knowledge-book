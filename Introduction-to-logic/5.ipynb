{
 "cells": [
  {
   "cell_type": "markdown",
   "metadata": {},
   "source": [
    "# Proof Theory of First-Order Predicate Logic"
   ]
  },
  {
   "cell_type": "markdown",
   "metadata": {},
   "source": [
    "### Substitution\n",
    "\n",
    "map 𝜎 : Var $\\to$ Term. Given $t \\in$ Term and $x \\in$ Var, we write:\n",
    "\n",
    "$\\sigma [x := t] $"
   ]
  },
  {
   "cell_type": "markdown",
   "metadata": {},
   "source": [
    "### Fresh\n",
    "\n",
    "$x$ is fresh for $\\phi$, written $x$ # $\\phi$ , if $x \\notin fv(\\phi)$. \n",
    "\n",
    "So fresh means defined"
   ]
  },
  {
   "cell_type": "markdown",
   "metadata": {},
   "source": [
    "if a variable is introduced by a quantifier (∃x or ∀x), it is considered \"fresh\" for the substitution, meaning we should not directly substitute it with another expression. Instead, we may need to rename it to avoid confusion, ensuring that the substitution process maintains the intended meaning of the formula."
   ]
  },
  {
   "cell_type": "markdown",
   "metadata": {},
   "source": [
    "![Image 2](../Files/second-semester/logic/2.jpg)\n",
    "![Image 3](../Files/second-semester/logic/3.jpg)"
   ]
  }
 ],
 "metadata": {
  "language_info": {
   "name": "python"
  }
 },
 "nbformat": 4,
 "nbformat_minor": 2
}
