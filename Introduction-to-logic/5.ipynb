{
 "cells": [
  {
   "cell_type": "markdown",
   "metadata": {},
   "source": [
    "# Proof Theory of First-Order Predicate Logic"
   ]
  },
  {
   "cell_type": "markdown",
   "metadata": {},
   "source": [
    "### Substitution\n",
    "\n",
    "map 𝜎 : Var $\\to$ Term. Given $t \\in$ Term and $x \\in$ Var, we write:\n",
    "\n",
    "$\\sigma [x := t] $"
   ]
  },
  {
   "cell_type": "markdown",
   "metadata": {},
   "source": [
    "### Fresh\n",
    "\n",
    "$x$ is fresh for $\\phi$, written $x$ # $\\phi$ , if $x \\notin fv(\\phi)$. \n",
    "\n",
    "So fresh means defined"
   ]
  }
 ],
 "metadata": {
  "language_info": {
   "name": "python"
  }
 },
 "nbformat": 4,
 "nbformat_minor": 2
}
