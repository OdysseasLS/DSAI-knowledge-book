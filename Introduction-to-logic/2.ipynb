{
 "cells": [
  {
   "cell_type": "markdown",
   "metadata": {},
   "source": [
    "## Deduction in Propositional Logic"
   ]
  },
  {
   "cell_type": "markdown",
   "metadata": {},
   "source": [
    "# Natural Deduction system ND"
   ]
  },
  {
   "cell_type": "markdown",
   "metadata": {},
   "source": [
    "$\n",
    "\\frac{\\Gamma \\vdash \\phi \\lor \\psi \\quad \\Gamma, \\phi \\vdash \\delta \\quad \\Gamma, \\psi \\vdash \\delta}\n",
    "{\\Gamma \\vdash \\delta} \\ (\\lor E)\n",
    "$\n"
   ]
  },
  {
   "cell_type": "markdown",
   "metadata": {},
   "source": [
    "$\n",
    "\\frac{\\Gamma \\vdash \\bot}\n",
    "{\\Gamma \\vdash \\phi} \\ (\\bot E)\n",
    "$\n"
   ]
  },
  {
   "cell_type": "markdown",
   "metadata": {},
   "source": [
    "$\n",
    "\\frac{\\Gamma, \\phi \\vdash \\psi}\n",
    "{\\Gamma \\vdash \\phi \\to \\psi} \\ (\\to I)\n",
    "$\n"
   ]
  },
  {
   "cell_type": "markdown",
   "metadata": {},
   "source": [
    "$\n",
    "\\frac{\\Gamma \\vdash \\phi \\to \\psi \\quad \\Gamma \\vdash \\neg \\phi}\n",
    "{\\Gamma \\vdash \\psi} \\ (\\neg E)\n",
    "$\n"
   ]
  },
  {
   "cell_type": "markdown",
   "metadata": {},
   "source": [
    "$\n",
    "\\frac{\\Gamma, \\phi \\vdash \\bot}\n",
    "{\\Gamma \\vdash \\neg \\phi} \\ (\\neg I)\n",
    "$\n"
   ]
  }
 ],
 "metadata": {
  "kernelspec": {
   "display_name": "base",
   "language": "python",
   "name": "python3"
  },
  "language_info": {
   "codemirror_mode": {
    "name": "ipython",
    "version": 3
   },
   "file_extension": ".py",
   "mimetype": "text/x-python",
   "name": "python",
   "nbconvert_exporter": "python",
   "pygments_lexer": "ipython3",
   "version": "3.10.13"
  }
 },
 "nbformat": 4,
 "nbformat_minor": 2
}
