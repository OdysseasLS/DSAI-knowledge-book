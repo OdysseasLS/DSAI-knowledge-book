{
 "cells": [
  {
   "cell_type": "markdown",
   "metadata": {},
   "source": [
    "# The Gram-Schmidt Process and Least-Squares Problems"
   ]
  },
  {
   "cell_type": "markdown",
   "metadata": {},
   "source": [
    "## The Gram-Schmidt Process\n",
    "\n",
    "\n",
    "Given a basis $\\{x_1, \\ldots, x_p\\}$ for a non-zero subspace $W$ of $\\mathbb{R}^n$, define:\n",
    "\\begin{align*}\n",
    "v_1 &= x_1 \\\\\n",
    "v_2 &= x_2 - \\frac{x_2 \\cdot v_1}{v_1 \\cdot v_1}v_1 \\\\\n",
    "&\\vdots \\\\\n",
    "v_p &= x_p - \\frac{x_p \\cdot v_1}{v_1 \\cdot v_1}v_1 - \\frac{x_p \\cdot v_2}{v_2 \\cdot v_2}v_2 - \\ldots - \\frac{x_p \\cdot v_{p-1}}{v_{p-1} \\cdot v_{p-1}}v_{p-1}.\n",
    "\\end{align*}\n",
    "\n",
    "Then $\\{v_1, \\ldots, v_p\\}$ is an orthogonal basis for $W$, and, in addition,\n",
    "\n",
    "$\\text{Span}\\{v_1, \\ldots, v_k\\} = \\text{Span}\\{x_1, \\ldots, x_k\\}$ for $1 \\leq k \\leq p$.\n"
   ]
  },
  {
   "cell_type": "markdown",
   "metadata": {},
   "source": [
    "## least-squares solution\n",
    "\n",
    "$\\underline{\\hat x}$ in $R^{n}$ where $A\\underline{x} = \\underline{b}$ where $b$ is in $R^{m}$ of A $M \\times N$ matrix\n",
    "\n",
    "$|| \\underline{b} - A\\underline{\\hat x} || \\le || \\underline{b} - A\\underline{x} ||$"
   ]
  },
  {
   "cell_type": "markdown",
   "metadata": {},
   "source": [
    "**Note** : Each least-squares solution of $Ax = b$ satisfies the normal equations.\n",
    "\n",
    "$A^{T} A \\underline{x} = A^{T} \\underline{b}$\n",
    "\n",
    "So by $A $ and $ B$ we can find $\\underline{\\hat x} = (A^{T} A)^{-1} A^{T} \\underline{b}$"
   ]
  },
  {
   "cell_type": "markdown",
   "metadata": {},
   "source": [
    "<hr>"
   ]
  }
 ],
 "metadata": {
  "kernelspec": {
   "display_name": "Python 3",
   "language": "python",
   "name": "python3"
  },
  "language_info": {
   "codemirror_mode": {
    "name": "ipython",
    "version": 3
   },
   "file_extension": ".py",
   "mimetype": "text/x-python",
   "name": "python",
   "nbconvert_exporter": "python",
   "pygments_lexer": "ipython3",
   "version": "3.10.13"
  }
 },
 "nbformat": 4,
 "nbformat_minor": 2
}
