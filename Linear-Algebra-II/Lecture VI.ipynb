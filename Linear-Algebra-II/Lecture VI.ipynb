{
 "cells": [
  {
   "cell_type": "markdown",
   "metadata": {},
   "source": [
    "# Orthogonal Sets Projections"
   ]
  },
  {
   "cell_type": "markdown",
   "metadata": {},
   "source": [
    "#### Orthogonal set\n",
    "Each pair of $S = \\{ u_1, . . . , u_p \\}$ is orthogonal ($u \\cdot v = 0$)\n",
    "\n",
    "Hence:\n",
    "- It's linearly independen\n",
    "- It is a basis of Span(S)"
   ]
  },
  {
   "cell_type": "markdown",
   "metadata": {},
   "source": [
    "$w$ is weights in the linear combination\n",
    "\n",
    "$\\underline{w} = c_1 \\underline{u}_1 + c_2 \\underline{u}_2 + \\ldots + c_n \\underline{u}_n$\n",
    "\n",
    "$c_j = \\frac{\\underline{w} \\cdot \\underline{u}_j}{||\\underline{u}_j||^{2}}$"
   ]
  },
  {
   "cell_type": "markdown",
   "metadata": {},
   "source": [
    "#### Orthonormal set\n",
    "\n",
    "Orthogonal set of unit vectors\n",
    "\n",
    "$S = \\{ u_1, . . . , u_p \\}$, If W = Span(S), then S is an **orthonormal basis** for\n",
    "W ."
   ]
  },
  {
   "cell_type": "markdown",
   "metadata": {},
   "source": [
    "An $m \\times n$ matrix $U$ has orthonormal columns if and only if $U^{T} U = I_n$."
   ]
  },
  {
   "cell_type": "markdown",
   "metadata": {},
   "source": [
    "$\\underline{y} = \\underline{\\hat y} + \\underline{z}$\n",
    "where $\\underline{\\hat y} = \\alpha \\underline{u} $ and $ \\underline{u} \\cdot \\underline{z} = 0$"
   ]
  },
  {
   "cell_type": "markdown",
   "metadata": {},
   "source": [
    "#### Orthogonal Projection\n",
    "\n",
    "$L = Span(\\underline{u})$ linear transformation $proj_L : R_n \\to L$ defined by\n"
   ]
  },
  {
   "cell_type": "markdown",
   "metadata": {},
   "source": [
    "$proj_L(\\underline{v}) = \\frac{\\underline(v) \\cdot \\underline{u}}{||\\underline{u}||^{2}} \\underline{u} =  \\underline{\\hat v} $"
   ]
  },
  {
   "cell_type": "markdown",
   "metadata": {},
   "source": [
    "### The Orthogonal Decomposition Theorem\n",
    "\n",
    "![Image 3](../../DSAI-knowledge-book/Files/second-semester/laII/3.jpg)"
   ]
  },
  {
   "cell_type": "markdown",
   "metadata": {},
   "source": [
    "### The Best Approximation\n",
    "\n"
   ]
  },
  {
   "cell_type": "markdown",
   "metadata": {},
   "source": [
    "Let $W$ be a subspace of $\\mathbb{R}^n$, $y$ be a vector and $\\hat{y}$ orthogonal projection of $y$.\n",
    "\n",
    "Then $\\hat{y}$ is the closest point in $W$ to $y$, that is, \n",
    "\n",
    "$\n",
    "\\| y - \\hat{y} \\| < \\| y - v \\|$\n",
    "for all $v$ in $W$ distinct from $\\hat{y}$.\n"
   ]
  }
 ],
 "metadata": {
  "kernelspec": {
   "display_name": "Python 3",
   "language": "python",
   "name": "python3"
  },
  "language_info": {
   "codemirror_mode": {
    "name": "ipython",
    "version": 3
   },
   "file_extension": ".py",
   "mimetype": "text/x-python",
   "name": "python",
   "nbconvert_exporter": "python",
   "pygments_lexer": "ipython3",
   "version": "3.undefined.undefined"
  }
 },
 "nbformat": 4,
 "nbformat_minor": 2
}
