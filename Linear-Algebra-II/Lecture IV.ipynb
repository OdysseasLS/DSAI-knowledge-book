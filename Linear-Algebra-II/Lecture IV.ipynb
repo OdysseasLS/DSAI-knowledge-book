{
 "cells": [
  {
   "cell_type": "markdown",
   "metadata": {},
   "source": [
    "# Eigenvectors and Eigenvalues, The Characteristic Equation "
   ]
  },
  {
   "cell_type": "markdown",
   "metadata": {},
   "source": [
    "### Eigenvector\n",
    "\n",
    "Find a non-zero vector $\\underline{x}$ such that $A\\underline{x} = \\lambda\\underline{x}$ for some scalar $\\lambda \\in \\mathbb{R}$ where $\\lambda$ is called **eigenvalue**.\n",
    "\n",
    "To find eignvector from eignvalue:\n",
    "- $A\\underline{x} = \\lambda\\underline{x}$ so $A\\underline{x} - \\lambda\\underline{x} = 0$\n",
    "- $A - \\lambda I$ RREF parametric $\\underline{x}$ can show eignvector"
   ]
  },
  {
   "cell_type": "markdown",
   "metadata": {},
   "source": [
    "### Characteristic equation\n",
    "\n",
    "det(A - $\\lambda I_n$) = 0\n",
    "\n",
    "Where det(A - $\\lambda I_n$) is Characteristic polynomial"
   ]
  },
  {
   "cell_type": "markdown",
   "metadata": {},
   "source": [
    "Multiplicity: Times a characteristic equation has a root in a polynomial\n",
    "- det(A - I3) = $(λ - 5)^{3}$ (λ - 3)\n",
    "λ = 5 has Multiplicity of 3\n"
   ]
  },
  {
   "cell_type": "markdown",
   "metadata": {},
   "source": [
    "**Head up**:\n",
    "\n",
    "The eigenvalues of a triangular matrix are the entries on its main\n",
    "diagonal.\n",
    "\n",
    " $\\lambda_1 = a_11 , \\lambda_2 = a_22, \\lambda_n = a_nn$\n",
    "\n",
    " So $det(A - I_3) = (a -\\lambda)(b -\\lambda)...$"
   ]
  },
  {
   "cell_type": "markdown",
   "metadata": {},
   "source": [
    "<hr>\n",
    "\n",
    "### similar matrixes\n",
    "- $B = P A P^{-1}$\n",
    "- A and B have same characteristic polynomial"
   ]
  },
  {
   "cell_type": "markdown",
   "metadata": {},
   "source": [
    "**Note**: Stochastic Matrix is a square matrix whose columns are probability vectors with sum 1 of each row."
   ]
  }
 ],
 "metadata": {
  "kernelspec": {
   "display_name": "Python 3",
   "language": "python",
   "name": "python3"
  },
  "language_info": {
   "codemirror_mode": {
    "name": "ipython",
    "version": 3
   },
   "file_extension": ".py",
   "mimetype": "text/x-python",
   "name": "python",
   "nbconvert_exporter": "python",
   "pygments_lexer": "ipython3",
   "version": "3.10.13"
  }
 },
 "nbformat": 4,
 "nbformat_minor": 2
}
