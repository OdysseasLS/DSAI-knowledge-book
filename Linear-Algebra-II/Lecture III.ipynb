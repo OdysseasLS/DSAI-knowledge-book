{
 "cells": [
  {
   "cell_type": "markdown",
   "metadata": {},
   "source": [
    "####  The Dimension, Rank, Basis Change"
   ]
  },
  {
   "cell_type": "markdown",
   "metadata": {},
   "source": [
    "## Row space\n",
    "\n",
    "Row space shows the RREF rows where we have pivot in them\n",
    "\n",
    "Column space shows the inital columns where we have pivots"
   ]
  },
  {
   "cell_type": "markdown",
   "metadata": {},
   "source": [
    "Dim(Nul(A)) =  #{Free var RREF} \n",
    "\n",
    "Dim(Col(A)) = Dim(Row(A)) = #{Pivot columns of RREF} \n"
   ]
  },
  {
   "cell_type": "markdown",
   "metadata": {},
   "source": [
    "<hr>\n",
    "\n",
    "### Rank\n",
    "\n",
    "Rank(A) = Col(A) = Row(A)\n",
    "\n",
    "n = Rank(A) + Dim(Nul(A))"
   ]
  },
  {
   "cell_type": "markdown",
   "metadata": {},
   "source": [
    "<hr>\n",
    "\n",
    "## Change of Basis\n",
    "- Coordinate mapping: $\\underline{x} = P_b[\\underline{x}]_B$\n",
    "- From B to C: $P_{B \\to C} = \\mathbb{P_C}^{-1} \\cdot P_B $"
   ]
  }
 ],
 "metadata": {
  "kernelspec": {
   "display_name": "Python 3",
   "language": "python",
   "name": "python3"
  },
  "language_info": {
   "codemirror_mode": {
    "name": "ipython",
    "version": 3
   },
   "file_extension": ".py",
   "mimetype": "text/x-python",
   "name": "python",
   "nbconvert_exporter": "python",
   "pygments_lexer": "ipython3",
   "version": "3.10.13"
  }
 },
 "nbformat": 4,
 "nbformat_minor": 2
}
