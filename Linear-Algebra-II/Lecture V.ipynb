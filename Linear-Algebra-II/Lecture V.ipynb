{
 "cells": [
  {
   "cell_type": "markdown",
   "metadata": {},
   "source": [
    "# Diagonalization, Inner Product, Length, and Orthogonality."
   ]
  },
  {
   "cell_type": "markdown",
   "metadata": {},
   "source": [
    "## Diagonalizable Matrix\n",
    "If exists an invertible matrix $P$ and a diagonal matrix $D$ such that $A = P D P^{-1}$\n",
    "\n",
    "Then $A^{k} = P D^{k} P^{-1}$"
   ]
  },
  {
   "cell_type": "markdown",
   "metadata": {},
   "source": [
    "### Eigenspace\n",
    "associated to the eigenvalue $k$ is the subspace\n",
    "$E_{\\lambda_{k}} = Nul(A-\\lambda_{k}I_n)$"
   ]
  },
  {
   "cell_type": "markdown",
   "metadata": {},
   "source": [
    "## How to find P and D\n",
    "\n",
    "- Find Eignvalues of A ($\\lambda_k$) with their multiplicities ($m_k$)\n",
    "- If for each Eignvalues $m_k = dim(E_{\\lambda_{k}})$ A is *Diagonalizable*\n",
    "- Find Basis of $A-\\lambda_{k} I_n$ matrices and $P$ will be Matrix of Basis\n",
    "- $D$ will be a diagonal matrix of Eignvalues"
   ]
  }
 ],
 "metadata": {
  "kernelspec": {
   "display_name": "Python 3",
   "language": "python",
   "name": "python3"
  },
  "language_info": {
   "codemirror_mode": {
    "name": "ipython",
    "version": 3
   },
   "file_extension": ".py",
   "mimetype": "text/x-python",
   "name": "python",
   "nbconvert_exporter": "python",
   "pygments_lexer": "ipython3",
   "version": "3.10.13"
  }
 },
 "nbformat": 4,
 "nbformat_minor": 2
}
