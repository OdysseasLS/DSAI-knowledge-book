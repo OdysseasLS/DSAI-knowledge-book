{
 "cells": [
  {
   "cell_type": "markdown",
   "metadata": {},
   "source": [
    "# Normal Forms"
   ]
  },
  {
   "cell_type": "markdown",
   "metadata": {},
   "source": [
    "### Normalization"
   ]
  },
  {
   "cell_type": "markdown",
   "metadata": {},
   "source": [
    "process of splitting tables into single dependency tables"
   ]
  },
  {
   "cell_type": "markdown",
   "metadata": {},
   "source": [
    "## Functional dependencies\n",
    "\n",
    "| Course       | Professor | Employer |\n",
    "|--------------|-----------|----------|\n",
    "| Programming  | Kosters   | LIACS    |\n",
    "| AI           | Kosters   | LIACS    |\n",
    "| Algebra      | Lukina    | Math     |\n",
    "| Logic        | Basold    | LIACS    |\n",
    "| Representation | Lukina  | Math     |\n",
    "\n",
    "transitive functional dependency (course transitively determines employer) (employer depends on professor, depends on course)\n"
   ]
  },
  {
   "cell_type": "markdown",
   "metadata": {},
   "source": [
    "**Determinant** determines values of other attributes in tuple like on above example:\n",
    "\n",
    "C -> E; P->E\n",
    "\n",
    "In general K determines A if and only if each K value is associated with precisely one A value\n",
    "\n",
    "\n",
    "Key -> Attributes: where key and Attributes is the first letter of column name\n",
    "Key determines Attributes"
   ]
  },
  {
   "cell_type": "markdown",
   "metadata": {},
   "source": [
    "### Functional Decomposition\n",
    "A decomposition of R replaces R by two or more relations,\n",
    "such that each relation contains a subset, and together they\n",
    "include all attributes of R\n",
    "\n",
    "For {ABCD}, {AB, BCD, CD} is a decomposition, {AB, BC} is not"
   ]
  },
  {
   "cell_type": "markdown",
   "metadata": {},
   "source": [
    "### Super key:\n",
    "- Attributes that uniquely identify a tuple (Attributes that all other attributes functionally depend on)\n",
    "\n",
    "| ssn     | emp_id | name    | email            |\n",
    "|---------|--------|---------|------------------|\n",
    "| 102438  | 80     | Kosters | kosters@liacs.nl |\n",
    "| 802345  | 23     | Lukina  | lukina@mi.nl     |\n",
    "| 345328  | 43     | Basold  | basold@liacs.nl  |\n",
    "| 556789  | 42     | Aarts   | aarts@phys.nl    |\n",
    "\n",
    "Super keys\n",
    "- { ssn }\n",
    "- { emp_id }\n",
    "- { email }\n",
    "- { ssn, emp_id }\n",
    "- { ssn, name }\n",
    "- { ssn, email }\n",
    "- { emp_id, email }\n",
    "- { emp_id, name, email }\n",
    "- { ssn, emp_id, name, email }\n",
    "- …\n",
    "\n",
    "### Minimal key:\n",
    "- Smallest subset of super keys\n",
    "\n",
    "### Candidate key:\n",
    "- Minimal super key (see above)\n",
    "\n",
    "- (RHS rule): If an attribute never occurs on the right hand\n",
    "side of an FD, then it must belong to every key of the FD\n",
    "- (LHS rule): If an attribute never occurs on the left hand\n",
    "side of an FD, but occurs on at least one right hand side\n",
    "of an FD, then it must not belong to any key\n",
    "\n",
    "### Primary key:\n",
    "- The candidate key chosen by the DBA for a table. Others are alternative keys\n"
   ]
  },
  {
   "cell_type": "markdown",
   "metadata": {},
   "source": [
    "Axioms for FD\n",
    "- Armstrong’s Axioms for FD:\n",
    "  - reflexivity: For R, If Y is a subset of X, then X $\\to$ Y\n",
    "  - augmentation: For R, If X $\\to$ Y, then XZ $\\to$ YZ\n",
    "  - transitivity: For R, If X $\\to$ Y and Y $\\to$ Z, then X $\\to$ Z\n",
    "- derived:\n",
    "  - union: If X $\\to$ Y and X $\\to$ Z, then X $\\to$ YZ\n",
    "  - decomposition: If X $\\to$ YZ, then X $\\to$ Y and X $\\to$ Z\n"
   ]
  },
  {
   "cell_type": "markdown",
   "metadata": {
    "vscode": {
     "languageId": "plaintext"
    }
   },
   "source": [
    "# Normalization\n",
    "\n",
    "## Normal Forms\n",
    "- 1NF: No multivalued attributes\n",
    "    - \"Adam, UCLA\" should be in seprated columns\n",
    "\n",
    "- 2NF: 1NF + every attribute is functionally dep. on entire primary key\n",
    "    - For table COURSES \" $ \\underline{\\text{course}} $,$ \\underline{\\text{year}} $, professor, book, employer\"\n",
    "        - (course, year) -> book\n",
    "        - (course, year) -> professor -> employer\n",
    "\n",
    "- 3NF: 2NF + No non-prime attribute of R is transitively dependent on the primary key.\n",
    "    - For table COURSES \" $ \\underline{\\text{course}} $,$ \\underline{\\text{year}} $, professor, book, employer\"\n",
    "        - (course, year) -> book\n",
    "        - course -> professor\n",
    "        - professor -> employer\n",
    "\n",
    "- BCNF: 3NF + every determinant is a candidate key\n",
    "\n",
    "** Transitively dependent: when a column is dependent to a non primary key"
   ]
  }
 ],
 "metadata": {
  "kernelspec": {
   "display_name": "Python 3",
   "language": "python",
   "name": "python3"
  },
  "language_info": {
   "codemirror_mode": {
    "name": "ipython",
    "version": 3
   },
   "file_extension": ".py",
   "mimetype": "text/x-python",
   "name": "python",
   "nbconvert_exporter": "python",
   "pygments_lexer": "ipython3",
   "version": "3.10.13"
  }
 },
 "nbformat": 4,
 "nbformat_minor": 2
}
