{
 "cells": [
  {
   "cell_type": "markdown",
   "metadata": {},
   "source": [
    "# Normal Forms"
   ]
  },
  {
   "cell_type": "markdown",
   "metadata": {},
   "source": [
    "### Normalization"
   ]
  },
  {
   "cell_type": "markdown",
   "metadata": {},
   "source": [
    "process of splitting tables into single dependency tables"
   ]
  },
  {
   "cell_type": "markdown",
   "metadata": {},
   "source": [
    "## Functional dependencies\n",
    "\n",
    "| Course       | Professor | Employer |\n",
    "|--------------|-----------|----------|\n",
    "| Programming  | Kosters   | LIACS    |\n",
    "| AI           | Kosters   | LIACS    |\n",
    "| Algebra      | Lukina    | Math     |\n",
    "| Logic        | Basold    | LIACS    |\n",
    "| Representation | Lukina  | Math     |\n",
    "\n",
    "transitive functional dependency (course transitively determines employer) (employer depends on professor, depends on course)\n"
   ]
  },
  {
   "cell_type": "markdown",
   "metadata": {},
   "source": [
    "Determinant determines values of other attributes in tuple like on above example:\n",
    "\n",
    "P\n",
    "Other attributes: determined attributes\n",
    "• K determines A if and only if each K value is associated with precisely one A value\n",
    "\n",
    "\n",
    "Read FD as follows:\n",
    "Key -> Attributes: where key and Attributes is the first letter of column name\n",
    "Key determines Attributes"
   ]
  }
 ],
 "metadata": {
  "kernelspec": {
   "display_name": "Python 3",
   "language": "python",
   "name": "python3"
  },
  "language_info": {
   "codemirror_mode": {
    "name": "ipython",
    "version": 3
   },
   "file_extension": ".py",
   "mimetype": "text/x-python",
   "name": "python",
   "nbconvert_exporter": "python",
   "pygments_lexer": "ipython3",
   "version": "3.10.13"
  }
 },
 "nbformat": 4,
 "nbformat_minor": 2
}
