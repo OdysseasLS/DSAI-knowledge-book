{
 "cells": [
  {
   "cell_type": "markdown",
   "metadata": {},
   "source": [
    "# SQL Queries with NULL, Updates, Triggers, and Views"
   ]
  },
  {
   "cell_type": "markdown",
   "metadata": {},
   "source": [
    "### Inner Join"
   ]
  },
  {
   "cell_type": "markdown",
   "metadata": {},
   "source": [
    "```sql\n",
    "SELECT column_name(s) -- from both tables\n",
    "FROM table1\n",
    "INNER JOIN table2\n",
    "ON table1.column_name = table2.column_name;\n",
    "```"
   ]
  },
  {
   "cell_type": "markdown",
   "metadata": {},
   "source": [
    "### Left Join\n",
    "Returns all records from the left table (table1), and the matching records from the right table (table2)"
   ]
  },
  {
   "cell_type": "markdown",
   "metadata": {},
   "source": [
    "```sql\n",
    "SELECT column_name(s)\n",
    "FROM table1\n",
    "LEFT JOIN table2\n",
    "ON table1.column_name = table2.column_name;\n",
    "```"
   ]
  },
  {
   "cell_type": "markdown",
   "metadata": {},
   "source": [
    "Note: The **LEFT JOIN** keyword returns all records from the left table , even if there are no matches in the right tabl but with NULL values."
   ]
  },
  {
   "cell_type": "markdown",
   "metadata": {},
   "source": [
    "![Image 4](../Files/second-semester/db/4.PNG)"
   ]
  },
  {
   "cell_type": "markdown",
   "metadata": {},
   "source": [
    "<hr>"
   ]
  },
  {
   "cell_type": "markdown",
   "metadata": {},
   "source": [
    "### Check"
   ]
  },
  {
   "cell_type": "markdown",
   "metadata": {},
   "source": [
    "Set restrictions once table will be created"
   ]
  },
  {
   "cell_type": "markdown",
   "metadata": {},
   "source": [
    "eg.\n",
    "```sql\n",
    "CREATE TABLE products (\n",
    "        product_id INTEGER PRIMARY KEY,\n",
    "        product_name TEXT NOT NULL,\n",
    "        list_price REAL NOT NULL,\n",
    "        discount REAL NOT NULL,\n",
    "        -- Check whether discount is smaller list_price\n",
    "    CHECK (list_price >= discount AND\n",
    "        discount >= 0 AND\n",
    "        list_price >= 0) );\n",
    "INSERT INTO products VALUES (1, \"CHOCOMEL\", 0.9,0.8);\n",
    "```"
   ]
  },
  {
   "cell_type": "markdown",
   "metadata": {},
   "source": [
    "### Default value"
   ]
  },
  {
   "cell_type": "markdown",
   "metadata": {},
   "source": [
    "```sql\n",
    "CREATE TABLE employees (\n",
    "    employee_id INTEGER PRIMARY KEY,\n",
    "    employee_name TEXT NOT NULL,\n",
    "    status TEXT DEFAULT 'active'\n",
    ");\n",
    "\n",
    "```"
   ]
  },
  {
   "cell_type": "markdown",
   "metadata": {},
   "source": [
    "### Delete & Update\n",
    "```sql\n",
    "-- DELETE rows that meet qualification:\n",
    "DELETE [FROM] table_name\n",
    " [WHERE qualification];\n",
    "```\n",
    "```sql\n",
    "-- UPDATE rows that meet qualification:\n",
    "UPDATE table_name\n",
    "SET column1 = value1, column2 = value2...., columnN =valueN\n",
    "[WHERE qualification];\n",
    "-- eg.\n",
    "UPDATE students\n",
    "SET age = 17, grade = 11\n",
    "WHERE student_name = 'Charlie';\n",
    "```"
   ]
  },
  {
   "cell_type": "markdown",
   "metadata": {},
   "source": [
    "## Batch Insertions\n",
    "\n",
    "```sql\n",
    "INSERT INTO ’tablename’ (\n",
    "    ’column1’, ’column2’)\n",
    "    VALUES(’data1’, ’data2’),\n",
    "    (’data3’, ’data4’),\n",
    "    (’data5’, ’data6’),\n",
    "    (’data7’, ’data8’);\n",
    "```"
   ]
  },
  {
   "cell_type": "markdown",
   "metadata": {},
   "source": [
    "#### Insert using SELECT\n",
    "\n",
    "```sql\n",
    "INSERT INTO destinationTable (risposta, data_ins)\n",
    "SELECT STATUS risposta, DATETIME(’now’) data_ins\n",
    "    FROM  sourceTable\n",
    "                                                                                  ```"
   ]
  },
  {
   "cell_type": "markdown",
   "metadata": {},
   "source": [
    "## Triger\n",
    "\n",
    "```sql\n",
    "CREATE TRIGGER [IF NOT EXISTS] trigger_name\n",
    "    [BEFORE|AFTER|INSTEAD OF] [INSERT|UPDATE|DELETE]\n",
    "    ON table_name[WHEN condition]\n",
    "  BEGIN\n",
    "   statements;\n",
    "END;\n",
    "\n",
    "```"
   ]
  },
  {
   "cell_type": "markdown",
   "metadata": {},
   "source": [
    "## Creating a view\n",
    "Views look like tables, but are computed and updated fromexisting data"
   ]
  },
  {
   "cell_type": "markdown",
   "metadata": {},
   "source": [
    "```sql\n",
    "CREATE VIEW view_name [(column-name-list)] AS select-statement;\n",
    "\n",
    "EG.\n",
    "CREATE VIEW ProductsRBL AS\n",
    "SELECT pid, priceRBL = priceEUR*120 AS priceRBL\n",
    "FROM Products;\n",
    "```"
   ]
  },
  {
   "cell_type": "markdown",
   "metadata": {},
   "source": [
    "## SQLite Schema Table"
   ]
  },
  {
   "cell_type": "markdown",
   "metadata": {},
   "source": [
    "```sql\n",
    "CREATE TABLE sqlite_schema(\n",
    "type text, /* \"Table\", \"Index\",\"Trigger\", or \"View\"*/\n",
    "name text,  /* Name of Trigger, View, Index, etc. */\n",
    "tbl_name text, /* Name of Table on which object isdefined */\n",
    "rootpage integer, /*rootpage, internal to SQLite*/\n",
    "sql text ); /* The SQL statement, which would createthis table. *\n",
    "```"
   ]
  }
 ],
 "metadata": {
  "kernelspec": {
   "display_name": "Python 3",
   "language": "python",
   "name": "python3"
  },
  "language_info": {
   "codemirror_mode": {
    "name": "ipython",
    "version": 3
   },
   "file_extension": ".py",
   "mimetype": "text/x-python",
   "name": "python",
   "nbconvert_exporter": "python",
   "pygments_lexer": "ipython3",
   "version": "3.10.13"
  }
 },
 "nbformat": 4,
 "nbformat_minor": 2
}
