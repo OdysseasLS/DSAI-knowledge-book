{
 "cells": [
  {
   "cell_type": "markdown",
   "metadata": {},
   "source": [
    "# Transactions\n",
    "\n",
    "Transactions are ATOMIC programs execute all instructions, or none\n",
    "\n",
    "Transactions in databases should ACID:\n",
    "\n",
    "- **Atomicity**: A transaction is atomic, meaning that either all instructions are carried out or none at all.\n",
    "\n",
    "- **Consistency**: A transaction ensures that the database remains in a consistent state after execution.\n",
    "\n",
    "- **Isolation**: Transactions should be isolated from each other, allowing us to reason about a transaction without considering other transactions.\n",
    "\n",
    "- **Durability**: When a transaction is committed, its effects should persist, even in the event of a system crash.\n",
    "\n",
    "\n",
    "**Commit** : State that changes will officially applied on database after set of instructions executed."
   ]
  },
  {
   "cell_type": "markdown",
   "metadata": {
    "vscode": {
     "languageId": "plaintext"
    }
   },
   "source": [
    "### Commit & Rollback:\n",
    "\n",
    "- Until you commit, other users cannot see your actions\n",
    "- Rollback ends current transaction and undoes any changes to the DB\n",
    "\n",
    "In Sqlite3 commits will be done after each command automatically but can be written like:\n",
    "```sql\n",
    "BEGIN TRANSACTION;\n",
    "\n",
    "UPDATE ...\n",
    "\n",
    "COMMIT;\n",
    "```"
   ]
  },
  {
   "cell_type": "markdown",
   "metadata": {
    "vscode": {
     "languageId": "plaintext"
    }
   },
   "source": [
    "### Interleaving WR conflict\n",
    "\n",
    "Reading uncommitted data is also called **Dirty Read** and the order of interleaving of tasks by DBMS is important to stop concurrent interleaving of a data where not commited before so the wrong final value will be commited."
   ]
  },
  {
   "cell_type": "markdown",
   "metadata": {
    "vscode": {
     "languageId": "plaintext"
    }
   },
   "source": [
    "Summary of Interleaved anomalies\n",
    "\n",
    "![Image 11](../Files/second-semester/db/11.jpg)"
   ]
  }
 ],
 "metadata": {
  "language_info": {
   "name": "python"
  }
 },
 "nbformat": 4,
 "nbformat_minor": 2
}
