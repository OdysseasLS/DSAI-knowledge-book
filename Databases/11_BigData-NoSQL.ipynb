{
 "cells": [
  {
   "cell_type": "markdown",
   "metadata": {},
   "source": [
    "## Big Data and NoSQL Overview\n",
    "\n",
    "**Big Data** refers to extremely large datasets that are difficult to process and analyze using traditional data processing techniques. The three Vs of Big Data are:\n",
    "\n",
    "1. **Volume**: Massive amounts of data.\n",
    "2. **Velocity**: Rapid generation and processing of data.\n",
    "3. **Variety**: Different types of data, such as structured, unstructured, and semi-structured.\n",
    "\n",
    "## Selected Big Data Challenges\n",
    "1. **Massive Point Clouds**: Example - 640 billion (x,y,z) points, 15 TB of data, requiring spatial joins.\n",
    "2. **GPS Data**: Over 5 trillion GPS points growing at more than 60,000 points per second.\n",
    "3. **File Storage**: Around 4 million files, approximately 500 GB.\n",
    "4. **Satellite Imagery**: About 2 PB of satellite image data, requiring array data processing.\n",
    "5. **GIS, Logistics, Seismology, and Remote Sensing**: High data volume and complexity in processing.\n",
    "\n",
    "## Paradigm Shift in Scientific Research\n",
    "Jim Gray identified a shift in scientific research paradigms:\n",
    "1. **Empirical**: Experimental data collection.\n",
    "2. **Theoretical**: Development of theories and models.\n",
    "3. **Computational**: Simulation of complex systems.\n",
    "4. **Data Exploration (eScience)**: Analysis and exploration of large datasets.\n",
    "\n",
    "## DBMS Architecture Changes\n",
    "1. **Memory Wall**: A significant performance bottleneck where the CPU waits for memory access, leading to high idle times.\n",
    "2. **Columnar Storage**: Transition from row-wise to column-wise storage for better performance.\n",
    "   - **DSM (Decomposed Storage Model)**: Storing data column-by-column instead of row-by-row.\n",
    "3. **CPU and Cache-Conscious Algorithms**: Designing algorithms that optimize CPU and cache usage.\n",
    "\n",
    "## Consistency Models\n",
    "- **NoSQL**: BASE (Basically Available, Soft state, Eventual consistency).\n",
    "- **RDBMS**: ACID (Atomicity, Consistency, Isolation, Durability).\n",
    "\n",
    "## Modern Developments\n",
    "1. **Relational Database as a Service in the Cloud**.\n",
    "2. **Cloud-native Graph Analytics**.\n",
    "3. **In-process Analytical Database**.\n",
    "4. **Cloud-based Data Analysis Platforms**: Utilizing Spark and relational technologies.\n",
    "5. **SQL:2023 Standard**: Incorporating Property Graph Queries (SQL/PGQ).\n",
    "6. **Serverless Data Warehouses**: Powered by technologies like DuckDB.\n"
   ]
  }
 ],
 "metadata": {
  "language_info": {
   "name": "python"
  }
 },
 "nbformat": 4,
 "nbformat_minor": 2
}
