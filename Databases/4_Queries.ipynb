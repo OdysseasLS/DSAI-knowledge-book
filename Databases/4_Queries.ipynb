{
 "cells": [
  {
   "cell_type": "markdown",
   "metadata": {},
   "source": [
    "## SQL queries\n",
    "\n",
    "Query : = Request to a database"
   ]
  },
  {
   "cell_type": "markdown",
   "metadata": {},
   "source": [
    "### SQL query structure\n",
    "```sql\n",
    "SELECT [DISTINCT] target-list FROM relation-list WHERE qualification"
   ]
  },
  {
   "cell_type": "markdown",
   "metadata": {},
   "source": [
    "#### Querying Multiple Relations\n",
    "\n",
    "```sql\n",
    "SELECT S.name, E.cid\n",
    "FROM Students S, Enrolled E\n",
    "WHERE S.sid=E.sid AND E.grade=\"B\";"
   ]
  },
  {
   "cell_type": "markdown",
   "metadata": {},
   "source": [
    "#### Range variables\n",
    "\n",
    "Aliases for easier calling of table\n",
    "    \n",
    "Example: \n",
    "```sql\n",
    "SELECT S.sname FROM Sailors S, Reserves R WHERE S.sid=R.sid AND R.bid=103;\n",
    "```\n",
    "\n",
    "Or by using **AS**\n",
    "```sql\n",
    "SELECT S.age, S.age/10 AS age1, 12*S.age AS months\n",
    "FROM Sailors S\n",
    "WHERE S.sname = \"dustin\";\n",
    "```"
   ]
  },
  {
   "cell_type": "markdown",
   "metadata": {},
   "source": [
    "## String matching using LIKE\n",
    "\n",
    "```sql\n",
    "SELECT S.sname, S.age\n",
    "FROM Sailors S\n",
    "WHERE S.sname LIKE \"B_%B\";\n",
    "```\n",
    "\n",
    "- ” ” stands for any one character and ”%” stands for 0 or more arbitrary characters.\n",
    "- So ”BAOBAB” would qualify, and also ”BOB”, but not ”BB” or ”BEN”"
   ]
  }
 ],
 "metadata": {
  "kernelspec": {
   "display_name": "Python 3",
   "language": "python",
   "name": "python3"
  },
  "language_info": {
   "codemirror_mode": {
    "name": "ipython",
    "version": 3
   },
   "file_extension": ".py",
   "mimetype": "text/x-python",
   "name": "python",
   "nbconvert_exporter": "python",
   "pygments_lexer": "ipython3",
   "version": "3.10.13"
  }
 },
 "nbformat": 4,
 "nbformat_minor": 2
}
