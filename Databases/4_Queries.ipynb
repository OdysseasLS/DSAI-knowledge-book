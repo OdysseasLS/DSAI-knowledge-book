{
 "cells": [
  {
   "cell_type": "markdown",
   "metadata": {},
   "source": [
    "## SQL queries\n",
    "\n",
    "Query : = Request to a database"
   ]
  },
  {
   "cell_type": "markdown",
   "metadata": {},
   "source": [
    "### SQL query structure\n",
    "```sql\n",
    "SELECT [DISTINCT] target-list FROM relation-list WHERE qualification\n",
    "```"
   ]
  },
  {
   "cell_type": "markdown",
   "metadata": {},
   "source": [
    "#### Querying Multiple Relations\n",
    "\n",
    "```sql\n",
    "SELECT S.name, E.cid\n",
    "FROM Students S, Enrolled E\n",
    "WHERE S.sid=E.sid AND E.grade=\"B\";\n",
    "```"
   ]
  },
  {
   "cell_type": "markdown",
   "metadata": {},
   "source": [
    "#### Range variables\n",
    "\n",
    "Aliases for easier calling of table\n",
    "    \n",
    "Example: \n",
    "```sql\n",
    "SELECT S.sname FROM Sailors S, Reserves R WHERE S.sid=R.sid AND R.bid=103;\n",
    "```"
   ]
  },
  {
   "cell_type": "markdown",
   "metadata": {},
   "source": [
    "Or by using **AS**\n",
    "```sql\n",
    "SELECT S.age, S.age/10 AS age1, 12*S.age AS months\n",
    "FROM Sailors S\n",
    "WHERE S.sname = \"dustin\";\n",
    "```"
   ]
  },
  {
   "cell_type": "markdown",
   "metadata": {},
   "source": [
    "## String matching using LIKE\n",
    "\n",
    "```sql\n",
    "SELECT S.sname, S.age\n",
    "FROM Sailors S\n",
    "WHERE S.sname LIKE \"B_%B\";\n",
    "```\n",
    "\n",
    "- ” ” stands for any one character and ”%” stands for 0 or more arbitrary characters.\n",
    "- So ”BAOBAB” would qualify, and also ”BOB”, but not ”BB” or ”BEN”"
   ]
  },
  {
   "cell_type": "markdown",
   "metadata": {},
   "source": [
    "<hr>"
   ]
  },
  {
   "cell_type": "markdown",
   "metadata": {},
   "source": [
    "### DISTINCT\n",
    "\n",
    "The \"DISTINCT\" keyword in the SQL query ensures that only unique values are returned.\n",
    "\n",
    "```sql\n",
    "SELECT DISTINCT R.sid\n",
    "FROM Boats B,Reserves R\n",
    "WHERE R.bid=B.bid AND\n",
    "(B.color=\"red\" OR\n",
    "B.color=\"green\");\n",
    "```"
   ]
  },
  {
   "cell_type": "markdown",
   "metadata": {},
   "source": [
    "### UNION\n",
    " combine the results of two or more SELECT statements into a single result set.\n",
    "\n",
    " ```sql\n",
    " SELECT student_id, name, age FROM Students_A\n",
    "UNION\n",
    "SELECT student_id, name, age FROM Students_B;\n",
    "```\n",
    "\n",
    "**UNION ALL** : Ignore and will show duplicates"
   ]
  },
  {
   "cell_type": "markdown",
   "metadata": {},
   "source": [
    "### INNER JOIN\n",
    "\n",
    "```sql\n",
    "SELECT Students.name, Grades.subject, Grades.grade\n",
    "FROM Students\n",
    "INNER JOIN Grades ON Students.student_id = Grades.student_id;\n",
    "```\n",
    "\n",
    "\n",
    "#### INNER JOIN VS UNION ALL\n",
    "INNER JOIN is used to combine related rows from different tables based on a common column, while UNION ALL is used to combine the results of multiple queries into a single result set, including all rows from each query, regardless of duplicates."
   ]
  },
  {
   "cell_type": "markdown",
   "metadata": {},
   "source": [
    "### INTERSECT\n",
    "\n",
    " INTERSECT operator to find the intersection of two result sets. It looks for common rows between the two SELECT queries.\n",
    "\n",
    " Eg.\n",
    "```sql\n",
    "SELECT S.sid\n",
    "FROM Sailors S, Boats B, Reserves R\n",
    "WHERE S.sid=R.sid AND R.bid=B.bid AND B.color=\"red\"\n",
    "INTERSECT\n",
    "SELECT S.sid\n",
    "FROM Sailors S, Boats B, Reserves R\n",
    "WHERE S.sid=R.sid AND R.bid=B.bid AND B.color=\"green\"\n",
    "```\n"
   ]
  },
  {
   "cell_type": "markdown",
   "metadata": {},
   "source": [
    "## Nested Queries\n",
    "Queries that are embedded within another SQL statement.\n",
    "\n",
    "```SQL\n",
    "SELECT S.sname\n",
    "FROM Sailors S\n",
    "WHERE S.sid IN (SELECT R.sid\n",
    "FROM Reserves R\n",
    "WHERE R.bid=103)\n",
    "```"
   ]
  },
  {
   "cell_type": "markdown",
   "metadata": {},
   "source": [
    "##  IN, NOT IN\n",
    "\n",
    "```sql\n",
    "SELECT * FROM Employees WHERE Department IN ('HR', 'Finance', 'Marketing');\n",
    "-- Which the functionality is same as\n",
    "SELECT * FROM Employees E WHERE E.Department = 'HR' OR E.Department = Finance' OR E.Department = 'Marketing';\n",
    "\n",
    "SELECT * FROM Students WHERE Grade NOT IN ('A', 'B');\n",
    "```"
   ]
  },
  {
   "cell_type": "markdown",
   "metadata": {},
   "source": [
    "### EXISTS, NOT EXISTS\n",
    "\n",
    "**EXISTS:** This returns rows where the subquery returns one or more rows.\n",
    "\n",
    "**NOT EXISTS:** This returns rows where the subquery returns no rows.\n",
    "```sql\n",
    "SELECT * FROM table1 WHERE EXISTS (SELECT * FROM table2 WHERE table1.id = table2.id);\n",
    "-- This query selects all rows from table1 where there's at least one row in table2 with the same id.\n",
    "\n",
    "SELECT * FROM table1 WHERE NOT EXISTS (SELECT * FROM table2 WHERE table1.id = table2.id);\n",
    "-- This query selects all rows from table1 where there are no rows in table2 with the same id.\n",
    "\n",
    "```\n"
   ]
  }
 ],
 "metadata": {
  "kernelspec": {
   "display_name": "Python 3",
   "language": "python",
   "name": "python3"
  },
  "language_info": {
   "codemirror_mode": {
    "name": "ipython",
    "version": 3
   },
   "file_extension": ".py",
   "mimetype": "text/x-python",
   "name": "python",
   "nbconvert_exporter": "python",
   "pygments_lexer": "ipython3",
   "version": "3.10.13"
  }
 },
 "nbformat": 4,
 "nbformat_minor": 2
}
