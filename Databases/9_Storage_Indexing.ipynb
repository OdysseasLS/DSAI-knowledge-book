{
 "cells": [
  {
   "cell_type": "markdown",
   "metadata": {},
   "source": [
    "# Storage and Indexing"
   ]
  },
  {
   "cell_type": "markdown",
   "metadata": {
    "vscode": {
     "languageId": "plaintext"
    }
   },
   "source": [
    "### File Organizations:\n",
    "\n",
    "- Heap (random order) files: Suitable when typical access is a file scan retrieving all records.\n",
    "- Sorted Files: Best if records must be retrieved in some order, or only a `range' of records is needed.\n",
    "- Indexes: Data structures to organize records via trees or hashing.\n",
    "    - B+ trees\n",
    "    - Hash index\n",
    "    \n"
   ]
  },
  {
   "cell_type": "markdown",
   "metadata": {
    "vscode": {
     "languageId": "plaintext"
    }
   },
   "source": [
    "### Search Key and K*:\n",
    "\n",
    "**Search Key** can be specific key for quering your users like username in users database but totally can be different from primery **key** like Indexes\n",
    "\n",
    " <b> k* </b> denotes the set of data entries associated with the key value \"k\""
   ]
  },
  {
   "cell_type": "markdown",
   "metadata": {
    "vscode": {
     "languageId": "plaintext"
    }
   },
   "source": [
    "### Alternatives for organizing and accessing data:\n",
    "- Alternative 1: Here, each data record (like a row in a table) is directly used as an index. It's good when data records are large, but only one index can use this method for each collection of records to avoid duplication and potential inconsistency.\n",
    "    - For example, if you're looking for a specific recipe in a cookbook, you'd flip through the pages until you find it.\n",
    "\n",
    "- Alternative 2: Data entries are smaller than records. This is better than Alternative 1 when records are large, especially if search keys are small. The portion of the index used for searching is smaller compared to Alternative 1.\n",
    "    - For instance, if you're looking for all the recipes that use chicken, you'd just check the index rather than searching through every page.\n",
    "\n",
    "- Alternative 3: Similar to Alternative 2 but even more compact. However, it leads to variable-sized data entries, even if search keys are fixed length.\n",
    "    - If you're looking for a quick and easy chicken recipe, you'd still check the index, but you might find that each entry varies in length depending on the extra details provided."
   ]
  },
  {
   "cell_type": "markdown",
   "metadata": {
    "vscode": {
     "languageId": "plaintext"
    }
   },
   "source": [
    "## Index Classification (Clustered vs. unclustered)\n",
    "\n",
    "Clustered index means the index is organized in a way that closely matches the order of the actual data in the database. This can speed up data retrieval because it aligns with how the data is physically stored. (Alternative 1 implies clustered)\n",
    "\n",
    "Suppose that Alternative (2) is used for data entries,\n",
    "and that the data records are stored in a Heap file.\n",
    "To build clustered index, first sort the Heap file\n",
    "\n",
    "![Image 6](../Files/second-semester/db/6.jpg)"
   ]
  },
  {
   "cell_type": "markdown",
   "metadata": {
    "vscode": {
     "languageId": "plaintext"
    }
   },
   "source": [
    "```sql\n",
    "CREATE INDEX index_name\n",
    "ON table_name (column1, column2, ...);\n",
    "```\n",
    "also you can mentino to be clustered or not and also typeby:\n",
    "```sql\n",
    "CREATE CLUSTERED INDEX index_name\n",
    "ON table_name WITH STRUCTURE = BTREE KEY = (column1, column2)\n",
    "```\n",
    "\n"
   ]
  },
  {
   "cell_type": "markdown",
   "metadata": {
    "vscode": {
     "languageId": "plaintext"
    }
   },
   "source": [
    "### B+ Tree Indexes:\n",
    "\n",
    "Balanced search tree where leafes are the last level in tree were is actual data and non-leaf pages make it easy to reach records. Also each record is connected to the other for increasing speed because of double linked list structure.\n",
    "\n",
    "![Image 7](../Files/second-semester/db/7.jpg)"
   ]
  },
  {
   "cell_type": "markdown",
   "metadata": {
    "vscode": {
     "languageId": "plaintext"
    }
   },
   "source": [
    "#### B+ trees vs. B trees\n",
    "\n",
    "B-tree is a tree with similar structure to B+ tree,\n",
    "- but the pages might be filled\n",
    "- the doubly-linked list is not present\n",
    "- The elements of the leaves can be the full data entry\n",
    "\n",
    "used in Sqlite3"
   ]
  },
  {
   "cell_type": "markdown",
   "metadata": {
    "vscode": {
     "languageId": "plaintext"
    }
   },
   "source": [
    "## Hash-Based Indexes\n",
    "\n",
    "**Index is a collection of buckets**\n",
    "- Bucket: Container holding related data share similar or same values\n",
    "- Page : Unit of data storage in a database like a block of memory where records or data are stored\n",
    "\n",
    "![Image 8](../Files/second-semester/db/8.jpg)"
   ]
  }
 ],
 "metadata": {
  "language_info": {
   "name": "python"
  }
 },
 "nbformat": 4,
 "nbformat_minor": 2
}
