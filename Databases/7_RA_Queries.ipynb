{
 "cells": [
  {
   "cell_type": "markdown",
   "metadata": {},
   "source": [
    "# Relational Algebra"
   ]
  },
  {
   "cell_type": "markdown",
   "metadata": {},
   "source": [
    "### Basic Syntax Constraints\n",
    "Positional vs. named-field notation:\n",
    "- In positional we call field position number like field1\n",
    "- In Named-Field Notation we Call the name of the column like \"Age\""
   ]
  },
  {
   "cell_type": "markdown",
   "metadata": {},
   "source": [
    "### Operators"
   ]
  },
  {
   "cell_type": "markdown",
   "metadata": {},
   "source": [
    "#### Projection $\\pi_{a_1,...,a_k}(R)$"
   ]
  },
  {
   "cell_type": "markdown",
   "metadata": {},
   "source": [
    "Deletes fields (columns) that are not in the projection list and then removes duplicate tuples\n",
    "\n",
    "$\\pi_{name,age}$ returns a relation with only the name and age fields where there is no duplicate tuple"
   ]
  },
  {
   "cell_type": "markdown",
   "metadata": {},
   "source": [
    "#### Selection $\\sigma_{c(a_1,...,a_k)}(R)$"
   ]
  },
  {
   "cell_type": "markdown",
   "metadata": {},
   "source": [
    "Returns tuples (rows) of the relation instance that satisfy the selection condition.\n",
    "\n",
    "$\\sigma_{name='Jake' \\lor age<50}$ returns a relation with only the name and age fields where there is no duplicate tuple"
   ]
  },
  {
   "cell_type": "markdown",
   "metadata": {},
   "source": [
    "#### Set Operations $ \\cup , \\cap , \\setminus $\n",
    "\n"
   ]
  },
  {
   "cell_type": "markdown",
   "metadata": {},
   "source": [
    "$S_1 \\setminus S_2$ returns $S_1$ with any elements in $S_2$ removed."
   ]
  },
  {
   "cell_type": "markdown",
   "metadata": {},
   "source": [
    "#### Cross-product $\\times$"
   ]
  },
  {
   "cell_type": "markdown",
   "metadata": {},
   "source": [
    "$T = R \\times S $ Computes all combinations of tuples in R with tuples in S where \\circ is Concatenation in $T = \\{ a \\circ b \\mid a \\in R \\text{ and } b \\in S \\}$ "
   ]
  },
  {
   "cell_type": "markdown",
   "metadata": {},
   "source": [
    "**S =**\n",
    "\n",
    "| sid | name   | age  |\n",
    "|-----|--------|------|\n",
    "| 22  | Dustin | 35   |\n",
    "| 31  | Lubber | 55.5 |\n",
    "| 44  | Guppy  | 35   |\n",
    "\n",
    "**R =**\n",
    "\n",
    "| sid | bid | day       |\n",
    "|-----|-----|-----------|\n",
    "| 22  | 12  | 12/4/2013 |\n",
    "| 31  | 4   | 8/4/2013  |\n",
    "\n",
    "**S × R =**\n",
    "\n",
    "| (sid) | name   | age  | (sid) | bid | day       |\n",
    "|-------|--------|------|-------|-----|-----------|\n",
    "| 22    | Dustin | 35   | 22    | 12  | 12/4/2013 |\n",
    "| 31    | Lubber | 55.5 | 22    | 12  | 12/4/2013 |\n",
    "| 44    | Guppy  | 35   | 22    | 12  | 12/4/2013 |\n",
    "| 22    | Dustin | 35   | 31    | 4   | 8/4/2013  |\n",
    "| 31    | Lubber | 55.5 | 31    | 4   | 8/4/2013  |\n",
    "| 44    | Guppy  | 35   | 31    | 4   | 8/4/2013  |\n"
   ]
  },
  {
   "cell_type": "markdown",
   "metadata": {},
   "source": [
    "#### Renaming $\\rho_{{i1} \\rightarrow a_1, \\ldots, {ik} \\rightarrow a_m}(R)$"
   ]
  },
  {
   "cell_type": "markdown",
   "metadata": {},
   "source": [
    "Rename Column title like in above example $\\rho_{{1} \\rightarrow StudentID, 4 \\rightarrow SecondID}(R)$"
   ]
  },
  {
   "cell_type": "markdown",
   "metadata": {},
   "source": [
    "#### Theta-Join $ \\Join_{c(a_1, \\ldots, a_n)}$"
   ]
  },
  {
   "cell_type": "markdown",
   "metadata": {},
   "source": [
    "Computes all combinations of tuples from R and S\n",
    "that satisfy the condition."
   ]
  },
  {
   "cell_type": "markdown",
   "metadata": {},
   "source": [
    "$R \\Join_{c(a_1, \\ldots, a_n)} S = \\sigma_{{c(a_1, \\ldots, a_n)}}(R \\times S)$"
   ]
  },
  {
   "cell_type": "markdown",
   "metadata": {},
   "source": [
    "#### Equi-Join $ \\Join_{a_1, \\ldots, a_n}$"
   ]
  },
  {
   "cell_type": "markdown",
   "metadata": {},
   "source": [
    "Computes all combinations of tuples from R and S that satisfy condition $R.a_1 = S.a_1, ..., R.a_k = S.a_k$ and deletes duplicate columns, i.e., keep first occurrence:"
   ]
  },
  {
   "cell_type": "markdown",
   "metadata": {},
   "source": [
    "$ R  \\Join a_1,...,a_k S = \\sigma_{R.a_1=S.a_1\\land \\ldots \\land R.a_k=S.a_k}(R \\times S) $"
   ]
  },
  {
   "cell_type": "markdown",
   "metadata": {},
   "source": [
    "#### Natural Join $  \\bowtie $\n",
    "\n",
    "Will join  two relations based on their common attributes (eg. B and C). The result will include columns A, B, C, and D, where B and C are common attributes."
   ]
  },
  {
   "cell_type": "markdown",
   "metadata": {},
   "source": [
    "**Note**: In joins we typically need renaming to avoid column name conflicts like:\n",
    "\n",
    "$S \\bowtie_{S.sid > R.sid} R$ should be $T = \\rho_{1 \\to sid1, 4 \\to sid2}(S \\bowtie_{S.sid > R.sid} R)$"
   ]
  },
  {
   "cell_type": "markdown",
   "metadata": {
    "vscode": {
     "languageId": "plaintext"
    }
   },
   "source": [
    "#### Outer Joins\n",
    "- Left outer join $R =\\Join S$: preserves the tuples on the left, i.e., in R, that would be lost in a natural join.\n",
    "- Full outer join $R \\Join S$: preserves the tuples in both relations $R \\Join S = (R \\Join S) \\cup (R \\Join S)$"
   ]
  },
  {
   "cell_type": "markdown",
   "metadata": {
    "vscode": {
     "languageId": "plaintext"
    }
   },
   "source": [
    "Note: Non-matched will be Null"
   ]
  },
  {
   "cell_type": "markdown",
   "metadata": {
    "vscode": {
     "languageId": "plaintext"
    }
   },
   "source": [
    "#### Division $ X / Y $"
   ]
  },
  {
   "cell_type": "markdown",
   "metadata": {},
   "source": [
    "For $P$ denoting a relation with fields $x_1, \\ldots, x_m, y_1, \\ldots, y_k$, and $R$ denoting a relation with fields $y_1, \\ldots, y_k$, the division of $P$ by $R$, in symbols $S = P/R$, is a relation with schema $x_1, \\ldots, x_m$.\n"
   ]
  },
  {
   "cell_type": "markdown",
   "metadata": {
    "vscode": {
     "languageId": "plaintext"
    }
   },
   "source": [
    "#### Important Equivalences"
   ]
  },
  {
   "cell_type": "markdown",
   "metadata": {},
   "source": [
    "- Pushing selection : C(B) denote a condition $\\sigma_{C(B)}(A \\Join B) ≡ A \\Join \\sigma_{C(B)}(B)$\n",
    "- Pushing projection : S(B) denote common field identifiers of B and A, and S(A) only attributes of A $\\pi_{S(A)}(A \\Join B) ≡ π_{S(A)}(A \\Join \\pi_{S(B)}(B))$"
   ]
  },
  {
   "cell_type": "markdown",
   "metadata": {
    "vscode": {
     "languageId": "plaintext"
    }
   },
   "source": [
    "#### Catalan Numbers\n"
   ]
  },
  {
   "cell_type": "markdown",
   "metadata": {
    "vscode": {
     "languageId": "plaintext"
    }
   },
   "source": [
    "The number of join trees for $ m $ relation instances is given by the $ n = m - 1 $ th Catalan number, recursively defined as:\n",
    "\n",
    "$ C_0 = 1, \\quad C_n = \\sum_{i=0}^{n-1} C_i C_{n-i-1}, C_n = 1, 1, 2, 5, 14, 42, 132, 429$\n"
   ]
  },
  {
   "cell_type": "markdown",
   "metadata": {},
   "source": [
    "<img src=\"../Files/second-semester/db/5.jpg\" style=\"height: 400px\">"
   ]
  },
  {
   "cell_type": "markdown",
   "metadata": {
    "vscode": {
     "languageId": "plaintext"
    }
   },
   "source": [
    "#### Relational vs. Turing Completeness\n",
    "\n",
    "- SQL is **relationally complete** ( can compute every RA query ), but has additional functionality to RA, e.g., aggregation, grouping.\n",
    "- **Turing complete**: A programming language works fine on Turing machine (or in simple C language)"
   ]
  }
 ],
 "metadata": {
  "language_info": {
   "name": "python"
  }
 },
 "nbformat": 4,
 "nbformat_minor": 2
}
