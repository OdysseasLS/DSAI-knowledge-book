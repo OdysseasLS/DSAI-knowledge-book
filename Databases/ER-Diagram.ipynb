{
 "cells": [
  {
   "cell_type": "markdown",
   "metadata": {},
   "source": [
    "# Entity Relationship Diagram\n"
   ]
  },
  {
   "cell_type": "markdown",
   "metadata": {},
   "source": [
    "## Database Schemas"
   ]
  },
  {
   "cell_type": "markdown",
   "metadata": {},
   "source": [
    "### Components of the architecture\n",
    "#### Three Layers\n",
    "![Image 1](../Files/second-semester/db/1.jpg)\n",
    "- Views (How users see the data)\n",
    "    - CourseInfo(cid:string, numberOfStudents:integer,bestGrade:integer)\n",
    "\n",
    "- Conceptual (Defines logical structure)\n",
    "    - Students(sid: string, name: string, login: string, age: integer)\n",
    "    - Courses(cid: string, cname:string, credits:integer)\n",
    "    - Enrolled(sid:string, cid:string, grade:string)\n",
    "\n",
    "- Physical (Files and data-structures for fast data-access)\n",
    "    - Relations stored as unordered files.\n",
    "    - B+ tree index on first column of Students\n",
    "\n",
    "![Image 2](../Files/second-semester/db/2.jpg)"
   ]
  },
  {
   "cell_type": "markdown",
   "metadata": {},
   "source": [
    "<hr>\n",
    "\n",
    "#### DDL (Data Definition Language)\n",
    "\n",
    " provides the ability to define, create and modify database objects such as tables, views, indexes, and users. \n",
    "\n",
    "#### DML (Data Manipulation Language)\n",
    " \n",
    "  allows for manipulating data in a database, such as inserting, updating, and deleting records.\n"
   ]
  },
  {
   "cell_type": "markdown",
   "metadata": {},
   "source": [
    "## Components of ER Diagram\n",
    "\n",
    "1. **Entities**:\n",
    "   - Represented by rectangles.\n",
    "   - Have attributes that describe them.\n",
    "   - Identified by unique keys.\n",
    "\n",
    "2. **Attributes**:\n",
    "   - Descriptive properties of entities.\n",
    "   - Represented by ovals connected to entities.\n",
    "\n",
    "3. **Relationships**:\n",
    "   - Represented by diamond shapes.\n",
    "   - Describe associations between entities.\n",
    "   - Can have cardinality and participation constraints.\n",
    "\n",
    "4. **Primary Key**:\n",
    "   - Attribute or combination of attributes that uniquely identify an entity.\n",
    "   - Denoted by underlining the attribute(s).\n",
    "\n",
    "5. **Foreign Key**:\n",
    "   - Attribute(s) in one entity that refers to the primary key of another entity.\n",
    "   - Establishes relationships between entities.\n"
   ]
  },
  {
   "cell_type": "markdown",
   "metadata": {},
   "source": [
    "![Image 3](../Files/second-semester/db/3.png)"
   ]
  },
  {
   "cell_type": "markdown",
   "metadata": {},
   "source": [
    "# Cardinalities\n",
    "\n",
    "![Image 4](../Files/second-semester/db/4.jpg)"
   ]
  }
 ],
 "metadata": {
  "kernelspec": {
   "display_name": "Python 3",
   "language": "python",
   "name": "python3"
  },
  "language_info": {
   "codemirror_mode": {
    "name": "ipython",
    "version": 3
   },
   "file_extension": ".py",
   "mimetype": "text/x-python",
   "name": "python",
   "nbconvert_exporter": "python",
   "pygments_lexer": "ipython3",
   "version": "3.10.13"
  }
 },
 "nbformat": 4,
 "nbformat_minor": 2
}
