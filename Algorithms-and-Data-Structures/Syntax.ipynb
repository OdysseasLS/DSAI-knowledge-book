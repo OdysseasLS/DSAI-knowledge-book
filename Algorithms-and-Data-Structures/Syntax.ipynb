{
 "cells": [
  {
   "cell_type": "markdown",
   "metadata": {},
   "source": [
    "# Python Syntax for DSA"
   ]
  },
  {
   "cell_type": "markdown",
   "metadata": {
    "vscode": {
     "languageId": "plaintext"
    }
   },
   "source": [
    "## Data Structures"
   ]
  },
  {
   "cell_type": "markdown",
   "metadata": {
    "vscode": {
     "languageId": "plaintext"
    }
   },
   "source": [
    "#### Set {1,3,5}\n",
    "To add to a set\n",
    "```python\n",
    "set.add(x)\n",
    "```\n",
    "To remove from a set\n",
    "```python\n",
    "set.pop #pop takes no argument and remove from [0]\n",
    "\n",
    "set.remove(x) # x is a value of specific item\n",
    "```\n",
    "\n",
    "#### Adjacency_list\n",
    "We use dictionary and reach items through for loop with dict.items():\n",
    "```python\n",
    "adj_list = {3: {1, 3}, 1: set(), 2: {1, 3}}\n",
    "\n",
    "n = len(adj_list)\n",
    "matrix = np.zeros((n,n))\n",
    "\n",
    "for row , cols in x.items():  #x.items() returns [  () , () ...   ]\n",
    "    for col in cols:\n",
    "        matrix[row-1][col-1] = 1\n",
    "```\n"
   ]
  },
  {
   "cell_type": "markdown",
   "metadata": {
    "vscode": {
     "languageId": "plaintext"
    }
   },
   "source": [
    "## Numpy"
   ]
  },
  {
   "cell_type": "markdown",
   "metadata": {
    "vscode": {
     "languageId": "plaintext"
    }
   },
   "source": [
    "Zeros Matrix\n",
    "```python\n",
    "np.zeros(  (  m , n  )  )  #grid should be given in tuple format\n",
    "```"
   ]
  },
  {
   "cell_type": "markdown",
   "metadata": {
    "vscode": {
     "languageId": "plaintext"
    }
   },
   "source": [
    "## Class"
   ]
  },
  {
   "cell_type": "markdown",
   "metadata": {
    "vscode": {
     "languageId": "plaintext"
    }
   },
   "source": [
    "```python\n",
    "class Sample():\n",
    "    def __init__(self, att1, att2, ...):\n",
    "        # ...\n",
    "    def __call__(self)\n",
    "        # ...\n",
    "```"
   ]
  },
  {
   "cell_type": "markdown",
   "metadata": {
    "vscode": {
     "languageId": "plaintext"
    }
   },
   "source": [
    "## Binary tree"
   ]
  },
  {
   "cell_type": "markdown",
   "metadata": {},
   "source": [
    "```python\n",
    "class Node():\n",
    "    def __init__(self, info, left=None, right=None):\n",
    "        self.info = info\n",
    "        self.left = left\n",
    "        self.right = right\n",
    "\n",
    "\n",
    "class BinaryTree():\n",
    "    def __init__(self, root=None):\n",
    "        self.root = root\n",
    "\n",
    "    def add(self, value):\n",
    "        if self.root is None:\n",
    "            self.root = Node(value)\n",
    "        \n",
    "class BinarySearchTree(BinaryTree):\n",
    "    def ... #Configue and change\n",
    "    "
   ]
  },
  {
   "cell_type": "markdown",
   "metadata": {},
   "source": [
    "## Recursive Highest value identifier in Binary tree"
   ]
  },
  {
   "cell_type": "markdown",
   "metadata": {
    "vscode": {
     "languageId": "plaintext"
    }
   },
   "source": [
    "```py\n",
    "def highest_val(root):\n",
    "    if root is None:\n",
    "        return None\n",
    "    return rec_highest_val(root)\n",
    "\n",
    "def rec_highest_val(node):\n",
    "    if node is None:\n",
    "        return -np.inf\n",
    "    return max(node.val, rec_highest_val(node.left), rec_highest_val(node.right))\n",
    "```"
   ]
  },
  {
   "cell_type": "markdown",
   "metadata": {
    "vscode": {
     "languageId": "plaintext"
    }
   },
   "source": [
    "### Binary Search\n",
    "\n",
    "```py\n",
    "def binary_search(arr, target):\n",
    "    \"\"\"\n",
    "    This function performs a binary search on a sorted list.\n",
    "\n",
    "    :param arr: A sorted list of values.\n",
    "    :type arr: list\n",
    "    :param target: The value to search for.\n",
    "    :type target: int\n",
    "    :return: The index of the target value if found, otherwise None.\n",
    "    :rtype: int or None\n",
    "    \"\"\"\n",
    "    left, right = 0, len(arr) - 1\n",
    "\n",
    "    while left <= right:\n",
    "        mid = (left + right) // 2\n",
    "        \n",
    "        if arr[mid] == target:\n",
    "            return mid\n",
    "        elif arr[mid] < target:\n",
    "            left = mid + 1\n",
    "        else:\n",
    "            right = mid - 1\n",
    "\n",
    "    return None\n",
    "\n",
    "# Example usage\n",
    "sorted_list = [1, 2, 3, 4, 5, 6, 7, 8, 9, 10]\n",
    "value_to_find = 7\n",
    "\n",
    "result = binary_search(sorted_list, value_to_find)\n",
    "\n",
    "if result is not None:\n",
    "    print(f\"Value found at index {result}\")\n",
    "else:\n",
    "    print(\"Value not found\")\n",
    "\n",
    "```"
   ]
  },
  {
   "cell_type": "markdown",
   "metadata": {
    "vscode": {
     "languageId": "plaintext"
    }
   },
   "source": [
    "### GCD\n",
    "```py\n",
    "def gcd(a, b):\n",
    "    \"\"\"\n",
    "    This function calculates the greatest common divisor of a and b.\n",
    "    \"\"\"\n",
    "    if b == 0:\n",
    "        return a\n",
    "    return gcd(b, a % b)"
   ]
  }
 ],
 "metadata": {
  "language_info": {
   "name": "python"
  }
 },
 "nbformat": 4,
 "nbformat_minor": 2
}
