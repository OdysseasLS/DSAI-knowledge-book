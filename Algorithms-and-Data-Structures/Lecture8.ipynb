{
 "cells": [
  {
   "cell_type": "markdown",
   "metadata": {
    "vscode": {
     "languageId": "plaintext"
    }
   },
   "source": [
    "## Topological sorting \n",
    "A ordering of vertices in a directed acyclic graph "
   ]
  },
  {
   "cell_type": "markdown",
   "metadata": {
    "vscode": {
     "languageId": "plaintext"
    }
   },
   "source": [
    "Time Complexity: $O(V+E)$"
   ]
  },
  {
   "cell_type": "markdown",
   "metadata": {},
   "source": [
    "<img src=\"../Files/second-semester/dsa/ts.jpg\" style=\"height: 400px\">"
   ]
  },
  {
   "cell_type": "markdown",
   "metadata": {
    "vscode": {
     "languageId": "plaintext"
    }
   },
   "source": [
    "- Make inverted adjacency list\n",
    "- Look for a node without entity like C1\n",
    "- Write C1 as a first item of list and cross it from other lists\n",
    "- Repeat the with C2 then others to reach\n",
    "```py\n",
    "[C1,C2,C3,C4,C5]\n",
    "```"
   ]
  },
  {
   "cell_type": "markdown",
   "metadata": {},
   "source": [
    "#### Closest Pair Problem:\n",
    "\n",
    "- Problem: Given n points, find the closest pair of points.\n",
    "- Brute Force: Compare all pairs, complexity $O(n^2)$\n",
    "- Divide and Conquer:  Divide points, solve recursively, merge results, complexity $O(n\\log{⁡n}). $"
   ]
  },
  {
   "cell_type": "markdown",
   "metadata": {
    "vscode": {
     "languageId": "plaintext"
    }
   },
   "source": [
    "#### Binary Search:\n",
    "\n",
    "- Problem: Search for a value in a sorted array.\n",
    "- Solution: Divide array, search in subarray, complexity O(log⁡n)."
   ]
  },
  {
   "cell_type": "markdown",
   "metadata": {
    "vscode": {
     "languageId": "plaintext"
    }
   },
   "source": [
    "### Master Theorem\n",
    "\n",
    "The Master Theorem provides a straightforward way to determine the time complexity of recurrence relations that are common in divide-and-conquer algorithms. It applies to recurrences of the form:\n",
    "\n",
    "$ T(n) = aT\\left(\\frac{n}{b}\\right) + f(n) $\n",
    "\n",
    "where:\n",
    "- $ n $ is the size of the problem.\n",
    "- $ a \\geq 1 $ is the number of subproblems in the recurrence.\n",
    "- $ b > 1 $ is the factor by which the subproblem size is reduced in each recursive call.\n",
    "- $ f(n) $ is the cost outside the recursive calls, also known as the \"combine\" cost.\n"
   ]
  },
  {
   "cell_type": "markdown",
   "metadata": {
    "vscode": {
     "languageId": "plaintext"
    }
   },
   "source": [
    "If $T(n) = aT\\left(\\left\\lceil \\frac{n}{b} \\right\\rceil\\right) + O(n^d)$ (for constants $a > 0$, $b > 1$, $d \\geq 0$), then:\n",
    "\n",
    "$$\n",
    "T(n) = \n",
    "\\begin{cases} \n",
    "O(n^d) & \\text{if } d > \\log_b a \\\\\n",
    "O(n^d \\log n) & \\text{if } d = \\log_b a \\\\\n",
    "O(n^{\\log_b a}) & \\text{if } d < \\log_b a \n",
    "\\end{cases}\n",
    "$$\n"
   ]
  }
 ],
 "metadata": {
  "kernelspec": {
   "display_name": "base",
   "language": "python",
   "name": "python3"
  },
  "language_info": {
   "codemirror_mode": {
    "name": "ipython",
    "version": 3
   },
   "file_extension": ".py",
   "mimetype": "text/x-python",
   "name": "python",
   "nbconvert_exporter": "python",
   "pygments_lexer": "ipython3",
   "version": "3.11.7"
  }
 },
 "nbformat": 4,
 "nbformat_minor": 2
}
