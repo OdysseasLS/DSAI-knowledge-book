{
 "cells": [
  {
   "cell_type": "markdown",
   "metadata": {},
   "source": [
    "#### Closest Pair Problem:\n",
    "\n",
    "- Problem: Given n points, find the closest pair of points.\n",
    "- Brute Force: Compare all pairs, complexity $O(n^2)$\n",
    "- Divide and Conquer:  Divide points, solve recursively, merge results, complexity $O(n\\log{⁡n}). $"
   ]
  },
  {
   "cell_type": "markdown",
   "metadata": {
    "vscode": {
     "languageId": "plaintext"
    }
   },
   "source": [
    "#### Binary Search:\n",
    "\n",
    "- Problem: Search for a value in a sorted array.\n",
    "- Solution: Divide array, search in subarray, complexity O(log⁡n)O(logn)."
   ]
  },
  {
   "cell_type": "markdown",
   "metadata": {
    "vscode": {
     "languageId": "plaintext"
    }
   },
   "source": [
    "### Master Theorem\n",
    "\n",
    "The Master Theorem provides a straightforward way to determine the time complexity of recurrence relations that are common in divide-and-conquer algorithms. It applies to recurrences of the form:\n",
    "\n",
    "$ T(n) = aT\\left(\\frac{n}{b}\\right) + f(n) $\n",
    "\n",
    "where:\n",
    "- $ n $ is the size of the problem.\n",
    "- $ a \\geq 1 $ is the number of subproblems in the recurrence.\n",
    "- $ b > 1 $ is the factor by which the subproblem size is reduced in each recursive call.\n",
    "- $ f(n) $ is the cost outside the recursive calls, also known as the \"combine\" cost.\n",
    "\n",
    "To apply the Master Theorem, follow these steps:\n",
    "\n",
    "1. Identify the values of $ a $, $ b $, and $ f(n) $ in your recurrence relation.\n",
    "2. Compute $ \\log_b a $.\n",
    "3. Compare $ f(n) $ with $ n^{\\log_b a} $ to determine which case applies.\n",
    "4. Use the corresponding solution for $ T(n) $."
   ]
  }
 ],
 "metadata": {
  "kernelspec": {
   "display_name": "base",
   "language": "python",
   "name": "python3"
  },
  "language_info": {
   "codemirror_mode": {
    "name": "ipython",
    "version": 3
   },
   "file_extension": ".py",
   "mimetype": "text/x-python",
   "name": "python",
   "nbconvert_exporter": "python",
   "pygments_lexer": "ipython3",
   "version": "3.11.7"
  }
 },
 "nbformat": 4,
 "nbformat_minor": 2
}
