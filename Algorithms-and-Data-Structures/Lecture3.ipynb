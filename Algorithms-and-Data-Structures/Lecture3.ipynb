{
 "cells": [
  {
   "cell_type": "markdown",
   "metadata": {},
   "source": [
    "# Time Complexity\n",
    "\n",
    "## Big O notation (O)\n",
    "##### Worst Case Scenario\n",
    "Big O notation describes the upper limit or worst-case scenario of an algorithm's performance. When we say $f(n) = O(g(n))$, it means that the function f grows no faster than g, up to a constant factor.\n",
    "\n",
    "**Note**: $ n!∈O(n^n) $\n",
    "\n",
    "## Theta notation (Θ)\n",
    "##### Average or typical case\n",
    "Theta notation gives a tight bound on the growth rate of a function. If $f(n) = \\Theta(g(n))$, it means that the function f grows exactly at the same rate as g, within constant factors.\n",
    "\n",
    "## Omega notation (Ω)\n",
    "##### Best-case scenario\n",
    "Omega notation represents the lower bound of an algorithm's performance. If $f(n) = \\Omega(g(n))$, it means that the function f grows at least as fast as g, up to a constant factor.\n"
   ]
  },
  {
   "cell_type": "markdown",
   "metadata": {},
   "source": [
    "### Asymptotic complexity\n",
    "Analyzes the complexity of algorithms when the inputs are really large (n goes to\n",
    "infinity)"
   ]
  },
  {
   "cell_type": "markdown",
   "metadata": {},
   "source": [
    "- $0 < \\lim_{n \\to \\infty} \\frac{f(n)}{g(n)} < \\infty \\quad \\Longleftrightarrow \\quad f \\in \\Theta(g)$\n",
    "- $\\lim_{n \\to \\infty} \\frac{f(n)}{g(n)} = 0 \\quad \\Longrightarrow \\quad f \\in O(g), \\text{ but } f \\not\\in \\Theta(g)$\n",
    "- $\\lim_{n \\to \\infty} \\frac{f(n)}{g(n)} = \\infty \\quad \\Longleftrightarrow \\quad g \\in O(f), \\text{ but } g \\not\\in \\Theta(f)$"
   ]
  },
  {
   "cell_type": "markdown",
   "metadata": {},
   "source": [
    "The following naming conventions apply for function growth rates:\n",
    "\n",
    "- **Constant**: $1$\n",
    "- **Logarithmic**: $\\log n$\n",
    "- **Linear**: $n$\n",
    "- **n-log-n**: $n \\log n$\n",
    "- **Quadratic**: $n^2$\n",
    "- **Polynomial**: $n^\\alpha \\quad (\\alpha > 1)$\n",
    "- **Exponential**: $2^n$\n",
    "- **Super Exponential**: $n!$, $n^n$, etc.\n"
   ]
  },
  {
   "cell_type": "markdown",
   "metadata": {},
   "source": [
    "Complexity classes\n",
    "\n",
    "\n",
    "<img src=\"../Files/second-semester/dsa/3.jpg\" style=\"height: 300px\">"
   ]
  },
  {
   "cell_type": "markdown",
   "metadata": {},
   "source": [
    "In binary tree (search) we have $O(\\log{n})$ because by each step the half of search path will be ignored till\n",
    "\n",
    "In heap search and Merge sort we have $O(n \\log{n})$"
   ]
  }
 ],
 "metadata": {
  "kernelspec": {
   "display_name": "Python 3",
   "language": "python",
   "name": "python3"
  },
  "language_info": {
   "codemirror_mode": {
    "name": "ipython",
    "version": 3
   },
   "file_extension": ".py",
   "mimetype": "text/x-python",
   "name": "python",
   "nbconvert_exporter": "python",
   "pygments_lexer": "ipython3",
   "version": "3.10.13"
  }
 },
 "nbformat": 4,
 "nbformat_minor": 2
}
