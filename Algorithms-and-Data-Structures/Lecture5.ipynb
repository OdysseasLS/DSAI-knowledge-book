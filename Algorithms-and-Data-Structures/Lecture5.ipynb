{
 "cells": [
  {
   "cell_type": "markdown",
   "metadata": {
    "vscode": {
     "languageId": "plaintext"
    }
   },
   "source": [
    "### Brute Force:\n",
    "Often has high computational complexity and not efficient for large inputs.\n",
    "Complexity examples:\n",
    "- Selection Sort: O(n2)O(n2)\n",
    "- Pattern Matching: O(n⋅m)O(n⋅m)"
   ]
  },
  {
   "cell_type": "markdown",
   "metadata": {},
   "source": [
    "#### Exhaustive search is currently the only known solution for:\n",
    "- Traveling Salesman Problem (TSP)\n",
    "- Knapsack Problem\n",
    "\n",
    "NP-hard, meaning no known polynomial-time algorithms can solve them."
   ]
  },
  {
   "cell_type": "markdown",
   "metadata": {
    "vscode": {
     "languageId": "plaintext"
    }
   },
   "source": [
    "### Closest Pair of Points time complexity ($\\sqrt{a^2 + b^2} $)\n",
    "$ = O(n^2) $"
   ]
  },
  {
   "cell_type": "markdown",
   "metadata": {
    "vscode": {
     "languageId": "plaintext"
    }
   },
   "source": [
    "### Convex Hull:\n",
    "\n",
    "- Definition: Smallest convex set containing a given set of points.\n",
    "- Algorithm: Check if all points are on the same side of each line segment formed by the points.\n",
    "- Complexity: O(n3)O(n3)"
   ]
  },
  {
   "cell_type": "markdown",
   "metadata": {
    "vscode": {
     "languageId": "plaintext"
    }
   },
   "source": [
    "### Hamiltonian circuitis\n",
    "A circuit that visits every vertex, except for the starting vertex, exactly once.\n",
    "Time complexity $ O(n!) $"
   ]
  }
 ],
 "metadata": {
  "kernelspec": {
   "display_name": "base",
   "language": "python",
   "name": "python3"
  },
  "language_info": {
   "codemirror_mode": {
    "name": "ipython",
    "version": 3
   },
   "file_extension": ".py",
   "mimetype": "text/x-python",
   "name": "python",
   "nbconvert_exporter": "python",
   "pygments_lexer": "ipython3",
   "version": "3.11.7"
  }
 },
 "nbformat": 4,
 "nbformat_minor": 2
}
