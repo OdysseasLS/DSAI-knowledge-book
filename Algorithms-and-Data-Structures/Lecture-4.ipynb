{
 "cells": [
  {
   "cell_type": "markdown",
   "metadata": {},
   "source": [
    "# Graph Traversal, State-spaces"
   ]
  },
  {
   "cell_type": "code",
   "execution_count": null,
   "metadata": {
    "vscode": {
     "languageId": "plaintext"
    }
   },
   "outputs": [],
   "source": [
    "# Depth-first-search Summary and Steps\n",
    "\n",
    "## Summary:\n",
    "Depth-first search (DFS) is a graph traversal algorithm where exploration starts from a given vertex. It moves to an adjacent unvisited vertex and continues until it can't proceed further. Then, it backtracks to the last visited vertex and explores the next unvisited adjacent vertex until the process leads back to the starting vertex. It can be implemented recursively or using a stack.\n",
    "\n",
    "## Steps:\n",
    "1. Start with a given vertex v.\n",
    "2. Move to an adjacent unvisited vertex.\n",
    "3. Continue this process until no further movement is possible.\n",
    "4. Backtrack to the last visited vertex.\n",
    "5. Explore the next unvisited adjacent vertex.\n",
    "6. Repeat steps 2-5 until all vertices reachable from v are visited.\n",
    "7. Keep track of visited vertices to ensure each is visited exactly once.\n",
    "8. If the graph is not connected, repeat the procedure for each disconnected component.\n"
   ]
  },
  {
   "cell_type": "markdown",
   "metadata": {},
   "source": [
    "# Depth-first-search Summary and Steps\n",
    "\n",
    "## Summary:\n",
    "Depth-first search (DFS) is a graph traversal algorithm where exploration starts from a given vertex. It moves to an adjacent unvisited vertex and continues until it can't proceed further. Then, it backtracks to the last visited vertex and explores the next unvisited adjacent vertex until the process leads back to the starting vertex. It can be implemented recursively or using a stack.\n",
    "\n",
    "## Steps:\n",
    "1. Start with a given vertex v.\n",
    "2. Move to an adjacent unvisited vertex.\n",
    "3. Continue this process until no further movement is possible.\n",
    "4. Backtrack to the last visited vertex.\n",
    "5. Explore the next unvisited adjacent vertex.\n",
    "6. Repeat steps 2-5 until all vertices reachable from v are visited.\n",
    "7. Keep track of visited vertices to ensure each is visited exactly once.\n",
    "8. If the graph is not connected, repeat the procedure for each disconnected component.\n"
   ]
  },
  {
   "cell_type": "markdown",
   "metadata": {
    "vscode": {
     "languageId": "plaintext"
    }
   },
   "source": [
    "eg.\n",
    "\n",
    "```py\n",
    "from collections import deque\n",
    "\n",
    "def dfs(graph, node):\n",
    "    visited = []\n",
    "    stack = deque()\n",
    "\n",
    "    visited.append(node)\n",
    "    stack.append(node)\n",
    "\n",
    "    while stack:\n",
    "        s = stack.pop()\n",
    "        print(s, end=\" \")\n",
    "\n",
    "        for n in reversed(graph[s]):\n",
    "            if n not in visited:\n",
    "                visited.append(n)\n",
    "                stack.append(n)\n",
    "\n",
    "#Example usage:\n",
    "graph = {\n",
    "    'A': ['B', 'G'],\n",
    "    'B': ['C', 'D', 'E'],\n",
    "    'C': [],\n",
    "    'D': [],\n",
    "    'E': ['F'],\n",
    "    'F': [],\n",
    "    'G': ['H'],\n",
    "    'H': ['I'],\n",
    "    'I': []\n",
    "}\n",
    "\n",
    "dfs(graph, 'A')\n",
    "```\n",
    "\n",
    "**Note**: We use notate the nodes like $\\alpha_{n \\ of \\ when \\ visited,\\  n \\ of\\  when \\ poped}$"
   ]
  },
  {
   "cell_type": "markdown",
   "metadata": {},
   "source": [
    "eg.\n",
    "\n",
    "```py\n",
    "from collections import deque\n",
    "\n",
    "def bfs(graph, start):\n",
    "    visited = []\n",
    "    queue = deque()\n",
    "\n",
    "    visited.append(start)\n",
    "    queue.append(start)\n",
    "\n",
    "    while queue:\n",
    "        current = queue.popleft()\n",
    "        print(current, end=\" \")\n",
    "\n",
    "        for neighbor in graph[current]:\n",
    "            if neighbor not in visited:\n",
    "                visited.append(neighbor)\n",
    "                queue.append(neighbor)\n",
    "\n",
    "# Example usage:\n",
    "graph = {\n",
    "    'A': ['B', 'G'],\n",
    "    'B': ['C', 'D', 'E'],\n",
    "    'C': [],\n",
    "    'D': [],\n",
    "    'E': ['F'],\n",
    "    'F': [],\n",
    "    'G': ['H'],\n",
    "    'H': ['I'],\n",
    "    'I': []\n",
    "}\n",
    "\n",
    "bfs(graph, 'A')\n",
    "```"
   ]
  },
  {
   "cell_type": "markdown",
   "metadata": {
    "vscode": {
     "languageId": "plaintext"
    }
   },
   "source": [
    "|              | DFS                          | BFS                        |\n",
    "|--------------|------------------------------|----------------------------|\n",
    "| Data structure | stack                         | queue                       |\n",
    "| Vertex orderings | two orders                     | one order                    |\n",
    "| Type edges (undirected) | tree and back edges           | tree and cross edges         |\n",
    "| Applications | connectivity, acyclic, 'articulation points' | connectivity, acyclic, shortest path |\n",
    "| Complexity for adj. matrix | O(\\|V\\|^2)                 | O(\\|V\\|^2)                   |\n",
    "| Complexity for adj. list | O(\\|V\\| + \\|E\\|)            | O(\\|V\\| + \\|E\\|)              |\n"
   ]
  },
  {
   "cell_type": "markdown",
   "metadata": {
    "vscode": {
     "languageId": "plaintext"
    }
   },
   "source": [
    "### Floodfill (Shortest path BFS)\n"
   ]
  },
  {
   "cell_type": "markdown",
   "metadata": {},
   "source": [
    "<img src=\"../Files/second-semester/dsa/1.jpg\" style=\"height: 200px\">"
   ]
  }
 ],
 "metadata": {
  "language_info": {
   "name": "python"
  }
 },
 "nbformat": 4,
 "nbformat_minor": 2
}
