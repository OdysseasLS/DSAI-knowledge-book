{
 "cells": [
  {
   "cell_type": "markdown",
   "metadata": {},
   "source": [
    "## Top-Down vs Bottom-Up Approaches:\n",
    "\n",
    "- Top-Down: Recursively solving the problem starting from the main problem and breaking it down into subproblems, using memoization to store solutions to subproblems.\n",
    "- Bottom-Up: Iteratively solving all subproblems starting from the simplest ones and building up to the solution of the main problem, often using a table to store solutions."
   ]
  }
 ],
 "metadata": {
  "kernelspec": {
   "display_name": "base",
   "language": "python",
   "name": "python3"
  },
  "language_info": {
   "codemirror_mode": {
    "name": "ipython",
    "version": 3
   },
   "file_extension": ".py",
   "mimetype": "text/x-python",
   "name": "python",
   "nbconvert_exporter": "python",
   "pygments_lexer": "ipython3",
   "version": "3.11.7"
  }
 },
 "nbformat": 4,
 "nbformat_minor": 2
}
