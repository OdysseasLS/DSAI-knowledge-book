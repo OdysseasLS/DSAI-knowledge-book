{
 "cells": [
  {
   "cell_type": "markdown",
   "metadata": {},
   "source": [
    "#### Example Problems\n",
    "\n",
    "##### Knapsack Problem\n",
    "- **Problem:** Given items with weights and values, and a knapsack with a weight capacity, find the most valuable subset of items that fits in the knapsack.\n",
    "- **Subproblem:** Decide to include or exclude an item.\n",
    "- **Recursive Relation:**\n",
    "  $$\n",
    "  F(i, j) = \n",
    "  \\begin{cases}\n",
    "  \\max(F(i-1, j), v_i + F(i-1, j-w_i)) & \\text{if } j \\geq w_i \\\\\n",
    "  F(i-1, j) & \\text{if } j < w_i\n",
    "  \\end{cases}\n",
    "  $$\n",
    "- **Base Cases:** $F(i, 0) = 0$, $F(0, j) = 0$ for $i, j \\geq 0$\n",
    "\n",
    "##### Bus-Trip Problem\n",
    "- **Problem:** Given a matrix of prices for traveling between cities, find the cheapest itinerary from city 0 to city $n$.\n",
    "- **Subproblem:** Choose a destination city.\n",
    "- **Recursive Relation:**\n",
    "  $$\n",
    "  F(n) = \n",
    "  \\begin{cases}\n",
    "  0 & \\text{if } n = 0 \\\\\n",
    "  \\min_{0 \\leq i < n} (F(i) + \\text{price}(i, n)) & \\text{if } n \\neq 0\n",
    "  \\end{cases}\n",
    "  $$\n",
    "\n",
    "##### Subset Sum Problem\n",
    "- **Problem:** Given a set of positive numbers and a target sum $d$, determine if there is a subset with sum equal to $d$.\n",
    "- **Subproblem:** Include or exclude an element.\n",
    "- **Recursive Relation:**\n",
    "  $$\n",
    "  F(i, j) = \n",
    "  \\begin{cases}\n",
    "  \\text{True} & \\text{if } j = 0 \\\\\n",
    "  \\text{False} & \\text{if } j < 0 \\text{ or } i = 0 \\\\\n",
    "  F(i-1, j) \\lor F(i-1, j-s_i) & \\text{otherwise}\n",
    "  \\end{cases}\n",
    "  $$\n",
    "\n",
    "##### Sawmill Problem\n",
    "- **Problem:** Minimize the cost of sawing a tree trunk into specified lengths, with a cost equal to the length of the trunk at each cut.\n",
    "- **Subproblem:** Determine where to make the cut.\n",
    "- **Recursive Relation:**\n",
    "  $$\n",
    "  F(i, j) = \n",
    "  \\begin{cases}\n",
    "  L(i, j) + \\min_{i \\leq k < j} (F(i, k) + F(k+1, j)) & \\text{if } i < j \\\\\n",
    "  0 & \\text{if } i = j\n",
    "  \\end{cases}\n",
    "  $$\n"
   ]
  }
 ],
 "metadata": {
  "kernelspec": {
   "display_name": "base",
   "language": "python",
   "name": "python3"
  },
  "language_info": {
   "codemirror_mode": {
    "name": "ipython",
    "version": 3
   },
   "file_extension": ".py",
   "mimetype": "text/x-python",
   "name": "python",
   "nbconvert_exporter": "python",
   "pygments_lexer": "ipython3",
   "version": "3.11.7"
  }
 },
 "nbformat": 4,
 "nbformat_minor": 2
}
