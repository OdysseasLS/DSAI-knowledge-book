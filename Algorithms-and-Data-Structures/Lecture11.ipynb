{
 "cells": [
  {
   "cell_type": "markdown",
   "metadata": {},
   "source": [
    "## Greedy algorithm\n",
    "Simple way to solve problems by taking the best option available at each step.\n",
    "This approach takes the best option at each step without looking at the whole problem, hoping it leads to the best solution."
   ]
  },
  {
   "cell_type": "markdown",
   "metadata": {},
   "source": [
    "## Priority Queue\n",
    "\n",
    "A Priority Queue is a data structure where each element has a priority. Elements are served based on their priority rather than their order in the queue. \n",
    "\n",
    "**Operations (Priority Queue):**\n",
    "- Insert: heap: $O(\\log n)$\n",
    "- Findmax (findmin): heap: $O(1)$\n",
    "- Deletemax (deletemin): heap: $O(\\log n)$\n",
    "- (Optional) Change priority: heap: $O(\\log n)$"
   ]
  },
  {
   "cell_type": "markdown",
   "metadata": {},
   "source": [
    "### Dijkstra's Algorithm \n",
    "Greedy algorithm used to find the shortest path from a single source vertex to all other vertices in a weighted graph\n",
    "Time complexity: $ O (|E| + |V| \\log{|V|}) $\n",
    "\n",
    "```py\n",
    "import heapq\n",
    "\n",
    "def dijkstra(graph, start):\n",
    "    # Initialize distances with infinity and set the start node distance to 0\n",
    "    distances = {node: float('infinity') for node in graph}\n",
    "    distances[start] = 0\n",
    "    \n",
    "    # Priority queue to store (distance, node)\n",
    "    priority_queue = [(0, start)]\n",
    "    \n",
    "    while priority_queue:\n",
    "        current_distance, current_node = heapq.heappop(priority_queue)\n",
    "        \n",
    "        # Skip processing if a shorter path to current_node is already found\n",
    "        if current_distance > distances[current_node]:\n",
    "            continue\n",
    "        \n",
    "        # Check and update distances to neighboring nodes\n",
    "        for neighbor, weight in graph[current_node].items():\n",
    "            distance = current_distance + weight\n",
    "            \n",
    "            # Only consider this new path if it's better\n",
    "            if distance < distances[neighbor]:\n",
    "                distances[neighbor] = distance\n",
    "                heapq.heappush(priority_queue, (distance, neighbor))\n",
    "    \n",
    "    return distances\n",
    "\n",
    "# Example graph represented as a dictionary\n",
    "graph = {\n",
    "    'A': {'B': 1, 'C': 4},\n",
    "    'B': {'A': 1, 'C': 2, 'D': 5},\n",
    "    'C': {'A': 4, 'B': 2, 'D': 1},\n",
    "    'D': {'B': 5, 'C': 1}\n",
    "}\n",
    "\n",
    "# Running Dijkstra's algorithm\n",
    "start_node = 'A'\n",
    "distances = dijkstra(graph, start_node)\n",
    "\n",
    "print(f\"Shortest distances from {start_node}: {distances}\")\n",
    "\n",
    "```"
   ]
  },
  {
   "cell_type": "markdown",
   "metadata": {},
   "source": [
    "## Minimal spanning tree"
   ]
  },
  {
   "cell_type": "markdown",
   "metadata": {},
   "source": [
    "### Prim's Algorithm\n",
    "\n",
    "Prim's Algorithm is a greedy algorithm that finds a minimum spanning tree for a weighted undirected graph. This means it finds a subset of the edges that forms a tree that includes every vertex, where the total weight of all the edges in the tree is minimized."
   ]
  },
  {
   "cell_type": "markdown",
   "metadata": {},
   "source": [
    "### Kruskal’s Algorithm\n",
    "\n",
    "Sorting edges takes $ O(m \\log m) $. Checking for cycles using the Union-Find structure takes $ O(m \\log n) $.\n",
    "\n",
    "**Complexity of Quick Union:**\n",
    "\n",
    "- `makeset(x)`: $ O(1) $\n",
    "- `find(x)`: $ O(\\log n) $\n",
    "- `union(x, y)`: $ O(1) $"
   ]
  }
 ],
 "metadata": {
  "language_info": {
   "name": "python"
  }
 },
 "nbformat": 4,
 "nbformat_minor": 2
}
