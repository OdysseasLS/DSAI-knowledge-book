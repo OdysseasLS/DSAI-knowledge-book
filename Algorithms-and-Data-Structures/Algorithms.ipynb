{
 "cells": [
  {
   "cell_type": "markdown",
   "metadata": {},
   "source": [
    "## GCD Calculation Methods"
   ]
  },
  {
   "cell_type": "markdown",
   "metadata": {},
   "source": [
    "<hr>\n",
    "\n",
    "### Euclid's Algorithm\n",
    "\n",
    "- **gcd(m,n):**\n",
    "  - Euclid's algorithm:\n",
    "    - gcd(n , m mod n)\n",
    "  - **Python Implementation:**\n"
   ]
  },
  {
   "cell_type": "code",
   "execution_count": null,
   "metadata": {},
   "outputs": [],
   "source": [
    "def euclid(m, n):\n",
    "    while n != 0:\n",
    "        r = m % n\n",
    "        m = n\n",
    "        n = r\n",
    "    return m"
   ]
  },
  {
   "cell_type": "markdown",
   "metadata": {},
   "source": [
    "### Algorithm 2\n",
    "\n",
    "1. **Step 1:** Determine min(m,n) assign this value to t\n",
    "2. **Step 2:** Divide m by t. If the remainder is 0, go to Step 3; Otherwise, go to Step 4\n",
    "3. **Step 3:** Divide n by t. If the remainder is 0, then the gcd is t, so return t and terminate; otherwise go to step 4\n",
    "4. **Step 4:** Decrease t with 1 and go to step 2\n",
    "\n",
    "- Note: This algorithm fails if either m or n is zero. Legal input is: m ≠ 0 and n ≠ 0.\n",
    "\n",
    "### Method 3\n",
    "\n",
    "- The following algorithm determines the greatest common divisor by decomposing m and n into their prime factors. The gcd is the product of the common factors.\n",
    "  \n",
    "- **Example:** \n",
    "  - For 60 = 2^2 * 3 * 5 and 24 = 2^3 * 3,\n",
    "  - gcd(60, 24) = 2^2 * 3 = 12.\n",
    "\n",
    "1. **Step 1:** Determine the prime factors of m\n",
    "2. **Step 2:** Determine the prime factors of n\n",
    "3. **Step 3:** Determine the common prime factors\n",
    "4. **Step 4:** Calculate the product of these common prime factors and return this value"
   ]
  }
 ],
 "metadata": {
  "language_info": {
   "name": "python"
  }
 },
 "nbformat": 4,
 "nbformat_minor": 2
}
