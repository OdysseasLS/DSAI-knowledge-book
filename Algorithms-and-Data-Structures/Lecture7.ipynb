{
 "cells": [
  {
   "cell_type": "markdown",
   "metadata": {
    "vscode": {
     "languageId": "plaintext"
    }
   },
   "source": [
    "### Merge Sort\n",
    "**Explanation**:\n",
    "- Merge Sort is a divide-and-conquer algorithm.\n",
    "- It divides the array into two halves, recursively sorts each half, and then merges the sorted halves to produce the sorted array.\n",
    "\n",
    "**Example**:\n",
    "1. Given array: `[38, 27, 43, 3, 9, 82, 10]`\n",
    "2. Divide into two halves: `[38, 27, 43, 3]` and `[9, 82, 10]`\n",
    "3. Recursively sort each half:\n",
    "   - `[38, 27, 43, 3]` -> `[27, 38, 3, 43]` -> `[3, 27, 38, 43]`\n",
    "   - `[9, 82, 10]` -> `[9, 10, 82]`\n",
    "4. Merge the sorted halves:\n",
    "   - `[3, 27, 38, 43]` and `[9, 10, 82]` -> `[3, 9, 10, 27, 38, 43, 82]`\n",
    "\n",
    "**Time Complexity**:\n",
    "- $O(n \\log n)$\n"
   ]
  },
  {
   "cell_type": "markdown",
   "metadata": {},
   "source": [
    "<img src=\"../Files/second-semester/dsa/merge.gif\" style=\"height: 400px\">"
   ]
  },
  {
   "cell_type": "markdown",
   "metadata": {
    "vscode": {
     "languageId": "plaintext"
    }
   },
   "source": [
    "```py\n",
    "def merge_sort(arr):\n",
    "    if len(arr) > 1:\n",
    "        mid = len(arr) // 2\n",
    "        left_half = arr[:mid]\n",
    "        right_half = arr[mid:]\n",
    "\n",
    "        # Recursive call on each half\n",
    "        merge_sort(left_half)\n",
    "        merge_sort(right_half)\n",
    "\n",
    "        # Iterators for traversing the two halves\n",
    "        i = 0\n",
    "        j = 0\n",
    "\n",
    "        # Iterator for the main list\n",
    "        k = 0\n",
    "\n",
    "        # Until we reach either end of either left_half or right_half, pick larger among\n",
    "        # elements left_half and right_half and place them in the correct position at arr\n",
    "        while i < len(left_half) and j < len(right_half):\n",
    "            if left_half[i] < right_half[j]:\n",
    "                arr[k] = left_half[i]\n",
    "                i += 1\n",
    "            else:\n",
    "                arr[k] = right_half[j]\n",
    "                j += 1\n",
    "            k += 1\n",
    "\n",
    "        # When we run out of elements in either left_half or right_half,\n",
    "        # pick up the remaining elements and put them in arr\n",
    "        while i < len(left_half):\n",
    "            arr[k] = left_half[i]\n",
    "            i += 1\n",
    "            k += 1\n",
    "\n",
    "        while j < len(right_half):\n",
    "            arr[k] = right_half[j]\n",
    "            j += 1\n",
    "            k += 1\n",
    "\n",
    "# Sample usage\n",
    "arr = [38, 27, 43, 3, 9, 82, 10]\n",
    "merge_sort(arr)\n",
    "print(\"Sorted array is:\", arr)\n",
    "\n",
    "```"
   ]
  },
  {
   "cell_type": "markdown",
   "metadata": {
    "vscode": {
     "languageId": "plaintext"
    }
   },
   "source": [
    "#### Another approach"
   ]
  },
  {
   "cell_type": "code",
   "execution_count": null,
   "metadata": {},
   "outputs": [],
   "source": [
    "def merge_sort(arr):\n",
    "    if len(arr) <= 1:\n",
    "        return arr\n",
    "\n",
    "    mid = len(arr) // 2\n",
    "    left_half = merge_sort(arr[:mid])\n",
    "    right_half = merge_sort(arr[mid:])\n",
    "\n",
    "    return merge(left_half, right_half)\n",
    "\n",
    "def merge(left, right):\n",
    "    sorted_arr = []\n",
    "    i = j = 0\n",
    "\n",
    "    while i < len(left) and j < len(right):\n",
    "        if left[i] < right[j]:\n",
    "            sorted_arr.append(left[i])\n",
    "            i += 1\n",
    "        else:\n",
    "            sorted_arr.append(right[j])\n",
    "            j += 1\n",
    "\n",
    "    sorted_arr.extend(left[i:])\n",
    "    sorted_arr.extend(right[j:])\n",
    "    return sorted_arr\n",
    "\n",
    "# Example usage\n",
    "arr = [38, 27, 43, 3, 9, 82, 10]\n",
    "sorted_arr = merge_sort(arr)\n",
    "print(\"Sorted array:\", sorted_arr)\n"
   ]
  },
  {
   "cell_type": "markdown",
   "metadata": {
    "vscode": {
     "languageId": "plaintext"
    }
   },
   "source": [
    "<hr>"
   ]
  },
  {
   "cell_type": "markdown",
   "metadata": {
    "vscode": {
     "languageId": "plaintext"
    }
   },
   "source": [
    "### Quick Sort\n",
    "**Explanation**:\n",
    "- Quick Sort is a divide-and-conquer algorithm.\n",
    "- It selects a 'pivot' element, partitions the array around the pivot, and recursively sorts the subarrays.\n",
    "\n",
    "**Example**:\n",
    "1. Given array: `[10, 7, 8, 9, 1, 5]`\n",
    "2. Choose pivot (last element): `5`\n",
    "3. Partition the array around pivot:\n",
    "   - `[1, 5, 8, 9, 10, 7]`\n",
    "4. Recursively sort subarrays:\n",
    "   - `[1, 5]` and `[8, 9, 10, 7]`\n",
    "   - `[1, 5]` is already sorted.\n",
    "   - `[8, 9, 10, 7]` with pivot 7 -> `[1, 5, 7, 8, 9, 10]`\n",
    "\n",
    "**Time Complexity**:\n",
    "- **Best Case**: $O(n \\log n)$\n",
    "- **Average Case**: $O(n \\log n)$\n",
    "- **Worst Case**: $O(n^2)$ (when pivot selection is poor)\n"
   ]
  },
  {
   "cell_type": "markdown",
   "metadata": {},
   "source": [
    "<img src=\"../Files/second-semester/dsa/quick.gif\" style=\"height: 400px\">"
   ]
  },
  {
   "cell_type": "markdown",
   "metadata": {},
   "source": [
    "<hr>"
   ]
  },
  {
   "cell_type": "markdown",
   "metadata": {
    "vscode": {
     "languageId": "plaintext"
    }
   },
   "source": [
    "### Insertion Sort\n",
    "**Explanation**:\n",
    "- Insertion Sort builds the final sorted array one element at a time.\n",
    "- It works by repeatedly taking the next element and inserting it into the correct position in the already sorted part of the array.\n",
    "\n",
    "**Example**:\n",
    "1. Given array: `[12, 11, 13, 5, 6]`\n",
    "2. Start with the first element: `[12]`\n",
    "3. Insert 11: `[11, 12]`\n",
    "4. Insert 13: `[11, 12, 13]`\n",
    "5. Insert 5: `[5, 11, 12, 13]`\n",
    "6. Insert 6: `[5, 6, 11, 12, 13]`\n",
    "\n",
    "**Time Complexity**:\n",
    "- **Best Case**: $O(n)$ (when the array is already sorted)\n",
    "- **Average Case**: $O(n^2)$\n",
    "- **Worst Case**: $O(n^2)$\n",
    "\n",
    "These explanations and examples should help you understand the mechanics and efficiencies of each sorting algorithm."
   ]
  },
  {
   "cell_type": "markdown",
   "metadata": {},
   "source": [
    "<img src=\"../Files/second-semester/dsa/insertion.gif\" style=\"height: 400px\">"
   ]
  }
 ],
 "metadata": {
  "kernelspec": {
   "display_name": "base",
   "language": "python",
   "name": "python3"
  },
  "language_info": {
   "codemirror_mode": {
    "name": "ipython",
    "version": 3
   },
   "file_extension": ".py",
   "mimetype": "text/x-python",
   "name": "python",
   "nbconvert_exporter": "python",
   "pygments_lexer": "ipython3",
   "version": "3.11.7"
  }
 },
 "nbformat": 4,
 "nbformat_minor": 2
}
