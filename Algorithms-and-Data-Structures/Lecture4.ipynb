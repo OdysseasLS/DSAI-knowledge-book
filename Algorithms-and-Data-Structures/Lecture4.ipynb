{
 "cells": [
  {
   "cell_type": "markdown",
   "metadata": {},
   "source": [
    "# Graph Traversal, State-spaces"
   ]
  },
  {
   "cell_type": "markdown",
   "metadata": {},
   "source": [
    "# Depth-first-search Summary and Steps\n",
    "\n",
    "### Summary:\n",
    "Depth-first search (DFS) is a graph traversal algorithm where exploration starts from a given vertex. It moves to an adjacent unvisited vertex and continues until it can't proceed further. Then, it backtracks to the last visited vertex and explores the next unvisited adjacent vertex until the process leads back to the starting vertex. It can be implemented recursively or using a stack.\n",
    "\n",
    "### Steps:\n",
    "1. Start with a given vertex v.\n",
    "2. Move to an adjacent unvisited vertex.\n",
    "3. Continue this process until no further movement is possible.\n",
    "4. Backtrack to the last visited vertex.\n",
    "5. Explore the next unvisited adjacent vertex.\n",
    "6. Repeat steps 2-5 until all vertices reachable from v are visited.\n",
    "7. Keep track of visited vertices to ensure each is visited exactly once.\n",
    "8. If the graph is not connected, repeat the procedure for each disconnected component.\n"
   ]
  },
  {
   "cell_type": "markdown",
   "metadata": {
    "vscode": {
     "languageId": "plaintext"
    }
   },
   "source": [
    "eg.\n",
    "\n",
    "```python\n",
    "from collections import deque\n",
    "\n",
    "def dfs(graph, node):\n",
    "    visited = []\n",
    "    stack = deque()\n",
    "\n",
    "    visited.append(node)\n",
    "    stack.append(node)\n",
    "\n",
    "    while stack:\n",
    "        s = stack.pop()\n",
    "        print(s, end=\" \")\n",
    "\n",
    "        for n in reversed(graph[s]):\n",
    "            if n not in visited:\n",
    "                visited.append(n)\n",
    "                stack.append(n)\n",
    "\n",
    "#Example usage:\n",
    "graph = {\n",
    "    'A': ['B', 'G'],\n",
    "    'B': ['C', 'D', 'E'],\n",
    "    'C': [],\n",
    "    'D': [],\n",
    "    'E': ['F'],\n",
    "    'F': [],\n",
    "    'G': ['H'],\n",
    "    'H': ['I'],\n",
    "    'I': []\n",
    "}\n",
    "\n",
    "dfs(graph, 'A')\n",
    "```\n",
    "\n",
    "**Note**: We use notate the nodes like $\\alpha_{n \\ of \\ when \\ visited,\\  n \\ of\\  when \\ poped}$"
   ]
  },
  {
   "cell_type": "markdown",
   "metadata": {},
   "source": [
    "<hr>"
   ]
  },
  {
   "cell_type": "markdown",
   "metadata": {},
   "source": [
    "# Breadth-first-search Summary and Steps\n",
    "\n",
    "### Summary:\n",
    "Breadth-first search (BFS) is a graph traversal algorithm used for searching a graph layer-wise starting from a given vertex. It explores all the nearest nodes at the present depth prior to moving on to nodes at the next depth level. This algorithm is implemented using a queue.\n",
    "\n",
    "### Steps:\n",
    "1. Start with a given vertex `v` and mark it as visited.\n",
    "2. Enqueue vertex `v`.\n",
    "3. While the queue is not empty:\n",
    "   - Dequeue a vertex `u` from the queue.\n",
    "   - For each adjacent vertex `w` of `u` that has not been visited:\n",
    "     - Mark `w` as visited.\n",
    "     - Enqueue `w`.\n",
    "4. Continue the process until the queue is empty.\n",
    "5. If the graph is not connected, repeat the procedure for each unvisited vertex in the graph.\n",
    "\n",
    "eg.\n",
    "\n",
    "```python\n",
    "from collections import deque\n",
    "\n",
    "def bfs(graph, start):\n",
    "    visited = set()\n",
    "    queue = deque([start])\n",
    "\n",
    "    while queue:\n",
    "        vertex = queue.popleft()\n",
    "        print(vertex, end=\" \")\n",
    "\n",
    "        for neighbor in graph[vertex]:\n",
    "            if neighbor not in visited:\n",
    "                visited.add(neighbor)\n",
    "                queue.append(neighbor)\n",
    "\n",
    "#Example usage:\n",
    "graph = {\n",
    "    'A': ['B', 'C'],\n",
    "    'B': ['D', 'E'],\n",
    "    'C': ['F'],\n",
    "    'D': [],\n",
    "    'E': ['G'],\n",
    "    'F': [],\n",
    "    'G': ['H'],\n",
    "    'H': []\n",
    "}\n",
    "\n",
    "bfs(graph, 'A')\n"
   ]
  },
  {
   "cell_type": "markdown",
   "metadata": {},
   "source": [
    "<hr>"
   ]
  },
  {
   "cell_type": "markdown",
   "metadata": {},
   "source": [
    "## BFS vs DFS"
   ]
  },
  {
   "cell_type": "markdown",
   "metadata": {},
   "source": [
    "<img src=\"../Files/second-semester/dsa/bfs_dfs.gif\" style=\"height: 400px\">"
   ]
  },
  {
   "cell_type": "markdown",
   "metadata": {},
   "source": [
    "- Breadth-First Search (BFS):\n",
    "\n",
    "Explores neighbors at the current depth prior to moving on to nodes at the next depth level.\n",
    "\n",
    "Uses a queue to keep track of the next vertex to visit.\n",
    "\n",
    "Good for finding the shortest path on unweighted graphs.\n",
    "    \n",
    "- Depth-First Search (DFS):\n",
    "\n",
    "Explores as far as possible down one branch before backing up and trying another.\n",
    "\n",
    "Uses a stack (often implemented via recursion) to keep track of the next vertex to visit.\n",
    "\n",
    "Useful for scenarios where you want to visit every node and/or construct paths."
   ]
  },
  {
   "cell_type": "markdown",
   "metadata": {
    "vscode": {
     "languageId": "plaintext"
    }
   },
   "source": [
    "|              | DFS                          | BFS                        |\n",
    "|--------------|------------------------------|----------------------------|\n",
    "| Data structure | stack                         | queue                       |\n",
    "| Vertex orderings | two orders                     | one order                    |\n",
    "| Type edges (undirected) | tree and back edges           | tree and cross edges         |\n",
    "| Applications | connectivity, acyclic, 'articulation points' | connectivity, acyclic, shortest path |\n",
    "| Complexity for adj. matrix | O(\\|V\\|^2)                 | O(\\|V\\|^2)                   |\n",
    "| Complexity for adj. list | O(\\|V\\| + \\|E\\|)            | O(\\|V\\| + \\|E\\|)              |\n"
   ]
  },
  {
   "cell_type": "markdown",
   "metadata": {
    "vscode": {
     "languageId": "plaintext"
    }
   },
   "source": [
    "### Floodfill (Shortest path BFS)\n"
   ]
  },
  {
   "cell_type": "markdown",
   "metadata": {},
   "source": [
    "<img src=\"../Files/second-semester/dsa/1.jpg\" style=\"height: 200px\">"
   ]
  }
 ],
 "metadata": {
  "language_info": {
   "name": "python"
  }
 },
 "nbformat": 4,
 "nbformat_minor": 2
}
