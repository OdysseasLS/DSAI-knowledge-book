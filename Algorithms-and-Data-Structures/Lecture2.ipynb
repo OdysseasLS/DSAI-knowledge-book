{
 "cells": [
  {
   "cell_type": "markdown",
   "metadata": {},
   "source": [
    "## Graph and Tree\n",
    "\n",
    "### Binary trees\n",
    "- Inorder: LNR\n",
    "- Preorder: NLR\n",
    "- Postorder: LRN\n",
    "\n",
    "\n",
    "\n",
    "### Countring pre-order tree traversal nodes\n",
    "```python\n",
    "def node_count(root):\n",
    "    if root is None:\n",
    "        return 0\n",
    "    else:\n",
    "        return 1 + node_count(root.left) + node_count(root.right)\n",
    "count = node_count(root)\n",
    "```\n",
    "\n",
    "Complete binary tree: Only on the bottom level, the right-most nodes may be empty.\n",
    "```md\n",
    "    7\n",
    "   / \\\n",
    "  9   3\n",
    " / \\ / \\\n",
    "8  4 5 \n",
    "```\n"
   ]
  },
  {
   "cell_type": "markdown",
   "metadata": {},
   "source": [
    "### Binary search tree\n",
    "A binary tree where for each node holds that its value is greater than all values in the left subtree, and smaller than all values in the right subtree.\n",
    "    \n",
    "    example :\n",
    "```md\n",
    "       5\n",
    "      / \\\n",
    "     3   7\n",
    "    / \\ / \\ \n",
    "    1 4 6 8\n",
    "```"
   ]
  },
  {
   "cell_type": "markdown",
   "metadata": {},
   "source": [
    "#### Remove in binary search tree\n",
    "<img src=\"../Files/second-semester/dsa/2.jpg\" style=\"height: 200px\">\n",
    "\n",
    "swap with greatest smaller value"
   ]
  },
  {
   "cell_type": "markdown",
   "metadata": {},
   "source": [
    "## Binary Tree Height and Node Range\n",
    "\n",
    "The table below shows the relationship between the height $h$ and the minimum ($n_{\\text{min}}$) and maximum ($n_{\\text{max}}$) number of nodes in a binary tree:\n",
    "\n",
    "| h | nmin | nmax |\n",
    "|---|------|------|\n",
    "| 0 |  1   |  1   |\n",
    "| 1 |  2   |  3   |\n",
    "| 2 |  3   |  7   |\n",
    "| 3 |  4   |  15  |\n",
    "| 4 |  5   |  31  |\n",
    "\n",
    "The maximum number of nodes $n_{\\text{max}}$ can be calculated using the formula: $n_{\\text{max}} = 2^{h+1} - 1$.\n",
    "\n",
    "## Height of Binary Tree and Logarithm\n",
    "\n",
    "For a binary tree with height $h$ and $n$ nodes, the following equation holds:\n",
    "\n",
    "$h \\leq \\lceil \\log_2(n + 1) \\rceil - 1$"
   ]
  },
  {
   "cell_type": "markdown",
   "metadata": {
    "vscode": {
     "languageId": "plaintext"
    }
   },
   "source": [
    "## Heap\n",
    "\n",
    "A heap is a special tree-based data structure that satisfies the heap property. There are two types of heaps:\n",
    "\n",
    "- Max-Heap: In a max-heap, for any given node I, the value of I is greater than or equal to the values of its children. The highest value is at the root.\n",
    "\n",
    "- Min-Heap: In a min-heap, for any given node I, the value of I is less than or equal to the values of its children. The lowest value is at the root.\n",
    "\n",
    "Key Characteristics:\n",
    "\n",
    "- Heaps are commonly implemented as binary trees.\n",
    "- They are used to implement priority queues.\n",
    "- The operations insert and extract (remove) are efficient, typically O(log n) due to the tree height."
   ]
  }
 ],
 "metadata": {
  "kernelspec": {
   "display_name": "Python 3",
   "language": "python",
   "name": "python3"
  },
  "language_info": {
   "codemirror_mode": {
    "name": "ipython",
    "version": 3
   },
   "file_extension": ".py",
   "mimetype": "text/x-python",
   "name": "python",
   "nbconvert_exporter": "python",
   "pygments_lexer": "ipython3",
   "version": "3.10.13"
  }
 },
 "nbformat": 4,
 "nbformat_minor": 2
}
