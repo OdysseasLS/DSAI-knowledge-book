{
 "cells": [
  {
   "cell_type": "markdown",
   "metadata": {},
   "source": [
    "## GCD Calculation Methods $gcd(m,n)$"
   ]
  },
  {
   "cell_type": "markdown",
   "metadata": {},
   "source": [
    "### Euclid's algorithm:\n",
    "\n",
    "```python\n",
    "def euclid(m, n):\n",
    "    while n != 0:\n",
    "        r = m % n\n",
    "        m = n\n",
    "        n = r\n",
    "    return m\n",
    "```"
   ]
  },
  {
   "cell_type": "markdown",
   "metadata": {},
   "source": [
    "### Algorithm 2\n",
    "\n",
    "1. **Step 1:** Determine min(m,n) assign this value to t\n",
    "2. **Step 2:** Divide m by t. If the remainder is 0, go to Step 3; Otherwise, go to Step 4\n",
    "3. **Step 3:** Divide n by t. If the remainder is 0, then the gcd is t, so return t and terminate; otherwise go to step 4\n",
    "4. **Step 4:** Decrease t with 1 and go to step 2\n",
    "\n",
    "- Note: This algorithm fails if either m or n is zero. Legal input is: m ≠ 0 and n ≠ 0.\n",
    "\n",
    "### Method 3\n",
    "\n",
    "- The following algorithm determines the greatest common divisor by decomposing m and n into their prime factors. The gcd is the product of the common factors.\n",
    "  \n",
    "- **Example:** \n",
    "  - For 60 = 2^2 * 3 * 5 and 24 = 2^3 * 3,\n",
    "  - gcd(60, 24) = 2^2 * 3 = 12.\n",
    "\n",
    "1. **Step 1:** Determine the prime factors of m\n",
    "2. **Step 2:** Determine the prime factors of n\n",
    "3. **Step 3:** Determine the common prime factors\n",
    "4. **Step 4:** Calculate the product of these common prime factors and return this value"
   ]
  },
  {
   "cell_type": "markdown",
   "metadata": {},
   "source": [
    "<hr>"
   ]
  },
  {
   "cell_type": "markdown",
   "metadata": {},
   "source": [
    "# Data Structures\n",
    "\n",
    "## Linear Data Structure:\n",
    "\n",
    "| Array | List |\n",
    "|-------|------|\n",
    "| Fixed-size | Dynamic size |\n",
    "| Contiguous memory storage | Elements may not be contiguous |\n",
    "| Access by index | Sequential access, slower for random access |\n",
    "\n",
    "## Various Types of Lists\n",
    "\n",
    "- **Array**\n",
    "  - 345   0   871   1   ...\n",
    "\n",
    "- **Singly Linked List** (not often used in Python)\n",
    "  - → 345 → 871 → ... → 692 → null\n",
    "\n",
    "- **Doubly Linked List** (not often used in Python)\n",
    "  - → null 345 ←→ 871 ←→ ... →← 692 null ←→\n",
    "\n",
    "Differences in how items can be accessed, stored, or removed from a list.\n",
    "\n"
   ]
  },
  {
   "cell_type": "markdown",
   "metadata": {},
   "source": [
    "## Special lists:\n",
    "\n",
    "| Queue | Stack | Priority Queue |\n",
    "|-------|-------|----------------|\n",
    "| FIFO | LIFO | abstract priority based data type |\n",
    "| **Operations:** | **Operations:** | higher priorities elements are dequeued before elements with lower priorities |\n",
    "| - enqueue : adding an element to the back | - push : adding an element to the top | |\n",
    "| - dequeue : removing an element from the front | - pop : removing an element from the top | |\n",
    "| line of people waiting for a bus | plates | heaps or arrays |\n"
   ]
  }
 ],
 "metadata": {
  "language_info": {
   "name": "python"
  }
 },
 "nbformat": 4,
 "nbformat_minor": 2
}
