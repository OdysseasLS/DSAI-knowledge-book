{
 "cells": [
  {
   "cell_type": "markdown",
   "metadata": {},
   "source": [
    "## Dynamic Programming ≈ Recursive Algorithm + Memoization"
   ]
  },
  {
   "cell_type": "markdown",
   "metadata": {
    "vscode": {
     "languageId": "plaintext"
    }
   },
   "source": [
    "A technique for solving problems with overlapping subproblems having two approaches:\n",
    "- **Top-down approach**: In this approach, problems are broken down into smaller parts, which help users identify what needs to be done.\n",
    "- **Bottom-up approach**: Often implies building a solution iteratively or dynamically, starting from the base cases and working upwards to the final solution."
   ]
  },
  {
   "cell_type": "markdown",
   "metadata": {
    "vscode": {
     "languageId": "plaintext"
    }
   },
   "source": [
    "### Bottom-Up Fibonacci\n",
    "\n",
    "\n",
    "**Algorithm**:\n",
    "1. Start with the base cases: $ F(0) = 0 $ and $ F(1) = 1 $.\n",
    "2. Use a loop to calculate each Fibonacci number from $ F(2) $ to $ F(n) $.\n",
    "3. Store only the last two Fibonacci numbers at each step to save space.\n",
    "\n",
    "### Differences Between Bottom-Up Fibonacci and Recursive Fibonacci\n",
    "\n",
    "1. **Efficiency**:\n",
    "   - **Recursive Fibonacci**: Has an exponential time complexity $ O(2^n) $ due to repeated calculations of the same Fibonacci numbers.\n",
    "   - **Bottom-Up Fibonacci**: Has a linear time complexity $ O(n) $ as it computes each Fibonacci number once and uses constant space $ O(1) $.\n",
    "\n",
    "2. **Space Complexity**:\n",
    "   - **Recursive Fibonacci**: Uses stack space proportional to $ n $ due to the depth of the recursion, resulting in $ O(n) $ space complexity.\n",
    "   - **Bottom-Up Fibonacci**: Uses only a constant amount of space $ O(1) $ by storing the last two computed Fibonacci numbers.\n",
    "\n",
    "3. **Implementation**:\n",
    "   - **Recursive Fibonacci**:\n",
    "     ```python\n",
    "     def fibonacci_recursive(n):\n",
    "         if n <= 1:\n",
    "             return n\n",
    "         return fibonacci_recursive(n - 1) + fibonacci_recursive(n - 2)\n",
    "     ```\n",
    "   - **Bottom-Up Fibonacci**:\n",
    "     ```python\n",
    "     def fibonacci_bottom_up(n):\n",
    "         if n == 0:\n",
    "             return 0\n",
    "         elif n == 1:\n",
    "             return 1\n",
    "         \n",
    "         a, b = 0, 1\n",
    "         for i in range(2, n + 1):\n",
    "             a, b = b, a + b\n",
    "         return b\n",
    "     ```\n",
    "\n",
    "4. **Calculation Process**:\n",
    "   - **Recursive Fibonacci**: Repeatedly breaks down the problem into smaller subproblems and uses a top-down approach.\n",
    "   - **Bottom-Up Fibonacci**: Builds the solution from the smallest subproblems up to the desired Fibonacci number, using an iterative approach."
   ]
  }
 ],
 "metadata": {
  "kernelspec": {
   "display_name": "base",
   "language": "python",
   "name": "python3"
  },
  "language_info": {
   "codemirror_mode": {
    "name": "ipython",
    "version": 3
   },
   "file_extension": ".py",
   "mimetype": "text/x-python",
   "name": "python",
   "nbconvert_exporter": "python",
   "pygments_lexer": "ipython3",
   "version": "3.11.7"
  }
 },
 "nbformat": 4,
 "nbformat_minor": 2
}
