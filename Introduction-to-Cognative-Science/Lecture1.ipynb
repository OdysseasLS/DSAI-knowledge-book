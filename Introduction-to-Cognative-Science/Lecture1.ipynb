{
 "cells": [
  {
   "cell_type": "markdown",
   "metadata": {},
   "source": [
    "## Introduction to cognative science\n",
    "### Lecture 1"
   ]
  },
  {
   "cell_type": "markdown",
   "metadata": {},
   "source": [
    "Dictionary:\n",
    "- stimulus : Something that causes a response or reaction in a person\n",
    "- Habituation : Get use to something\n",
    "- inhibited : Behavior or reactions being suppressed or constrained\n",
    "- Spontaneous : Happening without conscious or without external stimulus, "
   ]
  },
  {
   "cell_type": "markdown",
   "metadata": {},
   "source": [
    "<hr>"
   ]
  },
  {
   "cell_type": "markdown",
   "metadata": {},
   "source": [
    "## Classical conditioning"
   ]
  },
  {
   "cell_type": "markdown",
   "metadata": {
    "vscode": {
     "languageId": "plaintext"
    }
   },
   "source": [
    "- Psychology : Science of behavior\n",
    "    - In order for the new science of psychology to become a true science, it should concern itself only with observable behavior.\n",
    "\n",
    "- Behaviorism (Two main assumptions): \n",
    "    - All learning is the result of conditioning\n",
    "    - Conditioning depends on association and reinforcement.\n",
    "\n",
    "- Classical conditioning:\n",
    "    - Reflex : simple, automatic stimulus-response sequence mediated by the nervous system.\n",
    "        - Eye blink reflex\n",
    "        - Knee jerk reflex \n",
    "        - Startle response (Response to shock)\n",
    "\n",
    "    - Habituation: Can make strength of some reflexes decreases\n",
    "\n",
    "    - Pavlov(Father of conditioning) salivation reflex in dogs \n",
    "        - Extinction : Weakness of stimulus–response in the absence of the US (Unconditioned stimulus like food for dog)\n",
    "        - Spontaneous recovery: the reflex has not been lost, but is possibly inhibited.\n",
    "    \n"
   ]
  },
  {
   "cell_type": "markdown",
   "metadata": {},
   "source": [
    "#### Stimulus Connection Approaches\n",
    "\n",
    "- Behaviorism: creating simple **stimulus–response** connection \n",
    "    - sound → salivation \n",
    "\n",
    "- Cognitivism: a **stimulus–stimulus** connection is created \n",
    "    - sound → mental representation of food → salivation"
   ]
  },
  {
   "cell_type": "markdown",
   "metadata": {},
   "source": [
    "#### S-R Theory of Classical Conditioning\n",
    "- Unconditioned Stimulus (Food) $+$ Conditioned Stimulus (Bell) $\\to$ Response\n",
    "#### S-S Theory of Classical Conditioning\n",
    "- Conditioned Stimulus $\\to$ Mental representation of Unconditioned Stimulus $\\to$ Response\n",
    "\n"
   ]
  },
  {
   "cell_type": "markdown",
   "metadata": {},
   "source": [
    "### Non-observable processes\n",
    "\n",
    "- Behaviorists: Not scientifically investigatable.\n",
    "- Cognitivists: Non-observable processes can be investigated by looking at their effects and the predictions that follow from them"
   ]
  },
  {
   "cell_type": "markdown",
   "metadata": {},
   "source": [
    "<hr>"
   ]
  },
  {
   "cell_type": "markdown",
   "metadata": {},
   "source": [
    "## Reinforcement learning (Operant conditioning)"
   ]
  },
  {
   "cell_type": "markdown",
   "metadata": {},
   "source": [
    "- Classical conditioning: reflexive behavior (blinking, etc.)\n",
    "\n",
    "- Operant conditioning: self-initiated behavior (Learn how to reach a reward (pleasure) or avoid an unpleasant action through self-experience.)"
   ]
  },
  {
   "cell_type": "markdown",
   "metadata": {},
   "source": [
    "**Shaping**: training of complex behavior by rewarding successive steps in that behavior.\n",
    "\n",
    "**Discrimination training** (concept learning): Food given for pecking on Monet paintings and not given for Picasso paintings.\n",
    "\n"
   ]
  },
  {
   "cell_type": "markdown",
   "metadata": {},
   "source": [
    "#### Continuous reinforcement vs partial reinforcement\n",
    "\n",
    "We speak of continuous reinforcement if the desired response is always followed by\n",
    "a reinforcer.\n",
    "\n",
    "- Partial reinforcement if this relationship is not 1-to-1.\n",
    "    - Interval-based reinforcement leads to reduced response because the reinforcement is limited by time, not by operant response.\n",
    "\n",
    "Variable reinforcement is very resistant to extinction"
   ]
  },
  {
   "cell_type": "markdown",
   "metadata": {},
   "source": [
    "<hr>"
   ]
  },
  {
   "cell_type": "markdown",
   "metadata": {},
   "source": [
    "## Cognition and computation\n",
    "\n",
    "Human brain is Turing-complete but not very efficiently.\n",
    "\n",
    "The Human mind contains information channels with mean channel capacity ~3 bits, or $2^3$ ≈ 7 items (magical number 7 (± 2)).\n",
    "\n",
    "### Threshold values \n",
    "#### Just Noticeable Difference (JND)\n",
    "![Image 1](../Files/second-semester/itcs/1.jpg)\n",
    "\n",
    "Like: Is 95 vs. 100 kg detected as easily as 10 vs. 15 kg?"
   ]
  },
  {
   "cell_type": "markdown",
   "metadata": {},
   "source": [
    "### Weber’s law\n",
    "\n",
    "The ability to detect changes in a stimulus depends on the intensity of the original stimulus.\n",
    "\n",
    "$jnd = kM$ (Mathematical relation)"
   ]
  },
  {
   "cell_type": "markdown",
   "metadata": {
    "metadata": {}
   },
   "source": [
    "<hr>"
   ]
  },
  {
   "cell_type": "markdown",
   "metadata": {},
   "source": [
    "#### Reducing information load: attention\n",
    "\n"
   ]
  }
 ],
 "metadata": {
  "kernelspec": {
   "display_name": "Python 3",
   "language": "python",
   "name": "python3"
  },
  "language_info": {
   "codemirror_mode": {
    "name": "ipython",
    "version": 3
   },
   "file_extension": ".py",
   "mimetype": "text/x-python",
   "name": "python",
   "nbconvert_exporter": "python",
   "pygments_lexer": "ipython3",
   "version": "3.10.13"
  }
 },
 "nbformat": 4,
 "nbformat_minor": 2
}
