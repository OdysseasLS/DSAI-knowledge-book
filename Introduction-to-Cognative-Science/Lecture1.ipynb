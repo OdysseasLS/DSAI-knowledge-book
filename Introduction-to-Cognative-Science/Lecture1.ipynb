{
 "cells": [
  {
   "cell_type": "markdown",
   "metadata": {},
   "source": [
    "- **Cognitive Science:** Emerged in the late 1970s as an interdisciplinary field combining ideas from psychology, linguistics, mathematical logic, and information-processing models.\n",
    "- **Interdisciplinary Research:** Innovations arise from combining existing concepts from different fields.\n"
   ]
  },
  {
   "cell_type": "markdown",
   "metadata": {},
   "source": [
    "**Classical Conditioning:**\n",
    "- **Behaviorism:**\n",
    "      All learning results from conditioning and reinforcement.\n",
    "  - **Classical Conditioning:** Reflexive, automatic responses (e.g., Pavlov’s dogs).\n",
    "  - **Extinction and Spontaneous Recovery:** Reflexes can weaken without the unconditioned stimulus but can reappear spontaneously.\n",
    "  - **Stimulus Connection Approaches:**\n",
    "    - **Behaviorism:** Simple stimulus-response connection.\n",
    "    - **Cognitivism:** Stimulus-stimulus connection with mental representation.\n",
    "\n",
    "**S-R Theory of Classical Conditioning:**\n",
    "- **Unconditioned Stimulus (Food) → Conditioned Stimulus (Bell) → Response**\n",
    "- **S-S Theory of Classical Conditioning:**\n",
    "  - **Conditioned Stimulus → Mental representation of Unconditioned Stimulus → Response**\n",
    "\n",
    "**Reinforcement Learning (Operant Conditioning):**\n",
    "- **Classical Conditioning:** Reflexive behavior.\n",
    "- **Operant Conditioning:** Self-initiated behavior to reach a reward or avoid punishment.\n",
    "- **Shaping and Discrimination Training:** Rewarding successive steps or concept learning (e.g., pecking on specific paintings).\n",
    "\n",
    "**Reinforcement Schedules:**\n",
    "- **Continuous Reinforcement:** Desired response always followed by a reinforcer.\n",
    "- **Partial Reinforcement:** Relationship not 1-to-1, leading to variable resistance to extinction.\n",
    "\n",
    "**Cognition and Computation:**\n",
    "- **Turing-Complete Human Brain:** Efficient in processing information channels (~3 bits, or ≈ 7 items).\n",
    "- **Threshold Values:** Just Noticeable Difference (JND), Weber’s law on stimulus intensity changes.\n",
    "\n",
    "**Reducing Information Load: Attention:**\n",
    "- **Dichotic Listening Task:** Shadowing one story, ignoring another.\n",
    "- **Selective Attention:** Only attending to selected information, noticing changes like voice pitch or recognizing familiar names (Breakthrough phenomenon).\n"
   ]
  },
  {
   "cell_type": "markdown",
   "metadata": {},
   "source": [
    "\n",
    "In response learning, location information is encoded based on the movements an organism makes to reach that location. In place learning, location information is encoded based on the location's relationship to other locations in the environment."
   ]
  },
  {
   "cell_type": "markdown",
   "metadata": {},
   "source": [
    "## Cognition and computation\n",
    "\n",
    "Human brain is Turing-complete but not very efficiently.\n",
    "\n",
    "The Human mind contains information channels with mean channel capacity ~3 bits, or $2^3$ ≈ 7 items (magical number 7 (± 2)).\n",
    "\n",
    "### Threshold values \n",
    "#### Just Noticeable Difference (JND)\n",
    "![Image 1](../Files/second-semester/itcs/1.jpg)\n",
    "\n",
    "Like: Is 95 vs. 100 kg detected as easily as 10 vs. 15 kg?"
   ]
  },
  {
   "cell_type": "markdown",
   "metadata": {},
   "source": [
    "### **Key Historical Developments:**"
   ]
  },
  {
   "cell_type": "markdown",
   "metadata": {},
   "source": [
    "1. **Reaction Against Behaviorism in Psychology:**\n",
    "   - **Behaviorism:** Focuses on observable behavior and conditioning, avoiding unobservable mental states.\n",
    "   - **Latent Learning (Tolman & Honzik, 1930):** Rats learn maze layouts without reinforcement, Disproving behaviorist assumptions. Shows representation of information\n",
    "   - **Cognitive Maps (Tolman, Ritchie, and Kalish, 1946):** Rats form mental representations of spatial layouts, indicating place learning over response learning.\n",
    "   - **Complex Behaviors (Lashley, 1951):** Behaviors are hierarchically organized and controlled by subconscious planning and information-processing mechanisms."
   ]
  },
  {
   "cell_type": "markdown",
   "metadata": {},
   "source": [
    "2. **Theoretical Models of Computation:**\n",
    "   - **Turing Machines (Turing, 1936-7):** Abstract machines that perform algorithmic computations, laying the foundation for understanding minds as information processors.\n",
    "   - **Church-Turing Thesis:** Anything computable can be computed by a Turing machine, implying minds operate like complex Turing machines.\n"
   ]
  },
  {
   "cell_type": "markdown",
   "metadata": {},
   "source": [
    "3. **Systematic Analysis of Language (Chomsky, 1957):**\n",
    "   - **Transformational Grammar:** Analyzes deep and surface structures of sentences, showing how linguistic information is stored and manipulated algorithmically.\n",
    "   - **Phrase Structure Trees:** Represent the hierarchical organization of sentences."
   ]
  },
  {
   "cell_type": "markdown",
   "metadata": {},
   "source": [
    "4. **Development of Information-Processing Models in Psychology:**\n",
    "   - **Information Theory (Shannon, 1948):** Concept of information channels and measurement of information (bits).\n",
    "   - **Miller (1956):** Human information processing is limited to about seven items (channel capacity), improved by chunking.\n",
    "   - **Broadbent (1958):** Selective attention models showing how information flows through sensory channels, emphasizing selective filters and limited capacity channels.\n"
   ]
  },
  {
   "cell_type": "markdown",
   "metadata": {},
   "source": [
    "**Central Themes of the Chapter:**\n",
    "\n",
    "**1. Even very basic types of behavior (such as the behavior of rats in mazes) seem to involve storing and processing information about the environment:**\n",
    "- Experiments by Tolman and Honzik (1930) and Tolman, Ritchie, and Kalish (1946) demonstrated that rats form cognitive maps and engage in latent learning, indicating that even simple organisms process and store environmental information.\n",
    "\n",
    "**2. Information relevant to cognition can take many forms – from information about the environment to information about how sentences can be constructed and transformed:**\n",
    "- Cognitive science studies diverse types of information, such as spatial layouts in Tolman's experiments and linguistic structures in Chomsky's transformational grammar. These forms of information are crucial for understanding different cognitive abilities.\n",
    "\n",
    "**3. Perceptual systems can be viewed as information channels and we can study both: (a) the very general properties of those channels (e.g., their channel capacity) (b) the way in which information flows through those channels:**\n",
    "- **George Miller (1956):** Proposed limits on human information processing capacity, conceptualizing sensory systems as channels with finite capacity.\n",
    "- **Donald Broadbent (1958):** Developed models illustrating how information flows through sensory channels, with selective filtering and limited capacity stages.\n",
    "\n",
    "**4. Mathematical logic and the theory of computation show us how information processing can be mechanical and algorithmic:**\n",
    "- **Alan Turing (1936-7):** Demonstrated that information processing can be understood as a series of algorithmic steps, executed mechanically by Turing machines, establishing a foundational model for computational theories of the mind.\n",
    "\n",
    "**5. Much of the information-processing that goes on in the mind takes place below the threshold of awareness:**\n",
    "- **Karl Lashley (1951):** Highlighted that complex behaviors and planning often occur without conscious awareness, involving hierarchical and subconscious information-processing mechanisms.\n",
    "- The idea that cognitive processes, such as those studied by Miller and Broadbent, operate beneath conscious awareness, performing tasks like filtering sensory inputs or managing memory without explicit attention.\n",
    "\n"
   ]
  }
 ],
 "metadata": {
  "language_info": {
   "name": "python"
  }
 },
 "nbformat": 4,
 "nbformat_minor": 2
}
