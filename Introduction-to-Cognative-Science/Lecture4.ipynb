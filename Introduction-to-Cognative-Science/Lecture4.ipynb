{
 "cells": [
  {
   "cell_type": "markdown",
   "metadata": {},
   "source": [
    "# The physical symbol system (PSS) hypothesis"
   ]
  },
  {
   "cell_type": "markdown",
   "metadata": {},
   "source": [
    "AI/Cognitive Science is based on symbol manipulation as cognition is rule-governed symbol manipulatio"
   ]
  },
  {
   "cell_type": "markdown",
   "metadata": {},
   "source": [
    "#### Intelligent thinkingthe\n",
    "\n",
    "Ability to solve problems according to rules (Problem space) raised up by Allen Newell and Herbert Simon\n",
    "\n",
    "\n",
    "Intelligent systems = Physical symbol systems\n"
   ]
  },
  {
   "cell_type": "markdown",
   "metadata": {
    "vscode": {
     "languageId": "plaintext"
    }
   },
   "source": [
    "#### In The physical symbol system (PSS) hypothesis\n",
    "\n",
    "Inspired by the digital computer\n",
    "\n",
    "- Symbols are physical pattern\n",
    "- Symbols can be combined to form complex symbol structurs\n",
    "- The system contains processes for manipulating complex symbol structures\n",
    "- The processes for representing complex symbol structures can themselves by symbolically represented within the system."
   ]
  },
  {
   "cell_type": "markdown",
   "metadata": {
    "vscode": {
     "languageId": "plaintext"
    }
   },
   "source": [
    "| System               | Symbol                                    | Expressions                         | Processes               |\n",
    "|----------------------|-------------------------------------------|-------------------------------------|-------------------------|\n",
    "| Propositional Logic  | &, ∨, ¬ (\"And\", \"Or\", \"Not\"), Letters     | Propositions/sentences              | Rules of Inference      |\n",
    "| Algebra              | +, -, *, /, =, y, z, 1, 2, 3, ...         | Equations                           | Rules of Algebra        |\n",
    "| Digital Computer     | 0, 1                                      | 00000111000...                      | Program                 |\n",
    "| Chess                | Chess Pieces                              | Configurations of pieces on the board | Legal Chess Moves       |\n"
   ]
  },
  {
   "cell_type": "markdown",
   "metadata": {
    "vscode": {
     "languageId": "plaintext"
    }
   },
   "source": [
    "## Language of Thought\n",
    "\n",
    "Mind and Thoughts are compositional enable us construction of new complex thoughtsfrom more primitive symbolic concepts.\n"
   ]
  },
  {
   "cell_type": "markdown",
   "metadata": {
    "vscode": {
     "languageId": "plaintext"
    }
   },
   "source": [
    "`Formal system of though` or `mentalese` = A representational theory of min that shows the mind is structured like a formal language."
   ]
  },
  {
   "cell_type": "markdown",
   "metadata": {
    "vscode": {
     "languageId": "plaintext"
    }
   },
   "source": [
    "### PSS in mind::\n",
    "- Compositionality\n",
    "- Productivity\n",
    "- Logical Structure"
   ]
  },
  {
   "cell_type": "markdown",
   "metadata": {},
   "source": [
    "### Spatial navigation as symbolic processing\n",
    "Hippocampal cells satisfy:\n",
    "- Abstractness\n",
    "- Role-fillerindependence\n",
    "- Vectorialconfiguration"
   ]
  }
 ],
 "metadata": {
  "kernelspec": {
   "display_name": "base",
   "language": "python",
   "name": "python3"
  },
  "language_info": {
   "name": "python",
   "version": "3.11.7"
  }
 },
 "nbformat": 4,
 "nbformat_minor": 2
}
