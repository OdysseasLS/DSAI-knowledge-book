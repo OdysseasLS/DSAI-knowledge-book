{
 "cells": [
  {
   "cell_type": "markdown",
   "metadata": {},
   "source": [
    "# The physical symbol system (PSS) hypothesis"
   ]
  },
  {
   "cell_type": "markdown",
   "metadata": {},
   "source": [
    "AI/Cognitive Science is based on symbol manipulation"
   ]
  },
  {
   "cell_type": "markdown",
   "metadata": {},
   "source": [
    "#### Intelligent thinkingthe\n",
    "\n",
    "Ability to solve problems according to rules (Problem space) raised up by Allen Newell and Herbert Simon\n",
    "\n",
    "\n",
    "Intelligent systems = Physical symbol systems\n"
   ]
  },
  {
   "cell_type": "markdown",
   "metadata": {
    "vscode": {
     "languageId": "plaintext"
    }
   },
   "source": [
    "#### In The physical symbol system (PSS) hypothesis\n",
    "\n",
    "Inspired by the digital computer\n",
    "\n",
    "- Symbols are physical pattern\n",
    "- Symbols can be combined to form complex symbol structurs\n",
    "- The system contains processes for manipulating complex symbol structures\n",
    "- The processes for representing complex symbol structures can themselves by symbolically represented within the system."
   ]
  },
  {
   "cell_type": "markdown",
   "metadata": {
    "vscode": {
     "languageId": "plaintext"
    }
   },
   "source": [
    "| System               | Symbol                                    | Expressions                         | Processes               |\n",
    "|----------------------|-------------------------------------------|-------------------------------------|-------------------------|\n",
    "| Propositional Logic  | &, ∨, ¬ (\"And\", \"Or\", \"Not\"), Letters     | Propositions/sentences              | Rules of Inference      |\n",
    "| Algebra              | +, -, *, /, =, y, z, 1, 2, 3, ...         | Equations                           | Rules of Algebra        |\n",
    "| Digital Computer     | 0, 1                                      | 00000111000...                      | Program                 |\n",
    "| Chess                | Chess Pieces                              | Configurations of pieces on the board | Legal Chess Moves       |\n"
   ]
  },
  {
   "cell_type": "code",
   "execution_count": null,
   "metadata": {
    "vscode": {
     "languageId": "plaintext"
    }
   },
   "outputs": [],
   "source": []
  }
 ],
 "metadata": {
  "language_info": {
   "name": "python"
  }
 },
 "nbformat": 4,
 "nbformat_minor": 2
}
