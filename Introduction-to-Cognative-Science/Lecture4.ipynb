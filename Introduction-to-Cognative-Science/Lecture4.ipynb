{
 "cells": [
  {
   "cell_type": "markdown",
   "metadata": {},
   "source": [
    "# The physical symbol system (PSS) hypothesis"
   ]
  },
  {
   "cell_type": "markdown",
   "metadata": {},
   "source": [
    "AI/Cognitive Science is based on symbol manipulation as cognition is rule-governed symbol manipulatio"
   ]
  },
  {
   "cell_type": "markdown",
   "metadata": {},
   "source": [
    "#### Intelligent thinkingthe\n",
    "\n",
    "Ability to solve problems according to rules (Problem space) raised up by Allen Newell and Herbert Simon\n",
    "\n",
    "\n",
    "Intelligent systems = Physical symbol systems\n"
   ]
  },
  {
   "cell_type": "markdown",
   "metadata": {
    "vscode": {
     "languageId": "plaintext"
    }
   },
   "source": [
    "#### In The physical symbol system (PSS) hypothesis\n",
    "\n",
    "Inspired by the digital computer\n",
    "\n",
    "- Symbols are physical pattern\n",
    "- Symbols can be combined to form complex symbol structurs\n",
    "- The system contains processes for manipulating complex symbol structures\n",
    "- The processes for representing complex symbol structures can themselves by symbolically represented within the system."
   ]
  },
  {
   "cell_type": "markdown",
   "metadata": {
    "vscode": {
     "languageId": "plaintext"
    }
   },
   "source": [
    "| System               | Symbol                                    | Expressions                         | Processes               |\n",
    "|----------------------|-------------------------------------------|-------------------------------------|-------------------------|\n",
    "| Propositional Logic  | &, ∨, ¬ (\"And\", \"Or\", \"Not\"), Letters     | Propositions/sentences              | Rules of Inference      |\n",
    "| Algebra              | +, -, *, /, =, y, z, 1, 2, 3, ...         | Equations                           | Rules of Algebra        |\n",
    "| Digital Computer     | 0, 1                                      | 00000111000...                      | Program                 |\n",
    "| Chess                | Chess Pieces                              | Configurations of pieces on the board | Legal Chess Moves       |\n"
   ]
  },
  {
   "cell_type": "markdown",
   "metadata": {
    "vscode": {
     "languageId": "plaintext"
    }
   },
   "source": [
    "## Language of Thought\n",
    "\n",
    "The mind is structured like a formal language, mentalese, which is a pre-\n",
    "linguistic language independent of normal languages. It is the language that\n",
    "forms your thoughts.\n",
    "Core sentences in mentalese are propositional attitudes such as beliefs and\n",
    "desires that have intentional states and are about something.\n",
    "\n",
    "Mind and Thoughts are compositional enable us construction of new complex thoughts from more primitive symbolic concepts.\n"
   ]
  },
  {
   "cell_type": "markdown",
   "metadata": {
    "vscode": {
     "languageId": "plaintext"
    }
   },
   "source": [
    "`Formal system of though` or `mentalese` = A representational theory of min that shows the mind is structured like a formal language."
   ]
  },
  {
   "cell_type": "markdown",
   "metadata": {
    "vscode": {
     "languageId": "plaintext"
    }
   },
   "source": [
    "### PSS in mind::\n",
    "- Compositionality\n",
    "- Productivity\n",
    "- Logical Structure"
   ]
  },
  {
   "cell_type": "markdown",
   "metadata": {},
   "source": [
    "### Spatial navigation as symbolic processing\n",
    "Hippocampal cells satisfy:\n",
    "- Abstractness\n",
    "- Role-filler Independence (Role of a symbol)\n",
    "- Vectorial Configuration (Size)"
   ]
  },
  {
   "cell_type": "markdown",
   "metadata": {},
   "source": [
    "### Criticism of the Physical Symbol System Hypothesis:\n",
    "\n",
    "- Symbols are syntactic, not meaningful.\n",
    "- Expressions made from symbols also lack meaning.\n",
    "- Operations on symbols depend only on their form.\n",
    "- These operations follow formal rules.\n",
    "- Key issue: Are formal rules enough for true intelligence? (Chinese Room argument says no)."
   ]
  },
  {
   "cell_type": "markdown",
   "metadata": {},
   "source": [
    "|                           | Implementation Purist                     | Implementation Moderate                           | Implementation Rebel                               |\n",
    "|---------------------------|-------------------------------------------|--------------------------------------------------|--------------------------------------------------|\n",
    "| **Complexity Purist**     | \"A human is a cognitive agent.\"           | \"A brain simulation is a cognitive agent.\"       | \"The Chinese Room is a cognitive agent.\"          |\n",
    "| **Complexity Moderate**   | \"A honeybee is a cognitive agent.\"        | \"An episodic RL-based ANN is a cognitive agent.\" | \"Deep Blue is a cognitive agent.\"                 |\n",
    "| **Complexity Rebel**      | \"A bacterium is a cognitive agent.\"       | \"Any ANN is a cognitive agent.\"                  | \"A thermostat is a cognitive agent.\"              |\n"
   ]
  },
  {
   "cell_type": "markdown",
   "metadata": {},
   "source": [
    " A PSS exercises its intelligence in problem-solving by heuristic search (decision psychology)\n"
   ]
  }
 ],
 "metadata": {
  "kernelspec": {
   "display_name": "base",
   "language": "python",
   "name": "python3"
  },
  "language_info": {
   "name": "python",
   "version": "3.11.7"
  }
 },
 "nbformat": 4,
 "nbformat_minor": 2
}
