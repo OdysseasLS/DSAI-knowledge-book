{
 "cells": [
  {
   "cell_type": "markdown",
   "metadata": {},
   "source": [
    "# Strategies for Brain Mapping"
   ]
  },
  {
   "cell_type": "markdown",
   "metadata": {},
   "source": [
    "## Understanding the Brain\n",
    "\n",
    "- Aspect of Cognition (e.g., Vision, Language, Memory, etc.)\n",
    "- Levels of Organization (e.g., Neurons, Populations, Connectivity, Networks, Behavior, etc.)\n",
    "- Investigative Technique (e.g., Genetics, Anatomy, Behavior, EEG, fMRI, single-unit recordings, etc.)\n",
    "- Integrative Techniques (e.g., Psychology, Linguistics, Philosophy, Neuroscience, Anthropology, AI, etc.)"
   ]
  },
  {
   "cell_type": "markdown",
   "metadata": {},
   "source": [
    "### Locus of Selection Problem\n",
    "\n",
    "#### Principle of Integration:\n",
    "Cognitive functioning involves the coordinated activity of network of different brain areas, with different types of tasks recruiting different networks of the brain"
   ]
  },
  {
   "cell_type": "markdown",
   "metadata": {},
   "source": [
    "### Techniques for Brain Mapping\n",
    "\n",
    "#### High Temporal Resolution:\n",
    "Techniques like Single Unit Recording, EEG, and MEG are good at detecting rapid changes in brain activity, making them suitable for studying processes like attention, language, and decision-making.\n",
    "\n",
    "#### High Spatial Resolution:\n",
    "Techniques like Single Unit Recording, PET, and fMRI are precise in locating brain activity, making them suitable for tasks that require detailed brain maps, such as memory recall and face/object recognition."
   ]
  },
  {
   "cell_type": "markdown",
   "metadata": {},
   "source": [
    "## Problems and Pitfalls in Neuroimaging\n",
    "\n",
    "Neuroimaging techniques, such as fMRI, provide valuable insights into cognitive activity. However, there are certain limitations and challenges associated with these techniques:\n",
    "\n",
    "1. Indirect Measures of Cognitive Activity: Neuroimaging techniques like fMRI do not directly measure cognitive activity. Instead, they measure changes in blood flow, which are assumed to correlate with neural activity.\n",
    "\n",
    "2. Noisy fMRI Data:\n",
    "    - Small Voxels: Small voxels provide higher resolution but weaker signals, making it harder to detect activity.\n",
    "    - Large Voxels: Large voxels assume uniformity in brain tissue, which may not always be accurate, potentially missing finer details.\n",
    "    - Normalization Issues: Aligning individual brains to a standard template can cause distortions due to anatomical differences.\n",
    "\n",
    "3. Functional Connectivity vs. Effective Connectivity:\n",
    "    - Functional Connectivity: This approach looks at correlations between different brain regions' activities, indicating regions that are functionally related.\n",
    "    - Effective Connectivity: This approach examines causal relationships, identifying how information flows between regions.\n",
    "\n",
    "Understanding these problems and pitfalls is crucial for interpreting neuroimaging data accurately and drawing meaningful conclusions."
   ]
  }
 ],
 "metadata": {
  "language_info": {
   "name": "python"
  }
 },
 "nbformat": 4,
 "nbformat_minor": 2
}
