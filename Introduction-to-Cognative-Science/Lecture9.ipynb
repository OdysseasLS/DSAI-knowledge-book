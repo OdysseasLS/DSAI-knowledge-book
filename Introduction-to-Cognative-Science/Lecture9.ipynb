{
 "cells": [
  {
   "cell_type": "markdown",
   "metadata": {},
   "source": [
    "### Truth Rules vs. Truth Conditions\n",
    "- **Truth Conditions**: Basic statements about when a sentence is true.\n",
    "  - Example: \"Felicia is tall\" is true if Felicia is tall.\n",
    "- **Truth Rules**: Detailed rules that specify the meaning of words in a sentence by using known terms.\n",
    "  - Example: \"Felicia is tall\" is true if X (a known person, like \"George's sister\") is G (a known property, like \"greater than average in height\").\n",
    "\n",
    "#### Fodor's Argument\n",
    "   - Learning a language involves learning these detailed truth rules (like the example with Felicia) to understand sentences.\n",
    "   - These rules need to explain the meaning of words using known concepts and terms.\n",
    "\n",
    "\n",
    "**Hypothesis Formation and Testing**:\n",
    "   - Learning truth rules involves forming hypotheses about what words mean (e.g., \"Felicia\" means \"George’s sister\").\n",
    "   - These hypotheses are tested and revised based on new linguistic data and experiences.\n"
   ]
  },
  {
   "cell_type": "markdown",
   "metadata": {},
   "source": [
    "# Checklist\n",
    "\n",
    "## Language and Rules\n",
    "1. Language is a paradigmatically rule-governed activity (not just grammatical rules, but also rules giving the meanings of individual words and governing the deep structure of sentences).\n",
    "2. The default hypothesis in thinking about language learning is that it is a matter of learning the rules that govern the meanings of words and how they combine into meaningful units.\n",
    "3. Fodor has built on the default hypothesis to argue that learning a language requires learning truth rules, which must be stated in the language of thought.\n",
    "4. According to Fodor, the language of thought cannot itself be learned, and so must be innate (inherent).\n",
    "5. Noam Chomsky has reached a similar nativist/innatist conclusion based on poverty of the stimulus arguments.\n",
    "6. One way to challenge such arguments is to construct models that simulate the trajectory of human language learning without explicitly representing any rules.\n",
    "\n",
    "## Modeling the Acquisition of the English Past Tense\n",
    "1. Children learning the English past tense go through three easily identifiable stages:\n",
    "   - **Stage 1:** They employ a small number of verbs with (mainly irregular) past tenses.\n",
    "   - **Stage 2:** They employ many more verbs, tending to construct the past tense through the standard stem + -ed construction (including verbs they had formerly got right).\n",
    "   - **Stage 3:** They learn more verbs and correct their overregularization errors.\n",
    "2. This pattern of past tense acquisition can be accommodated by a symbolic model.\n",
    "3. But connectionist models of past tense acquisition have been developed that display a similar trajectory without having any rules explicitly coded in them.\n",
    "\n",
    "## Bayesian Language Learning\n",
    "1. The basic Bayesian idea is that language learning can be modeled as a process of updating probabilities according to Bayes’s Rule.\n",
    "2. The Bayesian approach is supported by studies showing that children and adults are both highly sensitive to statistical regularities in heard speech.\n",
    "3. Studies suggest that infants use transitional probabilities for word segmentation (parsing heard speech into words), and that transitional probabilities are also used by adults to map the boundaries of phrases.\n",
    "4. Pronominal anaphora (identifying the pre-usage of a pronoun) has been proposed as a particular challenge for approaches to language learning, but the problem seems to have a broadly Bayesian solution.\n",
    "5. Another traditional problem for empiricist theories of language learning is how children learn hierarchical category words that pick out overlapping sets of objects. Xu and Tenenbaum developed a Bayesian model to solve this problem with appropriate priors and likelihoods, showing that it captured the linguistic behavior of adults and 3- to 4-year-old children.\n"
   ]
  }
 ],
 "metadata": {
  "language_info": {
   "name": "python"
  }
 },
 "nbformat": 4,
 "nbformat_minor": 2
}
