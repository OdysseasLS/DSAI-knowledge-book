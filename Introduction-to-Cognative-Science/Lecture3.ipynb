{
 "cells": [
  {
   "cell_type": "markdown",
   "metadata": {},
   "source": [
    "# 3.The turn to the brain"
   ]
  },
  {
   "cell_type": "markdown",
   "metadata": {},
   "source": [
    "## Behavior and the brain"
   ]
  },
  {
   "cell_type": "markdown",
   "metadata": {},
   "source": [
    "Before the 18th century, religion and philosophy were intertwined, with a common belief in dualism (the separation of the material body and the immaterial soul).\n",
    "\n",
    "René Descartes believed that dogs don't have souls and defended Cartesian dualism, which states that the mind can exist independently of the body, and the body cannot think.\n",
    "\n",
    "The pineal gland was thought to be the place where the soul and mind interact within the body according to Cartesian dualism.\n",
    "\n",
    "Thomas Hobbes argued that everything is material and that the soul is a meaningless concept, a view known as materialism."
   ]
  },
  {
   "cell_type": "markdown",
   "metadata": {},
   "source": [
    "Mental illnesses can evidently be treated or can at least pass. However, until the 18th century, madhouses did not offer any psychiatric treatment."
   ]
  },
  {
   "cell_type": "markdown",
   "metadata": {},
   "source": [
    "**lobotomy**: 20th century: frontal lobotomy-Surgical removal of frontal lobe (reducing the complexity of psychic life) and later  prefrontal lobotomy-Only the front part of the frontal lobe targeted \n",
    "\n",
    "Negative effects: cognitive impairments, flattened affect (emotional numbing)"
   ]
  },
  {
   "cell_type": "markdown",
   "metadata": {},
   "source": [
    "Broca’s area: damage to this area impairs speech, but not other abilities which is physical causation of behavior"
   ]
  },
  {
   "cell_type": "markdown",
   "metadata": {},
   "source": [
    "## Brain"
   ]
  },
  {
   "cell_type": "markdown",
   "metadata": {},
   "source": [
    "Around $1300 g$\n",
    "\n",
    "$20 × 10^9$ neocortical neurons\n",
    "\n",
    "$15 × 10^{13} $ cortical synapses\n",
    "\n",
    "$ 10^{11} $ neurons in the complete human brain"
   ]
  },
  {
   "cell_type": "markdown",
   "metadata": {},
   "source": [
    "Neurons receive information through dendrites and send through axons.\n",
    "\n",
    "**Action potentials**: Neurons send information in binary, with higher feeling the frequency increases but threshold is stable.\n"
   ]
  },
  {
   "cell_type": "markdown",
   "metadata": {},
   "source": [
    "## Specific deficits in brain damage"
   ]
  },
  {
   "cell_type": "markdown",
   "metadata": {},
   "source": [
    "**Aphasia**: Specific Impairments Due to Brain Damage\n",
    "\n",
    "What is Aphasia?: Aphasia is a condition where a person has trouble speaking or understanding speech.\n",
    "\n",
    "Causes: It usually happens because of a stroke or a head injury.\n",
    "\n",
    "How Common is It?: About 35% of people who have a stroke will develop some form of aphasia.\n",
    "\n",
    "Broca’s aphasia: non-fluent aphasia\n",
    "\n",
    "Wernicke’s aphasia: fluent aphasia (Talkative but ambigious sentences)"
   ]
  },
  {
   "cell_type": "markdown",
   "metadata": {},
   "source": [
    "Removal of the corpus callosum (corpus callosotomy) is a treatment with:\n",
    "- No IQ change\n",
    "- No change in conversational skills\n",
    "- No change in body coordination."
   ]
  },
  {
   "cell_type": "markdown",
   "metadata": {},
   "source": [
    "## Unilateral spatial neglect\n",
    "\n",
    "Not blind, but neglecting one side of the visual field.\n",
    "\n",
    "Can see image differences but their mind doesn't register them.\n",
    "\n",
    "Therapy: force them to look at the neglected side with neck rotation.\n"
   ]
  },
  {
   "cell_type": "markdown",
   "metadata": {},
   "source": [
    "## Visual agnosia\n",
    "\n",
    "Not able to name by visual input but for exampel they can by touching object.\n",
    "- Form agnosia: Inability to undrestand shape of objects.\n",
    "- Integrative agnosia: Inability to recognize objects."
   ]
  },
  {
   "cell_type": "markdown",
   "metadata": {},
   "source": [
    "## Blindsight\n",
    "\n",
    "People who are blind but can see in their unconscious mind."
   ]
  },
  {
   "cell_type": "markdown",
   "metadata": {},
   "source": [
    "## Damage to the dorsal pathway\n",
    "\n",
    "Two visual system pathways: ventral and dorsal. The ventral pathway is responsible for object recognition, while the dorsal pathway is responsible for spatial processing. \n",
    "\n",
    "Damage cause inability to follow an object moving by eyes automatically.\n",
    "\n"
   ]
  },
  {
   "cell_type": "markdown",
   "metadata": {},
   "source": [
    "## Prosopagnosia\n",
    "\n",
    "face blindness (cannot identify by face)"
   ]
  },
  {
   "cell_type": "markdown",
   "metadata": {},
   "source": [
    "## Measuring brain activity\n",
    "\n",
    "- Electroencephalography (EGG): Electrodes on the scalp detect brain voltage changes with high temporal but low spatial resolution, measuring event-related potentials (ERP).\n",
    "- Magnetic resonance imaging (MRI): Measures brain structure and function with high spatial resolution but low temporal resolution.\n",
    "\n",
    "*temporal resolution: real time activities"
   ]
  }
 ],
 "metadata": {
  "language_info": {
   "name": "python"
  }
 },
 "nbformat": 4,
 "nbformat_minor": 2
}
