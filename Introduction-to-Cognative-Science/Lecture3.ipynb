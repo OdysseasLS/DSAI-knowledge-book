{
 "cells": [
  {
   "cell_type": "markdown",
   "metadata": {},
   "source": [
    "# 3.The turn to the brain"
   ]
  },
  {
   "cell_type": "markdown",
   "metadata": {},
   "source": [
    "## Behavior and the brain"
   ]
  },
  {
   "cell_type": "markdown",
   "metadata": {},
   "source": [
    "Before the 18th century, religion and philosophy were intertwined, with a common belief in dualism (the separation of the material body and the immaterial soul).\n",
    "\n",
    "René Descartes believed that dogs don't have souls and defended Cartesian dualism, which states that the mind can exist independently of the body, and the body cannot think.\n",
    "\n",
    "The pineal gland was thought to be the place where the soul and mind interact within the body according to Cartesian dualism.\n",
    "\n",
    "Thomas Hobbes argued that everything is material and that the soul is a meaningless concept, a view known as materialism."
   ]
  },
  {
   "cell_type": "markdown",
   "metadata": {},
   "source": [
    "Mental illnesses can evidently be treated or can at least pass. However, until the 18th century, madhouses did not offer any psychiatric treatment."
   ]
  }
 ],
 "metadata": {
  "language_info": {
   "name": "python"
  }
 },
 "nbformat": 4,
 "nbformat_minor": 2
}
