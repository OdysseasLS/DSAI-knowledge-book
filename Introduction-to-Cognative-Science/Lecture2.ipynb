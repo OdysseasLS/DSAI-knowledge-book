{
 "cells": [
  {
   "cell_type": "markdown",
   "metadata": {},
   "source": [
    "### Language and micro-worlds"
   ]
  },
  {
   "cell_type": "markdown",
   "metadata": {},
   "source": [
    "- **ELIZA:** NLP model programmed by Weizenbaum, he said people thought computer programs could induce powerful delusional thinking in quite normal people but anthropomorphization of computers is just a mind trick."
   ]
  },
  {
   "cell_type": "markdown",
   "metadata": {},
   "source": [
    "- **PARRY**: simulated a patient with paranoid schizophrenia\n",
    "\n",
    "- **SHRDLU**: Model that try to undrestand language. In Cognitive science we can undrestand from SHRDLU\n",
    "    - Understanding language as the interaction of separate cognitive processes, e.g. an algorithm for parsing noun phrases and an algorithm for parsing verb phrases.\n",
    "    - These algorithms process input according to rules, similar to a function in computer science.\n"
   ]
  },
  {
   "cell_type": "markdown",
   "metadata": {},
   "source": [
    "<hr>"
   ]
  },
  {
   "cell_type": "markdown",
   "metadata": {},
   "source": [
    "## Visual imagery\n",
    "\n",
    "Thought is impossible without an image. \n",
    "\n",
    "Blind people can use echolocation (locating by means of sound waves reflected back to the emitter)"
   ]
  }
 ],
 "metadata": {
  "language_info": {
   "name": "python"
  }
 },
 "nbformat": 4,
 "nbformat_minor": 2
}
