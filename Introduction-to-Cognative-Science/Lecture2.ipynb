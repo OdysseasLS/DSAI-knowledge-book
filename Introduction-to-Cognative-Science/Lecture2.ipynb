{
 "cells": [
  {
   "cell_type": "markdown",
   "metadata": {},
   "source": [
    "### Language and micro-worlds"
   ]
  },
  {
   "cell_type": "markdown",
   "metadata": {},
   "source": [
    "- **ELIZA:** NLP model programmed by Weizenbaum, he said people thought computer programs could induce powerful delusional thinking in quite normal people but anthropomorphization of computers is just a mind trick."
   ]
  },
  {
   "cell_type": "markdown",
   "metadata": {},
   "source": [
    "- **PARRY**: simulated a patient with paranoid schizophrenia\n",
    "\n",
    "- **SHRDLU**: Model that try to undrestand language. In Cognitive science we can undrestand from SHRDLU\n",
    "    - Understanding language as the interaction of separate cognitive processes, e.g. an algorithm for parsing noun phrases and an algorithm for parsing verb phrases.\n",
    "    - These algorithms process input according to rules, similar to a function in computer science.\n"
   ]
  },
  {
   "cell_type": "markdown",
   "metadata": {},
   "source": [
    "<hr>"
   ]
  },
  {
   "cell_type": "markdown",
   "metadata": {},
   "source": [
    "## Visual imagery\n",
    "\n",
    "Thought is impossible without an image. \n",
    "\n",
    "Blind people can use echolocation (locating by means of sound waves reflected back to the emitter)"
   ]
  },
  {
   "cell_type": "markdown",
   "metadata": {},
   "source": [
    "Visualize by imagination is not spatial representation\n",
    "\n",
    "Visual imagery allows us to mentally visualize things, resembling the real experience.\n",
    "\n",
    "Evidence suggests spatial correspondence between perception and imagery.\n",
    "\n",
    "Imagery can be spatial (like visualizing your room) or propositional (like describing where objects are located).\n",
    "\n",
    "Detail recognition in imagery mimics that of perception, suggesting a spatial mechanism at work.\n",
    "\n",
    "Physical properties such as brightness, contrast, and motion speed affect both perceived and imagined stimuli similarly, supporting spatial imagery over propositional representation."
   ]
  },
  {
   "cell_type": "markdown",
   "metadata": {},
   "source": [
    "<hr>"
   ]
  },
  {
   "cell_type": "markdown",
   "metadata": {},
   "source": [
    "Marr’s levels of analysis\n",
    "\n",
    "- Computational level\n",
    "    - What problem is the system trying to solve?\n",
    "    - What is the input to the system and what is the desired output?\n",
    "- Algorithmic level\n",
    "    - How does it perform its computations?\n",
    "    - How is information represented?\n",
    "-  Implementation level\n",
    "    - How is the system physically realized?"
   ]
  },
  {
   "cell_type": "markdown",
   "metadata": {},
   "source": [
    "### Object recognition\n",
    "Image projected on retina $-\\text{perceptual constancy}\\to$ invariant representation of object $\\to$ classification of object"
   ]
  },
  {
   "cell_type": "markdown",
   "metadata": {},
   "source": [
    "#### The algorithmic level of vision - Marr’s levels of analysis\n",
    "\n",
    "Three stages of processing:\n",
    "1. Primal sketch: find light-dark transitions\n",
    "connect them into blobs and edges\n",
    "2. 2½-D sketch: (‘viewer centered’): orientation\n",
    "of surfaces (from stereopsis and Gestalt laws)\n",
    "3. 3-D sketch: (‘object centered’): description of\n",
    "the object itself, independent of viewer\n",
    "\n",
    "Types of Perceptual constancy:\n",
    "- Size on retina $\\neq$ true size\n",
    "- Brightness on retina $\\neq$ true brightness\n",
    "- Shape on retina $\\neq$ true shape\n"
   ]
  },
  {
   "cell_type": "markdown",
   "metadata": {},
   "source": [
    "Dictionary:\n",
    "- stimulus : Something that causes a response or reaction in a person\n",
    "- Habituation : Get use to something\n",
    "- inhibited : Behavior or reactions being suppressed or constrained\n",
    "- Spontaneous : Happening without conscious or without external stimulus\n",
    "- Perception : To undrestand something, sometimes through the senses."
   ]
  },
  {
   "cell_type": "markdown",
   "metadata": {},
   "source": [
    "<hr>"
   ]
  },
  {
   "cell_type": "markdown",
   "metadata": {},
   "source": [
    "### Classification mechanisms\n",
    "\n",
    "Concepts are multimodal:\n",
    "- semantic\n",
    "- visual\n",
    "- auditory\n",
    "- tactile"
   ]
  },
  {
   "cell_type": "markdown",
   "metadata": {},
   "source": [
    "-  Categorization by definition\n",
    "-  Categorization by prototypest\n",
    "-  Categorization by exemplarsg\n",
    "-  Biederman’s recognition-by-components"
   ]
  }
 ],
 "metadata": {
  "kernelspec": {
   "display_name": "Python 3",
   "language": "python",
   "name": "python3"
  },
  "language_info": {
   "codemirror_mode": {
    "name": "ipython",
    "version": 3
   },
   "file_extension": ".py",
   "mimetype": "text/x-python",
   "name": "python",
   "nbconvert_exporter": "python",
   "pygments_lexer": "ipython3",
   "version": "3.10.13"
  }
 },
 "nbformat": 4,
 "nbformat_minor": 2
}
