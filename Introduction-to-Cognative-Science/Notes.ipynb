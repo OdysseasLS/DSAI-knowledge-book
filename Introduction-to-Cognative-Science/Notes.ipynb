{
 "cells": [
  {
   "cell_type": "markdown",
   "metadata": {},
   "source": [
    "### Lecture 2\n",
    "Information will be undrestood by visual imagery not only conscious experience."
   ]
  },
  {
   "cell_type": "markdown",
   "metadata": {
    "vscode": {
     "languageId": "plaintext"
    }
   },
   "source": [
    "### Lecture 3\n",
    "\n",
    "Two visual systems:\n",
    "- Visual Information $\\to$ Primary visual cortex:\n",
    "    - Inferior temporal cortex (Ventral pathway): Object Identification\n",
    "    - Posterior parietal lobe: Object location"
   ]
  },
  {
   "cell_type": "markdown",
   "metadata": {
    "vscode": {
     "languageId": "plaintext"
    }
   },
   "source": [
    "### Lecture 4\n",
    "\n",
    "**Language of thoughts** grounded in **intentional realism** (mental states (thoughts, beliefs, desires) have intentional content)\n",
    "\n",
    "They make behavior (Causation by content):\n",
    "- Intentional causes: Intended to walk\n",
    "- Physical causes: leg move after doctor hit knee"
   ]
  },
  {
   "cell_type": "markdown",
   "metadata": {
    "vscode": {
     "languageId": "plaintext"
    }
   },
   "source": [
    "### Lecture 5\n",
    "Hebbian Learning(biological algorithm): neurons repeatedly and persistently fire together, the connection between them strengthens. "
   ]
  },
  {
   "cell_type": "markdown",
   "metadata": {
    "vscode": {
     "languageId": "plaintext"
    }
   },
   "source": [
    "### Lecture 6\n",
    "\n",
    "Segregation Principle $\\to$ seprated parts but atonomically connected $\\to$ Techniques:\n",
    "- Trace tracking: Label and trace pathway\n",
    "- Diffusion tractography: Water diffusion in brain\n",
    "\n",
    "EGG measures ERP (Event related potential) $\\to$ electrical activity\n",
    "\n",
    "| **Technique** | **Directly Measures** | **Temporal Resolution** | **Spatial Resolution** |\n",
    "| --- | --- | --- | --- |\n",
    "| Single-unit recording | Potentials in individual neurons and very small populations of neurons | High | High |\n",
    "| EEG (electroencephalography) | Electrical activity of larger populations of neurons | High | Low |\n",
    "| MEG (magnetoencephalography) | Magnetic fields produced by electrical activity of larger populations of neurons | High | Low |\n",
    "| PET (positron emission tomography) | Cerebral blood flow in particular brain regions | Low | High |\n",
    "| fMRI (functional magnetic resonance imaging) | Levels of blood oxygen (BOLD signal) in particular brain regions | Low | High |\n",
    "\n",
    "Locus of selection problem (Study by EEG on ERP then map by PET): attention operates by\n",
    "- Proceptual Procerssing\n",
    "- Representation of objects\n",
    "\n",
    "Visual attention study by Brain damaged patients (Hemispatial neglect) with PET and fMRI $\\to$ Identify visospacial attention in:\n",
    "- Parietal lobe\n",
    "- Frontal lobe\n",
    "\n"
   ]
  },
  {
   "cell_type": "markdown",
   "metadata": {},
   "source": [
    "### Lecture 7\n",
    "\n",
    "Posterior probability of the hypothesis $= P(H|E) = \\frac{\\text{Prior probability of the hypothesis} \\times \\text{Likelihood of evidence given the hypothesis}}{\\text{Evidence}}$ = $\\frac{P(H) \\times P(E|H)}{P(E)}$\n",
    "\n",
    "Expected Utility $= \\sum_{i} P(H_i) \\times U(H_i)$ weighted sum of utilities of all possible outcomes(Non monetary)"
   ]
  },
  {
   "cell_type": "markdown",
   "metadata": {},
   "source": [
    "### Lecture 8\n",
    "\n",
    "Dynamic System Theory: Displaying coupling and attractor states (converge)\n",
    "They are not:\n",
    "- Representational\n",
    "- Computational\n",
    "- Sequential\n",
    "- Homuncular (Same type)\n",
    "\n",
    "Intelligent Agents:\n",
    "- Cognitive system (Sub-system perform information processing):\n",
    "    - Goal-based\n",
    "    - Learning\n",
    "- Non-cognitive system:\n",
    "    - Reflex-based\n",
    "\n",
    "ACT-R (Hybrid architecture): Combines symbolic and subsymbolic processing\n",
    "- knowledge:\n",
    "    - Declarative: Facts (Chunks)\n",
    "    - Procedural: Rules (Production)"
   ]
  },
  {
   "cell_type": "markdown",
   "metadata": {},
   "source": [
    "### Lecture 9\n",
    "\n",
    "Transitinoal probabilities for word segmentation in language (parsing heard speech into words):\n",
    "Used by infants and adult to map boundaries between words in speech."
   ]
  },
  {
   "cell_type": "markdown",
   "metadata": {
    "vscode": {
     "languageId": "plaintext"
    }
   },
   "source": [
    "### Lecture 10\n",
    "\n",
    "2 y.o: Theory of mind\n",
    "\n",
    "4 y.o: False belief detection by inhibitory mechanism (Selection process)\n",
    "\n",
    "Mind reading with neuroimaging:\n",
    "- Prefrontal cortex\n",
    "- Superior temporal sulcus\n",
    "- Inferior parietal lobule\n",
    "\n",
    "Low-level mind reading (Co-opted mechanisms $\\to$ change in areas of brain for fear, disgust, anger, etc.):\n",
    "- Mirror neurons in area F5 $\\to$ undrestanding goal based actions\n",
    "\n",
    "High-level mind reading (Theory of mind): Areas specialized for self reaction."
   ]
  },
  {
   "cell_type": "markdown",
   "metadata": {
    "vscode": {
     "languageId": "plaintext"
    }
   },
   "source": [
    "### Lecture 11\n",
    "\n",
    "Study visual Consciousness by:\n",
    "- Priming experiments\n",
    "    - unconscious perception\n",
    "    - non modular\n",
    "- Study brain damaged patients\n",
    "    - Blindsight\n",
    "    - Neglect\n",
    "\n",
    "Vision:\n",
    "- Ventral pathway (What Pathway): : Object identification, perception and action $\\to$ Conscious, temporal cortex\n",
    "- Dorsal pathway (How Pathway): : Object location, Online control of action $\\to$ Unconscious, posterior parietal lobe\n",
    "\n",
    "Milner and Goodale : patients with damage to the ventral stream could correctly perceive illusions\n",
    "\n",
    "Intercalibration: This concept refers to the idea that the dorsal and ventral streams interact and calibrate with each other to achieve coherent perception and action. For example, visual information processed in the dorsal stream about object location and motion can influence the ventral stream's recognition of that object.\n",
    "\n",
    "Consciousness:\n",
    "- Access consciousness: Information is available to other cognitive processes\n",
    "- Phenomenal consciousness: Experience of the information\n",
    "\n",
    "Global Workspace Theory of Consciousness:\n",
    "- Consciousness is likened to a global workspace where information from various brain modules  is broadcasted to all parts of the brain by piramidal neurons in the cortex.\n",
    "\n"
   ]
  }
 ],
 "metadata": {
  "language_info": {
   "name": "python"
  }
 },
 "nbformat": 4,
 "nbformat_minor": 2
}
