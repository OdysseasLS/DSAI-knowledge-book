{
 "cells": [
  {
   "cell_type": "markdown",
   "metadata": {},
   "source": [
    "General Notes:\n",
    "- Visual information (imagistic encoding) length of processing time will be a function only of the complexity of the information, measured in bits.\n",
    "- The visual system processes information contra-laterally, meaning that the left visual field is processed by the right hemisphere and vice versa.\n",
    "- Event-related designs are used in fMRI suitable for short duration tasks.\n",
    "- Propositional attitudes are mental states that involve a relationship between a person and a proposition, such as beliefs, desires, hopes, and fears.\n",
    "- SAM (Shared attention mechanism) is thought to develop early and allows infants to share attention with others, a precursor to more complex mindreading abilities.\n",
    "- Goodale and Milner's model distinguishes between vision for perception (conscious) and vision for action (often unconscious, guiding motor movements).\n",
    "- Early selection models happens early in the perceptual process, before significant processing occurs.\n",
    "- fMRI can track anatomical, effective, and functional connectivity\n",
    "- The size principle suggests that specific, narrow hypotheses are preferred over broad ones when the evidence supports them, aiding in category learning.\n",
    "- In symbolic systems, propositions are statements that express relations between symbols.\n",
    "- "
   ]
  },
  {
   "cell_type": "markdown",
   "metadata": {
    "vscode": {
     "languageId": "plaintext"
    }
   },
   "source": [
    "### Lecture 1\n",
    "\n",
    "Spatial information is easier for animals to remember.\n",
    "\n",
    "Chomsky's transformational grammar explains how we can transform the deep structure into different surface structures using rules. \n",
    "\n",
    "The Human mind contains information channels with mean channel capacity ~3 bits, or $2^3$ ≈ 7 items (magical number 7 (± 2)).\n",
    "\n"
   ]
  },
  {
   "cell_type": "markdown",
   "metadata": {},
   "source": [
    "### Lecture 2\n",
    "Information will be undrestood by visual imagery not only conscious experience."
   ]
  },
  {
   "cell_type": "markdown",
   "metadata": {
    "vscode": {
     "languageId": "plaintext"
    }
   },
   "source": [
    "### Lecture 3\n",
    "\n",
    "Frontal lobe: Responsible for reasoning, planning, parts of speech, movement, emotions, and problem solving.\n",
    "Parietal lobe: Involved in movement, orientation, recognition, and perception of stimuli.\n",
    "Occipital lobe: Primarily associated with visual processing.\n",
    "Temporal lobe: Associated with the perception and recognition of auditory stimuli, memory, and speech.\n",
    "\n",
    "<img src=\"https://www.hopkinsmedicine.org/-/media/images/health/1_-conditions/brain/brain-lobes-anatomy.jpg\" width=\"350\">\n",
    "\n",
    "<img src=\"https://www.simplypsychology.org/wp-content/uploads/Hindbrain-Midbrain-and-Forebrain.jpg\" width=\"200\">\n",
    "<img src=\"https://www.frontiersin.org/files/Articles/194721/fnint-10-00037-HTML/image_m/fnint-10-00037-g001.jpg\" width=\"300\">\n",
    "\n",
    "Two visual systems:\n",
    "- Visual Information $\\to$ Primary visual cortex:\n",
    "    - Inferior temporal cortex (Ventral pathway): Object Identification\n",
    "    - Posterior parietal lobe: Object location"
   ]
  },
  {
   "cell_type": "markdown",
   "metadata": {},
   "source": [
    "#### Brain Anatomy:\n",
    "- Forebrain (largest)\n",
    "    - cerebrum (important for cognitive and motor processing)\n",
    "        - Cerebral Cortex (Outer layer of the cerebrum, only in mammals having 4 lobes)\n",
    "            - Frontal lobe: reasoning, planning, speech, movement, emotions, problem solving.\n",
    "            - Parietal lobe: movement, orientation, recognition, perception of stimuli.\n",
    "            - **Occipital** lobe: visual processing. (Receives **retinal** information)\n",
    "            - Temporal lobe: auditory perception, memory, speech.\n",
    "- midbrain\n",
    "- hindbrain\n",
    "\n",
    "**Primary Visual Pathway**:\n",
    "\n",
    "Information from retina → optic nerve → lateral geniculate nucleus → primary visual cortex."
   ]
  },
  {
   "cell_type": "markdown",
   "metadata": {},
   "source": [
    "Brain is around $1300 g$\n",
    "\n",
    "$20 × 10^9$ neocortical neurons\n",
    "\n",
    "$15 × 10^{13} $ cortical synapses\n",
    "\n",
    "$ 10^{11} $ neurons in the complete human brain"
   ]
  },
  {
   "cell_type": "markdown",
   "metadata": {
    "vscode": {
     "languageId": "plaintext"
    }
   },
   "source": [
    "### Lecture 4\n",
    "\n",
    "**Language of thoughts** grounded in **intentional realism** (mental states (thoughts, beliefs, desires) have intentional content)\n",
    "\n",
    "They make behavior (Causation by content):\n",
    "- Intentional causes: Intended to walk\n",
    "- Physical causes: leg move after doctor hit knee"
   ]
  },
  {
   "cell_type": "markdown",
   "metadata": {
    "vscode": {
     "languageId": "plaintext"
    }
   },
   "source": [
    "### Lecture 5\n",
    "Hebbian Learning(biological algorithm): neurons repeatedly and persistently fire together, the connection between them strengthens. "
   ]
  },
  {
   "cell_type": "markdown",
   "metadata": {
    "vscode": {
     "languageId": "plaintext"
    }
   },
   "source": [
    "### Lecture 6\n",
    "\n",
    "Segregation Principle $\\to$ seprated parts but atonomically connected $\\to$ Techniques:\n",
    "- Trace tracking: Label and trace pathway\n",
    "- Diffusion tractography: Water diffusion in brain\n",
    "\n",
    "EGG measures ERP (Event related potential) $\\to$ electrical activity\n",
    "\n",
    "| **Technique** | **Directly Measures** | **Temporal Resolution** | **Spatial Resolution** |\n",
    "| --- | --- | --- | --- |\n",
    "| Single-unit recording | Potentials in individual neurons and very small populations of neurons | High | High |\n",
    "| EEG (electroencephalography) | Electrical activity of larger populations of neurons | High | Low |\n",
    "| MEG (magnetoencephalography) | Magnetic fields produced by electrical activity of larger populations of neurons | High | Low |\n",
    "| PET (positron emission tomography) | Cerebral blood flow in particular brain regions | Low | High |\n",
    "| fMRI (functional magnetic resonance imaging) | Levels of blood oxygen (BOLD signal) in particular brain regions | Low | High |\n",
    "\n",
    "Locus of selection problem (Study by EEG on ERP then map by PET): attention operates by\n",
    "- Proceptual Procerssing\n",
    "- Representation of objects\n",
    "\n",
    "Visual attention study by Brain damaged patients (Hemispatial neglect) with PET and fMRI $\\to$ Identify visospacial attention in:\n",
    "- Parietal lobe\n",
    "- Frontal lobe\n",
    "\n"
   ]
  },
  {
   "cell_type": "markdown",
   "metadata": {},
   "source": [
    "### Lecture 7\n",
    "\n",
    "Posterior probability of the hypothesis $= P(H|E) = \\frac{\\text{Prior probability of the hypothesis} \\times \\text{Likelihood of evidence given the hypothesis}}{\\text{Evidence}}$ = $\\frac{P(H) \\times P(E|H)}{P(E)}$\n",
    "\n",
    "Expected Utility $= \\sum_{i} P(H_i) \\times U(H_i)$ weighted sum of utilities of all possible outcomes(Non monetary)"
   ]
  },
  {
   "cell_type": "markdown",
   "metadata": {},
   "source": [
    "### Lecture 8\n",
    "\n",
    "Dynamic System Theory: Displaying coupling and attractor states (converge)\n",
    "They are not:\n",
    "- Representational\n",
    "- Computational\n",
    "- Sequential\n",
    "- Homuncular (Same type)\n",
    "\n",
    "Intelligent Agents:\n",
    "- Cognitive system (Sub-system perform information processing):\n",
    "    - Goal-based\n",
    "    - Learning\n",
    "- Non-cognitive system:\n",
    "    - Reflex-based\n",
    "\n",
    "ACT-R (Hybrid architecture): Combines symbolic and subsymbolic processing\n",
    "- knowledge:\n",
    "    - Declarative: Facts (Chunks)\n",
    "    - Procedural: Rules (Production)"
   ]
  },
  {
   "cell_type": "markdown",
   "metadata": {},
   "source": [
    "### Lecture 9\n",
    "\n",
    "Transitinoal probabilities for word segmentation in language (parsing heard speech into words):\n",
    "Used by infants and adult to map boundaries between words in speech."
   ]
  },
  {
   "cell_type": "markdown",
   "metadata": {
    "vscode": {
     "languageId": "plaintext"
    }
   },
   "source": [
    "### Lecture 10\n",
    "\n",
    "13 month: emerge of meta-representations (understanding of others' mental states)\n",
    "\n",
    "2 y.o: Theory of mind and complete meta-representations\n",
    "\n",
    "4 y.o: False belief detection by inhibitory mechanism (Selection process)\n",
    "\n",
    "Mind reading with neuroimaging:\n",
    "- Prefrontal cortex\n",
    "- Superior temporal sulcus\n",
    "- Inferior parietal lobule\n",
    "\n",
    "Low-level mind reading (Co-opted mechanisms $\\to$ change in areas of brain for fear, disgust, anger, etc.):\n",
    "- Mirror neurons in area F5 $\\to$ undrestanding goal based actions\n",
    "\n",
    "High-level mind reading (Theory of mind): Areas specialized for self reaction."
   ]
  },
  {
   "cell_type": "markdown",
   "metadata": {
    "vscode": {
     "languageId": "plaintext"
    }
   },
   "source": [
    "### Lecture 11\n",
    "\n",
    "Study visual Consciousness by:\n",
    "- Priming experiments\n",
    "    - unconscious perception\n",
    "    - non modular\n",
    "- Study brain damaged patients\n",
    "    - Blindsight\n",
    "    - Neglect\n",
    "\n",
    "Vision:\n",
    "- Ventral pathway (What Pathway): : Object identification, perception and action $\\to$ Conscious, temporal cortex\n",
    "- Dorsal pathway (How Pathway): : Object location, Online control of action $\\to$ Unconscious, posterior parietal lobe\n",
    "\n",
    "Milner and Goodale : patients with damage to the ventral stream could correctly perceive illusions\n",
    "\n",
    "Intercalibration: This concept refers to the idea that the dorsal and ventral streams interact and calibrate with each other to achieve coherent perception and action. For example, visual information processed in the dorsal stream about object location and motion can influence the ventral stream's recognition of that object.\n",
    "\n",
    "Consciousness:\n",
    "- Access consciousness: Information is available to other cognitive processes\n",
    "- Phenomenal consciousness: Experience of the information\n",
    "\n",
    "Global Workspace Theory of Consciousness:\n",
    "- Consciousness is likened to a global workspace where information from various brain modules  is broadcasted to all parts of the brain by piramidal neurons in the cortex.\n",
    "\n"
   ]
  }
 ],
 "metadata": {
  "kernelspec": {
   "display_name": "base",
   "language": "python",
   "name": "python3"
  },
  "language_info": {
   "codemirror_mode": {
    "name": "ipython",
    "version": 3
   },
   "file_extension": ".py",
   "mimetype": "text/x-python",
   "name": "python",
   "nbconvert_exporter": "python",
   "pygments_lexer": "ipython3",
   "version": "3.1.undefined"
  }
 },
 "nbformat": 4,
 "nbformat_minor": 2
}
