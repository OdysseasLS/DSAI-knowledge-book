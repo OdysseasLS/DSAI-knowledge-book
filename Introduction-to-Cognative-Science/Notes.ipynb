{
 "cells": [
  {
   "cell_type": "markdown",
   "metadata": {},
   "source": [
    "### Lecture 2\n",
    "Information will be undrestood by visual imagery not only conscious experience."
   ]
  },
  {
   "cell_type": "markdown",
   "metadata": {
    "vscode": {
     "languageId": "plaintext"
    }
   },
   "source": [
    "### Lecture 3\n",
    "\n",
    "Two visual systems:\n",
    "- Visual Information $\\to$ Primary visual cortex:\n",
    "    - Inferior temporal cortex (Ventral pathway): Object Identification\n",
    "    - Posterior parietal lobe: Object location"
   ]
  },
  {
   "cell_type": "markdown",
   "metadata": {
    "vscode": {
     "languageId": "plaintext"
    }
   },
   "source": [
    "### Lecture 4\n",
    "\n",
    "**Language of thoughts** grounded in **intentional realism** (mental states (thoughts, beliefs, desires) have intentional content)\n",
    "\n",
    "They make behavior (Causation by content):\n",
    "- Intentional causes: Intended to walk\n",
    "- Physical causes: leg move after doctor hit knee"
   ]
  },
  {
   "cell_type": "markdown",
   "metadata": {
    "vscode": {
     "languageId": "plaintext"
    }
   },
   "source": [
    "### Lecture 5\n",
    "Hebbian Learning(biological algorithm): neurons repeatedly and persistently fire together, the connection between them strengthens. "
   ]
  },
  {
   "cell_type": "markdown",
   "metadata": {
    "vscode": {
     "languageId": "plaintext"
    }
   },
   "source": [
    "### Lecture 6\n",
    "\n",
    "Segregation Principle $\\to$ seprated parts but atonomically connected $\\to$ Techniques:\n",
    "- Trace tracking: Label and trace pathway\n",
    "- Diffusion tractography: Water diffusion in brain\n",
    "\n",
    "| **Technique** | **Directly Measures** | **Temporal Resolution** | **Spatial Resolution** |\n",
    "| --- | --- | --- | --- |\n",
    "| Single-unit recording | Potentials in individual neurons and very small populations of neurons | High | High |\n",
    "| EEG (electroencephalography) | Electrical activity of larger populations of neurons | High | Low |\n",
    "| MEG (magnetoencephalography) | Magnetic fields produced by electrical activity of larger populations of neurons | High | Low |\n",
    "| PET (positron emission tomography) | Cerebral blood flow in particular brain regions | Low | High |\n",
    "| fMRI (functional magnetic resonance imaging) | Levels of blood oxygen (BOLD signal) in particular brain regions | Low | High |"
   ]
  }
 ],
 "metadata": {
  "language_info": {
   "name": "python"
  }
 },
 "nbformat": 4,
 "nbformat_minor": 2
}
