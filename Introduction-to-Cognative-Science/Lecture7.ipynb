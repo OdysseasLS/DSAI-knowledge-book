{
 "cells": [
  {
   "cell_type": "markdown",
   "metadata": {},
   "source": [
    "# Bayesianism in cognitive science"
   ]
  },
  {
   "cell_type": "markdown",
   "metadata": {},
   "source": [
    "### Extrasensory perception (ESP)\n",
    "\n",
    "Commonly referred to as psi.\n",
    "- telepathy\n",
    "- clairvoyance (Future sight)\n",
    "- psychokinesis (Have a effect on the physical world by soul)"
   ]
  },
  {
   "cell_type": "markdown",
   "metadata": {},
   "source": [
    "### Conditional Probability\n",
    "\n",
    "$P(A|B) = \\frac{P(A \\cap B)}{P(B)}$"
   ]
  },
  {
   "cell_type": "markdown",
   "metadata": {},
   "source": [
    "## Bayes’s rule\n",
    "\n",
    "$ P(A|B) = \\frac{P(B|A)P(A)}{P(B)} $\n",
    "\n",
    "Given that the evidence holds, how likely is it that the hypothesis is true? -p(hypothesis | evidence) or p(H | E)\n",
    "\n",
    "$ P(H|E) = \\frac{P(E|H)P(H)}{P(E)} $"
   ]
  },
  {
   "cell_type": "markdown",
   "metadata": {},
   "source": [
    "1. The brain generates hypotheses (H) based on the observed data.\n",
    "2. It evaluates the sensory evidence (E) to gather information.\n",
    "3. Using Bayes's Rule, the brain calculates the posterior probabilities 𝑝(𝐻∣𝐸) by combining the prior probabilities 𝑝(𝐻) and the likelihoods 𝑝(𝐸∣𝐻).\n",
    "4. The posterior probabilities represent the updated beliefs about the hypotheses given the observed evidence.\n",
    "\n",
    "This Bayesian approach allows the brain to continuously update its beliefs based on new information, leading to more accurate and informed decision-making.\n"
   ]
  },
  {
   "cell_type": "markdown",
   "metadata": {},
   "source": [
    "Brain makes inferences based on sensory data. Binocular rivalry is a phenomenon where, when each eye is presented with a different image, perception alternates between the two images instead of merging them."
   ]
  },
  {
   "cell_type": "markdown",
   "metadata": {},
   "source": [
    "**Gestalt principles** help the brain organize what we see into patterns and groups (like seeing objects close together as a group).\n",
    "\n",
    "**Bayesian priors** are the brain's expectations based on past experiences about what is likely to be true in the environment.\n",
    "\n",
    "**Putting it together**:\n",
    "- **Gestalt principles** act like **Bayesian priors**. This means that the rules the brain uses to organize visual information (like grouping similar objects together) are based on what the brain expects to see, based on past experience.\n",
    "- These expectations (**priors**) help the brain make sense of new visual information.\n",
    "\n",
    "**In simpler terms**: Gestalt principles are the brain's built-in rules for guessing how things are arranged in the world, helping it to interpret what we see more quickly and accurately."
   ]
  },
  {
   "cell_type": "markdown",
   "metadata": {},
   "source": [
    "#### Bayesian Expected Utility Theory:\n",
    "Helps you make the best decision by weighing both the probabilities and your preferences (utilities) for different outcomes."
   ]
  },
  {
   "cell_type": "markdown",
   "metadata": {},
   "source": [
    "# Checklist\n",
    "\n",
    "## Bayesianism is built on three basic ideas:\n",
    "1. Belief comes in degrees.\n",
    "2. Degrees of belief can be modeled as probabilities, which means that they have to conform to the basic principles of the probability calculus.\n",
    "3. Learning takes place by updating probabilities according to Bayes’s Rule.\n",
    "\n",
    "### Bayes’s Rule\n",
    "Bayes’s Rule is a tool for measuring the posterior probability of a hypothesis, conditional upon some evidence:\n",
    "1. Bayes’s Rule is calculated from the prior probability of the hypothesis, p(H), the likelihood of the evidence, given the hypothesis, p(E/H), and the probability of the evidence, p(E).\n",
    "2. According to Bayes’s Rule, \n",
    "\n",
    "   $\\text{ the posterior probability of the hypothesis =  } \\frac{\\text{Likelihood of the evidence} \\times \\text{Prior probability of the hypothesis}}{\\text{Probability of the evidence} } $\n",
    "3. Bayes’s Rule is a straightforward consequence of the definition of conditional probability.\n",
    "\n",
    "### Perception\n",
    "Perception can be modeled in terms of Bayesian inference.\n",
    "1. Perceptual systems have the job of selecting between different hypotheses about the layout of the distal environment on the basis of noisy and partial data (the evidence).\n",
    "2. This process can be modeled as an application of Bayes’s Rule, because ultimately perceptual systems have to decide which hypothesis has the highest posterior probability, conditional upon the evidence coming from the senses.\n",
    "\n",
    "### Binocular Rivalry (Two eyes Competition)\n",
    "Binocular rivalry offers a case study in Bayesian approaches to perception.\n",
    "1. When separate images are presented to each eye, the percept generated by the visual system alternates between the two images, seemingly at random.\n",
    "2. From a Bayesian perspective, this is an understandable response to the posterior probabilities calculated via Bayes’s Rule.\n",
    "3. The posterior probability for the hypothesis corresponding to the left image (conditional upon the evidence) is the same as the posterior probability for the right image hypothesis, and both are higher than the posterior probability for the hypothesis that the environment contains a composite corresponding to a blend of the two images.\n",
    "4. Since the posterior probabilities for the left and right hypotheses are equal, the visual system can’t decide between them, and so simply alternates.\n",
    "\n",
    "### Expected Utility\n",
    "Expected utility is the key concept for applying Bayesianism to practical decision-making.\n",
    "1. Utility is a measure of how much a decision-maker values a particular outcome.\n",
    "2. To calculate the expected utility of an action you need to assign utilities to its different possible outcomes and then sum those utilities together, each discounted by the probability that it will occur.\n",
    "3. The St Petersburg game shows that expected utility is not necessarily the same as expected monetary value.\n",
    "\n",
    "## Neuroeconomics: Bayes in the Brain\n",
    "Platt and Glimcher’s experiments recording single neurons in the parietal cortex of the monkey are an illustration from neuroeconomics of how the brain may apply Bayesian principles.\n",
    "1. Neuroeconomics is located at the interface between neuroscience, microeconomics, the psychology of reasoning, behavioral finance, and decision theory.\n",
    "2. Platt and Glimcher studied how individual neurons in LIP responded while monkeys made saccadic eye movements for fruit juice rewards.\n",
    "3. Holding all other aspects of the task constant, but varying the probability that each response would be rewarded revealed that the firing rates of individual neurons correlates with both the prior and posterior probabilities of reward.\n",
    "4. Holding all aspects of the task constant, but varying the quantity of the reward revealed that the firing rates of individual neurons correlates with the value of the reward (an analog of utility).\n",
    "5. Using a free-choice version of the cued saccade task revealed neurons firing according to the estimated value to the animal of a particular response (as calculated according to Herrnstein’s melioration theory, which differs from but is related to expected utility theory).\n"
   ]
  }
 ],
 "metadata": {
  "kernelspec": {
   "display_name": "Python 3",
   "language": "python",
   "name": "python3"
  },
  "language_info": {
   "codemirror_mode": {
    "name": "ipython",
    "version": 3
   },
   "file_extension": ".py",
   "mimetype": "text/x-python",
   "name": "python",
   "nbconvert_exporter": "python",
   "pygments_lexer": "ipython3",
   "version": "3.10.13"
  }
 },
 "nbformat": 4,
 "nbformat_minor": 2
}
