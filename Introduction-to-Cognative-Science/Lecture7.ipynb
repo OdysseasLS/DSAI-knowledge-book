{
 "cells": [
  {
   "cell_type": "markdown",
   "metadata": {},
   "source": [
    "# Bayesianism in cognitive science"
   ]
  },
  {
   "cell_type": "markdown",
   "metadata": {},
   "source": [
    "### Extrasensory perception (ESP)\n",
    "\n",
    "Commonly referred to as psi.\n",
    "- telepathy\n",
    "- clairvoyance (Future sight)\n",
    "- psychokinesis (Have a effect on the physical world by soul)"
   ]
  },
  {
   "cell_type": "markdown",
   "metadata": {},
   "source": [
    "## Bayesianism\n",
    "Quantifying what you believe"
   ]
  },
  {
   "cell_type": "markdown",
   "metadata": {},
   "source": [
    "- Belief comes in degrees. \n",
    "\n",
    "(Belief is often viewed as a binary state: true or false but for Bayesians, belief comes in degrees)\n",
    "\n",
    "- Degrees of belief can be modeled as probabilities and conform to probability calculus. \n",
    "- Learning takes place by updating probabilities according to Bayes's rule."
   ]
  },
  {
   "cell_type": "markdown",
   "metadata": {},
   "source": [
    "### Conditional Probability\n",
    "\n",
    "$P(A|B) = \\frac{P(A \\cap B)}{P(B)}$"
   ]
  },
  {
   "cell_type": "markdown",
   "metadata": {},
   "source": [
    "## Bayes’s rule\n",
    "\n",
    "$ P(A|B) = \\frac{P(B|A)P(A)}{P(B)} $\n",
    "\n",
    "Given that the evidence holds, how likely is it that the hypothesis is true? -p(hypothesis | evidence) or p(H | E)\n",
    "\n",
    "$ P(H|E) = \\frac{P(E|H)P(A)}{P(E)} $"
   ]
  }
 ],
 "metadata": {
  "kernelspec": {
   "display_name": "Python 3",
   "language": "python",
   "name": "python3"
  },
  "language_info": {
   "codemirror_mode": {
    "name": "ipython",
    "version": 3
   },
   "file_extension": ".py",
   "mimetype": "text/x-python",
   "name": "python",
   "nbconvert_exporter": "python",
   "pygments_lexer": "ipython3",
   "version": "3.10.13"
  }
 },
 "nbformat": 4,
 "nbformat_minor": 2
}
