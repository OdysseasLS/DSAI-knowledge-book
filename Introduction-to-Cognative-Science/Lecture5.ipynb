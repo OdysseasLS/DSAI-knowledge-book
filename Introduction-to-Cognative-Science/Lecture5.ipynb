{
 "cells": [
  {
   "cell_type": "markdown",
   "metadata": {},
   "source": [
    "# Neural Networks"
   ]
  },
  {
   "cell_type": "markdown",
   "metadata": {},
   "source": [
    "Non Symbolic AI approach = Connectionism (Connection of Perceptrons)"
   ]
  },
  {
   "cell_type": "markdown",
   "metadata": {},
   "source": [
    "#### Delta rule"
   ]
  },
  {
   "cell_type": "markdown",
   "metadata": {},
   "source": [
    "It aims to minimize the error between the predicted output and the actual target output. "
   ]
  },
  {
   "cell_type": "markdown",
   "metadata": {},
   "source": [
    "Neural networks are algorithmic in a limited sense\n",
    "- units/neurons have algorithms for updating activation levels\n",
    "- learning rules are algorithmic\n",
    "\n",
    "But not algorithmic in the same way as PSS\n",
    "- algorithms are not task-specific\n",
    "- algorithms do not operate over explicit representations(instead, they change weights and thresholds of individual unit"
   ]
  }
 ],
 "metadata": {
  "kernelspec": {
   "display_name": "base",
   "language": "python",
   "name": "python3"
  },
  "language_info": {
   "name": "python",
   "version": "3.11.7"
  }
 },
 "nbformat": 4,
 "nbformat_minor": 2
}
