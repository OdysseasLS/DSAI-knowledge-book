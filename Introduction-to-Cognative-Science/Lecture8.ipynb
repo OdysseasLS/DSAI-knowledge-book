{
 "cells": [
  {
   "cell_type": "markdown",
   "metadata": {},
   "source": [
    "# Modularityof Mind & MentalArchitectures"
   ]
  },
  {
   "cell_type": "markdown",
   "metadata": {},
   "source": [
    "# Intelligent Agents\n",
    "\n",
    "## Reflex Agents\n",
    "- **Production rules**: Operate using IF... THEN rules.\n",
    "- **Behavior**: Not cognitive; no information processing.\n",
    "- **Action**: Simply acts on given information without deeper reasoning.\n",
    "- **Example**: An agent that moves towards food when it detects it.\n",
    "\n",
    "## Goal-based Agents\n",
    "- **Action**: Evaluates the consequences of possible actions based on goals.\n",
    "- **Decision-making**: Considers various actions and their outcomes before acting.\n",
    "- **Limitation**: Does not have the capacity to learn from past experiences.\n",
    "- **Example**: An agent that plans its path to find food.\n",
    "\n",
    "## Learning Agents\n",
    "- **Error Detection**: Can identify and learn from mistakes.\n",
    "- **Adaptability**: Experiments with different strategies to achieve goals based on past performance.\n",
    "- **Example**: An agent that adjusts its approach to finding food if previous methods failed."
   ]
  },
  {
   "cell_type": "markdown",
   "metadata": {},
   "source": [
    "# Horizontal and Vertical Faculties\n",
    "\n",
    "## Horizontal Faculties:\n",
    "- **Definition**: General cognitive abilities or capacities that apply across various tasks and domains.\n",
    "- **Examples**:\n",
    "    - Perception: General ability to interpret sensory information.\n",
    "    - Attention: The ability to focus on specific stimuli or tasks.\n",
    "    - Memory: The capacity to store and recall information.\n",
    "\n",
    "## Vertical Faculties:\n",
    "- **Definition**: Specialized systems dedicated to specific types of information or tasks, often linked to specific regions of the brain.\n",
    "- **Examples**:\n",
    "    - Color Perception: Ability to distinguish different colors.\n",
    "    - Shape and Size Analysis: Processing of visual information to understand shapes and sizes.\n",
    "    - Face and Voice Recognition: Identifying and distinguishing faces and voices.\n",
    "    - Grammatical Analysis of Heard Utterances: Understanding and processing the grammatical structure of language.\n",
    "    - Recognizing a Conspecific: Identifying members of one's own species or social group."
   ]
  },
  {
   "cell_type": "markdown",
   "metadata": {},
   "source": [
    "Massive Modularity\n",
    "No Central Processing: Brain functions aren't general; they are domain-specific.\n",
    "Darwinian Modules: Brain evolved with specialized modules for different tasks, evolved through natural selection.\n",
    "Evolutionary Modularity\n",
    "Behavior Explanation: Behavior should be explained by its historical emergence, not just functional decomposition.\n",
    "Examples of Darwinian Modules\n",
    "Feedback control, homeostasis, approach/avoidance, face/emotion recognition, gaze following, folk psychology, and folk physics."
   ]
  }
 ],
 "metadata": {
  "language_info": {
   "name": "python"
  }
 },
 "nbformat": 4,
 "nbformat_minor": 2
}
