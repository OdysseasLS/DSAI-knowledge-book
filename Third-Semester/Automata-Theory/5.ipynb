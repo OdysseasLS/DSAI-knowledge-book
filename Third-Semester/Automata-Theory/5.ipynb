{
 "cells": [
  {
   "cell_type": "markdown",
   "metadata": {},
   "source": [
    "# Formalism\n",
    "\n",
    "A finite automaton is formally defined as a 5-tuple:  \n",
    "$ M = (Q, \\Sigma, q_0, A, \\delta) $\n",
    "\n",
    "### Deterministic Finite Automaton (DFA):\n",
    "- **Transition Function**:  \n",
    "  $ \\delta : Q \\times \\Sigma \\to Q $  \n",
    "  This means that for each state ($Q$) and input symbol ($\\Sigma$), there is exactly one next state.\n",
    "\n",
    "### Nondeterministic Finite Automaton (NFA):\n",
    "- **Transition Function**:  \n",
    "  $ \\delta : Q \\times (\\Sigma \\cup \\{\\Lambda\\}) \\to 2^Q $  \n",
    "  This allows multiple possible next states for a given state and input symbol, including $\\Lambda$ (epsilon, or empty) transitions.  "
   ]
  },
  {
   "cell_type": "markdown",
   "metadata": {},
   "source": [
    "---\n",
    "## $\\Lambda$-Closure (Epsilon-Closure)\n",
    "\n",
    "\n",
    "### Definition:\n",
    "- $\\Lambda(S)$: The set of states reachable from a set $S \\subseteq Q$ through **only $\\Lambda$-transitions**.\n",
    "  - $S \\subseteq \\Lambda(S)$: Every state in $S$ is included in its own $\\Lambda$-closure.\n",
    "  - If $q \\in \\Lambda(S)$, then $\\delta(q, \\Lambda) \\subseteq \\Lambda(S)$: If a state $q$ is in the closure, all states reachable via $\\Lambda$-transitions from $q$ are also included.\n",
    "\n",
    "![Automata Image](../../Files/third-semester/automata/5.JPG)\n"
   ]
  },
  {
   "cell_type": "markdown",
   "metadata": {},
   "source": [
    "---\n",
    "\n",
    "![Automata Image](../../Files/third-semester/automata/6.JPG)\n"
   ]
  }
 ],
 "metadata": {
  "language_info": {
   "name": "python"
  }
 },
 "nbformat": 4,
 "nbformat_minor": 2
}
