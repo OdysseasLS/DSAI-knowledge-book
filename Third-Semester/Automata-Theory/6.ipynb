{
 "cells": [
  {
   "cell_type": "markdown",
   "metadata": {},
   "source": [
    "\n",
    "### **Regular Languages (REG)**\n",
    "\n",
    "#### Definition:\n",
    "A language $ L \\subseteq \\Sigma^* $ is **regular** if:\n",
    "- $ \\emptyset $ (empty set) is in REG.\n",
    "- $ \\{a\\} $ is in REG for any $ a \\in \\Sigma $ (single characters).\n",
    "- REG is **closed** under:\n",
    "  - **Union** ($ L_1 \\cup L_2 $),\n",
    "  - **Concatenation** ($ L_1 \\cdot L_2 $),\n",
    "  - **Kleene star** ($ L_1^* $).\n",
    "\n",
    "#### Examples:\n",
    "1. **Simple Regular Language**:\n",
    "   - $ L = \\{ab, bab\\}^* \\{ \\Lambda, bb \\} $ (concatenation and Kleene star).\n",
    "   - RegEx: $ ((a \\cdot b) \\cup (b \\cdot a \\cdot b))^* \\cdot (\\emptyset^* \\cup (b \\cdot b)) $.\n",
    "\n",
    "2. **Expression and Semantics**:\n",
    "   - RegEx: $ (a + b)^* \\cdot aa $\n",
    "   - Language: All strings over $ \\{a, b\\} $ that end with \"aa\".\n",
    "\n",
    "### **Regular Expressions (RegEx)**\n",
    "\n",
    "#### Definition:\n",
    "- Basic components: $ \\emptyset, \\Lambda, a $.\n",
    "- Operators: Union ($+$), Concatenation, Kleene Star ($*$).\n",
    "\n",
    "#### Examples:\n",
    "1. **Odd number of \"a\"**:\n",
    "   - RegEx: $ b^* a b^* (ab^* a b^*)^* $\n",
    "\n",
    "2. **Even number of \"a\" and \"b\"**:\n",
    "   - RegEx: $ (aa + bb + (ab + ba)(aa + bb)^*(ab + ba))^* $\n",
    "\n",
    "---"
   ]
  },
  {
   "cell_type": "markdown",
   "metadata": {
    "vscode": {
     "languageId": "plaintext"
    }
   },
   "source": [
    "#### Conversions:\n",
    "- **From RegEx to FA**: Thompson’s construction.\n",
    "- **From FA to RegEx**: Algorithms like those by McNaughton and Yamada.\n",
    "\n",
    "---"
   ]
  },
  {
   "cell_type": "markdown",
   "metadata": {},
   "source": [
    "### **Finite Automata (FA)**\n",
    "\n",
    "#### Key Types:\n",
    "- **FA**: Accepts regular languages using states and transitions.\n",
    "- **NFA**: Allows multiple transitions for the same input, or transitions without consuming input ($ \\Lambda $-transitions).\n",
    "- **NFA-$ \\Lambda $**: NFAs that include $ \\Lambda $-transitions.\n",
    "\n",
    "### Thompson’s Construction (RegEx to NFA):\n",
    "Converts a RegEx into an equivalent NFA. For example:\n",
    "- RegEx: $ (aa + b)^* (aba)^* bab $\n",
    "- Step-by-step builds an NFA by combining subcomponents."
   ]
  },
  {
   "cell_type": "markdown",
   "metadata": {},
   "source": [
    "![Automata Image](../../Files/third-semester/automata/7.JPG)\n",
    "![Automata Image](../../Files/third-semester/automata/8.JPG)\n",
    "![Automata Image](../../Files/third-semester/automata/9.JPG)\n"
   ]
  },
  {
   "cell_type": "markdown",
   "metadata": {},
   "source": [
    "### **Kleene’s Theorem**\n",
    "- **Statement**: Regular languages are equivalent to those accepted by FA and those defined by RegEx.\n",
    "- **Conversion**:\n",
    "  - RegEx → FA: Use Thompson’s construction.\n",
    "  - FA → RegEx: Use algorithms like Brzozowski and McCluskey.\n",
    "\n"
   ]
  },
  {
   "cell_type": "markdown",
   "metadata": {},
   "source": [
    "### **Finding a regular expression**\n",
    "\n",
    "![Automata Image](../../Files/third-semester/automata/10.JPG)\n",
    "\n",
    "### Brzozowski et McCluskey\n",
    "\n",
    "![Automata Image](../../Files/third-semester/automata/11.JPG)\n"
   ]
  }
 ],
 "metadata": {
  "language_info": {
   "name": "python"
  }
 },
 "nbformat": 4,
 "nbformat_minor": 2
}
