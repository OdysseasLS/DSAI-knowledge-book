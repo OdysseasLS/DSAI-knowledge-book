{
 "cells": [
  {
   "cell_type": "markdown",
   "metadata": {},
   "source": [
    "### Pumping Lemma:\n",
    "If $s \\in L$ and $|s| \\geq n$:\n",
    "$$\n",
    "s = uvw \\quad \\text{where } |uv| \\leq n, \\, |v| \\geq 1.\n",
    "$$\n",
    "For any $m \\geq 0$, $u v^m w \\in L$. Try to find a contradiction.\n",
    "\n",
    "#### For $L = \\{a^{i^2} \\mid i \\geq 0\\} \\rightarrow L^a = \\{a^*\\}$.\n",
    "\n",
    "### Decidability:\n",
    "A language is **decidable** if an algorithm exists to explain it.\n",
    "\n",
    "### Regular Languages:\n",
    "- **Non-empty**: Use the Pumping Lemma $1 \\leq |x| < n$.\n",
    "- **Infinite**: Use the Pumping Lemma $ |x| \\geq n$.\n",
    "- **Finite**: Examine $ n \\leq |x| \\leq 2n $.\n"
   ]
  },
  {
   "cell_type": "markdown",
   "metadata": {
    "vscode": {
     "languageId": "plaintext"
    }
   },
   "source": [
    "### Canonical (shortlex) order\n",
    "\n",
    "1. **Shorter strings** come before longer strings.\n",
    "2. Among strings of the same length, they are ordered **lexicographically** (like a dictionary)."
   ]
  },
  {
   "cell_type": "markdown",
   "metadata": {
    "vscode": {
     "languageId": "plaintext"
    }
   },
   "source": [
    "A **Pushdown Automaton (PDA)** is formally defined as a **7-tuple**:\n",
    "\n",
    "$$\n",
    "(Q, \\Sigma, \\Gamma, q_0, Z_0, A, \\delta)\n",
    "$$\n",
    "\n",
    "| **Symbol** | **Meaning**                        |\n",
    "|------------|------------------------------------|\n",
    "| $ Q $     | Set of states                     |\n",
    "| $ \\Sigma $ | Input alphabet                    |\n",
    "| $ \\Gamma $ | Stack alphabet                    |\n",
    "| $ q_0 $    | Initial state                     |\n",
    "| $ Z_0 $    | Initial stack symbol              |\n",
    "| $ A $      | Set of accepting states           |\n",
    "| $ \\delta $ | Transition function               |"
   ]
  },
  {
   "cell_type": "markdown",
   "metadata": {
    "vscode": {
     "languageId": "plaintext"
    }
   },
   "source": [
    "### Combine **PDA $ M_1 $** and **FA $ M_2 $** to accept $ L(M_1) \\cap L(M_2) $.\n",
    "\n",
    "## **Summary of the Combined PDA**\n",
    "1. **States**:  \n",
    "   $ \\{(1, P), (1, Q), (2, P), (2, Q)\\} $ will be shown as $ (1P), (1Q), (2P), (2Q) $.\n",
    "\n",
    "2. **Transitions**:  \n",
    "   - From $ (1, P) $: Start transitions pushing $ a $ or $ b $.  \n",
    "   - From $ (2, P) $ and $ (2, Q) $: Process $ a $'s and $ b $'s while updating stack and FA state.\n",
    "\n",
    "3. **Accepting State** will be intersected like $ Accepting(M_1) \\cap Accepting(M_2) $."
   ]
  },
  {
   "cell_type": "markdown",
   "metadata": {
    "vscode": {
     "languageId": "plaintext"
    }
   },
   "source": [
    "- For a **deterministic finite automaton (DFA)**, each state **must have a transition** for every symbol in the alphabet $ \\Sigma $.  \n",
    "     - If a transition for a symbol doesn't exist, the automaton is **incomplete**.\n",
    "- For a **nondeterministic finite automaton (NFA)**, a state **may or may not** have transitions for every symbol in the alphabet. Missing transitions are allowed."
   ]
  },
  {
   "cell_type": "markdown",
   "metadata": {
    "vscode": {
     "languageId": "plaintext"
    }
   },
   "source": [
    "### Distinguishable Strings**\n",
    " \n",
    "   Two strings $ x $ and $ y $ are *L-distinguishable* if there exists a string $ z $ such that:\n",
    "   - $ xz \\in L $ and $ yz \\notin L $, **or**  \n",
    "   - $ xz \\notin L $ and $ yz \\in L $.  \n",
    "\n",
    "**Automaton Perspective**: \n",
    "   $$\n",
    "   \\delta^*(q_0, x) \\neq \\delta^*(q_0, y),\n",
    "   $$"
   ]
  },
  {
   "cell_type": "markdown",
   "metadata": {
    "vscode": {
     "languageId": "plaintext"
    }
   },
   "source": [
    "**Question:** What does it mean when a string $ x \\in \\Sigma^* $ is accepted by a pushdown automaton $ M $ **by empty stack**?\n",
    "\n",
    "**Answer:**  \n",
    "A string $ x $ is accepted by $ M $ by empty stack if:  \n",
    "$$\n",
    "(q_0, x, Z_0) \\vdash_M^* (q, \\Lambda, \\Lambda)\n",
    "$$\n",
    "for some $ q \\in Q $.  \n",
    "\n",
    "**Explanation**:  \n",
    "- $ x $ is completely read (input becomes $ \\Lambda $).  \n",
    "- The stack is completely empty, including the initial stack symbol $ Z_0 $.  \n",
    "- The final state $ q $ does not matter."
   ]
  },
  {
   "cell_type": "markdown",
   "metadata": {},
   "source": [
    "### **Question**: How can you transform a PDA $ M $ (accepting by empty stack) into another PDA $ M_1 $ that accepts the same language by accepting states?\n",
    "\n",
    "---\n",
    "\n",
    "### **Answer**:\n",
    "\n",
    "![PDA](../../Files/third-semester/automata/27.png)"
   ]
  }
 ],
 "metadata": {
  "language_info": {
   "name": "python"
  }
 },
 "nbformat": 4,
 "nbformat_minor": 2
}
