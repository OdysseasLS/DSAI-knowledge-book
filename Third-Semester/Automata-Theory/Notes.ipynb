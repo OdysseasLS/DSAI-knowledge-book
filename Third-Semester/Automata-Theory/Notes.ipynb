{
 "cells": [
  {
   "cell_type": "markdown",
   "metadata": {},
   "source": [
    "$\\lambda , \\Lambda, \\epsilon \\rarrow $ empty string\n",
    "\n",
    "Closed under operation: $K$ and $L$ are languages in $F$ then $K \\cup L$ is also in $F$"
   ]
  },
  {
   "cell_type": "markdown",
   "metadata": {},
   "source": [
    "$$\n",
    "\\lambda, \\varepsilon \\rightarrow \\text{empty string}\n",
    "$$\n",
    "\n",
    "### Closed under operation:\n",
    "If $K$ and $L$ are languages in $F$, then $K \\cup L \\in F$ and $K (\\cup , * , \\cdot) L \\in F$, meaning $F$ is closed under $ (\\cup , * , \\cdot)  $.\n",
    "\n",
    "### Over an Alphabet:\n",
    "$$\n",
    "L = \\{\\lambda, ab, abab, \\dots\\} \\text{ is over } \\{a, b\\}.\n",
    "$$\n",
    "\n",
    "### Finite Automaton:\n",
    "$$\n",
    "L_1 = \\{x \\in \\{ab\\}^* \\mid x \\text{ ends with } aa\\}.\n",
    "$$\n",
    "\n",
    "**State Representation**:\n",
    "- $ \\text{State: } Q = \\{q_0, q_1, q_2\\}, \\quad \n",
    "- $\\text{Input Alphabet: }$\n",
    "- $ \\Sigma = \\{a, b\\}. $\n",
    "- $ \\text{Initial State / Accepting State: } q_0, q_2. $\n",
    "\n",
    "**Transition Function**:\n",
    "- $ \\delta: \\text{table (current state, single input symbol)} \\rightarrow \\text{next state}. $\n",
    "- $ \\delta^*: \\text{table (starting state, sequence of symbols)} \\rightarrow \\text{final state}. $\n",
    "\n",
    "### Regular Language:\n",
    "A language can be represented by a Finite Automaton (FA).\n",
    "\n",
    "### Pumping Lemma:\n",
    "If $s \\in L$ and $|s| \\geq n$:\n",
    "$$\n",
    "s = uvw \\quad \\text{where } |uv| \\leq n, \\, |v| \\geq 1.\n",
    "$$\n",
    "For any $m \\geq 0$, $u v^m w \\in L$. Try to find a contradiction.\n",
    "\n",
    "#### For $L = \\{a^{i^2} \\mid i \\geq 0\\} \\rightarrow L^a = \\{a^*\\}$.\n",
    "\n",
    "### Decidability:\n",
    "A language is **decidable** if an algorithm exists to explain it.\n",
    "\n",
    "### Regular Languages:\n",
    "- **Non-empty**: Use the Pumping Lemma $1 \\leq |x| < n$.\n",
    "- **Infinite**: Use the Pumping Lemma $ |x| \\geq n$.\n",
    "- **Finite**: Examine $ n \\leq |x| \\leq 2n $.\n"
   ]
  }
 ],
 "metadata": {
  "language_info": {
   "name": "python"
  }
 },
 "nbformat": 4,
 "nbformat_minor": 2
}
