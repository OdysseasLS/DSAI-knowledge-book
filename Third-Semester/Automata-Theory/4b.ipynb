{
 "cells": [
  {
   "cell_type": "markdown",
   "metadata": {},
   "source": [
    "# DFA minimization\n",
    "\n",
    "1- for x and y if **only one** of them was accepting state we leave 1 (mark) and leave the rest 0\n",
    "2- for all non markeds left, like (1,2) we will \n",
    "- a: $δ(1,a) = m , δ(2,a) = n $\n",
    "- b: $δ(1,b) = l , δ(2,b) = s$\n",
    "\n",
    "2- If (m,n) or (l,s) were marked from step 1 we will leave 2\n",
    "we leave 3 if it was marked with 2 before\n",
    "\n",
    "3- Draw minimized graph:\n",
    "3a- Completed colomn (mostly $q_0$ or 0) will be starting point and final one one doesn't fit in table (9) is Accepting state\n",
    "we draw A and $q_0$ first\n",
    "\n",
    "3b- Then we look at a column as see which ones have . and group them\n",
    "so we shape different groups and start to see in original graph which are connected to each other to apply the same.\n",
    "Finally we make prevoius Accepting States group Accepting State."
   ]
  },
  {
   "cell_type": "markdown",
   "metadata": {},
   "source": [
    "![Automata Image](../../Files/third-semester/automata/3.JPG)\n",
    "![Automata Image](../../Files/third-semester/automata/4.JPG)"
   ]
  }
 ],
 "metadata": {
  "language_info": {
   "name": "python"
  }
 },
 "nbformat": 4,
 "nbformat_minor": 2
}
