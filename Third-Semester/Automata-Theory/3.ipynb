{
 "cells": [
  {
   "cell_type": "markdown",
   "metadata": {},
   "source": [
    "### prove $ \\delta^*(q, xy) = \\delta^*(\\delta^*(q, x), y) $, by structural induction on $ y $:\n",
    "\n",
    "1. **Base Case** $ (|y| = 0) $: If $ y = \\Lambda $ (empty string), then:\n",
    "   $$\n",
    "   \\delta^*(q, xy) = \\delta^*(q, x) = \\delta(\\delta^*(q, x), \\Lambda) = \\delta^*(\\delta^*(q, x), \\Lambda)\n",
    "   $$\n",
    "   Both sides are equal, so the base case holds.\n",
    "\n",
    "2. **Inductive Step**: Assume the formula holds for any $ y $ with $ |y| < n $. \n",
    "\n",
    "3. **Inductive Case** $ (|y| = n) $: For $ y = z\\sigma $ (where $ z $ has length $ n-1 $ and $ \\sigma $ is a symbol),\n",
    "   $$\n",
    "   \\delta^*(q, xy) = \\delta(\\delta^*(q, xz), \\sigma)\n",
    "   $$\n",
    "   By the inductive hypothesis, $ \\delta^*(q, xz) = \\delta^*(\\delta^*(q, x), z) $, so:\n",
    "   $$\n",
    "   \\delta^*(q, xy) = \\delta(\\delta^*(\\delta^*(q, x), z), \\sigma) = \\delta^*(\\delta^*(q, x), y)\n",
    "   $$\n",
    "\n",
    "Thus, the statement is proven."
   ]
  },
  {
   "cell_type": "markdown",
   "metadata": {
    "vscode": {
     "languageId": "plaintext"
    }
   },
   "source": [
    "### Is $ L = \\{ a^{i^2} \\mid i \\geq 0 \\} $ regular?\n",
    "\n",
    "**Proof Outline**\n",
    "1. **Assume $ L $ is Regular:** Suppose an FA with $ n $ states can recognize $ L $.\n",
    "2. **Pick a Long Enough String:** Choose $ x = a^{n^2} $, which is a string in $ L $ with length $ n^2 $.\n",
    "3. **Split $ x $ as $ uvw $:** By the pumping lemma, $ x = uvw $ where $ |uv| \\leq n $ and $ |v| \\geq 1 $.\n",
    "4. **Pump $ v $ Twice:** Consider $ uv^2w $, which has length $ n^2 + j $ (where $ j = |v| \\geq 1 $).\n",
    "5. **Contradiction:** This length lies between two consecutive squares, so it isn’t a perfect square, meaning $ uv^2w \\notin L $. Therefore, $ L $ is not regular."
   ]
  },
  {
   "cell_type": "markdown",
   "metadata": {
    "vscode": {
     "languageId": "plaintext"
    }
   },
   "source": [
    "---"
   ]
  },
  {
   "cell_type": "markdown",
   "metadata": {
    "vscode": {
     "languageId": "plaintext"
    }
   },
   "source": [
    "**Post Correspondence Problem:** classic example of an undecidable problem; no algorithm can always determine the answer for every input.\n",
    "\n",
    "Language $ L $ recognized by a finite automaton $ M $ (with $ n $ states) is $L(M)$ \n",
    "\n",
    "### Lemma Summaries\n",
    "\n",
    "1. **Lemma 1: Nonempty Language**\n",
    "   - **Statement**: $ L $ is nonempty if and only if there is a string $ x \\in L $ with $ |x| < n $.\n",
    "   - **Proof**:\n",
    "     - **If direction**: If such a short string $ x $ exists, then $ L $ is clearly nonempty.\n",
    "     - **Only if direction (by contradiction)**: If every string in $ L $ had $ |x| \\geq n $, then, by the pumping lemma, we could break $ x $ into parts $ uvw $ with $ v \\neq \\emptyset $. Repeatedly removing $ v $ would eventually produce a shorter string in $ L $ (contradicting our assumption). Therefore, $ L $ must contain a string of length less than $ n $.\n",
    "\n",
    "2. **Lemma 2: Infinite Language**\n",
    "   - **Statement**: $ L $ is infinite if and only if it contains a string $ x $ with $ |x| \\geq n $.\n",
    "   - **Proof**:\n",
    "     - **If direction**: If $ L $ is infinite, then there must be strings of arbitrarily large lengths; hence, at least one $ x \\in L $ will have $ |x| \\geq n $.\n",
    "     - **Only if direction**: If $ L $ contains a string $ x $ with $ |x| \\geq n $, then, by the pumping lemma, we can repeat the middle part $ v $ in $ x = uvw $ infinitely. Thus, we can generate an infinite number of strings in $ L $, proving $ L $ is infinite.\n",
    "\n",
    "3. **Lemma 3: Existence of Strings of Specific Lengths**\n",
    "   - **Statement**: $ L $ contains a string $ x $ with $ |x| \\geq n $ if and only if it contains a string with $ n \\leq |x| < 2n $.\n",
    "   - **Proof**:\n",
    "     - If a string in $ L $ has length $ |x| \\geq 2n $, then, by the pumping lemma, we can shorten it to get another string $ uw $ (where $ uw $ has length between $ n $ and $ 2n $) that also belongs to $ L $. Repeating this process, we can ensure that $ L $ has a string with $ n \\leq |x| < 2n $.\n",
    "\n",
    "#### **Decidability Theorem**:\n",
    "   - Checking if $ L(M) $ is nonempty or infinite is **decidable**:\n",
    "     - **Nonemptiness**: Verify if there exists an $ x \\in L $ with $ |x| < n $.\n",
    "     - **Infiniteness**: Check if there exists an $ x \\in L $ with $ n \\leq |x| < 2n $."
   ]
  },
  {
   "cell_type": "markdown",
   "metadata": {
    "vscode": {
     "languageId": "plaintext"
    }
   },
   "source": [
    "### Distinguishable Strings\n",
    "\n",
    "1. **Distinguishable Strings Definition**:\n",
    "   - Two strings $ x $ and $ y $ are *distinguishable* with respect to a language $ L $ if there exists another string $ z $ such that:\n",
    "     - **One Combination**: $ xz \\in L $ (meaning the combined string $ xz $ is in $ L $) but $ yz \\notin L $ (the combined string $ yz $ is not in $ L $).\n",
    "     - **Or Vice Versa**: $ xz \\notin L $ but $ yz \\in L $.\n",
    "   - In simpler terms, $ z $ acts as a \"test string\" to distinguish between $ x $ and $ y $ based on whether combining $ z $ with each of them results in a string in $ L $.\n",
    "\n",
    "2. **Equivalent Definition**:\n",
    "   - We can define distinguishability using *quotient languages*:\n",
    "     - Define $ L/x = \\{ z \\in \\Sigma^* \\mid xz \\in L \\} $.\n",
    "     - $ x $ and $ y $ are **L-distinguishable** if $ L/x \\neq L/y $ (meaning appending $ z $ to $ x $ results in a different membership in $ L $ than appending $ z $ to $ y $).\n",
    "\n",
    "3. **Pairwise Distinguishability**:\n",
    "   - A set of strings $ S \\subseteq \\Sigma^* $ is *pairwise L-distinguishable* if every unique pair of strings $ x, y \\in S $ are distinguishable from each other with respect to $ L $.\n",
    "\n",
    "### Example: Language $ L_1 = \\{ x \\in \\{a, b\\}^* \\mid x \\text{ ends with } aa \\} $\n",
    "   - Let’s use $ S = \\{\\Lambda, a, aa\\} $.\n",
    "   - **Distinguishability Check**:\n",
    "     - $ \\Lambda \\cdot a = a \\notin L_1 $, but $ a \\cdot a = aa \\in L_1 $ (distinguishes $ \\Lambda $ and $ a $).\n",
    "     - $ \\Lambda \\cdot \\Lambda = \\Lambda \\notin L_1 $, but $ aa \\cdot \\Lambda = aa \\in L_1 $ (distinguishes $ \\Lambda $ and $ aa $).\n",
    "     - $ a \\cdot \\Lambda = a \\notin L_1 $, but $ aa \\cdot \\Lambda = aa \\in L_1 $ (distinguishes $ a $ and $ aa $).\n",
    "\n",
    "   - So, $ S = \\{\\Lambda, a, aa\\} $ is **pairwise L1-distinguishable**.\n",
    "\n",
    "### Alternative Representation:\n",
    "   - Using quotient languages:\n",
    "     - $ L_1/\\Lambda = L_1 $\n",
    "     - $ L_1/a = L_1 \\cup \\{a\\} $\n",
    "     - $ L_1/aa = L_1 \\cup \\{\\Lambda, a\\} $\n",
    "   - All are unequal, confirming that $ \\{\\Lambda, a, aa\\} $ are pairwise L1-distinguishable."
   ]
  },
  {
   "cell_type": "markdown",
   "metadata": {
    "vscode": {
     "languageId": "plaintext"
    }
   },
   "source": [
    "### If $ x $ and $ y $ are distinguishable, then $ \\delta^*(q_0, x) \\neq \\delta^*(q_0, y) $."
   ]
  }
 ],
 "metadata": {
  "language_info": {
   "name": "python"
  }
 },
 "nbformat": 4,
 "nbformat_minor": 2
}
