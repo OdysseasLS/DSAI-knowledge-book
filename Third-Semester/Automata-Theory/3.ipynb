{
 "cells": [
  {
   "cell_type": "markdown",
   "metadata": {},
   "source": [
    "### prove $ \\delta^*(q, xy) = \\delta^*(\\delta^*(q, x), y) $, by structural induction on $ y $:\n",
    "\n",
    "1. **Base Case** $ (|y| = 0) $: If $ y = \\Lambda $ (empty string), then:\n",
    "   $$\n",
    "   \\delta^*(q, xy) = \\delta^*(q, x) = \\delta(\\delta^*(q, x), \\Lambda) = \\delta^*(\\delta^*(q, x), \\Lambda)\n",
    "   $$\n",
    "   Both sides are equal, so the base case holds.\n",
    "\n",
    "2. **Inductive Step**: Assume the formula holds for any $ y $ with $ |y| < n $. \n",
    "\n",
    "3. **Inductive Case** $ (|y| = n) $: For $ y = z\\sigma $ (where $ z $ has length $ n-1 $ and $ \\sigma $ is a symbol),\n",
    "   $$\n",
    "   \\delta^*(q, xy) = \\delta(\\delta^*(q, xz), \\sigma)\n",
    "   $$\n",
    "   By the inductive hypothesis, $ \\delta^*(q, xz) = \\delta^*(\\delta^*(q, x), z) $, so:\n",
    "   $$\n",
    "   \\delta^*(q, xy) = \\delta(\\delta^*(\\delta^*(q, x), z), \\sigma) = \\delta^*(\\delta^*(q, x), y)\n",
    "   $$\n",
    "\n",
    "Thus, the statement is proven."
   ]
  },
  {
   "cell_type": "markdown",
   "metadata": {
    "vscode": {
     "languageId": "plaintext"
    }
   },
   "source": [
    "---"
   ]
  },
  {
   "cell_type": "markdown",
   "metadata": {
    "vscode": {
     "languageId": "plaintext"
    }
   },
   "source": [
    "### Is $ L = \\{ a^{i^2} \\mid i \\geq 0 \\} $ regular?\n",
    "\n",
    "**Proof Outline**\n",
    "1. **Assume $ L $ is Regular:** Suppose an FA with $ n $ states can recognize $ L $.\n",
    "2. **Pick a Long Enough String:** Choose $ x = a^{n^2} $, which is a string in $ L $ with length $ n^2 $.\n",
    "3. **Split $ x $ as $ uvw $:** By the pumping lemma, $ x = uvw $ where $ |uv| \\leq n $ and $ |v| \\geq 1 $.\n",
    "4. **Pump $ v $ Twice:** Consider $ uv^2w $, which has length $ n^2 + j $ (where $ j = |v| \\geq 1 $).\n",
    "5. **Contradiction:** This length lies between two consecutive squares, so it isn’t a perfect square, meaning $ uv^2w \\notin L $. Therefore, $ L $ is not regular."
   ]
  },
  {
   "cell_type": "markdown",
   "metadata": {},
   "source": [
    "---"
   ]
  },
  {
   "cell_type": "markdown",
   "metadata": {},
   "source": [
    "Let $ L = \\{ a^{i^2} \\mid i \\geq 0 \\} $\n",
    "\n",
    "**Lagrange's four-square theorem**\n",
    "$p=a^{2}+b^{2}+c^{2}+d^{2}$\n",
    "\n",
    "$ L^4 = \\{ a^* \\} $\n",
    "\n",
    "#### decidable ⇐⇒ ∃ algorithm that decides\n",
    "\n",
    "\n"
   ]
  },
  {
   "cell_type": "markdown",
   "metadata": {},
   "source": [
    "Regular languages can be finite, infinite, or nonempty. \n",
    "\n",
    "1. **Nonempty Language:**  \n",
    "   - A language $ L $  is nonempty if there exists a string $ x \\in L $  with $ |x| < n $ , where $ n $  is the number of states in the finite automaton (FA).\n",
    "   - Proof uses the **pumping lemma** to find a shorter string.\n",
    "\n",
    "2. **Infinite Language:**  \n",
    "   - A language $ L $  is infinite if there exists a string $ x \\in L $  with $ |x| \\geq n $ .\n",
    "   - Proof uses the pumping lemma to generate infinitely many strings.\n",
    "\n",
    "3. **Finite Check for Decidability:**  \n",
    "   - To check if $ L $  is nonempty, examine strings $ |x| < n $ .  \n",
    "   - To check if $ L $  is infinite, examine strings $ n \\leq |x| < 2n $ . Both involve finite checks."
   ]
  },
  {
   "cell_type": "markdown",
   "metadata": {},
   "source": [
    "---"
   ]
  },
  {
   "cell_type": "markdown",
   "metadata": {
    "vscode": {
     "languageId": "plaintext"
    }
   },
   "source": [
    "### Distinguishable Strings\n",
    "\n",
    "1. **Distinguishable Strings Definition**:\n",
    "   - Two strings $ x $ and $ y $ are *distinguishable* with respect to a language $ L $ if there exists another string $ z $ such that:\n",
    "     - **One Combination**: $ xz \\in L $ (meaning the combined string $ xz $ is in $ L $) but $ yz \\notin L $ (the combined string $ yz $ is not in $ L $).\n",
    "     - **Or Vice Versa**: $ xz \\notin L $ but $ yz \\in L $.\n",
    "   - In simpler terms, $ z $ acts as a \"test string\" to distinguish between $ x $ and $ y $ based on whether combining $ z $ with each of them results in a string in $ L $.\n",
    "\n",
    "2. **Equivalent Definition**:\n",
    "   - We can define distinguishability using *quotient languages*:\n",
    "     - Define $ L/x = \\{ z \\in \\Sigma^* \\mid xz \\in L \\} $.\n",
    "     - $ x $ and $ y $ are **L-distinguishable** if $ L/x \\neq L/y $ (meaning appending $ z $ to $ x $ results in a different membership in $ L $ than appending $ z $ to $ y $).\n",
    "\n",
    "3. **Pairwise Distinguishability**:\n",
    "   - A set of strings $ S \\subseteq \\Sigma^* $ is *pairwise L-distinguishable* if every unique pair of strings $ x, y \\in S $ are distinguishable from each other with respect to $ L $."
   ]
  },
  {
   "cell_type": "markdown",
   "metadata": {
    "vscode": {
     "languageId": "plaintext"
    }
   },
   "source": [
    "### If $ x $ and $ y $ are distinguishable, then $ \\delta^*(q_0, x) \\neq \\delta^*(q_0, y) $."
   ]
  }
 ],
 "metadata": {
  "language_info": {
   "name": "python"
  }
 },
 "nbformat": 4,
 "nbformat_minor": 2
}
