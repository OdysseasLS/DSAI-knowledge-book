{
 "cells": [
  {
   "cell_type": "markdown",
   "metadata": {},
   "source": [
    "### \"L/...\" (quotient)\n",
    "\n",
    "\n",
    "- **L/Λ** means: What happens if we remove (or apply) the empty string $ \\Lambda $? The language stays the same, so **$ L/Λ = L $**.\n",
    "- **L/b** means: What happens if we remove the prefix \"b\"? It means you look at all strings in $ L $ that **do not start with \"b\"**. For example, in $ L $, this would include strings like \"a\", \"aa\", \"ab\", etc., but not \"b\" or \"bb\".\n",
    "- **L/bb** means: What happens if we remove the prefix \"bb\"? In this case, **no string in $ L $** can start with \"bb\", so **$ L/bb = \\emptyset $**."
   ]
  },
  {
   "cell_type": "markdown",
   "metadata": {},
   "source": [
    "---"
   ]
  },
  {
   "cell_type": "markdown",
   "metadata": {},
   "source": [
    "### **L-Distinguishable Strings**\n",
    "\n",
    "An **L-distinguishable set** means that the strings in the set can be **distinguished** by applying different suffixes (or prefixes) that lead to **different behaviors** in the language $ L $.\n",
    "\n",
    "##### **Example:**\n",
    "\n",
    "Let $ L = \\{ x \\in \\{a, b\\}^* \\mid x \\text{ does not contain \"bb\"} \\} $.\n",
    "\n",
    "Imagine set $ \\{ \\Lambda, b, bb \\} $, and we want to check if these strings are **L-distinguishable**.\n",
    "\n",
    "**Step-by-step Analysis:**\n",
    "\n",
    "1. **$ \\Lambda b = b \\in L $ (valid), but $ bb \\notin L $** (invalid):\n",
    "   - Start with $ \\Lambda $ (empty string).\n",
    "   - Append **$ b $** to $ \\Lambda $, resulting in **$ b $**. Since $ b $ is in $ L $ (it doesn't contain \"bb\"), this is valid.\n",
    "   - But if you append **$ bb $** to $ \\Lambda $, the result is **$ bb $**, which **is not in $ L $** because it contains \"bb\".\n",
    "\n",
    "2. **$ \\Lambda \\Lambda = \\Lambda \\in L $(valid), but $ bb \\Lambda = bb \\notin L $**(invalid).\n",
    "\n",
    "3. **$ b \\Lambda = b \\in L $(valid), but $ bb \\Lambda = bb \\notin L $**(invalid).\n",
    "\n",
    "\n",
    "The strings $ \\Lambda, b, bb $ are distinguishable in $ L $ because, when you add something (even an empty string), their behaviors with respect to membership in $ L $ differ. For example:\n",
    "\n",
    "- After adding **$ b $** to $ \\Lambda $, it stays valid in $ L $, but adding **$ bb $** makes it invalid.\n",
    "- Similarly, $ b $ and $ bb $ behave differently in the language after appending a string.\n",
    "\n",
    "\n",
    "Let $ M = (Q, \\Sigma, q_0, A, \\delta) $ be a finite automaton (FA) that accepts a language $ L \\subseteq \\Sigma^* $.\n",
    "\n",
    "If $ x, y \\in \\Sigma^* $ are **L-distinguishable**, then the automaton’s transition function applied to $ x $ and $ y $ results in different states:  \n",
    "   $\n",
    "   \\delta^*(q_0, x) \\neq \\delta^*(q_0, y).\n",
    "   $\n",
    "\n",
    "--- \n",
    "\n"
   ]
  },
  {
   "cell_type": "markdown",
   "metadata": {},
   "source": [
    "## Characterization\n",
    "If there is an **infinite set** of pairwise L-distinguishable strings in $ \\Sigma^* $, then $ L $ **cannot** be accepted by a finite automaton. \n",
    "\n",
    "Thus, **infinite L-distinguishable sets** require more states than a finite automaton can provide, so **L is not regular** and cannot be accepted by a finite automaton.\n",
    "\n"
   ]
  }
 ],
 "metadata": {
  "language_info": {
   "name": "python"
  }
 },
 "nbformat": 4,
 "nbformat_minor": 2
}
