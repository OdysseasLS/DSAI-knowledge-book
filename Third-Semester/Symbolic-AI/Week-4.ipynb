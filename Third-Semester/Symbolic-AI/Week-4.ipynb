{
 "cells": [
  {
   "cell_type": "markdown",
   "metadata": {},
   "source": [
    "### Planning key difference with inference\n",
    "- Actions have effects on the knowledge base\n",
    "\n",
    "- They change things over time"
   ]
  },
  {
   "cell_type": "markdown",
   "metadata": {
    "vscode": {
     "languageId": "plaintext"
    }
   },
   "source": [
    "#### **Planning domain description language (PDDL)**\n",
    "\n",
    "• A way to write down actions and their effects"
   ]
  }
 ],
 "metadata": {
  "language_info": {
   "name": "python"
  }
 },
 "nbformat": 4,
 "nbformat_minor": 2
}
