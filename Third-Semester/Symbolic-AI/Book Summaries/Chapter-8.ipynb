{
 "cells": [
  {
   "cell_type": "markdown",
   "metadata": {},
   "source": [
    "## **Chapter 8: First-Order Logic (FOL)**\n",
    "\n",
    "\n",
    "**Sets**:\n",
    "   - Predicates: $x \\in s$, $s_1 \\subseteq s_2$.\n",
    "   - Axioms:\n",
    "     - $\\forall s Set(s) \\Leftrightarrow (s = \\{\\} ) \\lor \\exists x, s_2 (Set(s_2) \\land s = \\{x|s_2\\})$.\n",
    "     - $\\forall x, s x \\in \\{\\} \\Leftrightarrow False$.\n",
    "     - $\\forall x, s x \\in \\{x|s\\} \\Leftrightarrow True$.\n",
    "\n",
    "**Wumpus World**:\n",
    "   - Represent adjacency:\n",
    "     - $\\forall x, y, a, b Adjacent([x, y], [a, b]) \\Leftrightarrow (x = a \\land |y - b| = 1) \\lor (y = b \\land |x - a| = 1)$.\n",
    "   - Breeze logic:\n",
    "     - $\\forall s Breezy(s) \\Leftrightarrow \\exists r Adjacent(r, s) \\land Pit(r)$.\n",
    "\n",
    "---\n",
    "\n",
    "### **Key Advantages of FOL**\n",
    "- **Expressiveness**: Captures general rules and relationships.\n",
    "- **Compositionality**: The meaning of a complex sentence derives from its parts.\n",
    "- **Logical Inference**: Supports structured reasoning and generalization."
   ]
  }
 ],
 "metadata": {
  "language_info": {
   "name": "python"
  }
 },
 "nbformat": 4,
 "nbformat_minor": 2
}
