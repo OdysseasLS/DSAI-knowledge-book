{
 "cells": [
  {
   "cell_type": "markdown",
   "metadata": {},
   "source": [
    "\n",
    "# Inference in First-Order Logic\n",
    "\n",
    "### Inference Rules for Quantifiers\n",
    "- **Universal Instantiation (UI):** From $\\forall x P(x)$, infer $P(a)$ for any constant $a$.\n",
    "  - Example: From $\\forall x (King(x) \\land Greedy(x) \\Rightarrow Evil(x))$, infer:\n",
    "    - $(King(John) \\land Greedy(John)) \\Rightarrow Evil(John)$\n",
    "- **Existential Instantiation (EI):** From $\\exists x P(x)$, infer $P(k)$, where $k$ is a new constant (Skolem constant).\n",
    "  - Example: From $\\exists x (Crown(x) \\land OnHead(x, John))$, infer:\n",
    "    - $Crown(C_1) \\land OnHead(C_1, John)$\n",
    "\n",
    "### Unification\n",
    "Unification finds a substitution $\\theta$ that makes two expressions identical.\n",
    "- Example: UNIFY($Knows(John, x)$, $Knows(John, Mary)$) $\\rightarrow \\{\\theta: x/Mary\\}$\n",
    "\n",
    "- **Forward Chaining**\n",
    "    - Start with known facts.\n",
    "    - Apply rules in a forward direction to infer new facts.\n",
    "    - Stop when no new facts can be inferred or when the query is proven.\n",
    "\n",
    "- **Backward Chaining**\n",
    "    - Start with the goal (query).\n",
    "    - Find rules that could satisfy the goal.\n",
    "    - Recursively prove the premises of these rules.\n",
    "---\n",
    "\n",
    "## Resolution\n",
    "\n",
    "### Converting to Conjunctive Normal Form (CNF)\n",
    "1. Eliminate implications: $A \\Rightarrow B$ becomes $\\neg A \\lor B$.\n",
    "2. Standardize variables: Rename variables to avoid conflicts.\n",
    "3. Skolemize: Replace existential quantifiers with Skolem constants/functions.\n",
    "4. Distribute $\\lor$ over $\\land$."
   ]
  }
 ],
 "metadata": {
  "language_info": {
   "name": "python"
  }
 },
 "nbformat": 4,
 "nbformat_minor": 2
}
