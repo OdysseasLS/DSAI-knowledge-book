{
 "cells": [
  {
   "cell_type": "markdown",
   "metadata": {},
   "source": [
    "### Classical Planning\n",
    "\n",
    "**Definition of Classical Planning**:\n",
    "   - Involves fully observable, deterministic, static environments with a single agent.\n",
    "   - Planning problem represented using **PDDL (Planning Domain Definition Language)**.\n",
    "   - Components of a planning problem:\n",
    "     - **Initial state**: Conjunction of fluents (e.g., `At(Truck1, Melbourne)`).\n",
    "     - **Actions**: Defined by schemas with **Preconditions** and **Effects**.\n",
    "     - **Result function**: Updates the state by applying action effects (add and delete lists).\n",
    "     - **Goal test**: Conjunction of fluents to be satisfied.\n",
    "\n",
    "#### Algorithms for State-Space Search\n",
    "\n",
    "- **Forward (Progression) Search**\n",
    "- **Backward (Regression) Search**\n",
    "\n",
    "- **Heuristics**:\n",
    "   - **Ignore Preconditions**: Simplify actions by removing preconditions.\n",
    "   - **Ignore Delete Lists**: Allow monotonic progress (ignore action negations).\n",
    "   - **State Abstraction**: Ignore irrelevant fluents to simplify state space.\n",
    "   - **Subgoal Independence**: Approximate cost by summing subgoal costs.\n",
    "\n",
    "---\n",
    "\n",
    "#### Planning Graphs and GRAPHPLAN\n",
    "\n",
    "- **Planning Graph**\n",
    "\n",
    "- **Mutual Exclusion (Mutex)**:\n",
    "   - Defines conflicts between actions or states at the same level.\n",
    "   - Types: **Inconsistent effects**, **Interference**, **Competing needs**.\n",
    "\n",
    "- **Heuristic Estimation**:\n",
    "   - **Level Cost**: Level where a goal first appears.\n",
    "   - **Max-Level**: Maximum level cost of subgoals (admissible but loose).\n",
    "   - **Level Sum**: Sum of level costs (inadmissible but effective in practice).\n",
    "   - **Set-Level**: First level where all subgoals appear non-mutex (admissible, accurate).\n",
    "\n",
    "- **GRAPHPLAN Algorithm**:\n",
    "   - Expands the planning graph until goals are non-mutex.\n",
    "   - Uses backward search (`EXTRACT-SOLUTION`) to find plans.\n",
    "   - Terminates when the graph and no-goods level off without finding a solution.\n"
   ]
  }
 ],
 "metadata": {
  "language_info": {
   "name": "python"
  }
 },
 "nbformat": 4,
 "nbformat_minor": 2
}
