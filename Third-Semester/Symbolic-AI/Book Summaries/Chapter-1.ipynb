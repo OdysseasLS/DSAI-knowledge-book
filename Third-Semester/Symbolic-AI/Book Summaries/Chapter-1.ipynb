{
 "cells": [
  {
   "cell_type": "markdown",
   "metadata": {},
   "source": [
    "Chapter 1: Introduction to Artificial Intelligence**\n",
    "\n",
    "---\n",
    "\n",
    "#### **Types of AI Approaches:**\n",
    "\n",
    "| **Thinking Humanly**| **Thinking Rationally**|\n",
    "|-------------------------------------------------------------------------------------|---------------------------------------------------------------------------------------|\n",
    "| \"make computers think in literal sense.\" \"human thinking\" | \"mental faculties through computational models.\", \"The study of the computations that make it possible to perceive, reason, and act.\"|\n",
    "| **Acting Humanly**| **Acting Rationally**|\n",
    "| \"machines that perform functions performed by people.\" \"make computers do things people aren't better.\" | \"Computational Intelligence, design of intelligent agents.\" intelligent behavior in artifacts.\"|\n",
    "\n",
    "\n",
    "**Total Turing Test:** Adds physical interaction (vision, robotics).\n",
    "\n",
    "\n",
    "#### **Four Approaches to AI**\n",
    "1. **Acting Humanly:**\n",
    "   - Turing Test capabilities:\n",
    "     - Natural language processing.\n",
    "     - Knowledge representation.\n",
    "     - Automated reasoning.\n",
    "     - Machine learning.\n",
    "2. **Thinking Humanly:**\n",
    "   - Cognitive modeling through introspection, experiments, and imaging.\n",
    "   - Example: GPS (General Problem Solver) mimicked human thought patterns.\n",
    "3. **Thinking Rationally:**\n",
    "   - Formal logic, syllogisms (e.g., Aristotle).\n",
    "   - Limitations: Translating real-world problems to formal logic can be hard.\n",
    "4. **Acting Rationally:**\n",
    "   - Rational agents take actions to maximize expected outcomes.\n",
    "   - Broader than just inference and includes reflex actions.\n",
    "\n",
    "## **Notes:**\n",
    "- AI will never reach higher IQ level than humans due lack of consciousness, creativity, and emotions.\n",
    "- Reflex actions (Flinching from a hot stove) are **not rational** as they bypass conscious deliberation. They are also **not intelligent** as got pre-programmed biological responses.\n",
    "- We study the problem of building agents with **Rational Action** that are intelligent in this sense.\n",
    "- Psychologists adopted the idea that humans and animals can be considered information-processing machines."
   ]
  }
 ],
 "metadata": {
  "language_info": {
   "name": "python"
  }
 },
 "nbformat": 4,
 "nbformat_minor": 2
}
