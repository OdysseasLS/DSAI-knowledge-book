{
 "cells": [
  {
   "cell_type": "markdown",
   "metadata": {},
   "source": [
    "### Solving Problems by Searching\n",
    "\n",
    "#### **Problem Solving Steps**(define):\n",
    "- States\n",
    "- Initial State\n",
    "- Actions\n",
    "- Transition Model\n",
    "- Goal Test\n",
    "- Path Cost (For Real-world problems and not Toy problems)\n",
    "\n",
    "\n",
    "- **Frontier**: Set of leaf nodes available for expansion.\n",
    "\n",
    "#### **Graph vs. Tree Search**\n",
    "- **Tree Search**: Considers all paths, including loops.\n",
    "- **Graph Search**: Avoids revisiting states by using an explored set."
   ]
  },
  {
   "cell_type": "markdown",
   "metadata": {
    "vscode": {
     "languageId": "plaintext"
    }
   },
   "source": [
    "### Real-world problems solved by AI\n",
    "\n",
    "1. **VLSI Layout Problem**:\n",
    "   - **Definition**: A problem in designing Very-Large-Scale Integration (VLSI) chips, where millions of components and their connections must be arranged.\n",
    "   - **Goals**: Minimize chip area, delay, stray capacitances (unwanted effects caused by proximity of components) and manufacturing yield (efficiency in production).\n",
    "   - **Channel Routing**(Challenge): Route the connecting wires through the gaps between cells made by the search and placement algorithm (a form of pathfinding)\n",
    "   \n",
    "2. **The traveling salesperson problem (TSP)**:\n",
    "   - **Definition**: A problem where a salesperson must visit a set of cities exactly once and return to the starting city, minimizing the total distance traveled.\n",
    "\n",
    "3. **Automatic Assembly Sequencing**:\n",
    "   - **Definition**: The process of determining the order to assemble parts of an object.\n",
    "   \n",
    "4. **Protein Design**:\n",
    "   - **Definition**: Finding a sequence of amino acids that will fold into a specific 3D protein with desired properties (e.g., curing a disease)s imilar to the assembly problem, as it requires generating sequences that result in functional, stable protein structures.\n",
    "\n",
    "5. **Touring Problems**:\n",
    "   - **Definition**: Problems where an agent must visit a set of locations, such as the TSP, the Traveling Repairman Problem (TRP), and the Traveling Tournament Problem (TTP)."
   ]
  },
  {
   "cell_type": "markdown",
   "metadata": {
    "vscode": {
     "languageId": "plaintext"
    }
   },
   "source": [
    "- Search algorithms are judged on the basis of completeness, optimality, time complexity, and space complexity. Complexity depends on $b$, the branching factor in the state space, and $d$, the depth of the shallowest solution.\n",
    "- The **branching factor $(b)$** in a search algorithm refers to the **average number of child nodes**."
   ]
  },
  {
   "cell_type": "markdown",
   "metadata": {
    "vscode": {
     "languageId": "plaintext"
    }
   },
   "source": [
    "---\n",
    "\n",
    "- **Uninformed Search**: No additional information about states beyond the problem definition.\n",
    "- **Informed Search**: Uses heuristics to estimate the quality of non-goal states (covered in Section 3.5).\n",
    "\n",
    "## Uninformed Search Methods\n",
    "\n",
    "Uninformed search methods have access only to the problem definition. The basic algorithms are as follows:\n",
    "\n",
    "- **Breadth-first search**: Expands the shallowest nodes first; it is complete, optimal for unit step costs, but has exponential space complexity.\n",
    "- **Uniform-cost search**: Expands the node with the lowest path cost, $g(n)$, and is optimal for general step costs.\n",
    "- **Depth-first search**: Expands the deepest unexpanded node first. It is neither complete nor optimal, but has linear space complexity. Depth-limited search adds a depth bound.\n",
    "- **Iterative deepening search**: Calls depth-first search with increasing depth limits until a goal is found. It is complete, optimal for unit step costs, has time complexity comparable to breadth-first search, and has linear space complexity.\n",
    "- **Bidirectional search**: Can enormously reduce time complexity, but it is not always applicable and may require too much space.\n",
    "\n",
    "## Informed Search Methods\n",
    "\n",
    "Informed search methods may have access to a heuristic function $h(n)$ that estimates the cost of a solution from $n$.\n",
    "\n",
    "- **Best-first search**: A generic algorithm that selects a node for expansion according to an evaluation function.\n",
    "- **Greedy best-first search**: Expands nodes with minimal $h(n)$. It is not optimal but is often efficient.\n",
    "- **A\\* search**: Expands nodes with minimal $f(n) = g(n) + h(n)$. \n",
    "  - A\\* is complete and optimal, provided that $h(n)$ is admissible (for Tree-Search) or consistent (for Graph-Search). \n",
    "  - However, the space complexity of A\\* is still prohibitive.\n",
    "- **RBFS (Recursive Best-First Search)** and **SMA\\* (Simplified Memory-Bounded A\\*)**: Robust, optimal search algorithms that use limited amounts of memory. Given enough time, they can solve problems that A\\* cannot solve due to memory constraints.\n",
    "\n",
    "## Heuristic Search Performance\n",
    "\n",
    "The performance of heuristic search algorithms depends on the quality of the heuristic function. Good heuristics can be constructed by:\n",
    "- Relaxing the problem definition.\n",
    "- Storing precomputed solution costs for subproblems in a **pattern database**.\n",
    "- Learning from experience with the problem class.\n",
    "\n",
    "\n",
    "- **BFS and UCS** are exhaustive but memory-intensive.\n",
    "- **DFS and DLS** save memory but risk incompleteness.\n",
    "- **IDS** combines benefits of BFS and DFS for large state spaces.\n",
    "- **Bidirectional Search** is efficient but requires a well-defined goal state."
   ]
  },
  {
   "cell_type": "markdown",
   "metadata": {
    "vscode": {
     "languageId": "plaintext"
    }
   },
   "source": [
    "#### **Admissible vs. Consistent Heuristics**\n",
    "- **Admissible**: Never overestimates the cost to the goal.  \n",
    "- **Consistent**: Satisfies the triangle inequality ($ h(n) \\leq c(n, a, n') + h(n') $)."
   ]
  }
 ],
 "metadata": {
  "language_info": {
   "name": "python"
  }
 },
 "nbformat": 4,
 "nbformat_minor": 2
}
