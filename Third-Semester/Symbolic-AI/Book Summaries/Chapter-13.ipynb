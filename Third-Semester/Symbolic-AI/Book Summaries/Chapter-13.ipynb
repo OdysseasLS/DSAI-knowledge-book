{
 "cells": [
  {
   "cell_type": "markdown",
   "metadata": {},
   "source": [
    "### Quantifying Uncertainty\n",
    "\n",
    "**Joint Probability Distribution**:\n",
    "   - Describes probabilities for all combinations of random variables.\n",
    "\n",
    "### **Applications of Bayes' Rule**\n",
    "1. **Bayes' Rule**:\n",
    "   - $ P(A | B) = \\frac{P(B | A)P(A)}{P(B)} $, where $ P(B) \\neq 0 $.\n",
    "\n",
    "### **Practical Considerations**\n",
    "\n",
    "Frequentists rely only on data, while Bayesians incorporate prior beliefs and update them with evidence.\n"
   ]
  }
 ],
 "metadata": {
  "language_info": {
   "name": "python"
  }
 },
 "nbformat": 4,
 "nbformat_minor": 2
}
