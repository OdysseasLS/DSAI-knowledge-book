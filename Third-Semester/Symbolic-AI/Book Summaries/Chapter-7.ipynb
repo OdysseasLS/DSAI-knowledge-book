{
 "cells": [
  {
   "cell_type": "markdown",
   "metadata": {},
   "source": [
    "### Logical Agents and Knowledge-Based Systems\n",
    "\n",
    "\n",
    "#### **1. Knowledge-Based Agents (KBA):**\n",
    "- **Components:**\n",
    "  - **Knowledge Base (KB)** \n",
    "  - **Inference Mechanism:** Derives new knowledge and actions from the KB.\n",
    "\n",
    "#### **2. Representation and Reasoning:**\n",
    "- **Syntax and Semantics:**\n",
    "  - Syntax defines the structure of sentences.\n",
    "  - Semantics assigns truth values to sentences based on possible worlds or models.\n",
    "- **Entailment (α ⊨ β):**\n",
    "  - Sentence **α** entails **β** means β is true in all models where α is true.\n",
    "  - Equivalently:\n",
    "    - **Validity:** $ \\alpha ⇒ β $ If α is true, then β is guaranteed to be true.\n",
    "    - **Unsatisfiability:** $ \\alpha ∧ ¬β $ means α and ¬β cannot be true together.\n",
    "\n",
    "---\n",
    "\n",
    "### Inference Methods:\n",
    "\n",
    "#### **1. Model Checking:**\n",
    "- Enumerates all possible models to verify entailment.\n",
    "- **Advantages:** Simple and guarantees correctness.\n",
    "- **Disadvantages:** Computationally expensive ($ O(2^n) $) for large KBs.\n",
    "\n",
    "#### **2. Logical Inference:**\n",
    "- Uses rules like **Modus Ponens** and **Resolution** to derive new sentences.\n",
    "- **Soundness:** Produces only entailed sentences.\n",
    "- **Completeness:** Derives all entailed sentences.\n",
    "\n",
    "#### **3. Resolution:**\n",
    "- A single, powerful inference rule for CNF sentences.\n",
    "- **Steps:**\n",
    "  1. Convert KB and query to CNF.\n",
    "  2. Add the negation of the query ($ ¬α $) to the KB.\n",
    "  3. Resolve clauses iteratively to derive the empty clause (contradiction).\n",
    "- **Properties:** Sound and complete.\n",
    "\n",
    "#### **4. Chaining Algorithms:**\n",
    "- **Forward Chaining:**\n",
    "  - Data-driven reasoning.\n",
    "  - Starts with known facts, applies rules to derive new facts.\n",
    "  - **Efficient for Horn clauses.**\n",
    "- **Backward Chaining:**\n",
    "  - Goal-directed reasoning.\n",
    "  - Works backward from the query to find supporting facts.\n",
    "  - Suitable for answering specific questions."
   ]
  }
 ],
 "metadata": {
  "language_info": {
   "name": "python"
  }
 },
 "nbformat": 4,
 "nbformat_minor": 2
}
