{
 "cells": [
  {
   "cell_type": "markdown",
   "metadata": {},
   "source": [
    "Understanding and consciousness: Human biological brain"
   ]
  },
  {
   "cell_type": "markdown",
   "metadata": {},
   "source": [
    "Intelligent behavior does not imply the machine is conscious and understanding"
   ]
  },
  {
   "cell_type": "markdown",
   "metadata": {},
   "source": [
    "However, machines can be intelligent"
   ]
  },
  {
   "cell_type": "markdown",
   "metadata": {
    "vscode": {
     "languageId": "plaintext"
    }
   },
   "source": [
    "**Artificial General Intelligence :** reasoning, learning, problem solving, generalisation\n",
    "\n",
    "**Strong AI:** Machines that act intelligently can eventually also possess consciousness\n"
   ]
  },
  {
   "cell_type": "markdown",
   "metadata": {
    "vscode": {
     "languageId": "plaintext"
    }
   },
   "source": [
    "### Different approaches to AI:\n",
    "\n",
    "1. Classic AI:\n",
    "    - Agent-based reasoning\n",
    "    - Utilizes search, logic, and rule-based systems\n",
    "    - Symbol manipulation\n",
    "    - Includes agents, environments, and memory\n",
    "\n",
    "2. Machine Learning\n",
    "\n",
    "3. Cognitive Science/Cognitive Modelling:\n",
    "    - Replicating psychological and biological mechanisms that lead to intelligent behavior\n",
    "    - Utilizes frameworks like ACT-R and SOAR.\n",
    "\n",
    "4. Computational Intelligence/Natural Computing:\n",
    "    - Draws inspiration from biological systems for search and optimization\n",
    "    - Includes techniques like swarm intelligence* and genetic algorithms.\n",
    "\n",
    "*Swarm intelligence: agents interacting locally with one another and with the environment\n"
   ]
  }
 ],
 "metadata": {
  "language_info": {
   "name": "python"
  }
 },
 "nbformat": 4,
 "nbformat_minor": 2
}
