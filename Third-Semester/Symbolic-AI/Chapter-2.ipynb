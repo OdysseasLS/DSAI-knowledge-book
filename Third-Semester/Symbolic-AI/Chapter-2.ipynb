{
 "cells": [
  {
   "cell_type": "markdown",
   "metadata": {},
   "source": [
    "### **Intelligent Agents**\n",
    "\n",
    "#### **Agents and Environments**\n",
    "- **Agent:** Perceives environment with sensors and acts via actuators.  \n",
    "  - Example: Humans (sensors: eyes, actuators: hands), robots, software systems.\n",
    "\n",
    "#### **Rationality and Performance**\n",
    "- **Rational Agent:** Selects actions that maximize the performance measure based on:\n",
    "  - Percept sequence.\n",
    "  - Prior knowledge.\n",
    "  - Available actions.\n",
    "\n",
    "#### **Types of Agents**\n",
    "1. **Simple Reflex Agents:**\n",
    "   - Act on current percepts using predefined condition–action rules.\n",
    "   - Limitations: Fail in partially observable environments.\n",
    "\n",
    "2. **Model-Based Reflex Agents:**\n",
    "   - Handle **partially observable environments** by maintaining an internal state.\n",
    "   - The **internal state** is a representation of the environment twhich can infer based on its history of percepts and actions stored in memory.\n",
    "\n",
    "\n",
    "3. **Goal-Based Agents**\n",
    "\n",
    "4. **Utility-Based Agents:**\n",
    "   - Evaluate the desirability of states using a utility function and choose actions to maximize expected utility.\n",
    "   - Maximize expected utility under uncertainty.\n",
    "\n",
    "5. **Learning Agents**\n",
    "\n",
    "#### **Task Environments (PEAS Framework)**\n",
    "- **PEAS:** Performance measure, Environment, Actuators, Sensors.\n",
    "- Example: Automated taxi:\n",
    "  - **Performance Measure:** Safety, speed, passenger comfort, profit.\n",
    "  - **Environment:** Roads, traffic, pedestrians.\n",
    "  - **Actuators:** Steering, brakes, signals.\n",
    "  - **Sensors:** Cameras, GPS, speedometer.\n",
    "\n",
    "\n",
    "#### **Environment Types**\n",
    "- **Fully Observable vs. Partially Observable**\n",
    "- **Single Agent vs. Multiagent**\n",
    "- **Deterministic vs. Stochastic:** Predictable outcomes or random elements.\n",
    "- **Episodic vs. Sequential:** Independent tasks or dependent on prior actions.\n",
    "- **Static vs. Dynamic:** Changes over time or remains constant.\n",
    "- **Discrete vs. Continuous:** Distinct states vs. gradual changes."
   ]
  }
 ],
 "metadata": {
  "language_info": {
   "name": "python"
  }
 },
 "nbformat": 4,
 "nbformat_minor": 2
}
