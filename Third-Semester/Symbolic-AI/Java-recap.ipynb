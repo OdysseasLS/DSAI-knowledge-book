{
 "cells": [
  {
   "cell_type": "markdown",
   "metadata": {},
   "source": [
    "### How Java Code Works: From Writing to Execution\n",
    "\n",
    "The `.java` file is compiled by the **Java compiler** (`javac`) into **bytecode**. The compiler generates a `.class` file for every class in program. The **Java Virtual Machine (JVM)** reads the bytecode in the `.class` file and executes it. The JVM translates the bytecode into machine code that your computer can understand."
   ]
  },
  {
   "cell_type": "markdown",
   "metadata": {},
   "source": [
    "### Java Structure:\n",
    "```java\n",
    "public class Main {\n",
    "    public static void main(String[] args) {\n",
    "        System.out.println(\"Hello\");\n",
    "    }\n",
    "}\n",
    "```"
   ]
  },
  {
   "cell_type": "markdown",
   "metadata": {
    "vscode": {
     "languageId": "plaintext"
    }
   },
   "source": [
    "```java\n",
    "public class Main {}\n",
    "```\n",
    "\n",
    "The keyword **public** makes the class accessible from anywhere (other classes and packages). Since the JVM needs access to this class to run your program, you must make it public."
   ]
  },
  {
   "cell_type": "markdown",
   "metadata": {
    "vscode": {
     "languageId": "plaintext"
    }
   },
   "source": [
    "```java\n",
    "public static void main(String[] args) {    }\n",
    "\n",
    "```"
   ]
  },
  {
   "cell_type": "markdown",
   "metadata": {
    "vscode": {
     "languageId": "plaintext"
    }
   },
   "source": [
    "This is the **entry point** of any Java program, where execution begins. The method is marked **static** so that the JVM can call it **without creating an object** of the class. Normally, you have to create an object to use a method, but here, `main` runs without needing an object. The `void` keyword means the method **doesn't return any value**. The `main` method just starts the program but doesn't give anything back.\n"
   ]
  },
  {
   "cell_type": "markdown",
   "metadata": {
    "vscode": {
     "languageId": "plaintext"
    }
   },
   "source": [
    "##### ** `main` and `Main`**\n",
    "- In Java, method names are **case-sensitive**. The JVM specifically looks for the `main` method with a lowercase \"m\". If you write `Main` with an uppercase \"M\", the program won't run because it's a different method name."
   ]
  },
  {
   "cell_type": "markdown",
   "metadata": {
    "vscode": {
     "languageId": "plaintext"
    }
   },
   "source": [
    "```java\n",
    "System.out.println(\"Hello\");\n",
    "```"
   ]
  },
  {
   "cell_type": "markdown",
   "metadata": {},
   "source": [
    "`System` is a **class** provided by Java in the `java.lang` package, which gives access to system resources like input/output. `out` is a **static member** of the `System` class. It represents the standard **output stream** (like your console or terminal). It’s an instance of the `PrintStream` class."
   ]
  },
  {
   "cell_type": "markdown",
   "metadata": {
    "vscode": {
     "languageId": "plaintext"
    }
   },
   "source": [
    "<hr>"
   ]
  },
  {
   "cell_type": "markdown",
   "metadata": {},
   "source": [
    "### Constructor\n",
    "A **constructor** is a special method that runs when an object is created. It has the same name as the class and no return type. \n",
    "```java\n",
    "public class Person {\n",
    "    String name;\n",
    "    int age;\n",
    "\n",
    "    public Person(String name, int age) {\n",
    "        this.name = name;\n",
    "        this.age = age;\n",
    "    }\n",
    "}\n",
    "```"
   ]
  },
  {
   "cell_type": "markdown",
   "metadata": {
    "vscode": {
     "languageId": "plaintext"
    }
   },
   "source": [
    "<hr>\n",
    "#### Vector\n",
    "Vector in Java is a type of dynamic array like list in python.\n",
    "\n",
    "```java\n",
    "import java.util.Vector;\n",
    "\n",
    "public class VectorExample {\n",
    "    public static void main(String[] args) {\n",
    "        Vector<String> fruits = new Vector<>();\n",
    "        fruits.add(\"Apple\");\n",
    "        fruits.add(\"Banana\");\n",
    "        fruits.add(\"Orange\");\n",
    "\n",
    "        System.out.println(fruits.get(0)); // Access element\n",
    "        fruits.remove(\"Banana\");           // Remove element\n",
    "\n",
    "        System.out.println(fruits);        // Print vector\n",
    "    }\n",
    "}\n",
    "```\n"
   ]
  }
 ],
 "metadata": {
  "language_info": {
   "name": "python"
  }
 },
 "nbformat": 4,
 "nbformat_minor": 2
}
