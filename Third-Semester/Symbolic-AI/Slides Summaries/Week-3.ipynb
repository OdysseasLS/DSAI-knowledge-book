{
 "cells": [
  {
   "cell_type": "markdown",
   "metadata": {},
   "source": [
    "## **- Boolean/Propositional logic**:"
   ]
  },
  {
   "cell_type": "markdown",
   "metadata": {
    "vscode": {
     "languageId": "plaintext"
    }
   },
   "source": [
    "- **Components:**\n",
    "  - **Atoms**: Basic symbols represent facts can be either True (1) or False (0): $Wall_{1,2}$.\n",
    "  - **Literals**: Atoms with possible negation (e.g., A, ¬B).\n",
    "  - **Sentences**: literals connected by operators: Agent1,1 ∧ ¬Wall1,2 → Moveright\n",
    "\n",
    "- **Note**: The subscript is NOT a variable, $Agent_{1,1}$ is a particular variable encoding the knowledge at location y,x. A separate variable is needed for every possible location."
   ]
  },
  {
   "cell_type": "markdown",
   "metadata": {
    "vscode": {
     "languageId": "plaintext"
    }
   },
   "source": [
    "The KB represents all the information you assume to be true in the problem. \n",
    "\n",
    "**Inference** is the process of deriving new information or conclusions from known facts or rules using logical reasoning."
   ]
  },
  {
   "cell_type": "markdown",
   "metadata": {
    "vscode": {
     "languageId": "plaintext"
    }
   },
   "source": [
    "#### **Inference Techniques**\n",
    "1. **Inference by Enumeration**:\n",
    "   - Check if the query (e.g., `Moveright`) is always true when the knowledge base (KB) is true.\n",
    "   - Example:\n",
    "     - Rules: `Agent1,1 ∧ ¬Wall1,2 ⇒ Moveright`, `Agent1,1`, `¬Wall1,2`.\n",
    "     - Query: Is `Moveright` true?\n",
    "     - Analyze combinations of truth values in a truth table.\n",
    "\n",
    "2. **Inference by Proof**:\n",
    "   - Use inference rules to deduce whether KB leads to the query.\n",
    "   - Trial and error may be needed to identify applicable rules.\n",
    "\n",
    "3. **Inference with just one rule: Resolution**:\n",
    "   - a logical inference rule used to prove whether a statement (query) is true or false by combining known facts and rules.\n",
    "   - It works by **eliminating contradictions** to determine if the query follows logically from the knowledge base (KB).\n",
    "   - **CNF** is a standardized format to make resolution possible.\n",
    "\n",
    "##### How to Convert to CNF:\n",
    "1. **Eliminate Implications (⇒)**:\n",
    "   - `A ⇒ B` becomes `¬A ∨ B`.\n",
    "2. **Move NOTs (`¬`) Inside** (De Morgan's Laws):\n",
    "   - `¬(A ∨ B)` becomes `¬A ∧ ¬B`.\n",
    "   - `¬(A ∧ B)` becomes `¬A ∨ ¬B`.\n",
    "3. **Distribute OR (`∨`) Over AND (`∧`)**:\n",
    "   - `(A ∧ B) ∨ C` becomes `(A ∨ C) ∧ (B ∨ C)`.\n",
    "\n",
    "#### **Definite Clauses**\n",
    "- Form: `(A ∧ B ∧ …) ⇒ C` or `¬A ∨ ¬B ∨ … ∨ C`.\n",
    "- Advantage:\n",
    "  - Simplifies chaining proofs.\n",
    "  - Human-readable format.\n",
    "\n",
    "#### **Chaining**\n",
    "- **Forward Chaining**:\n",
    "  - Derive new facts from known rules and facts."
   ]
  },
  {
   "cell_type": "markdown",
   "metadata": {},
   "source": [
    "## **- First order logic/Predicatecalculus/Predicate logic logic**:"
   ]
  },
  {
   "cell_type": "markdown",
   "metadata": {
    "vscode": {
     "languageId": "plaintext"
    }
   },
   "source": [
    "- Representation of **objects**, **relations**, and **facts** with **quantifiers**.\n",
    "\n",
    "\n",
    "### **Components of FOL**\n",
    "1. **Facts**: Statements about the world (e.g., `mother(Heleen, Joost)`).\n",
    "2. **Objects**: Entities (e.g., `Heleen`, `Joost`).\n",
    "3. **Relations**: Connect objects (e.g., `mother(x, y)`, `loves(x, y)`).\n",
    "4. **Quantifiers**:\n",
    "   - **Universal Quantifier (`∀`)**:`∀x loves(x, y)`\n",
    "   - **Existential Quantifier (`∃`)**:`∃x loves(x, y)`\n",
    "   - **Nest Quantifiers**: `∀x ∃y relation(x, y)` \n",
    "\n",
    "\n",
    "##### **Example**\n",
    "- **Statement**: \"My mother, Heleen, has three children: Joost, Fien, and Lot. Children always love each other.\"\n",
    "  - **Representation**:\n",
    "    - `mother(Heleen, Joost)`, `mother(Heleen, Fien)`, `mother(Heleen, Lot)`.\n",
    "    - `∀x ∀y child(x) ∧ child(y) ⇒ loves(x, y)`."
   ]
  },
  {
   "cell_type": "markdown",
   "metadata": {},
   "source": [
    "## **- Inference with predicate logic**:"
   ]
  },
  {
   "cell_type": "markdown",
   "metadata": {
    "vscode": {
     "languageId": "plaintext"
    }
   },
   "source": [
    "#### **Reduction to Propositional Logic**\n",
    "1. **Universal Instantiation**:\n",
    "   - Replace universal quantifiers (`∀`) with ground terms from the domain.\n",
    "   - Example:\n",
    "     - `∀x human(x) ⇒ mortal(x)` becomes:\n",
    "       - `human(joost) ⇒ mortal(joost)`\n",
    "       - `human(fien) ⇒ mortal(fien)`\n",
    "   - Translate to propositional logic:\n",
    "     - `H_j ⇒ M_j`, `H_f ⇒ M_f`, `H_j`, `H_f`.\n",
    "   - Query: `M_j` (Is `mortal(joost)` true?).\n",
    "\n",
    "2. **Existential Instantiation**:\n",
    "   - Replace existential quantifiers (`∃`) with a **Skolem constant** (a placeholder for an unspecified object).\n",
    "   - Example:\n",
    "     - `∀y (∃x owns(y, x) ⇒ hasProperty(y))` becomes:\n",
    "       - `∀y owns(y, C) ⇒ hasProperty(y)` (with `C` as the Skolem constant).\n",
    "     - Query: `hasProperty(joost)`.\n",
    "\n",
    "\n",
    "#### **Resolution in First-Order Logic**\n",
    "1. **Steps**:\n",
    "   - Convert sentences to **Conjunctive Normal Form (CNF)**.\n",
    "   - Use **unification** to match variables in literals.\n",
    "   - Combine clauses and remove complementary literals.\n",
    "\n",
    "2. **Example**:\n",
    "   - **Knowledge**:\n",
    "     - `∀y (∃x owns(y, x) ⇒ hasProperty(y))`\n",
    "     - `owns(joost, house)`\n",
    "   - **Query**: `hasProperty(joost)`.\n",
    "\n",
    "   - **Conversion to CNF**:\n",
    "     1. `⇒` elimination: `∀y (¬∃x owns(y, x) ∨ hasProperty(y))`.\n",
    "     2. Move `¬` inside using De Morgan's Laws: `∀y ∀x (¬owns(y, x) ∨ hasProperty(y))`.\n",
    "     3. Drop quantifiers: `¬owns(y, x) ∨ hasProperty(y)` (lifted CNF).\n",
    "\n",
    "   - **Resolution**:\n",
    "     - Assume `¬hasProperty(joost)` (negation of query).\n",
    "     - Unify `owns(joost, house)` with `¬owns(y, x)`.\n",
    "     - Results in `hasProperty(joost)` and `¬hasProperty(joost)` → Contradiction.\n",
    "     - Conclusion: `hasProperty(joost)` is true.\n",
    "\n",
    "\n",
    "#### **Unification**\n",
    "- **Definition**: Process of making two logical expressions identical by substituting variables.\n",
    "- **Example**:\n",
    "  - Database: `father(peter, joost)`.\n",
    "  - Query: `father(x, y)`?\n",
    "  - Substitution: `x/peter`, `y/joost`.\n",
    "\n",
    "\n",
    "#### **Forward Chaining**\n",
    "1. Start with facts and repeatedly apply rules to deduce new facts.\n",
    "2. **Example**:\n",
    "   - KB:\n",
    "     - `Parent(joost, sacha)`, `Parent(joost, leon)`.\n",
    "     - `Parent(x, y) ∧ Parent(x, z) ∧ ¬(y = z) ⇒ sibling(y, z)`.\n",
    "   - Query: `sibling(leon, x)` (Who are siblings of Leon?).\n",
    "3. **Process**:\n",
    "   - Substitute `x` with known values: `sibling(leon, sacha)`.\n",
    "\n",
    "\n",
    "#### **Backward Chaining**\n",
    "1. Start with the query and work backward, finding rules that lead to it.\n",
    "2. **Example**:\n",
    "   - KB:\n",
    "     - `Parent(joost, sacha)`, `Parent(joost, leon)`.\n",
    "     - `Parent(x, y) ∧ Parent(x, z) ∧ ¬(y = z) ⇒ sibling(y, z)`.\n",
    "   - Query: `sibling(leon, sacha)` (Is Sacha a sibling of Leon?).\n",
    "3. **Process**:\n",
    "   - Check if `sibling(leon, sacha)` unifies with any known fact.\n",
    "   - Substitute variables in rules and verify premises."
   ]
  }
 ],
 "metadata": {
  "language_info": {
   "name": "python"
  }
 },
 "nbformat": 4,
 "nbformat_minor": 2
}
