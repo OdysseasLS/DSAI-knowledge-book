{
 "cells": [
  {
   "cell_type": "markdown",
   "metadata": {},
   "source": [
    "### \"Introduction to Socially Interactive Agents\" (SIA)\n",
    "\n",
    "**Key Concepts:**\n",
    "**Socially Interactive Agents (SIAs)**:\n",
    "   - Virtually or physically embodied agents that can autonomously interact with humans using multimodal, socially intelligent behavior (verbal, para-verbal, non-verbal).\n",
    "   - Contain agents like *Intelligent Virtual Agents*, *Embodied Conversational Agents*, and *Social Robots*.\n",
    "\n",
    "**Terminology**:\n",
    "\n",
    "| **Term**                         | **Definition**                                                                                                                                      |\n",
    "|----------------------------------|------------------------------------------------------------------------------------------------------------------------------------------------------|\n",
    "| **Agent**                        | Autonomous entities that perceive and act on their environment, not necessarily embodied.                                                            |\n",
    "| **Avatar**                       | Graphical representation controlled by a user in a virtual environment, not autonomous.                                                              |\n",
    "| **Embodied Conversational Agent**| Computer-generated characters that engage in conversations using verbal and non-verbal cues.                                                         |\n",
    "| **Intelligent Virtual Agent**    | Digital characters with human-like traits, capable of dynamic real-time interaction with humans.                                                     |\n",
    "| **Socially Assistive Robot**     | Robots providing assistance through social interaction, focusing on social engagement rather than task execution.                                     |\n",
    "| **Socially Intelligent Agent**   | Agents displaying human-style social intelligence with deep models of cognition and social competence.                                                |\n",
    "| **Socially Interactive Robot**   | Robots where social interaction is the primary focus, distinguishing them from teleoperation robots.                                                  |\n",
    "| **Socially Interactive Agent**   | Agents (virtual or physical) capable of human-like social interaction, used in diverse applications like education or healthcare.                     |\n",
    "| **Social Robot**                 | Robots designed to engage in natural, interpersonal communication with humans using verbal and non-verbal signals.                                    |\n",
    "| **Virtual Character**            | Virtual representations, typically animated, that can convey emotions but may not be interactive or intelligent.                                      |\n",
    "| **Virtual Human**                | Artificial characters that look and act like humans in a simulated environment, often with realistic graphics.                                         |\n",
    "\n",
    "\n",
    "**Origins**:\n",
    "   - **IVAs** originated from computer graphics advancements, focusing on simulating human behavior.\n",
    "   - **Social Robots (SRs)** come from robotics, focusing on interpersonal interaction and \"robotiquette\" to interact with humans.\n",
    "\n",
    "**Embodiment**:\n",
    "   - **Virtual Embodiment**: Offers customizable appearance, animations, and a safe interaction setting.\n",
    "   - **Physical Embodiment**: Offers physical presence, mobility, and the ability to interact with the real world.\n",
    "\n",
    "**Advantages of SIAs**:\n",
    "   - Virtual embodiment offers customization and fine-grained animations.\n",
    "   - Physical embodiment provides mobility, real-world interaction, and increased social presence.\n",
    "\n",
    "**Challenges in Development**:\n",
    "- Both virtual and physical SIAs have different strengths, making the choice of embodiment critical based on the task and scenario.\n",
    "- Current research seeks to balance between the two for optimal interaction.\n",
    "\n",
    "### Important Topics:\n",
    "- **Social Cognition**: SIAs must replicate human-like emotions, empathy, and social understanding for natural interaction.\n",
    "- **Long-Term Interaction**: The ability of SIAs to form long-term relationships and adapt their personalities is key for future developments.\n",
    "- **Research Gaps**: There's a lack of unified research across SIAs, requiring interdisciplinary collaboration between cognitive sciences, psychology, AI, and robotics."
   ]
  }
 ],
 "metadata": {
  "language_info": {
   "name": "python"
  }
 },
 "nbformat": 4,
 "nbformat_minor": 2
}
