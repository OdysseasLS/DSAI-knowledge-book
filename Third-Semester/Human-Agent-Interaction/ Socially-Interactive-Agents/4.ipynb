{
 "cells": [
  {
   "cell_type": "markdown",
   "metadata": {},
   "source": [
    "### **Design Approaches**\n",
    "   - **Metaphorical Design**:\n",
    "     - **Consistency vs. Inconsistency**: Metaphors can be consistent (appearance and behavior align, like a dog behaving like a dog) or inconsistent (a dog that speaks).\n",
    "\n",
    "\n",
    "- Research supports the **Embodiment Hypothesis**: Physical or human-scale agents tend to improve user performance and perceptions more than virtual agents.\n",
    "\n",
    "### **Agent Construction**\n",
    "   - **Virtual Agents**: \n",
    "      - 3D models, \n",
    "      - Texture mapping\n",
    "      - Shading techniques\n",
    "\n",
    "   - **Physical Agents**: Built using principles from industrial design, considering materials, mechanics, and interaction requirements.\n",
    "\n",
    "### 6. **Facial and Bodily Features**\n",
    "   - **Facial Features**: The face is crucial for user interaction, conveying emotion, attention, and trustworthiness.\n",
    "     - Subtle facial adjustments (e.g., eye size) affect perceptions of trust or aggression.\n",
    "   - **Body Features**: The agent’s body, including clothing and accessories, contributes to its perceived role and functionality."
   ]
  }
 ],
 "metadata": {
  "language_info": {
   "name": "python"
  }
 },
 "nbformat": 4,
 "nbformat_minor": 2
}
