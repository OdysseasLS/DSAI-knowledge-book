{
 "cells": [
  {
   "cell_type": "markdown",
   "metadata": {},
   "source": [
    "**Why Methodological Knowledge is Important**:\n",
    "- The methods used in social sciences are focused on human behavior, perception, and attitudes, making them essential for evaluating SIAs in real-world scenarios.\n",
    "\n",
    "**Empirical Method in Social Sciences approaches**:\n",
    "- **Hypothetico-deductive model**: Begins with a hypothesis and seeks evidence to support or refute it.\n",
    "- **Inductive reasoning**: Gathers data methodically to develop new theories.\n",
    "\n",
    "**The Research Process (8 Steps)**:\n",
    "   1. **Finding a Research Topic**\n",
    "   2. **Forming a Research Question/Hypothesis**\n",
    "   3. **Research Strategy and Experiment Design**:\n",
    "      - Types of research strategies:\n",
    "        - **Descriptive**: Describes current states of variables.\n",
    "        - **Correlational**: Examines relationships between variables.\n",
    "        - **Experimental**: Determines cause-effect relationships by manipulating variables.\n",
    "      - Experiment designs include:\n",
    "         - **within-subjects**: Same participants experience all conditions.\n",
    "         - **between-subjects**: Different participants for each condition.\n",
    "         - **factorial designs**: Tests multiple variables simultaneously.\n",
    "   4. **Operationalizing Variables**: Define variables in measurable terms, ensuring their reliability and validity.\n",
    "   5. **Selecting a Sample**\n",
    "   6. **Data Collection**\n",
    "   7. **Data Processing and Analysis**\n",
    "   8. **Reporting Results**: Write up findings following the structure: **Introduction**, **Methods**, **Results**, and **Discussion** (IMRaD format).\n",
    "\n",
    "**Types of Studies in SIA Research**:\n",
    "   - **Interviews**: Gather in-depth qualitative data. Can be structured, semi-structured, or unstructured, depending on the flexibility of the questions.\n",
    "   - **Perception-only Studies**: Focus on participants’ perceptions without interaction, often used in early stages of development.\n",
    "   - **Interaction Studies**: Evaluate how users interact with SIAs and measure behavior or outcomes.\n",
    "\n",
    "**Practical Considerations**:\n",
    "   - **Ethical standards** when using techniques like the **Wizard-of-Oz**.\n",
    "   - **Power analysis** the right number of participants needed for your study to make sure the results are reliable.\n",
    "   - Control biases and **random assignment**.\n",
    "\n",
    "### Critical Concepts:\n",
    "- **Operationalization**: Translating abstract concepts (like \"trust\" or \"attention\") into measurable variables.\n",
    "- **Validity & Reliability**: Ensure that the methods used truly measure what they intend (validity) and do so consistently (reliability).\n",
    "- **Sampling**: The method for selecting participants affects how generalizable the results are. Aim for a representative sample to minimize bias."
   ]
  }
 ],
 "metadata": {
  "language_info": {
   "name": "python"
  }
 },
 "nbformat": 4,
 "nbformat_minor": 2
}
