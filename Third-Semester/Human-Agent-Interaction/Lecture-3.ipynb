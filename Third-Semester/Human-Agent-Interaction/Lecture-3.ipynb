{
 "cells": [
  {
   "cell_type": "markdown",
   "metadata": {},
   "source": [
    "### Hardware in Human-Robot Interaction (HRI)\n",
    "\n",
    "1. **Types of Robots**:\n",
    "   - **Social Robots** (e.g., Keepon, Jibo): Focus on communication and expression.\n",
    "   - **Mobile Robots** (e.g., Roomba, Spot): Designed for navigation, mapping, and mobility.\n",
    "   - **Industrial Robots**\n",
    "   - **Telepresence Robots** (e.g., Double, Kubi): Enable remote communication.\n",
    "\n",
    "2. **Hardware Components**:\n",
    "   - **Sensors**: Detect distance, vision, sound, and touch (e.g., infrared sensors, cameras, microphones).\n",
    "   - **Actuators**: Enable movement (motors, wheels, legs, pneumatic actuators).\n",
    "   - **Degrees of Freedom (DOF)**: The range of motion available to a robot (e.g., 6 DOF for industrial arms).\n",
    "\n",
    "3. **Distance Sensors**:\n",
    "   - **Ultrasonic**: Measures time for sound to bounce back.\n",
    "   - **Infrared**: Detects angle of reflected infrared light.\n",
    "   - **LiDAR**: Measures time for laser pulses to return."
   ]
  },
  {
   "cell_type": "markdown",
   "metadata": {},
   "source": [
    "\n",
    "\n",
    "### Design Affordances\n",
    "- **Affordances (Gibson, 2014)**: Organisms perceive their environment based on action potential (e.g., a rock can be thrown or hidden behind).\n",
    "- **Design Affordances (Norman, 2008)**: Designers make affordances explicit by shaping the appearance and behavior of objects to support human-robot interaction (HRI).\n",
    "\n",
    "### Design Patterns\n",
    "- **Design Patterns (Alexander, 1977)**: Reusable solutions to common design problems, structured in problem-solution pairs.\n",
    "- **Software Engineering Patterns (Gamma et al., 1994)**: A catalog of patterns for reusable object-oriented software.\n",
    "- **HRI Design Patterns (Kahn et al., 2008)**: Social design patterns, e.g., “Initial Introduction,” “In Motion Together,” help manage interaction between humans and robots.\n",
    "\n",
    "### Design Principles\n",
    "1. **Matching Form and Function**: A robot's appearance should match its function.\n",
    "2. **Underpromise and Overdeliver**: Avoid raising unrealistic expectations in users.\n",
    "3. **Interaction Expands Function**: Open-ended designs allow users to adapt interactions based on personal needs.\n",
    "4. **Don't Mix Metaphors**: A holistic design approach ensures consistent robot behavior and appearance.\n",
    "\n",
    "### Design Methods\n",
    "- **Engineering Design**: Structured process from problem definition to solution testing.\n",
    "- **Limitations**: HRI problems can be ill-defined, requiring iterative and user-centered approaches.\n",
    "  \n",
    "### User-Centered Design (UCD)\n",
    "- **Involvement of Users**: UCD focuses on end-user needs throughout design (e.g., prototyping and iterative testing).\n",
    "\n",
    "### Participatory Design\n",
    "- **Stakeholder Engagement**: Involving users in decision-making acknowledges their expertise but poses challenges like managing unrealistic expectations.\n"
   ]
  },
  {
   "cell_type": "markdown",
   "metadata": {},
   "source": [
    "### Designing for Anthropomorphisation\n",
    "- **Appearance**: A few simple visual cues (e.g., eyes, a mouth) are enough to evoke human form. Complex features may not always increase anthropomorphism.\n",
    "- **Robot Types**:\n",
    "  - **Androids**\n",
    "  - **Humanoids**\n",
    "  - **Non-humanoids**\n",
    "  - **Zoomorphs**\n",
    "\n",
    "### Designing for Anthropomorphism: Behavior\n",
    "- **Behavioral Cues**: Robots can be perceived as anthropomorphic through their movements and responses to interaction contexts (e.g., Pepper reacts to sound).\n",
    "- **Animation Principles**: Principles like \"squash and stretch,\" anticipation, and follow-through can make robot behavior appear more lifelike.\n",
    "\n",
    "### Measuring Anthropomorphism\n",
    "- **Godspeed Questionnaire**: Used to evaluate robots based on anthropomorphism, animacy, likability, and perceived intelligence.\n",
    "- **Behavioral Indicators**: Observing language use, social norms, and proxemics in human-robot interactions."
   ]
  }
 ],
 "metadata": {
  "language_info": {
   "name": "python"
  }
 },
 "nbformat": 4,
 "nbformat_minor": 2
}
