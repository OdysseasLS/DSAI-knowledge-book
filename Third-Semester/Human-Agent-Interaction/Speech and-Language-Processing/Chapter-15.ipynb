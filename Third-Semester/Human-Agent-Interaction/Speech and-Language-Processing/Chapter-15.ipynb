{
 "cells": [
  {
   "cell_type": "markdown",
   "metadata": {},
   "source": [
    "**Chapter 15: Chatbots & Dialogue Systems**\n",
    "\n",
    "### 1. **Introduction to Dialogue Systems**:\n",
    "   - **Task-oriented dialogue systems**: Used for specific tasks like booking flights or controlling appliances. They rely on structured **frames** with slots (e.g., time, date) to gather information from users.\n",
    "   - **Chatbots**: Designed for more general, open-ended conversations, mimicking human-human interaction (e.g., ChatGPT). Modern chatbots often blend both unstructured conversations and task-oriented goals.\n",
    "\n",
    "### 2. **ELIZA (Weizenbaum, 1966)**\n",
    "\n",
    "   Chatbots using **pattern-matching rule** which raised human emotions.\n",
    "\n",
    "### 3. **Properties of Human Conversation**:\n",
    "   - **Turn-taking**: Conversation flows with participants taking turns. Systems must detect when a user has finished speaking and respond without awkward delays.\n",
    "   - **Speech Acts**: e.g., asking, answering, promising\n",
    "   - **Grounding**: Ensuring mutual understanding in conversation, often through feedback like \"OK\" or repeating important information.\n",
    "\n",
    "### 4. **Dialogue Structure**:\n",
    "   - **Adjacency pairs**: Certain types of utterances expect a specific response (e.g., a question expects an answer).\n",
    "   - **Subdialogues**: Conversations can deviate from the main topic for clarification or corrections (e.g., interruptions to ask for clarification).\n",
    "\n",
    "### 5. **Frame-Based Dialogue Systems**:\n",
    "   - These systems use **frames** to structure conversations around tasks. Each frame has **slots** (e.g., origin city, departure date) that need to be filled to complete a task.\n",
    "   - Dialogue systems use **domain classification** and **intent determination** to figure out what the user wants and how to fill the slots.\n",
    "\n",
    "### 6. **Dialogue Acts and Dialogue State**:\n",
    "   - Dialogue acts represent the function of an utterance (e.g., inform, request, confirm).\n",
    "   - **Dialogue-state tracking**: Keeps track of the current state of the conversation (e.g., what information has been provided, what slots need filling).\n",
    "\n",
    "### 7. **Chatbots**:\n",
    "   - Chatbots are conversational agents designed to engage in extended, unstructured dialogue.\n",
    "   - **Neural chatbots** (e.g., ChatGPT) are trained on large datasets, including conversations, to predict and generate the next response in a conversation.\n",
    "\n",
    "### 8. **Training and Fine-Tuning**:\n",
    "   - Chatbots are trained on **large datasets**, including dialogue-specific data.\n",
    "   - **Fine-tuning** improves performance by using specific datasets for dialogue quality and safety, such as crowdsourced conversational data or safety-focused dialogues.\n",
    "\n",
    "### 9. **Ethical Issues**:\n",
    "   - **Privacy**: Chatbots often overhear sensitive information, which can raise privacy concerns.\n",
    "   - **Bias and Abuse**: Chatbots can learn harmful behaviors from biased data (e.g., Microsoft's Tay chatbot). Systems need methods to prevent and respond to toxic or biased language.\n",
    "   - **Safety**: In critical contexts (e.g., medical advice), chatbot errors can cause harm, necessitating careful safety measures.\n",
    "\n",
    "### 10. **Evaluation**:\n",
    "   - Chatbots are typically evaluated by humans on various factors like **engagingness**, **fluency**, and **safety**. Tools like **Likert scales** or specific metrics help assess conversational quality."
   ]
  }
 ],
 "metadata": {
  "language_info": {
   "name": "python"
  }
 },
 "nbformat": 4,
 "nbformat_minor": 2
}
