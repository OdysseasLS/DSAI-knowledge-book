{
 "cells": [
  {
   "cell_type": "markdown",
   "metadata": {},
   "source": [
    "### Spatial Interaction\n",
    "**Proxemics**: The study of personal space in social interactions. Four zones:\n",
    "   - **Intimate Distance** (< 0.5m): Close relationships.\n",
    "   - **Personal Distance** (0.5m–1.2m): Friends and relatives.\n",
    "   - **Social Distance** (1.2m–3.7m): Acquaintances.\n",
    "   - **Public Distance** (> 3.7m): Strangers, public speaking.\n",
    "\n",
    "**Robot Navigation**:\n",
    "   - **SLAM (Simultaneous Location and Mapping)**: Used by robots to map environments and avoid obstacles.\n",
    "   - **Social Navigation**: Robots must move in ways that are comfortable and predictable for humans (e.g., legible motion of robot arms in collaborative tasks).\n",
    "\n",
    "**Social Signals and Positioning**:\n",
    "   - Robots can use motion trajectories to convey intent (e.g., slow movements in social zones to signal availability).\n",
    "   - Inadvertent social cues from purely functional navigation (e.g., a vacuum robot bumping repeatedly) may be perceived as rude.\n",
    "\n",
    "**Case Study**: **Joggobot** (a drone running companion) demonstrated how different spatial placements affect user experience—chasing the drone was preferred over being followed."
   ]
  },
  {
   "cell_type": "markdown",
   "metadata": {},
   "source": [
    "## Verbal Interaction and Dialogue\n",
    "\n",
    "**Speech and Prosody**:\n",
    "   - Spoken text has less structure but more prosody (intonation, stress, tempo).\n",
    "   - **Prosody** adds meaning (e.g., stressing different words in a sentence changes its meaning).\n",
    "   - Robots often struggle with using prosody effectively, making verbal interactions difficult.\n",
    "\n",
    "### Basic Techniques:\n",
    "**Text to Speech (TTS)**\n",
    "**Interpretation with Large Language Models (LLMs)**\n",
    "\n",
    "**Dialogue Management (DM)**:\n",
    "   - Manages the flow of conversation, turn-taking, and the dialogue state.\n",
    "   - **Dimensions of DM**:\n",
    "     - **Openness vs. Closeness**: Flexibility of the conversation.\n",
    "     - **User vs. System Initiative**: Who controls the flow.\n",
    "     - **Linearity**: Whether the conversation follows a script or can evolve."
   ]
  }
 ],
 "metadata": {
  "language_info": {
   "name": "python"
  }
 },
 "nbformat": 4,
 "nbformat_minor": 2
}
