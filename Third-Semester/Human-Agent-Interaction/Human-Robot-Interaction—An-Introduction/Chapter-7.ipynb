{
 "cells": [
  {
   "cell_type": "markdown",
   "metadata": {},
   "source": [
    "### 1. **Impression Formation**:\n",
    "   - **Dual-process models** explain how we process information: \n",
    "     - **System 1 (Snap judgments)** (automatic, quick, intuitive) forms instant impressions based on prior experiences or cues.\n",
    "     - **System 2** (deliberate, slow) involves more conscious thought but still influenced by personal biases.\n",
    "   - **First impressions** of robots are influenced by prior knowledge (e.g., sci-fi movies or friendly experiences).\n",
    "   - People form quick, **automatic judgments** about robots (System 1). then if motivated, they may engage in more **deliberate thinking** (System 2), which can modify their initial judgment.\n",
    "   \n",
    "### 2. **Anthropomorphism**:\n",
    "   - **Epley’s Theory (2007)** explains three factors that drive anthropomorphism:\n",
    "     1. **Effectance Motivation**: Need to make sense of robots leads to seeing them as humanlike, especially in unfamiliar situations and helps people reduce stress in new situations by treating robots like humans.\n",
    "     2. **Sociality Motivation**: Loneliness or lack of human connection makes people more likely to anthropomorphize robots.\n",
    "     3. **Elicited Agent Knowledge**: People apply human social norms to robots, expecting humanlike behavior.\n",
    "   - The **process** of anthropomorphization involves **snap judgments** (System 1) and **deliberate processing** (System 2), which can change with experience.\n",
    "\n",
    "The **CASA (Computers as Social Actors)** approach shows that people treat machines, like computers and robots, as if they were social beings, applying human-like traits and norms. Initially focused on computers, it was later applied to social robots.\n",
    "\n",
    "**Złotowski et al. (2018)** extended this with a **dual-process model** for anthropomorphizing robots:\n",
    "1. **Automatic processing**: Quick, intuitive reactions where people instantly attribute human-like qualities.\n",
    "2. **Controlled processing**: Deliberate evaluation where people consciously judge a robot's human-likeness.\n",
    "\n",
    "This model explains how people form and refine their impressions of robots over time.\n",
    "\n",
    "### 3. **Measuring Anthropomorphization**:\n",
    "   - **Explicit measurements** include scales like **mind perception** (agency and experience), **warmth** and **competence** scales, and the **Godspeed questionnaire**.\n",
    "   - **Implicit measurements** focus on indirect behaviors like reaction times or applying human social norms (e.g., personal space) to robots.\n",
    "\n",
    "### 4. **Consequences of Anthropomorphism**:\n",
    "   - **Trust**\n",
    "   - **Acceptance**: Models like **TAM (Technology Acceptance Model)** and **UTAUT (Unified Theory of Acceptance and Use of Technology)** predict user acceptance of robots based on factors like **usefulness**, **ease of use**, and **social influences**.\n",
    "   - **Liking**: Anthropomorphism can increase likability, but **uncanny valley effects** (when a robot is almost humanlike but not quite) can reduce likability.\n",
    "\n",
    "![\"TAM,UTAUT\"](../../../Files/third-semester/hai/2.PNG)\n",
    "\n",
    "- **TAM** is suitable for testing **individual robot-user interactions**.\n",
    "- **UTAUT** is better for evaluating robots in **social or group settings**.\n",
    "- Both models can be used, depending on which aspects of **user acceptance** Miciah wants to assess.\n",
    "\n",
    "### 5. **Social Judgments and Key Dimensions**:\n",
    "   - **Warmth**: The perception of the robot being friendly, good-natured, or approachable.\n",
    "   - **Competence**: How capable or skilled the robot is perceived to be in completing tasks or goals.\n",
    "\n",
    "These dimensions are core aspects of **social cognition** used to judge both humans and robots. "
   ]
  },
  {
   "cell_type": "code",
   "execution_count": null,
   "metadata": {},
   "outputs": [],
   "source": []
  }
 ],
 "metadata": {
  "language_info": {
   "name": "python"
  }
 },
 "nbformat": 4,
 "nbformat_minor": 2
}
