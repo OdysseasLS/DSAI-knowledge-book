{
 "cells": [
  {
   "cell_type": "markdown",
   "metadata": {},
   "source": [
    "### **Definition and Scope of HRI**:\n",
    "   - **HRI** focuses on how humans and robots interact, especially with **social robots**, which differ from traditional robots designed for physical tasks.\n",
    "   - Key characteristics of social robots include:\n",
    "\n",
    "      - **Embodiment:** They often have humanlike features (e.g., eyes, a face).\n",
    "         - **Embodiment** of a robot (e.g., having eyes, a mouth) influences human interaction and expectations.\n",
    "      - **Social skills:** Eye contact, following conversation norms, or recognizing emotions.\n",
    "      - **Influence on human perception:** Their design and appearance (e.g., eyes imply the robot can see).\n",
    "         - Humanlike features trigger people to treat robots as social beings, but this can lead to frustration if robots don’t meet expectations.\n"
   ]
  },
  {
   "cell_type": "markdown",
   "metadata": {},
   "source": [
    "\n",
    "**Isaac Asimov** who introduced early ideas about robot-human relationships in 1940 where these ideas were initially part of science fiction\n",
    "  - **Kismet (1997 MIT)**: One of the first social robots to exhibit emotions and reactions based on input.\n",
    "  - **Nao, Pepper, Paro, Baxter, Cozmo**: Important robots for research in HRI, each with different functions (e.g., therapy, industrial work, social interaction).\n",
    "   \n",
    "### **HRI vs HCI**:\n",
    "   - **HRI (Human-Robot Interaction)** focuses on interactions between **humans and physically embodied robots**, dealing with both social and physical interactions, often requiring robots to understand human social cues and norms.\n",
    "\n",
    "   - **HCI (Human-Computer Interaction)** focuses on interactions between **humans and computers** (typically non-embodied systems), primarily involving software, interfaces, and digital environments without the complexities of social embodiment.\n",
    "\n",
    "### Key Landmarks:\n",
    "   - **ASIMO**: A humanoid robot by Honda, represents early advancements in physical robot capabilities.\n",
    "   - **Nao**: A humanoid research platform widely used in HRI.\n",
    "   - **Pepper, Paro, Keepon**: Different forms of robots used for social purposes, ranging from customer service to therapeutic roles.\n",
    "   - **InMoov**: Open-source social robot (2012–present) built with rapid prototyping and accessible components.\n",
    "   - **Blossom**: Open-source tensile robot (2019–present) that can be handcrafted and customized."
   ]
  },
  {
   "cell_type": "markdown",
   "metadata": {
    "vscode": {
     "languageId": "plaintext"
    }
   },
   "source": [
    "The first mention of “social robot” was in 1935 for a cold behaved person and in 1978 in context of Robotics."
   ]
  }
 ],
 "metadata": {
  "language_info": {
   "name": "python"
  }
 },
 "nbformat": 4,
 "nbformat_minor": 2
}
