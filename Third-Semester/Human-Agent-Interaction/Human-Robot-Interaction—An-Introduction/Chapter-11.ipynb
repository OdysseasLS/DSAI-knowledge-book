{
 "cells": [
  {
   "cell_type": "markdown",
   "metadata": {},
   "source": [
    "### 11.4 Healthcare and Therapy:\n",
    "- **Elderly Care**: Robots like Paro help elderly individuals by reducing loneliness and improving well-being.\n",
    "- **ASD Support**: Robots like Kaspar and Nao are used in autism therapy to teach social skills.\n",
    "- **Mental Health**: Robots assist in mental health care, helping manage anxiety and depression.\n",
    "\n",
    "### 11.7 Security Robots:\n",
    "- **Controversy**: Robots used for security, like the K5, face societal pushback due to concerns about surveillance and lethal force.\n",
    "\n",
    "### 11.8 Collaborative Robots:\n",
    "- **Co-bots**: Assist humans in industrial settings, working side by side with safety features for interaction. Baxter and Walt are examples of collaborative robots.\n",
    "\n",
    "### 11.9 Self-Driving Cars:\n",
    "- **Autonomous Vehicles (AVs)\n",
    "\n",
    "## Social robots -> Make a strong impact\n",
    "\n",
    "In Cleaning and Tour guiding application"
   ]
  },
  {
   "cell_type": "markdown",
   "metadata": {},
   "source": [
    "## Notes to remember\n",
    "\n",
    "- BellaBot is a delivery robot.\n",
    "- Roomba is a cleaning robot.\n"
   ]
  }
 ],
 "metadata": {
  "language_info": {
   "name": "python"
  }
 },
 "nbformat": 4,
 "nbformat_minor": 2
}
