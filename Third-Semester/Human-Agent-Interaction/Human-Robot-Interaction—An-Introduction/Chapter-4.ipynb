{
 "cells": [
  {
   "cell_type": "markdown",
   "metadata": {},
   "source": [
    "- **Frankenstein approach** builds robots by focusing on technology first, then adding appearance and social features at the end, Book critiques this approach as being suboptimal. So outside-in suggested where the design process begins by considering the intended interaction and user experience before integrating the technology.\n",
    "\n",
    "- **Morphology** focuses on the **practical design** of a robot's structure based on what tasks it needs to perform, prioritizing function over appearance.\n",
    "  \n",
    "- **Anthropomorphism** emphasizes giving robots **human-like features** or behavior, focusing more on how humans will perceive and interact with the robot socially.\n",
    "\n",
    "These approaches can sometimes overlap but are distinct: a robot can have a functional form (morphology) without being humanlike (anthropomorphism), or it can have human traits for interaction while still maintaining a functional design.\n",
    "\n",
    "- Pareidolia: Pareidolia is seeing humanlike features in random objects, like a face on Mars.\n",
    "\n",
    "- **The Uncanny Valley**: A theory suggesting that robots that are almost human-like but not quite can be disturbing to people.\n",
    "\n",
    "![image.png](../../../Files/third-semester/hai/1.JPG)\n",
    "\n",
    "---\n",
    "\n",
    "### Key Design Principles in HRI:\n",
    "- **Form and Function**: The shape (morphology) of a robot should match its intended function.\n",
    "- **Affordances**: These are features that signal how a robot can be used (Eyes -> robot can see).\n",
    "- **Design Patterns**: Reusable solutions to common problems in HRI design, such as communication patterns, can be applied across different robot designs.\n",
    "    - **Underpromise and Overdeliver**: Set realistic expectations to avoid disappointment; don’t overhype a robot’s abilities.\n",
    "    - **Interaction Expands Function**: `Open-ended` design allows users to adapt the robot to their own needs and expectations.\n",
    "    - **Do Not Mix Metaphors**: Keep design consistent—appearance and behavior should align to avoid discomfort or confusion.\n",
    "\n",
    "### **Design Methods**\n",
    "- **Engineering Design Process**: This method focuses on technical problem-solving through simulations and modeling. It's effective but limited in open-ended or social contexts.\n",
    "- **User-Centered Design (UCD)**: Involves users in the design process to ensure robots meet their needs and preferences. Testing prototypes early and often helps refine the design.\n",
    "- **Participatory Design**: A more collaborative approach where users help co-create the robot design from the beginning. This is important for designing robots for specific groups, like elderly care.\n",
    "\n",
    "\n",
    "### **Prototyping Tools (Section 4.4):**\n",
    "- **Rapid Prototyping**: Tools like **LEGO Mindstorms**, **Arduino**, and **Raspberry Pi** make it easier to quickly build and test robot prototypes.\n",
    "- These tools allow designers to test different concepts, gather feedback, and refine their designs.\n",
    "\n",
    "\n",
    "### **Ethics and Values in Robot Design:**\n",
    "- The Metaphysics of Quality: The connection between the robot and its designer is far deeper than you may assume.\n",
    "- Value-sensitive design (VSD) is an approach that incorporates ethical considerations and user values into the design process."
   ]
  }
 ],
 "metadata": {
  "language_info": {
   "name": "python"
  }
 },
 "nbformat": 4,
 "nbformat_minor": 2
}
