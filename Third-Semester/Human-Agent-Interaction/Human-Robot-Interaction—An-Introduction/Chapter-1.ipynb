{
 "cells": [
  {
   "cell_type": "markdown",
   "metadata": {},
   "source": [
    "### **Definition and Scope of HRI**:\n",
    "   - **HRI** focuses on how humans and robots interact, especially with **social robots**, which differ from traditional robots designed for physical tasks.\n",
    "   - Key characteristics of social robots include:\n",
    "\n",
    "      - **Embodiment:** They often have humanlike features (e.g., eyes, a face).\n",
    "         - **Embodiment** of a robot (e.g., having eyes, a mouth) influences human interaction and expectations.\n",
    "      - **Social skills:** Eye contact, following conversation norms, or recognizing emotions.\n",
    "      - **Influence on human perception:** Their design and appearance (e.g., eyes imply the robot can see).\n",
    "         - Humanlike features trigger people to treat robots as social beings, but this can lead to frustration if robots don’t meet expectations.\n"
   ]
  },
  {
   "cell_type": "markdown",
   "metadata": {},
   "source": [
    "\n",
    "**Isaac Asimov** who introduced early ideas about robot-human relationships in 1940 where these ideas were initially part of science fiction\n",
    "  - **Kismet (1997)**: One of the first social robots to exhibit emotions and reactions based on input.\n",
    "  - **Nao, Pepper, Paro, Baxter, Cozmo**: Important robots for research in HRI, each with different functions (e.g., therapy, industrial work, social interaction).\n",
    "   \n",
    "### **HRI vs HCI**:\n",
    "   - **HRI** is unique because it deals with **embodied interactions** with robots in the social world, whereas **HCI** (Human-Computer Interaction) typically deals with interactions with computers without social expectations.\n",
    "\n",
    "### Key Landmarks:\n",
    "   - **ASIMO**: A humanoid robot by Honda, represents early advancements in physical robot capabilities.\n",
    "   - **Nao**: A humanoid research platform widely used in HRI.\n",
    "   - **Pepper, Paro, Keepon**: Different forms of robots used for social purposes, ranging from customer service to therapeutic roles."
   ]
  }
 ],
 "metadata": {
  "language_info": {
   "name": "python"
  }
 },
 "nbformat": 4,
 "nbformat_minor": 2
}
