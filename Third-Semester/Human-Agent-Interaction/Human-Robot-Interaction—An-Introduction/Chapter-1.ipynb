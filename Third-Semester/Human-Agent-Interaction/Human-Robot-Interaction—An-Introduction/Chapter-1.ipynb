{
 "cells": [
  {
   "cell_type": "markdown",
   "metadata": {},
   "source": [
    "## Chapter 1: Introduction"
   ]
  },
  {
   "cell_type": "markdown",
   "metadata": {},
   "source": [
    "HRI (Human-Robot Interaction) combines knowledge from \n",
    "- Engineering \n",
    "- Computer science \n",
    "- Robotics \n",
    "- Psychology \n",
    "- Sociology \n",
    "- Linguistics\n",
    "- Design.\n",
    "\n",
    "#### **Moravec’s Paradox**:\n",
    "Machines can perform complex tasks like computation easily, but simple tasks like those a child can do (e.g., perception, movement in unpredictable environments) are extremely difficult for robots."
   ]
  }
 ],
 "metadata": {
  "language_info": {
   "name": "python"
  }
 },
 "nbformat": 4,
 "nbformat_minor": 2
}
