{
 "cells": [
  {
   "cell_type": "markdown",
   "metadata": {},
   "source": [
    "### **Importance of Spatial Interaction**\n",
    "- Robots must manage **space** in relation to humans to ensure socially acceptable behavior.\n",
    "- **Proxemics**: The study of how people use space in social interactions.\n",
    "\n",
    "---\n",
    "\n",
    "### **Human Proxemics**\n",
    "- **Edward T. Hall's Four Zones of Distance**:\n",
    "  - **Intimate Distance**: <0.5m, close relationships.\n",
    "  - **Personal Distance**: 0.5–1.2m, friends or close acquaintances.\n",
    "  - **Social Distance**: 1.2–4m, acquaintances or group settings.\n",
    "  - **Public Distance**: >4m, formal settings or strangers.\n",
    "- Cultural differences in proxemics, e.g., **high-contact cultures** (South America) versus **low-contact cultures** (U.S.).\n",
    "\n",
    "---\n",
    "\n",
    "### **Group Spatial-Interaction Dynamics**\n",
    "- **F-formations** (Kendon, 1990): Group dynamics based on positioning.\n",
    "  - **O-space**: Central interaction space within a group.\n",
    "  - **P-space**: Space people occupy.\n",
    "  - **R-space**: Area surrounding the group.\n",
    "  - Different formations: face-to-face, L-shape, side-by-side, circular.\n",
    "\n",
    "---\n",
    "\n",
    "### **Spatial Interaction for Robots**\n",
    "- **Robot Localization**:\n",
    "  - **SLAM** (Simultaneous Localization and Mapping): Robots use sensors (cameras, LiDAR) to map the environment.\n",
    "- **Social Navigation**:\n",
    "  - Techniques like **path-planning** and **dynamic window approach (DWA)** help robots avoid obstacles while planning movements.\n",
    "  - **Proxemics** in HRI: Studies show people prefer robots to stay within social or personal distance zones.\n",
    "\n",
    "---\n",
    "\n",
    "### **Socially Appropriate Positioning**\n",
    "- **Proxemic behaviors**: Robots must anticipate human movements and maintain a comfortable distance.\n",
    "- In **group interactions**: maintaining F-formations\n",
    "- **Legible motion**: When a robot approaches or interacts, its actions must be easily understood by humans.\n",
    "\n",
    "---\n",
    "\n",
    "### **Conveying Robot Intent (Express robot intention)**\n",
    "- Robot trajectories can be used to signal **intent** (e.g., approaching or moving away from people).\n",
    "- For handovers, robots should move in ways that make their actions clear and understandable to humans.\n",
    "\n",
    "---\n",
    "\n",
    "### **Key Considerations in Spatial Interaction**\n",
    "- **Cultural differences**\n",
    "- **Context awareness**\n",
    "- **Safety and Comfort**"
   ]
  }
 ],
 "metadata": {
  "language_info": {
   "name": "python"
  }
 },
 "nbformat": 4,
 "nbformat_minor": 2
}
