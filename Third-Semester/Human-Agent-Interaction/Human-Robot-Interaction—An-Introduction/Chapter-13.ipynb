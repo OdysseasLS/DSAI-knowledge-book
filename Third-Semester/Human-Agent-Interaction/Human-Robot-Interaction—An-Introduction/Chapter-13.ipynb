{
 "cells": [
  {
   "cell_type": "markdown",
   "metadata": {},
   "source": [
    "### **Chapter 13 - The Future**\n",
    "\n",
    "**Technological Developments in AI and HRI**  \n",
    "- Current human-robot interactions (HRI) are often assisted by **Wizard-of-Oz (WoZ)** methods where humans operate robots.\n",
    "\n",
    "## Wizard-of-Oz (WoZ)\n",
    "\n",
    "In WoZ experiments, the robot’s behavior (speech, movements, responses) is typically controlled remotely by a human operator, but the participants believe the robot is acting on its own. This method is useful for testing interactions and designs before the technology is fully functional for:\n",
    "- Testing future possibilities\n",
    "- Realistic interaction\n",
    "- AI limitations\n",
    "\n",
    "**Crystal Ball Problems**  \n",
    "- Predicting the future of HRI is difficult, with grand promises like **Tesla’s Optimus humanoid** yet to be realized.\n",
    "- There's uncertainty about what people will actually want from robots, as past predictions often led to false expectations (e.g., strong AI predictions).\n",
    "- HRI will evolve with a mix of technological progress and social needs that we can't fully anticipate.\n",
    "\n",
    "\n",
    "**Attitudes Toward Robots**: Public is generally positive about using robots for hard tasks but more reserved about social and companion (Company in life) robots."
   ]
  },
  {
   "cell_type": "markdown",
   "metadata": {},
   "source": [
    "## Technology is mainly holding back HRI:\n",
    "\n",
    "The development of smart materials\n"
   ]
  }
 ],
 "metadata": {
  "language_info": {
   "name": "python"
  }
 },
 "nbformat": 4,
 "nbformat_minor": 2
}
