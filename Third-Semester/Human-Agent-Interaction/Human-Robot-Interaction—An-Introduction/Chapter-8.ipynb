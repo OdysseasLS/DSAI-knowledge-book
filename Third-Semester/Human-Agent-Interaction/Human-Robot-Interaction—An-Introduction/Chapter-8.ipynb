{
 "cells": [
  {
   "cell_type": "markdown",
   "metadata": {},
   "source": [
    "### Chapter 8: How People Perceive Robots\n",
    "\n",
    "### 8.2 Anthropomorphism\n",
    "- **Psychological Anthropomorphism** (Epley et al., 2007): Extends beyond physical appearance, focusing on cognitive and motivational factors that cause us to attribute human traits to robots.\n",
    "  - **Effectance motivation**: Desire to understand the robot's behavior as a social actor.\n",
    "  - **Sociality motivation**: People who feel lonely are more likely to anthropomorphize robots.\n",
    "  - **Elicited agent knowledge**: Using knowledge of social interactions to understand robots.\n",
    "- **Process of Anthropomorphization**: Initial snap judgments about human-likeness, followed by more deliberate evaluations as familiarity with the robot increases.\n",
    "\n",
    "### 8.3 Measuring Anthropomorphization\n",
    "- **Explicit Measures**: Self-report scales like the **Godspeed Questionnaire** and the **Robotic Social Attributes Scale (RoSAS)**, which measure perceptions of warmth, competence, agency, and experience.\n",
    "- **Implicit Measures**: Reaction times, language use, and neurophysiological measures used to assess subtle behaviors and perceptions.\n",
    "\n",
    "### 8.4 Consequences of Anthropomorphism\n",
    "- **Trust in Robots**\n",
    "- **Robot Acceptance**: The **Technology Acceptance Model (TAM)** and the **Unified Theory of Acceptance and Use of Technology (UTAUT)** are commonly used frameworks for assessing robot acceptance.\n",
    "- **Likability of Robots**: Likability is affected by human-likeness, emotional cues, and robot movement. Mori’s **Uncanny Valley** theory suggests a drop in likability when a robot is almost, but not quite, human.\n",
    "\n",
    "### Additional Considerations:\n",
    "- **Anthropomorphism and Dehumanization**: Dehumanization of humans is the opposite of anthropomorphization, where people attribute fewer human-like traits to out-groups or non-human entities."
   ]
  }
 ],
 "metadata": {
  "language_info": {
   "name": "python"
  }
 },
 "nbformat": 4,
 "nbformat_minor": 2
}
