{
 "cells": [
  {
   "cell_type": "markdown",
   "metadata": {},
   "source": [
    "### **Chapter 12: Robots in Society**\n",
    "\n",
    "---\n",
    "\n",
    "#### 12.2 Ethical Considerations in HRI:\n",
    "- **Robots Fulfilling Emotional Needs -> Emotional Attachment to Robots**: like Paro or Aibo\n",
    "\n",
    "---\n",
    "\n",
    "#### 12.2.4 Ambivalent(uncertainty) Attitudes Toward Robots:\n",
    "- People often hold **ambivalent attitudes** towards robots—feeling both positive and negative about their use. This ambivalence can cause internal conflict and affect how society integrates robots."
   ]
  },
  {
   "cell_type": "markdown",
   "metadata": {},
   "source": [
    "### **Additional Notes on Bicentennial Man**:\n",
    "- Andrew Martin, the main character, seeks recognition as a human even though he is a robot. His journey involves both **physical transformation** (becoming humanlike) and **legal battles** to secure human rights.\n",
    "- He willingly chooses **mortality**, which is a significant part of his final transformation to be considered human, as this reflects the most profound aspect of being human: limited lifespan.\n",
    "- The story deals with themes of **identity, autonomy**, and the **legal definitions** of what it means to be human."
   ]
  },
  {
   "cell_type": "markdown",
   "metadata": {},
   "source": [
    "## Robotic Revolution\n",
    "\n",
    "The robot uprising is a common theme in media, where robots typically rebel for:\n",
    "- They mirror humanity’s poor behavior during colonization.\n",
    "- They compete for resources with humanity and only see the option to kill or enslave humanity."
   ]
  }
 ],
 "metadata": {
  "language_info": {
   "name": "python"
  }
 },
 "nbformat": 4,
 "nbformat_minor": 2
}
