{
 "cells": [
  {
   "cell_type": "markdown",
   "metadata": {},
   "source": [
    "### Evaluation Methods\n",
    "**Research Question Type**:\n",
    "   - **Exploratory**: Open-ended (e.g., How do children react to the robot?).\n",
    "   - **Confirmatory**: Hypothesis-driven (e.g., Children learn math after using the robot).\n",
    "   \n",
    "**Outcome Data**:\n",
    "   - **Qualitative**: Interviews, observations, opinions.\n",
    "   - **Quantitative**: Surveys, measurements (e.g., distance from robot, test scores).\n",
    "\n",
    " **Study Types**:\n",
    "   - **Case Study**: Detailed analysis of a small group (e.g., children with ADHD).\n",
    "   - **Classical Experiment**: Controlled studies with independent and dependent variables.\n",
    "   - **Observational**: Uncontrolled, natural observations (e.g., how people react in public).\n",
    "\n",
    "**Location Context**:\n",
    "   - **Lab**: Controlled setting.\n",
    "   - **Field**: Real-world setting.\n",
    "   - **Crowd-Sourced**: Remote studies (e.g., MTurk).\n",
    "\n",
    "**Temporal Context**:\n",
    "   - **Single Session**: One-time interaction.\n",
    "   - **Repeated**: Multiple sessions.\n",
    "   - **Long-Term**: Extended interactions over time.\n",
    "\n",
    "**User Involvement**:\n",
    "   - **Before Design**: Users provide input.\n",
    "   - **During Design**: Users shape the design.\n",
    "   - **After Design**: Users evaluate the robot.\n",
    "\n",
    "### Analysis Methods\n",
    "- **Quantitative**: Statistical tests (e.g., t-tests, ANOVAs).\n",
    "- **Qualitative**: Coding, conversation analysis, participant quotes.\n",
    "\n",
    "### Prototypical HAI Studies\n",
    "1. **Perception Study**: Evaluating user perception of robot behavior.\n",
    "2. **Pilot Study**: Testing system robustness and usability.\n",
    "3. **Impact Study**: Measuring the effect of robot interaction on learning or behavior."
   ]
  }
 ],
 "metadata": {
  "language_info": {
   "name": "python"
  }
 },
 "nbformat": 4,
 "nbformat_minor": 2
}
