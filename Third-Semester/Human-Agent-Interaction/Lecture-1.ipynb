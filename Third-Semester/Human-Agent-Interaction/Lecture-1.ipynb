{
 "cells": [
  {
   "cell_type": "markdown",
   "metadata": {},
   "source": [
    "## Human-Agent Interaction"
   ]
  },
  {
   "cell_type": "markdown",
   "metadata": {},
   "source": [
    "### Lecture 1"
   ]
  },
  {
   "cell_type": "markdown",
   "metadata": {},
   "source": [
    "#### Socially Interactive Agent (SIA)\n",
    "\n",
    "- No or minimal embodiment\n",
    "    - Chatbots and automated call centers (verbal dialogue and conversational flow)\n",
    "        - Siri\n",
    "        - Eliza\n",
    "- Physical embodiment\n",
    "    - social robotswith a focus on physical properties (Morphology )\n",
    "        - NAO, Pepper (humanoids)\n",
    "        - Aibo (pet robots)\n",
    "- Virtual embodiment\n",
    "    - Intelligent Virtual Agents with an emphasis on graphics, rendering, multimodal interaction, and creating \"virtual humans\".\n",
    "        - Non-Player Characters\n",
    "        - Embodied Conversational Agents (Steve, Greta, and Max)\n"
   ]
  }
 ],
 "metadata": {
  "language_info": {
   "name": "python"
  }
 },
 "nbformat": 4,
 "nbformat_minor": 2
}
