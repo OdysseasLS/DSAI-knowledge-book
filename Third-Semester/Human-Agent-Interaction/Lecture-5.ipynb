{
 "cells": [
  {
   "cell_type": "markdown",
   "metadata": {},
   "source": []
  },
  {
   "cell_type": "markdown",
   "metadata": {},
   "source": [
    "## **Non-verbal Multimodal Interaction: Social Signal Processing (SSP)**\n",
    "\n",
    "### Key Concepts\n",
    "- **Social Signal Processing (SSP)**: A field combining social psychology, affective sciences, machine learning, and robotics to understand and generate non-verbal behaviors in machines for human interaction.\n",
    "\n",
    "### Components of SSP\n",
    "1. **Behavioral Cues**: Short-term, observable actions (e.g., nodding, smiling, raising voice).\n",
    "2. **Behavior**: Longer-term patterns of cues (e.g., nodding and smiling signal agreement).\n",
    "3. **Social Signals**: Cues or behaviors that convey social meaning (e.g., dominance, warmth, competence).\n",
    "\n",
    "\n",
    "### Functions of Social Signals\n",
    "1. **Interpersonal Stance**: Communicate warmth, competence, dominance.\n",
    "2. **Interaction Coordination**: Turn-taking, conflict resolution, negotiations.\n",
    "3. **Affective State**: Convey emotions like happiness, anger, or surprise.\n",
    "\n",
    "### Moderators of Social Signals\n",
    "- **Individual Moderators**: Personality traits (OCEAN model), gender, physical state.\n",
    "- **Group Moderators**: Group size, roles, and settings (e.g., in-group vs. out-group).\n",
    "\n",
    "### Social Signal Processing Pipeline\n",
    "1. **Machine Analysis**: Detect and classify behavioral cues (e.g., posture, voice) into signals (e.g., dominance, anger).\n",
    "2. **Machine Synthesis**: Generate and render appropriate behaviors in response (e.g., lower voice to de-escalate conflict)."
   ]
  }
 ],
 "metadata": {
  "language_info": {
   "name": "python"
  }
 },
 "nbformat": 4,
 "nbformat_minor": 2
}
