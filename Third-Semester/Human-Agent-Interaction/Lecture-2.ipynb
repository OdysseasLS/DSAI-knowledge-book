{
 "cells": [
  {
   "cell_type": "markdown",
   "metadata": {},
   "source": [
    "### Study Notes: Building Blocks of Socially Interactive Agents\n",
    "\n",
    "#### **Socially Interactive Agents**\n",
    "   - **Definition**: Agents (virtual or physical) capable of autonomous communication with humans or other agents, exhibiting social intelligence via multi-modal behaviors.\n",
    "   - **Types**:\n",
    "     - **Social Robot**: Physical embodiment (e.g., robots).\n",
    "     - **Intelligent Virtual Agent**: Virtual embodiment (e.g., virtual characters).\n",
    "\n",
    "#### **Agent Architectures**\n",
    "   - **Sense-Think-Act Cycle**: The classical cycle for agents but has limitations in reactivity.\n",
    "   - **Subsumption Architecture**:\n",
    "     - Hierarchical task-specific modules for continuous behavior (action-reaction).\n",
    "     - Difficult to manage complex behaviors.\n",
    "   - **Layered Architecture**:\n",
    "     - Behavior organized in layers (Reactive, Executive, Deliberative, Reflective).\n",
    "     - Challenges include deciding functionality placement.\n",
    "\n",
    "#### **Modern Agent Architectures**\n",
    "   - **Characteristics**:\n",
    "     - Modular, layered systems for abstraction.\n",
    "     - Machine learning, sensor/actuator abstraction via APIs.\n",
    "     - Advanced modules (e.g., facial recognition) in the cloud, real-time control on the robot.\n",
    "   - **Examples**: ROS (Robot Operating System), RIE, Virtual Human Toolkit.\n",
    "\n",
    "#### **SAIBA and BML**\n",
    "   - **Problem**: Synchronizing multi-modal behavior generation.\n",
    "   - **Behavior Markup Language (BML)**: Helps manage and synchronize agent behaviors."
   ]
  }
 ],
 "metadata": {
  "language_info": {
   "name": "python"
  }
 },
 "nbformat": 4,
 "nbformat_minor": 2
}
