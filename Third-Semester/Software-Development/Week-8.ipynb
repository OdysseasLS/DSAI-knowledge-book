{
 "cells": [
  {
   "cell_type": "markdown",
   "metadata": {},
   "source": [
    "## Class Diagram\n",
    "\n",
    "In a class diagram, modifiers are used to determine the visibility of attributes and operations:\n",
    "\n",
    "<img src=\"https://cdn-proxy.slickplan.com/wp-content/uploads/2023/10/9_uml.png\" width=\"650\">\n",
    "\n",
    "![](https://vertabelo.com/blog/uml-notation/uml_relationship.png)\n"
   ]
  },
  {
   "cell_type": "markdown",
   "metadata": {
    "vscode": {
     "languageId": "plaintext"
    }
   },
   "source": [
    "1. **Class Diagram**:\n",
    "   - *Description*: Illustrates the system's structure by showing classes, attributes, operations, and relationships.\n",
    "   - *Image*:\n",
    "     - ![Class Diagram](https://creately.com/blog/wp-content/uploads/2011/10/Class-Diagram-Example.png)\n",
    "\n",
    "2. **Object Diagram**:\n",
    "   - *Description*: Depicts object instances and their relationships at a particular moment.\n",
    "   - *Image*:\n",
    "     - ![Object Diagram](https://creately.com/blog/wp-content/uploads/2011/10/Object-Diagram-Example.png)\n",
    "\n",
    "3. **Sequence Diagram**:\n",
    "   - *Description*: Shows how objects interact in a particular sequence, detailing the order of messages.\n",
    "   - *Image*:\n",
    "     - ![Sequence Diagram](https://creately.com/blog/wp-content/uploads/2011/10/Sequence-Diagram-Example.png)\n",
    "\n",
    "4. **Activity Diagram**:\n",
    "   - *Description*: Represents workflows of stepwise activities and actions, including conditions.\n",
    "   - *Image*:\n",
    "     - ![Activity Diagram](https://creately.com/blog/wp-content/uploads/2011/10/Activity-Diagram-Example.png)\n",
    "\n",
    "5. **Gantt Chart**:\n",
    "   - *Description*: Visualizes project schedules, showing tasks, durations, and dependencies.\n",
    "   - *Image*:\n",
    "     - ![Gantt Chart](https://www.smartsheet.com/sites/default/files/IC-Project-Gantt-Chart-Example.png)\n",
    "\n",
    "These visuals should help you better understand each diagram type. "
   ]
  }
 ],
 "metadata": {
  "language_info": {
   "name": "python"
  }
 },
 "nbformat": 4,
 "nbformat_minor": 2
}
