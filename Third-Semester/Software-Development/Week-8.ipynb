{
 "cells": [
  {
   "cell_type": "markdown",
   "metadata": {},
   "source": [
    "## Class Diagram\n",
    "\n",
    "In a class diagram, modifiers are used to determine the visibility of attributes and operations:\n",
    "\n",
    "<img src=\"https://cdn-proxy.slickplan.com/wp-content/uploads/2023/10/9_uml.png\" width=\"650\">\n",
    "\n",
    "- The pointer will stick to source.\n",
    "\n",
    "- Aggregation\n",
    "```\n",
    "School ◇────── Teacher\n",
    "```\n",
    "- The hollow diamond (`◇`) is on the `School` side, indicating it is the \"whole\".\n",
    "\n",
    "\n",
    "![](https://vertabelo.com/blog/uml-notation/uml_relationship.png)\n"
   ]
  },
  {
   "cell_type": "markdown",
   "metadata": {
    "vscode": {
     "languageId": "plaintext"
    }
   },
   "source": [
    "\n",
    "### **1. `0..1` (Zero or One)** \n",
    "\n",
    "### **2. `1` (Exactly One)**  \n",
    "\n",
    "### **3. `1..*` (One or More)**  \n",
    "\n",
    "### **4. `0..*` or `*` (Zero or More)**  \n",
    "\n",
    "- **Class A** and **Class B** are related with multiplicities.  \n",
    "  - `Class A 1 ------ 0..1 Class B`: A single instance of `Class A` can be related to **zero or one** instance of `Class B`.\n"
   ]
  },
  {
   "cell_type": "markdown",
   "metadata": {
    "vscode": {
     "languageId": "plaintext"
    }
   },
   "source": [
    "1. **Class Diagram**:\n",
    "   - Illustrates the system's structure by showing classes, attributes, operations, and relationships.\n",
    "   - ![Class Diagram](https://www.researchgate.net/profile/Robert-Milewski/publication/261699916/figure/fig2/AS:651206670180362@1532271177964/Class-diagram-of-student-evaluation-data.png)\n",
    "\n",
    "2. **Object Diagram**:\n",
    "   - Depicts object instances and their relationships at a particular moment.\n",
    "   - ![Object Diagram](../../Files/third-semester/sd/3.png)\n",
    "\n",
    "3. **Sequence Diagram**:\n",
    "   - Shows how objects interact in a particular sequence, detailing the order of messages.\n",
    "   - ![Sequence Diagram](https://miro.medium.com/v2/resize:fit:720/format:webp/1*LkDapTCD6_xxOKCC3kTzcw.jpeg)\n",
    "\n",
    "4. **Activity Diagram**:\n",
    "   - Represents workflows of stepwise activities and actions, including conditions.\n",
    "   - ![Activity Diagram](https://cdn-images.visual-paradigm.com/guide/uml/what-is-activity-diagram/04-activity-diagram-example-process-order.png)\n",
    "\n",
    "5. **Gantt Chart**:\n",
    "   - Visualizes project schedules, showing tasks, durations, and dependencies.\n",
    "   - ![Gantt Chart](https://leansixsigmagroep.nl/wp-content/uploads/2023/11/gantt-chart-768x512-1.webp)"
   ]
  }
 ],
 "metadata": {
  "language_info": {
   "name": "python"
  }
 },
 "nbformat": 4,
 "nbformat_minor": 2
}
