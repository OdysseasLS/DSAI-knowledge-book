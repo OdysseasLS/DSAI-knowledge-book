{
 "cells": [
  {
   "cell_type": "markdown",
   "metadata": {
    "vscode": {
     "languageId": "plaintext"
    }
   },
   "source": [
    "# Advanced Topics in Python\n",
    "\n",
    "\n",
    "\n",
    "### **Decorators**\n",
    "- **Definition**: A way to extend the behavior of a function without modifying its source code.\n",
    "- **Usage**: Useful for logging, access control, timing, and more.\n",
    "\n",
    "#### **Example: Timer Decorator**\n",
    "```python\n",
    "import time\n",
    "\n",
    "def timer(func):\n",
    "    def wrapper(*args, **kwargs):\n",
    "        start = time.perf_counter_ns()\n",
    "        result = func(*args, **kwargs)\n",
    "        end = time.perf_counter_ns()\n",
    "        print(f\"{func.__name__} took {end - start} ns\")\n",
    "        return result\n",
    "    return wrapper\n",
    "\n",
    "@timer\n",
    "def factorial(n):\n",
    "    if n == 0:\n",
    "        return 1\n",
    "    return n * factorial(n - 1)\n",
    "\n",
    "print(factorial(5))\n",
    "```"
   ]
  },
  {
   "cell_type": "markdown",
   "metadata": {
    "vscode": {
     "languageId": "plaintext"
    }
   },
   "source": [
    "### **Scope**\n",
    "- **Definition**: Defines the region where variables are accessible.\n",
    "- **Python Scopes**:\n",
    "  1. **Local Scope**: Inside a function.\n",
    "  2. **Enclosing Scope**: Surrounding functions (non-local).\n",
    "  3. **Global Scope**: Defined at the module level.\n",
    "  4. **Built-In Scope**: Names predefined in Python.\n",
    "\n",
    "![scope](../../Files/third-semester/sd/2.png)"
   ]
  },
  {
   "cell_type": "markdown",
   "metadata": {
    "vscode": {
     "languageId": "plaintext"
    }
   },
   "source": [
    "### **Closures**\n",
    "A closure in Python is a function that \"remembers\" the values from outter function, even after finishing executing.\n",
    "\n",
    "#### **Example**:\n",
    "```python\n",
    "def outer_function(x):\n",
    "    def inner_function(y):\n",
    "        return x + y  # inner_function remembers x from outer_function\n",
    "    return inner_function  # outer_function returns inner_function\n",
    "\n",
    "closure = outer_function(5)  # x is 5 here, got remembered by inner_function\n",
    "print(closure(3))  # inner_function uses x=5 and y=3, so the result is 8\n",
    "```\n",
    "\n",
    "The `closure` variable is now holding the inner_function, which remembers the value of x from the outer scope.\n",
    "When you call `closure(3)`, it will use `x = 5` and `y = 3` to compute the result."
   ]
  },
  {
   "cell_type": "markdown",
   "metadata": {
    "vscode": {
     "languageId": "plaintext"
    }
   },
   "source": [
    "### **Higher-Order Functions**\n",
    "- **Definition**: Functions that take other functions as arguments or return them.\n",
    "\n",
    "#### **Example**:\n",
    "```python\n",
    "def apply_operation(numbers, operation):\n",
    "    return [operation(n) for n in numbers]\n",
    "\n",
    "nums = [1, 2, 3, 4]\n",
    "print(apply_operation(nums, lambda x: x**2))  # Output: [1, 4, 9, 16]\n",
    "```"
   ]
  }
 ],
 "metadata": {
  "language_info": {
   "name": "python"
  }
 },
 "nbformat": 4,
 "nbformat_minor": 2
}
