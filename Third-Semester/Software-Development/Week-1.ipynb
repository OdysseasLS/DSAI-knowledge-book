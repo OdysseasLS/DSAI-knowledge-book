{
 "cells": [
  {
   "cell_type": "markdown",
   "metadata": {},
   "source": [
    "## Evolution of software design techniques\n",
    "- **Exploratory Style**: Gives complete freedom to the programmer to choose the activities to develop a software system.\n",
    "- **Structured Style**: It is based on the concept of divide and conquer. It divides the problem into smaller subproblems and solves them.\n",
    "    - Customrt $\\rightarrow$ Initial-Code $\\rightarrow$ Test(Bug/Debug) $\\rightarrow$ Deliver\n",
    "- **Control Flow Oriented Style**: It is based on if-then-else and do-while constructs.\n",
    "    - Problem: Size and complexity of programs kept on increasing.\n",
    "- **Data Structure Oriented Style**: Design program’s data structures, and then develop the code structure based on the data structure.\n",
    "- **Data Flow Oriented Style**: It is based on the concept of data flow diagrams (DFDs).\n",
    "- **Object Oriented Style**: It is based on the concept of objects. An object is a real-world entity that has a state and behavior."
   ]
  },
  {
   "cell_type": "markdown",
   "metadata": {
    "vscode": {
     "languageId": "plaintext"
    }
   },
   "source": [
    "### Four Fundamental Activities to Design Software:\n",
    "\n",
    "1. **Requirement Analysis**\n",
    "- Requirement Engineering $\\rightarrow$ Software Requirements Specification (SRS)\n",
    "    - Functional (Requirements) = What the system does (features) $\\rightarrow$ Defined by the customer\n",
    "    - Non-functional (Requirements) = How it performs (quality) $\\rightarrow$ Defined by the developer\n",
    "2. **Design & Implementation**\n",
    "- **System Architecture Design:** Defines the high-level structure, identifying components, modules, and interactions to create a system blueprint.\n",
    "- **( Detailed & UI & DB & Algorithm & Code Architecture )** Design\n",
    "3. **Software Validation**\n",
    "4. **Software Evolution**\n"
   ]
  }
 ],
 "metadata": {
  "language_info": {
   "name": "python"
  }
 },
 "nbformat": 4,
 "nbformat_minor": 2
}
