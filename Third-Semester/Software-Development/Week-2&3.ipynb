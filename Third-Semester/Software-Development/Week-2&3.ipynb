{
 "cells": [
  {
   "cell_type": "markdown",
   "metadata": {},
   "source": [
    "- RCS (Revision Control System) was one of the most popular Local Version Control Systems (VCS).\n",
    "- RCS works by keeping patch sets (that is, the differences between files) in a special format on disk.\n",
    "- Centralized Version Control Systems (CVCS) were developed to solve the problem of sharing changes with developers in different locations.\n",
    "- Distributed Version Control Systems (DVXS) make every clone is really a full backup of the whole project to prevent data loss by server crash. (Git)\n",
    "\n",
    "**Git vs. Other VCS**  \n",
    "- **Other VCS**: Uses **delta-based version control**, tracking changes as file-by-file modifications over time.  \n",
    "- **Git**: Stores complete snapshots of the project, not just deltas, making it faster and more efficient.\n"
   ]
  },
  {
   "cell_type": "markdown",
   "metadata": {
    "vscode": {
     "languageId": "plaintext"
    }
   },
   "source": [
    "---\n",
    "\n",
    "- **`git config --local`**: Sets settings only for the current project.  \n",
    "- **`git config --global`**: Sets settings for all your projects on your computer.  \n",
    "\n",
    "we can then set `user.name` and `user.email`"
   ]
  },
  {
   "cell_type": "markdown",
   "metadata": {
    "vscode": {
     "languageId": "plaintext"
    }
   },
   "source": [
    "### **General Usage of `git checkout`**\n",
    "\n",
    "1. **Switch to Another Branch**:  \n",
    "   ```bash\n",
    "   git checkout <branch_name>\n",
    "   ```\n",
    "2. **Create and Switch to a New Branch**:  \n",
    "   ```bash\n",
    "   git checkout -b <new_branch_name> #Alternatively, git branch <new_branch_name> but wont switch to it\n",
    "   ```\n",
    "3. **Restore a Specific File**:  \n",
    "   ```bash\n",
    "   git checkout <commit_hash> -- <file_name>\n",
    "   ```\n",
    "   - Example: `git checkout abc123 -- README.md`  \n",
    "   - Reverts a file to its state in the specified commit.\n",
    "\n",
    "4. **Switch to a Specific Commit (Detached HEAD)**:  \n",
    "   ```bash\n",
    "   git checkout <commit_hash>\n",
    "   ```\n",
    "   - Example: `git checkout abc123`  \n",
    "   - Moves to a specific commit, leaving you in a detached HEAD state.\n"
   ]
  },
  {
   "cell_type": "markdown",
   "metadata": {
    "vscode": {
     "languageId": "plaintext"
    }
   },
   "source": [
    "### **Tips**\n",
    "\n",
    "- ```bash\n",
    "  git status -s # Short status. A means added, M means modified, D means deleted.\n",
    "  ```\n",
    "- **Untracked files** must be added to Git before `git diff` can show their changes, else we should try \n",
    "```bash\n",
    "  git log -p -1\n",
    "  ```\n",
    "- Remove staged file from all logs and commits\n",
    "```bash\n",
    "  git rm --cached <file_name>\n",
    "  ```\n",
    "- Add tag for a checksum\n",
    "```bash\n",
    "  git tag -a <tag_name> <checksum>\n",
    "  ```\n",
    "\n"
   ]
  },
  {
   "cell_type": "markdown",
   "metadata": {
    "vscode": {
     "languageId": "plaintext"
    }
   },
   "source": [
    "### Git Switch \n",
    "1. **Switch to an existing branch**:\n",
    "   ```bash\n",
    "   git switch testing-branch\n",
    "   ```\n",
    "\n",
    "2. **Create a new branch and switch to it**:\n",
    "   ```bash\n",
    "   git switch -c new-branch\n",
    "   ```\n",
    "   (The `-c` flag stands for `--create`.)\n",
    "\n",
    "3. **Return to the previous branch**:\n",
    "   ```bash\n",
    "   git switch -\n",
    "   ```"
   ]
  },
  {
   "cell_type": "markdown",
   "metadata": {
    "vscode": {
     "languageId": "plaintext"
    }
   },
   "source": [
    "## Merge\n",
    "\n",
    "1. **Merge a Branch**:\n",
    "   ```bash\n",
    "   git merge <branch_name>\n",
    "   ```\n",
    "\n",
    "2. **When a Merge Conflict Occurs**:\n",
    "   - Git pauses the merge and shows conflicting files:\n",
    "     ```bash\n",
    "     git status\n",
    "     ```\n",
    "\n",
    "3. **Resolve Conflicts**:\n",
    "   - Open the file with conflicts and look for markers:\n",
    "     ```text\n",
    "     <<<<<<< HEAD\n",
    "     (your branch changes)\n",
    "     =======\n",
    "     (other branch changes)\n",
    "     >>>>>>> branch_name\n",
    "     ```\n",
    "   - Edit the file to resolve the conflict, removing the markers.\n",
    "\n",
    "4. **Mark as Resolved**:\n",
    "   ```bash\n",
    "   git add <file>\n",
    "   ```\n",
    "\n",
    "5. **Complete the Merge**:\n",
    "   ```bash\n",
    "   git commit\n",
    "   ```\n",
    "\n",
    "6. **Abort a Merge** (if you want to cancel):\n",
    "   ```bash\n",
    "   git merge --abort\n",
    "   ```\n",
    "\n",
    "7. **Use a Visual Tool (optional)**:\n",
    "   ```bash\n",
    "   git mergetool\n",
    "   ```"
   ]
  },
  {
   "cell_type": "markdown",
   "metadata": {
    "vscode": {
     "languageId": "plaintext"
    }
   },
   "source": [
    "### **Rebase vs. Merge**\n",
    "\n",
    "### **1. Merge:**\n",
    "- **What It Does**: Combines two branches, creating a **merge commit** that reflects the integration.\n",
    "- **Key Features**:\n",
    "  - Keeps the full history of both branches.\n",
    "  - Useful when you want to preserve a branch’s context and history.\n",
    "  - Results in a branch structure with multiple lines (a \"merge graph\").\n",
    "\n",
    "\n",
    "### **2. Rebase:**\n",
    "- **What It Does**: Re-applies the commits from one branch onto another, creating a **linear history**.\n",
    "- **Key Features**:\n",
    "  - Avoids merge commits, making the history cleaner and easier to read.\n",
    "  - Useful when preparing a feature branch for integration.\n",
    "  - Changes commit hashes because it rewrites history.\n",
    "\n",
    "- **Command**:\n",
    "  ```bash\n",
    "  git rebase <branch_name>\n",
    "  ```\n"
   ]
  },
  {
   "cell_type": "markdown",
   "metadata": {
    "vscode": {
     "languageId": "plaintext"
    }
   },
   "source": [
    "### Git Remote\n",
    "\n",
    "**Remote Repositories**:\n",
    "   - `git remote` shows remote repositories:\n",
    "     ```bash\n",
    "     git remote -v\n",
    "     ```\n",
    "\n",
    "   - Add a new remote:\n",
    "     ```bash\n",
    "     git remote add <name> <url>\n",
    "     ```\n"
   ]
  }
 ],
 "metadata": {
  "language_info": {
   "name": "python"
  }
 },
 "nbformat": 4,
 "nbformat_minor": 2
}
