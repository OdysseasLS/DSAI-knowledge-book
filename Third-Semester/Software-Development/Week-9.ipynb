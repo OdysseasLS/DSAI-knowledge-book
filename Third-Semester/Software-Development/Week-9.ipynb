{
 "cells": [
  {
   "cell_type": "markdown",
   "metadata": {},
   "source": [
    "- **Test Case**: Input, state, and expected result ([I, S, R]).\n",
    "\n",
    "**Verification vs. Validation**:\n",
    "   - **Verification**: “Building the product right”\n",
    "      - **Static Analysis**: Code inspection for errors.\n",
    "         - Review: Manual code inspection.\n",
    "         - Walkthrough: Detailed code review.\n",
    "         - Inspection: Checklist-based review.\n",
    "   - **Validation**: “Building the right product”\n",
    "      - Dynamic testing: Executing code to find errors.\n",
    "         - Black box: Input/output validation.\n",
    "         - White box: Code coverage and logic testing.\n",
    "            - **Coverage-based testing**:\n",
    "               - **Statement Coverage**: Each statement executed\n",
    "               - **Path Coverage**: Each path executed\n",
    "            - Fault-based testing:\n",
    "               - **Mutation Testing**: Introduce faults to test cases.\n",
    "         - Gray box: Context-specific testing(White + Black).\n",
    "   - ![Verification vs. Validation](../../Files/third-semester/sd/4.png)\n",
    "\n",
    "**Debugging Approaches**:\n",
    "- **Brute Force**: Insert print statements.\n",
    "- **Backtracking**: Trace backwards from an error point.\n",
    "- **Cause Elimination**: Test hypotheses for error causes.\n",
    "- **Program Slicing**: Analyze variable dependencies.\n",
    "\n",
    "\n",
    "#### **Unit Testing**\n",
    "- Tests smallest units (functions, classes).\n",
    "- Automated for consistency and coverage measurement.\n",
    "- Code Coverage Metrics:\n",
    "  - **Statement**\n",
    "  - **Branch/Path**\n",
    "  - **Condition**\n",
    "\n",
    "![Unit Testing](../../Files/third-semester/sd/5.png)"
   ]
  },
  {
   "cell_type": "markdown",
   "metadata": {
    "vscode": {
     "languageId": "plaintext"
    }
   },
   "source": [
    "- **Regression testing**: Verifies new changes don’t break existing functionality."
   ]
  },
  {
   "cell_type": "markdown",
   "metadata": {
    "vscode": {
     "languageId": "plaintext"
    }
   },
   "source": [
    "#### Cyclomatic Complexity (For Path Coverage)\n",
    "- Formula: `M = E - N + 2P`\n",
    "  - `M`: Cyclomatic complexity.\n",
    "  - `E`: Number of edges.\n",
    "  - `N`: Number of nodes.\n",
    "  - `P`: Number of connected components."
   ]
  }
 ],
 "metadata": {
  "language_info": {
   "name": "python"
  }
 },
 "nbformat": 4,
 "nbformat_minor": 2
}
