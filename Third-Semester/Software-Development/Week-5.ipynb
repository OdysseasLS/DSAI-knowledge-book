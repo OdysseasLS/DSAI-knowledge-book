{
 "cells": [
  {
   "cell_type": "markdown",
   "metadata": {},
   "source": [
    "\n",
    "#### **Process Model**\n",
    "A structured sequence of steps (software process) to guide product/system development to ensures stability, control, and organization in the development process, reducing chaos for the development team and customers.\n",
    "\n",
    "#### **Generic Process Framework**\n",
    "**Five Framework Activities**:\n",
    "   - Communication\n",
    "   - Planning\n",
    "   - Modeling\n",
    "   - Construction\n",
    "   - Deployment\n",
    "\n",
    "**Umbrella Activities** (applied throughout the process):\n",
    "   - Project tracking and control\n",
    "   - Risk management\n",
    "   - Quality assurance\n",
    "   - Configuration management\n",
    "   - Technical reviews\n",
    "\n",
    "#### **Process Flows**\n",
    "1. **Linear Process Flow**: Activities executed sequentially\n",
    "   - communication → planning → modeling → construction → deployment\n",
    "2. **Iterative Process Flow**: Repeats one or more activities before moving forward.\n",
    "    - communication → planning → (Repeat back to communication) → modeling → construction → (Repeat back to communication) → deployment\n",
    "3. **Evolutionary Process Flow**: Activities repeated cyclically, leading to progressive refinement of software.\n",
    "      - communication → planning → modeling → construction → deployment → (Repeat back to communication)\n",
    "4. **Parallel Process Flow**: Executes activities concurrently (e.g., modeling one feature while constructing another)."
   ]
  },
  {
   "cell_type": "markdown",
   "metadata": {
    "vscode": {
     "languageId": "plaintext"
    }
   },
   "source": [
    "#### **Process Models**\n",
    "\n",
    "- **1. Waterfall Model**\n",
    "  - A systematic, sequential approach where development progresses linearly through:\n",
    "  - **Communication → Planning → Modeling → Construction → Deployment → Support**\n",
    "  - For Adaptations and Suitable for projects with clear and fixed requirements but with late discovery of errors can create big issues. Inappropriate for fast-paced, dynamic projects.\n",
    "\n",
    "\n",
    "- **2. V-Model**\n",
    "  - A variation of the Waterfall model, emphasizing quality assurance and validation.\n",
    "  - **Key Features**:\n",
    "    - Left side: Refinement of requirements into detailed representations.\n",
    "    - Right side: Validation of earlier models through tests.\n",
    "    - Shows how verification and validation actions integrate with the process.\n",
    "  - **Note**: V-model adds visualization but shares core principles with the Waterfall model.\n",
    "  - ![V-Model](../../Files/third-semester/sd/1.png)\n",
    "\n",
    "- **3. Incremental Process Model**\n",
    "  - **Definition**: Combines linear and parallel flows, delivering software in increments.\n",
    "  - Deliver a **core product** with basic features first and Add supplementary features in successive increments. For projects needing quick delivery of a usable product with technical uncertainties or lengthy schedules.\n",
    "\n",
    " - **4. Evolutionary Process Models**: Iterative and adaptable to changing requirements. Includes:\n",
    "   - **Prototyping**: For unclear requirements; early customer feedback aids refinement.\n",
    "   - **Spiral**: Risk-driven, combining iterative development with controlled documentation.\n",
    " - **5. Concurrent Model**: Multiple activities occur in different states simultaneously.\n",
    " - **6. Unified Process (UP)**: Iterative and incremental, with phases like inception, elaboration, construction, transition and production.\n"
   ]
  },
  {
   "cell_type": "markdown",
   "metadata": {},
   "source": [
    "3. **Specialized Models**\n",
    "   - **Component-Based Development**: Builds reusable integrated software components.\n",
    "   - **Formal Methods Model**: Uses mathematical specifications for high reliability but is costly, time consuming and complex.\n",
    "   - **Aspect-Oriented Development**: Focuses on cross-cutting concerns like security or performance.\n",
    "\n",
    "4. **Agile Development**\n",
    "   - Emphasizes flexibility, rapid delivery, and close collaboration with customers.\n",
    "   - **Agility Principles**:\n",
    "     - Customer satisfaction through frequent delivery.\n",
    "     - Welcome changing requirements.\n",
    "     - Continuous collaboration and sustainable development.\n",
    "   - **Agile Practices**:\n",
    "     - **Extreme Programming (XP)**: Focuses on iterative development with frequent testing, customer involvement, and pair programming.\n",
    "        - **Activities**:\n",
    "        - **Planning**: Gather requirements via user stories. Prioritize and estimate costs. Group stories into releases and track progress with project velocity.\n",
    "        - **Design**: Use simple designs and CRC cards. Solve complex issues with prototypes (spike solutions).\n",
    "        - **Coding**: Start with unit tests, then write code to pass them. Use pair programming for quality and standards.\n",
    "        - **Testing**: Automate unit tests for regression. Use customer-defined acceptance tests for overall functionality.\n",
    "\n",
    "          XP emphasizes simplicity, collaboration, and rapid feedback.\n",
    "\n",
    "| **Model**       | **Advantages (Pros)**                        | **Disadvantages (Cons)**                         |\n",
    "|------------------|---------------------------------------------|-------------------------------------------------|\n",
    "| **Waterfall**    | Simple and well-documented                 | Poor flexibility, not suitable for dynamic projects |\n",
    "| **Incremental**  | Flexible, early delivery, manageable risks | Increased cost, complexity, and testing efforts |\n",
    "| **Evolutionary** | Adapts to change, customer feedback incorporated | Potential planning challenges, focus on flexibility over quality |\n",
    "| **Agile**        | Adaptable, collaborative, quick delivery   | Informal requirements, dependency on team expertise |\n"
   ]
  }
 ],
 "metadata": {
  "language_info": {
   "name": "python"
  }
 },
 "nbformat": 4,
 "nbformat_minor": 2
}
