{
 "cells": [
  {
   "cell_type": "markdown",
   "metadata": {},
   "source": [
    "## Evolution of software design techniques\n",
    "- **Exploratory Style**: Gives complete freedom to the programmer to choose the activities to develop a software system.\n",
    "- **Structured Style**: It is based on the concept of divide and conquer. It divides the problem into smaller subproblems and solves them.\n",
    "    - Customrt $\\rightarrow$ Initial-Code $\\rightarrow$ Test(Bug/Debug) $\\rightarrow$ Deliver\n",
    "- **Control Flow Oriented Style**: It is based on if-then-else and do-while constructs.\n",
    "    - Problem: Size and complexity of programs kept on increasing.\n",
    "- **Data Structure Oriented Style**: Design program’s data structures, and then develop the code structure based on the data structure.\n",
    "- **Data Flow Oriented Style**: It is based on the concept of data flow diagrams (DFDs).\n",
    "- **Object Oriented Style**: It is based on the concept of objects. An object is a real-world entity that has a state and behavior."
   ]
  },
  {
   "cell_type": "markdown",
   "metadata": {},
   "source": [
    "### **Collect Requirements**\n",
    "- **Studying existing documentation**\n",
    "- **Interviewing**\n",
    "- **Task Analysis**\n",
    "- **Scenario analysis**\n",
    "- **Form analysis**\n",
    "\n"
   ]
  },
  {
   "cell_type": "markdown",
   "metadata": {},
   "source": [
    "### Four Fundamental Activities to Design Software:\n",
    "\n",
    "1. **Requirement Analysis**\n",
    "- Requirement Engineering $\\rightarrow$ Software Requirements Specification (SRS)\n",
    "    - Functional (Requirements) = What the system does (features) $\\rightarrow$ Defined by the customer\n",
    "    - Non-functional (Requirements) = How it performs (quality) $\\rightarrow$ Defined by the developer\n",
    "2. **Design & Implementation**\n",
    "- **System Architecture Design:** Defines the high-level structure, identifying components, modules, and interactions to create a system blueprint.\n",
    "- **( Detailed & UI & DB & Algorithm & Code Architecture )** Design\n",
    "3. **Software Validation**\n",
    "4. **Software Evolution**\n"
   ]
  },
  {
   "cell_type": "markdown",
   "metadata": {
    "vscode": {
     "languageId": "plaintext"
    }
   },
   "source": [
    "---"
   ]
  },
  {
   "cell_type": "markdown",
   "metadata": {
    "vscode": {
     "languageId": "plaintext"
    }
   },
   "source": [
    "**Revision Control System (RCS)**: Keep files patch ($\\delta$) $!=$ **Version Control System (VCS)**: Keep snapshots\n",
    "\n",
    "- **git checkout**\n",
    "   - <branch-name>: Switch\n",
    "   - -b <branch-name>: Create and switch\n",
    "   - <commit-hash>: Revert\n",
    "   - <commit-hash> <file-name>: Restore\n",
    "- **git remote**\n",
    "   - -v: List\n",
    "   - add <remote-name> <url>: Add\n",
    "   - remove <remote-name>: Remove\n",
    "- **Merge vs Rebase**\n",
    "   - Merge: Merge the changes from one branch to another branch\n",
    "   - Rebase: Reapply the changes from one branch to another branch\n"
   ]
  },
  {
   "cell_type": "markdown",
   "metadata": {
    "vscode": {
     "languageId": "plaintext"
    }
   },
   "source": [
    "---"
   ]
  },
  {
   "cell_type": "markdown",
   "metadata": {},
   "source": [
    "#### **4 Pillars of OOP**\n",
    "1. **Abstraction**\n",
    "2. **Encapsulation**\n",
    "3. **Inheritance**\n",
    "4. **Polymorphism**"
   ]
  },
  {
   "cell_type": "markdown",
   "metadata": {},
   "source": [
    "\n",
    "1. **@classmethod**:\n",
    "   - Operates on the **class itself**, not instances.\n",
    "   - Requires the `cls` parameter to refer to the class.\n",
    "   - Use it when you want to access or modify class-level data (e.g., shared attributes).\n",
    "\n",
    "   ```python\n",
    "   class Example:\n",
    "       shared_data = 0\n",
    "\n",
    "       @classmethod\n",
    "       def modify_shared_data(cls, value):\n",
    "           cls.shared_data += value\n",
    "\n",
    "   Example.modify_shared_data(5)\n",
    "   print(Example.shared_data)  # Output: 5\n",
    "   ```\n",
    "\n",
    "2. **@staticmethod**:\n",
    "   - Independent of the class or instance.\n",
    "   - Does **not require `self` or `cls`**.\n",
    "   - Use it when you need a utility function that logically belongs to the class but doesn’t touch class/instance data.\n",
    "\n",
    "   ```python\n",
    "   class Example:\n",
    "       @staticmethod\n",
    "       def utility(a, b):\n",
    "           return a + b\n",
    "\n",
    "   print(Example.utility(3, 4))  # Output: 7\n",
    "   ```"
   ]
  },
  {
   "cell_type": "markdown",
   "metadata": {
    "vscode": {
     "languageId": "plaintext"
    }
   },
   "source": [
    "---\n"
   ]
  },
  {
   "cell_type": "markdown",
   "metadata": {},
   "source": [
    "**Process Model frameworks Activities**:\n",
    "   - Communication\n",
    "   - Planning\n",
    "   - Modeling\n",
    "   - Construction\n",
    "   - Deployment\n",
    "\n",
    "**Umbrella Activities** (applied throughout the process):\n",
    "   - Project tracking and control\n",
    "   - Risk management\n",
    "   - Quality assurance\n",
    "   - Configuration management\n",
    "   - Technical reviews\n"
   ]
  },
  {
   "cell_type": "markdown",
   "metadata": {},
   "source": [
    "#### **Process Models**\n",
    "\n",
    "- **1. Waterfall Model**\n",
    "  - For Adaptations and Suitable for projects with clear and fixed requirements but with late discovery of errors can create big issues. Inappropriate for fast-paced, dynamic projects.\n",
    "\n",
    "- **2. V-Model**\n",
    "  - A variation of the Waterfall model, emphasizing quality assurance and validation.\n",
    "\n",
    "- **3. Incremental Process Model**\n",
    "  - For projects needing quick delivery of a usable product with technical uncertainties or lengthy schedules.\n",
    " - **4. Evolutionary Process Models**: Iterative and adaptable to changing requirements. Includes:\n",
    "   - **Prototyping**: For unclear requirements; early customer feedback aids refinement.\n",
    "   - **Spiral**: Risk-driven, combining iterative development with controlled documentation.\n",
    " - **6. Unified Process (UP)**: Iterative and incremental\n",
    "    - **Phases**:\n",
    "      - Inception: Establishes the project’s scope, feasibility, and risks.\n",
    "      - Elaboration: Refines the project’s vision, scope, and architecture.\n",
    "      - Construction: Develops the software system.\n",
    "      - Transition: Moves the software from development to production.\n",
    "      - Production: Maintains and supports the software.\n",
    "  - **7. Agile Process Models**: Iterative and incremental, emphasizing flexibility and customer collaboration.\n",
    "    - **Agile Process Models:**\n",
    "      - Extreme Programming (XP): \n",
    "        - Planning\n",
    "        - Designing\n",
    "        - Coding\n",
    "        - Testing\n",
    "      - Scrum:\n",
    "        - Requirements\n",
    "        - Analysis\n",
    "        - Design\n",
    "        - Evolution\n",
    "        - Delivery\n",
    "\n",
    "### Pros and Cons of Software Development Process Models\n",
    "\n",
    "| **Process Model**                  | **Pros**                                                                                       | **Cons**                                                                                              |\n",
    "|------------------------------------|-----------------------------------------------------------------------------------------------|-------------------------------------------------------------------------------------------------------|\n",
    "| **Waterfall Model**                | - Simple and easy to understand.<br>- Structured and systematic approach.<br>- Clear milestones. | - Difficult to accommodate changes.<br>- Sequential flow is unrealistic for real projects.<br>- High risk and inflexible. |\n",
    "| **V-Model**                        | - Emphasizes quality assurance.<br>- Clear relationship between testing and development phases. | - Expensive and inflexible.<br>- Unsuitable for complex or fast-paced projects.                     |\n",
    "| **Incremental Model**              | - Delivers functional software early.<br>- Easier to manage risk and changes.<br>- Cost-effective for lengthy projects. | - Requires clear requirements.<br>- Increased complexity and higher costs.<br>- Tracking progress is challenging. |\n",
    "| **Evolutionary Model**             | - Accommodates uncertainty.<br>- Develops increasingly complete versions.<br>- Continuous customer involvement. | - Uncertain development cycles.<br>- May lead to chaos with fast-paced evolutions.<br>- Late delivery risks. |\n",
    "| **Prototyping**                    | - Helps clarify unclear requirements.<br>- Allows iterative feedback.<br>- Early validation of concepts. | - Inefficient algorithms or designs.<br>- Expensive for iterative cycles.<br>- Not suitable for large-scale systems. |\n",
    "| **Spiral Model**                   | - Best for high-risk projects.<br>- Strong focus on risk management.<br>- Flexible and iterative. | - High cost and complexity.<br>- Time estimation challenges.<br>- Requires risk assessment expertise. |\n",
    "| **Concurrent Model**               | - Allows overlapping tasks.<br>- Flexible and adaptable to changes.<br>- Supports iterative refinement. | - Complexity in managing concurrent states.<br>- May require high coordination efforts.             |\n",
    "| **Agile Models**                   | - Responds well to changes.<br>- Delivers working software quickly.<br>- Strong team collaboration.<br>- Customer-centric. | - Less emphasis on documentation.<br>- Requires experienced teams.<br>- Difficult in large-scale projects. |\n",
    "| **Extreme Programming (XP)**       | - Continuous feedback and testing.<br>- High adaptability.<br>- Team cohesion.<br>- Emphasizes customer satisfaction. | - Informal requirement handling.<br>- Lack of formal design.<br>- Not suitable for large or complex projects. |\n",
    "| **Scrum**                          | - Highly adaptive.<br>- Focuses on customer satisfaction.<br>- Enhances team collaboration.<br>- Efficient for tight timelines. | - Needs additional practices like XP.<br>- Not suitable for unclear projects.<br>- High resource demands. |\n",
    "| **Component-Based Development**    | - Reusable components.<br>- Faster development.<br>- Easier integration with existing systems. | - Integration challenges.<br>- Heavy reliance on existing components.<br>- High testing overhead.  |\n",
    "| **Formal Methods**                 | - Produces defect-free software.<br>- Mathematically rigorous.                              | - Expensive and time-consuming.<br>- Requires expertise.<br>- Poor communication with non-technical clients. |\n",
    "| **Aspect-Oriented Software Development (AOSD)** | - Addresses cross-cutting concerns.<br>- Enhances modularity.<br>- Complements existing paradigms. | - Complexity in implementation.<br>- Limited applicability in some domains.                        |"
   ]
  },
  {
   "cell_type": "markdown",
   "metadata": {},
   "source": [
    "**Specialized Models**\n",
    "   - **Component-Based Development**: Builds reusable integrated software components.\n",
    "   - **Formal Methods Model**: Uses mathematical specifications for high reliability but is costly, time consuming and complex.\n",
    "   - **Aspect-Oriented Development**: Focuses on cross-cutting concerns like security or performance.\n",
    "\n",
    "**Agile Development**\n",
    "   - **Agility Principles**:\n",
    "     - Customer satisfaction through frequent delivery.\n",
    "     - Welcome changing requirements.\n",
    "     - Continuous collaboration and sustainable development."
   ]
  },
  {
   "cell_type": "markdown",
   "metadata": {
    "vscode": {
     "languageId": "plaintext"
    }
   },
   "source": [
    "---"
   ]
  },
  {
   "cell_type": "markdown",
   "metadata": {
    "vscode": {
     "languageId": "plaintext"
    }
   },
   "source": [
    "### **File Operations**\n",
    "  - `'x'`: Exclusive Creation (throws an error if the file already exists, creates a new file for writing only).\n"
   ]
  },
  {
   "cell_type": "markdown",
   "metadata": {
    "vscode": {
     "languageId": "plaintext"
    }
   },
   "source": [
    "### **Regular Expressions**\n",
    "- `.`: Any\n",
    "- `^`: Start\n",
    "- `$`: End\n",
    "- `*`: Zero or more\n",
    "- `+`: One or more\n",
    "- `?`: Zero or one\n",
    "- `.*`: Greedy\n",
    "- `.*?`: Non-greedy\n",
    "- `[abc] != `[^abc]`: Not a, b, or c\n",
    "\n",
    "\n",
    "|**Character Classes**|**Negated Character Classes**|\n",
    "|---|---|\n",
    "|`\\b`: Word boundary|`\\B`: Not a word boundary|\n",
    "|`\\d`: Digit|`\\D`: Not a digit|\n",
    "|`\\s`: Whitespace|`\\S`: Not a whitespace|\n",
    "|`\\w`: Word|`\\W`: Not a word|"
   ]
  },
  {
   "cell_type": "markdown",
   "metadata": {
    "vscode": {
     "languageId": "plaintext"
    }
   },
   "source": [
    "---"
   ]
  },
  {
   "cell_type": "markdown",
   "metadata": {
    "vscode": {
     "languageId": "plaintext"
    }
   },
   "source": [
    "## Class Diagram\n",
    "\n",
    "- **Public (+)**: Accessible from anywhere.\n",
    "- **Private (-)**: Accessible only from within the class.\n",
    "- **Protected (#)**: Accessible only from within the class and its subclasses.\n",
    "- **Package (~)**: Accessible only from within the package.\n",
    "\n",
    "- The pointer will stick to source.\n",
    "\n",
    "- Aggregation `School ◇────── Teacher`: The hollow diamond (`◇`) points to indicating it is the \"whole\".\n",
    "- Generalization `Teacher ▷────── MathTeacher`: The hollow triangle (`▷`) points to the \"superclass\".\n",
    "- Inheritance `MathTeacher ▷────── MathTeacherAssistant`: The solid triangle (`▷`) points to the \"superclass\".\n",
    "\n",
    "\n",
    "![](https://vertabelo.com/blog/uml-notation/uml_relationship.png)\n",
    "\n",
    "\n",
    "### **1. `0..1` (Zero or One)** \n",
    "\n",
    "### **2. `1` (Exactly One)**  \n",
    "\n",
    "### **3. `1..*` (One or More)**  \n",
    "\n",
    "### **4. `0..*` or `*` (Zero or More)**  \n",
    "\n",
    "- **Class A** and **Class B** are related with multiplicities.  \n",
    "  - `Class A 1 ------ 0..1 Class B`: A single instance of `Class A` can be related to **zero or one** instance of `Class B`.\n",
    "\n",
    "1. **Class Diagram**:\n",
    "   - Illustrates the system's structure by showing classes, attributes, operations, and relationships.\n",
    "   - ![Class Diagram](https://www.researchgate.net/profile/Robert-Milewski/publication/261699916/figure/fig2/AS:651206670180362@1532271177964/Class-diagram-of-student-evaluation-data.png)\n",
    "\n",
    "- Shapes:\n",
    "      - **Circle:** Represents a **connector** or a merging point where multiple paths converge without any condition."
   ]
  },
  {
   "cell_type": "markdown",
   "metadata": {
    "vscode": {
     "languageId": "plaintext"
    }
   },
   "source": [
    "---"
   ]
  },
  {
   "cell_type": "markdown",
   "metadata": {},
   "source": [
    "- **Test Case**: Input, state, and expected result ([I, S, R]).\n",
    "\n",
    "\n",
    "- **Static Analysis (Verification)**: Code inspection for errors.\n",
    "    - Review: Manual code inspection.\n",
    "    - Walkthrough: Detailed code review.\n",
    "    - Inspection: Checklist-based review.\n",
    "         \n",
    "\n",
    "- Dynamic testing: Executing code to find errors. (Validation)\n",
    "    - Black box: Input/output validation.\n",
    "    - White box: Code coverage and logic testing.\n",
    "    - **Coverage-based testing**:\n",
    "        - **Statement Coverage**: Each statement executed\n",
    "        - **Path Coverage**: Each path executed\n",
    "    - Fault-based testing:\n",
    "        - **Mutation Testing**: Introduce faults to test cases.\n",
    "    - Gray box: Context-specific testing(White + Black).\n",
    "   - ![Verification vs. Validation](../../Files/third-semester/sd/4.png)\n",
    "\n",
    "**Debugging Approaches**:\n",
    "- **Brute Force**: Insert print statements.\n",
    "- **Backtracking**: Trace backwards from an error point.\n",
    "- **Cause Elimination**: Test hypotheses for error causes.\n",
    "- **Program Slicing**: Analyze variable dependencies.\n",
    "\n",
    "\n",
    "#### **Unit Testing**\n",
    "- Tests smallest units (functions, classes).\n",
    "- Automated for consistency and coverage measurement.\n",
    "- Code Coverage Metrics:\n",
    "  - **Statement**\n",
    "  - **Branch/Path**\n",
    "  - **Condition**\n",
    "\n",
    "![Unit Testing](../../Files/third-semester/sd/5.png)"
   ]
  },
  {
   "cell_type": "markdown",
   "metadata": {
    "vscode": {
     "languageId": "plaintext"
    }
   },
   "source": [
    "---"
   ]
  },
  {
   "cell_type": "markdown",
   "metadata": {
    "vscode": {
     "languageId": "plaintext"
    }
   },
   "source": [
    "1. **Mutation Testing**\n",
    "   - A white-box testing technique.\n",
    "   - Arbitrary changes (mutations) are made to the program.\n",
    "   - Changes produce a **mutant** program.\n",
    "     - If the test suite detects the mutation, the mutant is considered **dead**.\n",
    "     - If undetected, the test suite needs improvement.\n",
    "   - **Types**:\n",
    "     1. **Value Mutations**: Change numerical values.\n",
    "     2. **Decision Mutations**: Change logical or arithmetic operators.\n",
    "     3. **Statement Mutations**: Modify or delete statements.\n",
    "\n",
    "2. **Integration Testing**\n",
    "   - Ensures modules interact correctly by testing their interfaces.\n",
    "   - **Approaches**:\n",
    "     - **Big-bang**: All modules integrated at once (useful for small systems).\n",
    "     - **Incremental**: Modules are integrated incrementally.\n",
    "       - **Top-down**: Higher-level modules are integrated first.\n",
    "       - **Bottom-up**: Lower-level modules are integrated first.\n",
    "       - **Mixed (Sandwich)**: Combines top-down and bottom-up approaches."
   ]
  },
  {
   "cell_type": "markdown",
   "metadata": {
    "vscode": {
     "languageId": "plaintext"
    }
   },
   "source": [
    "#### **System Testing**\n",
    "- Validates the entire system against the **SRS (Software Requirement Specification)**.\n",
    "- Conducted after integration and before acceptance testing.\n",
    "- **Types**:\n",
    "  1. **Performance Testing**: Evaluates speed, stability, and reliability.\n",
    "  2. **Load Testing**: Tests system behavior under expected loads.\n",
    "  3. **Stress Testing**: Assesses robustness under extreme loads.\n",
    "  4. **Scalability Testing**: Measures the ability to handle scaling user loads.\n"
   ]
  },
  {
   "cell_type": "markdown",
   "metadata": {},
   "source": [
    "### **The 5 Cs of Data Ethics**\n",
    "These principles guide ethical practices in data science:\n",
    "\n",
    "1. **Consent**:\n",
    "   - Users should know and agree to how their data is used.\n",
    "   - Clarity is essential to ensure informed decisions.\n",
    "\n",
    "2. **Clarity**:\n",
    "   - Explain terms and conditions in simple, understandable language.\n",
    "   - Avoid lengthy, complex legal jargon.\n",
    "\n",
    "3. **Consistency**:\n",
    "   - Maintain ethical and fair practices consistently.\n",
    "   - Build user trust by adhering to policies.\n",
    "\n",
    "4. **Control**:\n",
    "   - Users should have control over their data, including options to delete it.\n",
    "\n",
    "5. **Consequences**:\n",
    "   - Consider potential consequences, including unintended or harmful outcomes.\n",
    "\n",
    "#### **Key Principles of Data Science**:\n",
    "1. **Observe Regulations**:\n",
    "   - Understand and comply with relevant data protection laws.\n",
    "   - Know why regulations exist and what they protect.\n",
    "\n",
    "2. **Respect Privacy**:\n",
    "   - Ensure personal identifiers (e.g., emails, IDs) remain private and anonymized.\n",
    "\n",
    "3. **Eliminate Bias**:\n",
    "   - Use diverse and representative data.\n",
    "   - Test for bias and error rates among different groups.\n",
    "\n",
    "4. **Avoid Fabrication or Falsification**:\n",
    "   - Report only genuine results without manipulating data.\n",
    "\n",
    "5. **Show Transparency**:\n",
    "   - Be open about data collection and analysis methods.\n",
    "   - Obtain informed consent from participants.\n",
    "\n",
    "6. **Secure Data Collection**:\n",
    "   - Use secure methods for storing and analyzing data.\n",
    "\n",
    "7. **Use Algorithms Responsibly**:\n",
    "   - Test algorithms for fairness and bias.\n",
    "   - Ensure they are explainable and ethical in use.\n",
    "\n",
    "8. **Consider Long-Term Impacts**:\n",
    "   - Evaluate societal implications of algorithms and data use.\n",
    "   - Avoid perpetuating inequality or privacy risks.\n",
    "\n",
    "\n",
    "\n",
    "### **Algorithmic Fairness**\n",
    "\n",
    "#### **Types of Harm**:\n",
    "1. **Allocation Harm**: Unequal resource distribution (e.g., jobs or loans).\n",
    "2. **Quality-of-Service Harm**: Models work better for some groups than others (e.g., face detection algorithms).\n",
    "3. **Stereotyping**: Reinforces harmful or inaccurate stereotypes (e.g., biased search results).\n",
    "\n",
    "#### **Principles**:\n",
    "- **Individual Fairness**: Treat similar individuals similarly.\n",
    "- **Group Fairness**: Ensure equal treatment for different groups.\n",
    "\n",
    "\n",
    "\n",
    "### **Six Ethical Issues (CNIL Framework)**:\n",
    "1. **Autonomous Machines**:\n",
    "   - Delegation of critical decisions to machines raises accountability concerns.\n",
    "   - Example: Responsibility for accidents by autonomous vehicles.\n",
    "\n",
    "2. **Bias, Discrimination, and Exclusion**:\n",
    "   - Algorithms can amplify systemic biases.\n",
    "   - **Solutions**:\n",
    "     - Use explainable and transparent algorithms.\n",
    "\n",
    "3. **Algorithmic Profiling**:\n",
    "   - Profiling can lead to misuse (e.g., Cambridge Analytica scandal in 2016 elections).\n",
    "\n",
    "4. **Massive Data Collection**:\n",
    "   - AI requires large datasets, but this must balance privacy concerns.\n",
    "   - Example: Non-identifiable datasets in health studies.\n",
    "\n",
    "5. **Data Quality and Bias**:\n",
    "   - Poor-quality training data can lead to harmful results.\n",
    "   - Example: Microsoft's Twitter bot (Tay) was manipulated into producing offensive content.\n",
    "\n",
    "6. **Human Identity and AI**:\n",
    "   - Human-machine hybridization raises ethical questions about emotional attachment to robots."
   ]
  },
  {
   "cell_type": "markdown",
   "metadata": {
    "vscode": {
     "languageId": "plaintext"
    }
   },
   "source": [
    "---"
   ]
  },
  {
   "cell_type": "markdown",
   "metadata": {
    "vscode": {
     "languageId": "plaintext"
    }
   },
   "source": [
    "\n",
    "### **Risks and Challenges in Cloud Computing**\n",
    "1. **Vendor Lock-In**:\n",
    "   - Limited ability to switch providers due to proprietary technologies.\n",
    "2. **Data Security and Privacy**:\n",
    "   - Sensitive data may be exposed to unauthorized access.\n",
    "   - Jurisdictional issues when data is stored in foreign countries.\n",
    "3. **Complex Migration**:\n",
    "   - Legacy applications may require significant changes to run on the cloud.\n",
    "4. **Skill Requirements**:\n",
    "   - IT teams must adapt to cloud technologies.\n"
   ]
  }
 ],
 "metadata": {
  "language_info": {
   "name": "python"
  }
 },
 "nbformat": 4,
 "nbformat_minor": 2
}
