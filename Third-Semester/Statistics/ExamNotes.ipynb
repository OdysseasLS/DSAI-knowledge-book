{
 "cells": [
  {
   "cell_type": "markdown",
   "metadata": {
    "vscode": {
     "languageId": "plaintext"
    }
   },
   "source": [
    "# Variables\n",
    "- **Explanatory** → Independent  \n",
    "- **Response Variable** → Dependent  \n",
    "\n",
    "# Measurement Scale\n",
    "- **Nominal**: Categorical, no order  \n",
    "- **Ordinal**: Categorical, with order  \n",
    "- **Interval**: Meaningful differences, but no true zero  \n",
    "- **Ratio**: Both meaningful differences and a true zero  \n"
   ]
  },
  {
   "cell_type": "markdown",
   "metadata": {},
   "source": [
    "\n",
    "# Tests\n",
    "- **Chi-Square Test**: Tests categorical variable independence  \n",
    "- **Linear Regression**: Type matters (relationship, correlation)  \n",
    "  - Regression slope (β): equation slope ≠ 0  \n",
    "    - **H₀**: β = 0 No relationship\n",
    "    - **Hₐ**: β ≠ 0 Relationship exists\n",
    "    - **Exam notation**: $H₀: β = 0$, $Hₐ: β < 0$\n",
    "  - Correlation (ρ): Measures strength and direction  \n",
    "    - **ρ = 1**: Perfect positive correlation\n",
    "    - **ρ = -1**: Perfect negative correlation\n",
    "    - **ρ = 0**: No correlation\n",
    "    - **Exam notation**: $H₀: ρ = 0$, $Hₐ: ρ < 0$\n",
    "- **One-sample t-test**: Compare sample mean to a value  \n",
    "- **Z-test**: Compare proportions of two categories $H₀: \\pi_1 = \\pi_2$, $Hₐ: \\pi_1 ≠ \\pi_2$"
   ]
  },
  {
   "cell_type": "markdown",
   "metadata": {},
   "source": [
    "# Hypothesis\n",
    "- **Null Hypothesis (H₀)**: Assume no effect or difference  \n",
    "- **Alternative Hypothesis (Hₐ)**: H₀ ≠ Hₐ  \n",
    "\n",
    "## Regression Hypothesis\n",
    "- **H₀**: The coefficient (β) of the variable being tested is zero  \n",
    "- **Hₐ**: β ≠ 0  \n",
    "\n",
    "- **t-test formula for regression coefficient**:\n",
    "  - $$\n",
    "    t = \\frac{b \\text{ (estimated coefficient)}}{SE \\text{ (Standard Error)}}\n",
    "    $$\n",
    "\n",
    "- **Determine Critical Value**:\n",
    "  - Find degrees of freedom  \n",
    "    - $$\n",
    "      df = n - (p + 1)\n",
    "      $$\n",
    "    - where:\n",
    "      - *n* = number of observations  \n",
    "      - *p* = number of explanatory variables: all variables in $\\hat{y} = b_0 + b_1x_1 + b_2x_2 + ... + b_px_p$\n",
    "  - Find critical *t*-value  \n",
    "\n",
    "- **Compare |t| with t-critical**:\n",
    "  - If $|t| > t_c$:\n",
    "    - Reject H₀  \n",
    "  - If $|t| \\leq t_c$:\n",
    "    - H₀ is valid  \n",
    "\n",
    "- **P-value**:\n",
    "  - If **p < α**:\n",
    "    - Reject H₀  \n",
    "  - If **p > α**:\n",
    "    - H₀ is valid  \n",
    "\n",
    "\n",
    "# Running Another Model on Regression\n",
    "- **F-test** (If common variables): Compare **full model** with a reduced model(less variable)\n",
    "- **(If no common variables)**: AIC, BIC, MDL\n",
    "\n",
    "## P-value Interpretation\n",
    "Liklihood of observing the data if the null hypothesis is true\n",
    "- **Low (p ≤ 0.05)** → Reject H₀  \n",
    "- **High (p > 0.05)** → H₀ valid  "
   ]
  },
  {
   "cell_type": "markdown",
   "metadata": {
    "vscode": {
     "languageId": "plaintext"
    }
   },
   "source": [
    "## Hypothesis Test Type\n",
    "- **False Positive**: H₀ is true, but the test rejects H₀  \n",
    "- Example: If α = 0.01, then there's a **0.01 probability** of a false positive  \n"
   ]
  },
  {
   "cell_type": "markdown",
   "metadata": {
    "vscode": {
     "languageId": "plaintext"
    }
   },
   "source": [
    "# Showing Randomness\n",
    "**Z-score Formula:**\n",
    "$$\n",
    "Z = \\frac{\\hat{\\pi} - \\pi}{\\sigma_{\\hat{\\pi}}}\n",
    "$$\n",
    "\n",
    "where:  \n",
    "- $\\hat{\\pi}$ = observed occurrences  \n",
    "- $\\pi$ = sample size  \n",
    "- $\\sigma_{\\hat{\\pi}} = \\sqrt{\\frac{\\pi(1 - \\pi)}{n}}$  "
   ]
  },
  {
   "cell_type": "markdown",
   "metadata": {
    "vscode": {
     "languageId": "plaintext"
    }
   },
   "source": [
    "# Publication Bias\n",
    "- Studies with **non-significant p-values** are **less likely** to be submitted  "
   ]
  },
  {
   "cell_type": "markdown",
   "metadata": {
    "vscode": {
     "languageId": "plaintext"
    }
   },
   "source": [
    "# Standard Residual Formula\n",
    "$$\n",
    "\\text{Standard Residual} = \\frac{O - E}{SE}\n",
    "$$\n",
    "\n",
    "where:  \n",
    "- **O** = observed value  \n",
    "- **E** = (row total × column total) / grand total  \n",
    "- **Standard Error (SE)** = $\\sqrt{E \\times ( 1 - \\frac{\\text{row total}}{\\text{grand total}}) \\times (1 - \\frac{\\text{column total}}{\\text{grand total}})}$\n",
    "  - **Higher residuals** indicate **significant deviation**  "
   ]
  },
  {
   "cell_type": "markdown",
   "metadata": {},
   "source": [
    "# Odds Ratio (OR)\n",
    "- Measures **association between two categorical variables**  \n",
    "$$\n",
    "\\text{Odds} = \\frac{P(\\text{event happens})}{P(\\text{event does not happen})}\n",
    "$$\n",
    "- $\\text{OR} = \\frac{Pdds Group 1}{Odds Group 2}$ \n",
    "  - **OR = 1**: No association\n",
    "  - **OR > 1**: Group 1 is OR times more likely to have the event  "
   ]
  },
  {
   "cell_type": "markdown",
   "metadata": {},
   "source": [
    "# Simpson’s Paradox\n",
    "- **Association between two variables (X & Y) reverses direction when a third variable (Z) is considered**  \n",
    "- **Best visualized using a scatter plot**"
   ]
  },
  {
   "cell_type": "markdown",
   "metadata": {},
   "source": [
    "### Observational vs Experimental studies\n",
    "\n",
    "In observational studies, data is collected only, without the researcher\n",
    "changing anything about the situation. In experimental studies, the researcher does\n",
    "an intervention, exposing different groups to different conditions. By randomizing\n",
    "the groups, the effects of different conditions can be compared. Causal relationships\n",
    "can therefore only be demonstrated with experimental studies, not observational\n",
    "studies."
   ]
  },
  {
   "cell_type": "markdown",
   "metadata": {},
   "source": [
    "- **Sampling frame**: Complete list or database of all individuals in a population.\n"
   ]
  }
 ],
 "metadata": {
  "language_info": {
   "name": "python"
  }
 },
 "nbformat": 4,
 "nbformat_minor": 2
}
