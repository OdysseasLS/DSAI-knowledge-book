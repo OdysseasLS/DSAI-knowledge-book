{
 "cells": [
  {
   "cell_type": "markdown",
   "metadata": {
    "vscode": {
     "languageId": "plaintext"
    }
   },
   "source": [
    "# Variables\n",
    "- **Explanatory** → Independent  \n",
    "- **Response Variable** → Dependent  \n",
    "\n",
    "# Measurement Scale\n",
    "- **Nominal**: Categorical, no order  \n",
    "- **Ordinal**: Categorical, with order  \n",
    "- **Interval**: Meaningful differences, but no true zero  \n",
    "- **Ratio**: Both meaningful differences and a true zero  \n"
   ]
  },
  {
   "cell_type": "markdown",
   "metadata": {},
   "source": [
    "#### **Sampling Methods**\n",
    "- **Simple Random Sampling**: Equal chance for all.\n",
    "- **Systematic Sampling**: Select every $k^{th}$ individual.\n",
    "- **Stratified Sampling**: Divide into strata(Groups), then pick random samples.\n",
    "    - **Proportional**: Sample proportions match population proportions.\n",
    "    - **Disproportional**: Strata are sampled differently from their population proportions.\n",
    "- **Cluster Sampling**: Randomly select entire clusters.\n",
    "- **Multistage Sampling**: Combine methods across stages.\n",
    "\n",
    "#### **Sampling Terms**\n",
    "- **Sampling Error**: Random fluctuation; unavoidable but predictable.\n",
    "- **Bias**: Systematic error; due to flawed design, not random.\n",
    "    - **Sampling Bias**: Non-representative sample.\n",
    "    - **Response Bias**: Misleading questions or incorrect answers.\n",
    "    - **Nonresponse Bias**: Missing data or refusal to participate.\n"
   ]
  },
  {
   "cell_type": "markdown",
   "metadata": {},
   "source": [
    "### Publication Bias\n",
    "- Studies with **non-significant p-values** are **less likely** to be submitted  "
   ]
  },
  {
   "cell_type": "markdown",
   "metadata": {},
   "source": [
    "\n",
    "# Tests\n",
    "- **Chi-Square Test**: Tests categorical variable independence  \n",
    "- **Linear Regression**: Type matters (relationship, correlation)  \n",
    "  - Regression slope (β): equation slope ≠ 0  \n",
    "    - **H₀**: β = 0 No relationship\n",
    "    - **Hₐ**: β ≠ 0 Relationship exists\n",
    "    - **Exam notation**: $H₀: β = 0$, $Hₐ: β < 0$\n",
    "  - Correlation (ρ): Measures strength and direction  \n",
    "    - **ρ = 1**: Perfect positive correlation\n",
    "    - **ρ = -1**: Perfect negative correlation\n",
    "    - **ρ = 0**: No correlation\n",
    "    - **Exam notation**: $H₀: ρ = 0$, $Hₐ: ρ < 0$\n",
    "- **t-test (One-sample)**: Compare sample mean to a value \n",
    "    - **H₀**: $\\mu_x = \\mu_y$\n",
    "    - **Hₐ**: $\\mu_x ≠ \\mu_y$\n",
    "- **Z-test**: Compare proportions of two categories $H₀: \\pi_1 = \\pi_2$, $Hₐ: \\pi_1 ≠ \\pi_2$"
   ]
  },
  {
   "cell_type": "markdown",
   "metadata": {},
   "source": [
    "# Hypothesis\n",
    "- **Null Hypothesis (H₀)**: Assume no effect or difference  \n",
    "- **Alternative Hypothesis (Hₐ)**: H₀ ≠ Hₐ  \n",
    "\n",
    "## Regression Hypothesis\n",
    "- **H₀**: The coefficient (β) of the variable being tested is zero  \n",
    "- **Hₐ**: β ≠ 0  \n",
    "\n",
    "- **t-test formula for regression coefficient**:\n",
    "  - $     t = \\frac{b \\text{ (estimated coefficient)}}{SE \\text{ (Standard Error)}}     $\n",
    "\n",
    "- **Determine Critical Value**:\n",
    "  - Find degrees of freedom  \n",
    "    - $      df = n - (p + 1) $\n",
    "    - where:\n",
    "      - *n* = number of observations  \n",
    "      - *p* = number of explanatory variables: all variables in $\\hat{y}\n",
    "  - Find critical *t*-value  \n",
    "\n",
    "- **Compare |t| with t-critical**:\n",
    "  - If $|t| > t_c$:\n",
    "    - Reject H₀  \n",
    "  - If $|t| \\leq t_c$:\n",
    "    - H₀ is valid  \n",
    "\n",
    "- **P-value**:\n",
    "  - If **p < α**:\n",
    "    - Reject H₀  \n",
    "  - If **p > α**:\n",
    "    - H₀ is valid  \n",
    "\n",
    "\n"
   ]
  },
  {
   "cell_type": "markdown",
   "metadata": {},
   "source": [
    "### Right exam notation\n",
    "\n",
    "<img src=\"../../Files/third-semester/stat/3.png\" width=\"500\" >"
   ]
  },
  {
   "cell_type": "markdown",
   "metadata": {},
   "source": [
    "## Running Another Model on Regression\n",
    "- **F-test** (If common variables): Compare **full model** with a reduced model(less variable)\n",
    "- **(If no common variables)**: AIC, BIC, MDL\n",
    "\n"
   ]
  },
  {
   "cell_type": "markdown",
   "metadata": {
    "vscode": {
     "languageId": "plaintext"
    }
   },
   "source": [
    "## Multiple Correlation Coefficient (R)\n",
    "\n",
    "The strength of the association between the observed values and the predicted values in a **multivariate linear regression model** is measured by the **multiple correlation coefficient (R)**.\n",
    "\n",
    "- **Definition**: Multiple correlation $ R $ represents how well the independent variables together predict the dependent variable.\n",
    "- **Range**: $ 0 \\leq R \\leq 1 $\n",
    "  - $ R = 0 $ → No correlation (the predictors do not explain the variation in the dependent variable).\n",
    "  - $ R = 1 $ → Perfect correlation (the predictors explain all the variation in the dependent variable).\n",
    "- **Interpretation**: Higher values of $ R $ indicate a stronger relationship between the predicted and observed values."
   ]
  },
  {
   "cell_type": "markdown",
   "metadata": {
    "vscode": {
     "languageId": "plaintext"
    }
   },
   "source": [
    "## P-value Interpretation\n",
    "Liklihood of observing the data if the null hypothesis is true\n",
    "- **Low (p ≤ 0.05)** → Reject H₀  \n",
    "- **High (p > 0.05)** → H₀ valid  "
   ]
  },
  {
   "cell_type": "markdown",
   "metadata": {
    "vscode": {
     "languageId": "plaintext"
    }
   },
   "source": [
    "### **Standardized Regression Coefficients $( b^*_i )$**\n",
    "$ b^*_i = b_i \\times \\left( \\frac{s_{X_i}}{s_Y} \\right) $\n",
    "\n",
    "Where:  \n",
    "- $ b_i $ = **Unstandardized regression coefficient** (from regular regression).  \n",
    "- $ s_{X_i} $ = **Standard deviation of independent variable $ X_i $**.  \n",
    "- $ s_Y $ = **Standard deviation of dependent variable $ Y $**.\n"
   ]
  },
  {
   "cell_type": "markdown",
   "metadata": {},
   "source": [
    "### **Error Types in Hypothesis Testing**  \n",
    "\n",
    "- Example: If α= significance level = 0.01, then there's a **0.01 probability** of a false positive  \n",
    "\n",
    "1. **Type I Error (False Positive (p-value $ < 0.05$))**  \n",
    "   - This occurs when we **reject a true null hypothesis** ($ H_0 $).  \n",
    "   - It means we **conclude there is an effect** when in reality there isn’t one.  \n",
    "\n",
    "2. **Type II Error (False Negative (p-value $ \\geq 0.05 $))**  \n",
    "   - This occurs when we **fail to reject a false null hypothesis** ($ H_0 $) and **miss detecting a real effect**.  \n",
    "   - The probability of Type II error is **$ \\beta $**, and **$ 1 - \\beta $** is called **statistical power** (ability to detect an effect when it exists)."
   ]
  },
  {
   "cell_type": "markdown",
   "metadata": {
    "vscode": {
     "languageId": "plaintext"
    }
   },
   "source": [
    "# Showing Randomness\n",
    "**Z-score Formula:**\n",
    "$ Z = \\frac{\\hat{\\pi} - \\pi}{\\sigma_{\\hat{\\pi}}} $\n",
    "\n",
    "where:  \n",
    "- $\\hat{\\pi}$ = observed occurrences  \n",
    "- $\\pi$ = sample size  \n",
    "- $\\sigma_{\\hat{\\pi}} = \\sqrt{\\frac{\\pi(1 - \\pi)}{n}}$  "
   ]
  },
  {
   "cell_type": "markdown",
   "metadata": {
    "vscode": {
     "languageId": "plaintext"
    }
   },
   "source": [
    "### **Z-Values for Common Confidence Levels**\n",
    "| **Confidence Level** | **Critical $ z $-Value** |\n",
    "|----------------------|---------------------|\n",
    "| **90%** | **$ z = 1.645 $** |\n",
    "| **95%** | **$ z = 1.96 $** |\n",
    "| **99%** | **$ z = 2.575 $** |\n"
   ]
  },
  {
   "cell_type": "markdown",
   "metadata": {},
   "source": [
    "<img src=\"https://assess-1c314.kxcdn.com/wp-content/webp-express/webp-images/uploads/2021/11/T-scores-e1696930130676.png.webp\" width=\"500\">"
   ]
  },
  {
   "cell_type": "markdown",
   "metadata": {
    "vscode": {
     "languageId": "plaintext"
    }
   },
   "source": [
    "### **(Minimum) Sample Size for Proportion Estimates**  \n",
    "\n",
    "\n",
    "$$\n",
    "n = \\pi (1 - \\pi) \\times \\left(\\frac{z}{M}\\right)^2\n",
    "$$\n",
    "\n",
    "Where:\n",
    "- **$ n $** = required sample size  \n",
    "- **$ \\pi $** = estimated proportion (use 0.5 if unknown for the **largest variability**)  \n",
    "- **$ z $** = Z-score for the desired confidence level (e.g., **1.96 for 95%**, **2.575 for 99%**)  \n",
    "- **$ M $** = desired margin of error (how much deviation from the true value is acceptable)"
   ]
  },
  {
   "cell_type": "markdown",
   "metadata": {},
   "source": [
    "# Publication Bias\n",
    "- Studies with **non-significant p-values** are **less likely** to be submitted  "
   ]
  },
  {
   "cell_type": "markdown",
   "metadata": {},
   "source": [
    "## Residuals\n",
    "- **Formula**: $Residual = \\text{Actual amount} - \\text{Predicted amount}$\n",
    "   $  MSE = \\text{Mean Squared Error} = \\frac{SSE \\text{(Sum of Squared Errors)}}{n}   $\n",
    "\n",
    "**Standard Deviation of Residuals**:\n",
    "\n",
    "   $\n",
    "   \\sigma_{\\text{residuals}} = \\sqrt{MSE} \n",
    "   $"
   ]
  },
  {
   "cell_type": "markdown",
   "metadata": {
    "vscode": {
     "languageId": "plaintext"
    }
   },
   "source": [
    "# Standard Residual Formula\n",
    "$\n",
    "\\text{Standard Residual} = \\frac{O - E}{SE}\n",
    "$\n",
    "\n",
    "where:  \n",
    "- **O** = observed value  \n",
    "- **E** = (row total × column total) / grand total  \n",
    "- **Standard Error (SE)** = $\\sqrt{E \\times ( 1 - \\frac{\\text{row total}}{\\text{grand total}}) \\times (1 - \\frac{\\text{column total}}{\\text{grand total}})}$\n",
    "  - **Higher residuals** indicate **significant deviation**  "
   ]
  },
  {
   "cell_type": "markdown",
   "metadata": {},
   "source": [
    "# Odds Ratio (OR)\n",
    "- Measures **association between two categorical variables**  \n",
    "$\n",
    "\\text{Odds} = \\frac{P (\\text{event happens})}{P (\\text{event does not happen})}\n",
    "$\n",
    "- $\\text{OR} = \\frac{Pdds Group 1}{Odds Group 2}$ \n",
    "  - **OR = 1**: No association\n",
    "  - **OR > 1**: Group 1 is OR times more likely to have the event  "
   ]
  },
  {
   "cell_type": "markdown",
   "metadata": {},
   "source": [
    "# Simpson’s Paradox\n",
    "- **Association between two variables (X & Y) reverses direction when a third variable (Z) is considered**  \n",
    "- **Best visualized using a scatter plot**"
   ]
  },
  {
   "cell_type": "markdown",
   "metadata": {},
   "source": [
    "### Observational vs Experimental studies\n",
    "\n",
    "In observational studies, data is collected only, without the researcher\n",
    "changing anything about the situation. In experimental studies, the researcher does\n",
    "an intervention, exposing different groups to different conditions. By randomizing\n",
    "the groups, the effects of different conditions can be compared. Causal relationships\n",
    "can therefore only be demonstrated with experimental studies, not observational\n",
    "studies."
   ]
  },
  {
   "cell_type": "markdown",
   "metadata": {},
   "source": [
    "- **Sampling frame**: Complete list or database of all individuals in a population.\n"
   ]
  },
  {
   "cell_type": "markdown",
   "metadata": {
    "vscode": {
     "languageId": "plaintext"
    }
   },
   "source": [
    "#### **$ R^2 $ (Coefficient of Determination)**\n",
    "$\n",
    "R^2 = 1 - \\frac{SSE}{TSS}\n",
    "$\n",
    "- **Measures how well the regression model explains the variation in the response variable.**\n",
    "- **$ TSS $ (Total Sum of Squares)**: Total variability in the data.\n",
    "- **$ SSE $ (Sum of Squared Errors)**: Unexplained variability (error).\n",
    "- **Interpretation**:\n",
    "  - $ R^2 = 1 $: Perfect fit (all variance explained).\n",
    "  - $ R^2 = 0 $: No predictive power (model explains nothing).\n",
    "  - Higher $ R^2 $ means a better model.\n",
    "\n",
    "\n",
    "#### **$ F $-Test for Comparing Regression Models**\n",
    "$\n",
    "F = \\frac{(SSE_{\\text{reduced}} - SSE_{\\text{complete}}) / df_1}{SSE_{\\text{complete}} / df_2}\n",
    "$\n",
    "- Used to **compare two nested regression models** (one with extra predictors).\n",
    "- **$ SSE_{\\text{reduced}} $**: Error in the simpler model.\n",
    "- **$ SSE_{\\text{complete}} $**: Error in the more complex model.\n",
    "- **$ df_1 $**: Difference in the number of predictors.\n",
    "- **$ df_2 $**: Remaining degrees of freedom. $df_2 = n - (p - 1)$.\n",
    "- **Interpretation**:\n",
    "  - If $ F $ is **large** → Adding predictors significantly improves the model.\n",
    "  - If $ F $ is **small** → New predictors do not add much value."
   ]
  },
  {
   "cell_type": "markdown",
   "metadata": {
    "vscode": {
     "languageId": "plaintext"
    }
   },
   "source": [
    "#### **Overfitting**\n",
    "\n",
    "Overfitting occurs when the model captures not only the underlying patterns but also the noise in the training data, leading to perfect predictions on the training set but poor performance on new data. To address this, simplify the model by reducing the number of explanatory variables (checking for multicollinearity) or by collecting more data."
   ]
  },
  {
   "cell_type": "markdown",
   "metadata": {
    "vscode": {
     "languageId": "plaintext"
    }
   },
   "source": [
    "Variance:\n",
    "$S^2 = \\frac{\\sum (y_i - \\bar{y})^2}{n - 1}$\n",
    "\n",
    "\n",
    "Standard Deviation:\n",
    "$S = \\sqrt{\\frac{\\sum (y_i - \\bar{y})^2}{n - 1}}$"
   ]
  }
 ],
 "metadata": {
  "language_info": {
   "name": "python"
  }
 },
 "nbformat": 4,
 "nbformat_minor": 2
}
