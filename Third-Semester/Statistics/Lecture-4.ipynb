{
 "cells": [
  {
   "cell_type": "markdown",
   "metadata": {
    "vscode": {
     "languageId": "plaintext"
    }
   },
   "source": [
    "![](../../Files/third-semester/stat/2.png)"
   ]
  },
  {
   "cell_type": "markdown",
   "metadata": {},
   "source": [
    "- **Bivariate descriptions**: Analysis of two variables simultaneously to determine if there is a relationship or association between them (e.g., box plot, scatterplot).\n",
    "\n",
    "#### **Normal Distribution**\n",
    "- **Characteristics**:\n",
    "  - Symmetric, bell-shaped.\n",
    "  - Defined by `𝑁(𝜇, 𝜎)`: mean (µ) and standard deviation (σ).\n",
    "- **Probabilities**:\n",
    "  - ±1σ: 68%.\n",
    "  - ±2σ: 95%.\n",
    "  - ±3σ: 99.7%.\n",
    "- **Z-Score**:\n",
    "  - Measures how many standard deviations a value is from the mean.\n",
    "  - Formula: $ z = \\frac{y - \\mu}{\\sigma} $.\n",
    "\n",
    "---\n",
    "\n",
    "#### **Sampling Distributions**\n",
    "- **Definition**:\n",
    "  - Distribution of a statistic (e.g., sample mean) from repeated sampling.\n",
    "- **Key Points**:\n",
    "  - Mean of sampling distribution = Population mean.\n",
    "  - Standard Error (SE): $ \\sigma_{\\bar{y}} = \\frac{\\sigma}{\\sqrt{n}} $.\n",
    "  - SE decreases as sample size (n) increases.\n",
    "- **Central Limit Theorem (CLT)**:\n",
    "  - For large $ n $, sampling distribution approximates normal, regardless of population distribution."
   ]
  }
 ],
 "metadata": {
  "language_info": {
   "name": "python"
  }
 },
 "nbformat": 4,
 "nbformat_minor": 2
}
