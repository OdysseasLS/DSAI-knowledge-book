{
 "cells": [
  {
   "cell_type": "markdown",
   "metadata": {},
   "source": [
    "- Notation: $P(AB) = P(A \\cap B)$\n",
    "\n",
    "- **Disjoint Events**: Two events $A$ and $B$ are disjoint if $A \\cap B = \\emptyset$. In other words, if $A$ occurs, then $B$ cannot occur and vice versa. Like Head and Tail in a coin toss."
   ]
  },
  {
   "cell_type": "markdown",
   "metadata": {
    "vscode": {
     "languageId": "plaintext"
    }
   },
   "source": [
    "#### **Sampling Methods**\n",
    "- **Simple Random Sampling**: Equal chance for all.\n",
    "- **Systematic Sampling**: Select every $k^{th}$ individual.\n",
    "- **Stratified Sampling**: Divide into strata(Groups), then pick random samples.\n",
    "    - **Proportional**: Sample proportions match population proportions.\n",
    "    - **Disproportional**: Strata are sampled differently from their population proportions.\n",
    "- **Cluster Sampling**: Randomly select entire clusters.\n",
    "- **Multistage Sampling**: Combine methods across stages.\n",
    "\n",
    "#### **Sampling Terms**\n",
    "- **Sampling Error**: Random fluctuation; unavoidable but predictable.\n",
    "- **Bias**: Systematic error; due to flawed design, not random.\n",
    "    - **Sampling Bias**: Non-representative sample.\n",
    "    - **Response Bias**: Misleading questions or incorrect answers.\n",
    "    - **Nonresponse Bias**: Missing data or refusal to participate.\n"
   ]
  }
 ],
 "metadata": {
  "language_info": {
   "name": "python"
  }
 },
 "nbformat": 4,
 "nbformat_minor": 2
}
