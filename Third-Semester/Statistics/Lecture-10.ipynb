{
 "cells": [
  {
   "cell_type": "markdown",
   "metadata": {},
   "source": [
    "**Key Concepts in Regression:**\n",
    "   - **Model Plausibility:** Use scatterplots to check if a linear model fits data.\n",
    "   - **Sum of Squares:**\n",
    "     - Total Sum of Squares (TSS): variance without $ X $.\n",
    "     - Regression Sum of Squares (RSS): variance explained by $ X $.\n",
    "     - Sum of Squared Errors (SSE): variance not explained by $ X $.\n",
    "   - **R-squared ($ R^2 $):**\n",
    "     - Proportion of variance in $ Y $ explained by $ X $.\n",
    "     - Example: $ R^2 = 0.31 $ means 31% of variation in $ Y $ is explained by $ X $.\n",
    "\n",
    "**Correlation:**\n",
    "   - **Definition:**\n",
    "     - Standardized measure of linear association between $ X $ and $ Y $ ($ -1 \\leq r \\leq 1 $).\n",
    "   - **Relation to Regression:**\n",
    "     - $ r = b \\frac{s_x}{s_y} $, where $ b $ is the slope.\n",
    "   - **Properties:**\n",
    "     - $ r = 0 $: no linear relationship.\n",
    "     - $ r^2 $: proportion of error reduction using $ X $ instead of the mean.\n",
    "\n",
    "**Inference in Regression:**\n",
    "   - **Testing Slope ($ \\beta $) or Correlation ($ \\rho $):**\n",
    "     - $ H_0: \\beta = 0 $ (no relationship); $ H_a: \\beta \\neq 0 $ (linear relationship exists).\n",
    "     - Test statistic: $ t = \\frac{b}{se} $, where $ se = s / \\sqrt{\\sum (x - \\bar{x})^2} $.\n",
    "     - P-value derived from t-distribution.\n",
    "   - Example: Significant positive slope in possum dataset ($ p < 0.001 $).\n",
    "\n",
    "**Limitations of Regression:**\n",
    "   - **Extrapolation:** Avoid predicting beyond observed $ X $-range.\n",
    "   - **Outliers:** Can distort regression and correlation.\n",
    "   - **Sampling Range:** Narrow $ X $-range biases correlation downward.\n",
    "\n",
    "**Conditional Standard Deviation:**\n",
    "   - Measures variability of $ Y $ at a fixed $ X $.\n",
    "   - Smaller than the total standard deviation of $ Y $."
   ]
  }
 ],
 "metadata": {
  "language_info": {
   "name": "python"
  }
 },
 "nbformat": 4,
 "nbformat_minor": 2
}
