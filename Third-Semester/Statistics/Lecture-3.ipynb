{
 "cells": [
  {
   "cell_type": "markdown",
   "metadata": {},
   "source": [
    " #### **1. Tables and Graphs**  \n",
    "- **Frequency Distribution**: Shows counts or proportions for values/intervals.  \n",
    "- **Graphs**:\n",
    "  - **Bar Plot**: For categorical data.  \n",
    "  - **Histogram**: For continuous data, shows distribution shape (e.g., symmetric, skewed, bimodal).  \n",
    "\n",
    "#### **2. Numerical Descriptions**  \n",
    "- **Measures of Center**:\n",
    "  - **Mean**: Average, sensitive to outliers.  \n",
    "  - **Median**: Middle value, robust to outliers.  \n",
    "  - **Mode**: Most frequent value (useful for categorical/binned data).  \n",
    "  \n",
    "![Skew](../../Files/third-semester/stat/1.png)\n",
    "\n",
    "- **Measures of Variability**:\n",
    "  - **Range**: Difference between max and min.  \n",
    "  - **Standard Deviation (SD)**: Average distance from the mean.  \n",
    "  - **Variance**: Square of SD.  \n",
    "\n",
    "Variance:\n",
    "$S^2 = \\frac{\\sum (y_i - \\bar{y})^2}{n - 1}$\n",
    "\n",
    "\n",
    "Standard Deviation:\n",
    "$S = \\sqrt{\\frac{\\sum (y_i - \\bar{y})^2}{n - 1}}$\n",
    "\n",
    "### **Describing Categorical Variables: Proportion**\n",
    "Ratio of a specific category to the total number of observations in a dataset.\n",
    "\n",
    "- **Formula**:  \n",
    "  $$\n",
    "  \\hat{\\pi} = \\frac{o}{n}\n",
    "  $$ \n",
    "  - $o$: Number of occurrences of the specific category.  \n",
    "  - $n$: Total sample size.\n",
    "\n",
    "\n",
    "#### **3. Measures of Position**  \n",
    "- **Percentiles**: Indicate data position relative to the whole.  \n",
    "  - Quartiles: 25% (Q1), 50% (Median), 75% (Q3).  \n",
    "  - **Interquartile Range (IQR)**: $ Q3 - Q1 $.  \n",
    "- **z-Score**: Distance from mean in SD units.\n",
    "\n",
    "| Sample (statistic)  | Population (parameter) |\n",
    "|----------------------|------------------------|\n",
    "| Mean $ \\bar{y} $    | $ \\mu $               |\n",
    "| Proportion $ \\hat{p} $ | $ \\pi $            |\n",
    "| Variance $ s^2 $    | $ \\sigma^2 $          |\n",
    "| Standard deviation $ s $ | $ \\sigma $      |\n"
   ]
  }
 ],
 "metadata": {
  "language_info": {
   "name": "python"
  }
 },
 "nbformat": 4,
 "nbformat_minor": 2
}
