{
 "cells": [
  {
   "cell_type": "markdown",
   "metadata": {},
   "source": [
    "- **Statistic**: A number that describes a group you are studying (sample).\n",
    "- **Parameter**: A number that describes the whole population.\n",
    "\n",
    "- **Actual population**: A specific group of people at a certain time and place (e.g., all people in the Netherlands in 2024).\n",
    "- **Conceptual population**: A group defined by a characteristic that changes over time (e.g., all patients with a certain disease).\n",
    "\n",
    "- **Variable Measurement Levels**:\n",
    "    - **Categorical (Qualitative)**:\n",
    "        - **Nominal scale**: Unordered categories (e.g., blood type, political preference).\n",
    "        - **Ordinal scale**: Ordered categories (e.g., mental health levels).\n",
    "    - **Numerical (Quantitative)**:\n",
    "        - **Interval scale**: Differences are meaningful, but ratios are not (e.g., temperature, IQ).\n",
    "        - **Ratio scale**: Both differences and ratios are meaningful, with a true zero (e.g., age, income).\n",
    "- **Amount of information**: Ratio > interval > ordinal > nominal"
   ]
  }
 ],
 "metadata": {
  "language_info": {
   "name": "python"
  }
 },
 "nbformat": 4,
 "nbformat_minor": 2
}
