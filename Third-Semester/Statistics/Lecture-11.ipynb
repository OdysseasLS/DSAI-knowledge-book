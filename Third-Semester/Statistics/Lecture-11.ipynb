{
 "cells": [
  {
   "cell_type": "markdown",
   "metadata": {},
   "source": [
    "**Multivariate Relationships:**\n",
    "   - Moving from bivariate to multivariate analyses introduces additional explanatory variables.\n",
    "   - **Types of Relationships:**\n",
    "     - **Spurious Association:** Both $ X_1 $ and $ Y $ depend on $ X_2 $, removing the $ X_1 $-$ Y $ association.\n",
    "     - **Chain Relationship:** $ X_1 $ affects $ X_2 $, which affects $ Y $.\n",
    "     - **Multiple Causes:** Several variables independently influence $ Y $.\n",
    "     - **Interaction Effects:** The effect of $ X_1 $ on $ Y $ depends on $ X_2 $.\n",
    "\n",
    "**Simpson's Paradox:**\n",
    "   - The overall association between two variables reverses when controlling for a third variable.\n",
    "\n",
    "**Inference in Multiple Regression:**\n",
    "   - **F-Test:**\n",
    "     - Tests if at least one $ \\beta_i \\neq 0 $.\n",
    "     - $ F = \\frac{R^2 / k}{(1 - R^2) / (n - k - 1)} $, where $ k $ is the number of predictors.\n",
    "   - **t-Test for Individual Coefficients:**\n",
    "     - Tests if a specific $ \\beta_i = 0 $.\n",
    "   - **Multicollinearity:**\n",
    "     - High correlation among predictors inflates standard errors, making it hard to determine individual effects.\n",
    "\n",
    "**Modeling Interaction Effects:**\n",
    "   - Formula: $ E(Y) = \\alpha + \\beta_1 X_1 + \\beta_2 X_2 + \\beta_3 (X_1 \\cdot X_2) $.\n",
    "   - Interaction terms show how the relationship between $ X_1 $ and $ Y $ depends on $ X_2 $.\n"
   ]
  }
 ],
 "metadata": {
  "language_info": {
   "name": "python"
  }
 },
 "nbformat": 4,
 "nbformat_minor": 2
}
