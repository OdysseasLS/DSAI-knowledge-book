{
 "cells": [
  {
   "cell_type": "markdown",
   "metadata": {},
   "source": [
    "1. **Chi-squared Test of Independence:**\n",
    "   - Used for two categorical variables to test independence.\n",
    "   - Hypotheses:\n",
    "     - $ H_0 $: Variables are independent.\n",
    "     - $ H_a $: Variables are dependent.\n",
    "   - Test statistic: $ \\chi^2 = \\sum \\frac{(f_o - f_e)^2}{f_e} $.\n",
    "   - P-value derived from the chi-squared distribution.\n",
    "\n",
    "2. **Dependence vs. Independence:**\n",
    "   - Independence: Conditional distributions are identical across categories.\n",
    "   - Dependence: Conditional distributions differ.\n",
    "\n",
    "3. **Assumptions for Chi-squared Test:**\n",
    "   - Random sampling.\n",
    "   - Expected cell counts ≥ 5.\n",
    "\n",
    "4. **Expected Frequencies:**\n",
    "   - Computed as: $ f_e = \\frac{\\text{row total} \\times \\text{column total}}{\\text{grand total}} $.\n",
    "\n",
    "5. **Patterns of Association:**\n",
    "   - Residuals:\n",
    "     - Residual = $ f_o - f_e $.\n",
    "     - Standardized Residual = $ \\frac{f_o - f_e}{SE} $.\n",
    "     - Residuals help understand the nature and strength of association."
   ]
  }
 ],
 "metadata": {
  "language_info": {
   "name": "python"
  }
 },
 "nbformat": 4,
 "nbformat_minor": 2
}
