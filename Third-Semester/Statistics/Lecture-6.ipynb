{
 "cells": [
  {
   "cell_type": "markdown",
   "metadata": {},
   "source": [
    "\n",
    "#### **Cumulative Distribution Function (CDF)**\n",
    "- **Definition**:\n",
    "  - $ F_X(x) = P(X \\leq x) $.\n",
    "  - For discrete variables: $ F_X(x) = \\sum_{x_i \\leq x} f_X(x_i) $.\n",
    "  - For continuous variables: $ F_X(x) = \\int_{-\\infty}^x f_X(t) \\, dt $.\n",
    "- **Properties**:\n",
    "  - Monotonically increasing.\n",
    "  - $ F_X(x): \\mathbb{R} \\to [0, 1] $.\n",
    "\n",
    "\n",
    "#### **Probability Distributions Covered**\n",
    "  - **Bernoulli**: Mean = $ p $, Variance = $ p(1-p) $\n",
    "  - **Binomial**: Mean = $ np $, Variance = $ np(1-p) $\n",
    "  - **Normal**: Mean = $ \\mu $, Variance = $ \\sigma^2 $  \n",
    "\n",
    "#### **Statistical Functionals**\n",
    "- **Definition**:\n",
    "  - Functions of a distribution $ F $, such as:\n",
    "    - Mean: $ \\mu = \\int x \\, dF(x) $.\n",
    "    - Variance: $ \\sigma^2 = \\int (x - \\mu)^2 \\, dF(x) $.\n",
    "    - Median: $ m = F^{-1}(0.5) $.\n",
    "- **Plug-In Estimators**:\n",
    "  - Use empirical CDF $ \\hat{F}_n $ in place of $ F $.\n",
    "  - E.g., Sample mean: $ \\hat{\\mu}_n = \\frac{1}{n} \\sum_{i=1}^n x_i $.\n",
    "\n",
    "\n",
    "#### **Multivariate Distributions**\n",
    "- **Bivariate Distributions**:\n",
    "  - Joint PMF/PDF: $ f(x, y) $.\n",
    "  - Marginal Distribution: $ f_X(x) = \\sum_y f(x, y) $ (discrete) or $ \\int f(x, y) \\, dy $ (continuous).\n",
    "  - Conditional Distribution: $ f_{X|Y}(x|y) = \\frac{f(x, y)}{f_Y(y)} $.\n"
   ]
  }
 ],
 "metadata": {
  "language_info": {
   "name": "python"
  }
 },
 "nbformat": 4,
 "nbformat_minor": 2
}
